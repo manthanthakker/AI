{
  "cells": [
    {
      "cell_type": "markdown",
      "metadata": {
        "id": "view-in-github",
        "colab_type": "text"
      },
      "source": [
        "<a href=\"https://colab.research.google.com/github/manthanthakker/AI/blob/master/AudioClassification.ipynb\" target=\"_parent\"><img src=\"https://colab.research.google.com/assets/colab-badge.svg\" alt=\"Open In Colab\"/></a>"
      ]
    },
    {
      "cell_type": "code",
      "execution_count": 62,
      "metadata": {
        "id": "ohGo4HXre2E8"
      },
      "outputs": [],
      "source": [
        "model_checkpoint = \"facebook/wav2vec2-base\"\n",
        "batch_size = 32"
      ]
    },
    {
      "cell_type": "code",
      "execution_count": 63,
      "metadata": {
        "id": "c36ym6dRq_93"
      },
      "outputs": [],
      "source": [
        "# %%capture\n",
        "# !pip install datasets==1.14\n",
        "# !pip install transformers==4.11.3\n",
        "# !pip install librosa"
      ]
    },
    {
      "cell_type": "code",
      "execution_count": 64,
      "metadata": {
        "id": "dxcgjMN2rCii"
      },
      "outputs": [],
      "source": [
        "# from huggingface_hub import notebook_login\n",
        "\n",
        "# notebook_login()"
      ]
    },
    {
      "cell_type": "code",
      "execution_count": 65,
      "metadata": {
        "id": "8O458p19rFII"
      },
      "outputs": [],
      "source": [
        "# %%capture\n",
        "# !apt install git-lfs"
      ]
    },
    {
      "cell_type": "markdown",
      "metadata": {
        "id": "pjMNghE009ch"
      },
      "source": [
        "# Step 1: Hugging Face Standard Dataset "
      ]
    },
    {
      "cell_type": "code",
      "execution_count": 66,
      "metadata": {
        "id": "E4uKJoLDrKqW"
      },
      "outputs": [],
      "source": [
        "from datasets import load_dataset, load_metric\n",
        "metric = load_metric(\"accuracy\")"
      ]
    },
    {
      "cell_type": "code",
      "execution_count": 67,
      "metadata": {
        "id": "Luq5UNLSrOvH"
      },
      "outputs": [],
      "source": [
        "# dataset = load_dataset(\"superb\", \"ks\")\n",
        "# metric = load_metric(\"accuracy\")"
      ]
    },
    {
      "cell_type": "code",
      "execution_count": 68,
      "metadata": {
        "id": "HanIZUrhrRqq"
      },
      "outputs": [],
      "source": [
        "# dataset"
      ]
    },
    {
      "cell_type": "code",
      "execution_count": 69,
      "metadata": {
        "id": "srWwWkpt96eA"
      },
      "outputs": [],
      "source": [
        "# dataset[\"train\"][1][\"label\"]"
      ]
    },
    {
      "cell_type": "code",
      "execution_count": 70,
      "metadata": {
        "id": "ysPPEG8sYbAH"
      },
      "outputs": [],
      "source": [
        "# train_data[1]"
      ]
    },
    {
      "cell_type": "code",
      "execution_count": 70,
      "metadata": {
        "id": "IoVR-e-4YmIj"
      },
      "outputs": [],
      "source": [
        ""
      ]
    },
    {
      "cell_type": "code",
      "execution_count": 70,
      "metadata": {
        "id": "WrgEAf1VtZ0v"
      },
      "outputs": [],
      "source": [
        ""
      ]
    },
    {
      "cell_type": "code",
      "execution_count": 70,
      "metadata": {
        "id": "XBuOl3EBZMp_"
      },
      "outputs": [],
      "source": [
        ""
      ]
    },
    {
      "cell_type": "code",
      "execution_count": 70,
      "metadata": {
        "id": "4kwwB7iNe1Fo"
      },
      "outputs": [],
      "source": [
        ""
      ]
    },
    {
      "cell_type": "code",
      "execution_count": 70,
      "metadata": {
        "id": "6KuGgi0ArTwD"
      },
      "outputs": [],
      "source": [
        ""
      ]
    },
    {
      "cell_type": "code",
      "execution_count": 70,
      "metadata": {
        "id": "mtdUc_mSsGsD"
      },
      "outputs": [],
      "source": [
        ""
      ]
    },
    {
      "cell_type": "code",
      "execution_count": 70,
      "metadata": {
        "id": "v1y6OszBumAf"
      },
      "outputs": [],
      "source": [
        ""
      ]
    },
    {
      "cell_type": "code",
      "execution_count": 70,
      "metadata": {
        "id": "n00lwAQ7u546"
      },
      "outputs": [],
      "source": [
        ""
      ]
    },
    {
      "cell_type": "code",
      "execution_count": 70,
      "metadata": {
        "id": "kyJDzQzOxMPM"
      },
      "outputs": [],
      "source": [
        ""
      ]
    },
    {
      "cell_type": "code",
      "execution_count": 70,
      "metadata": {
        "id": "HDbasEiMxa9v"
      },
      "outputs": [],
      "source": [
        ""
      ]
    },
    {
      "cell_type": "code",
      "execution_count": 70,
      "metadata": {
        "id": "a0SPqb8SyZ0P"
      },
      "outputs": [],
      "source": [
        ""
      ]
    },
    {
      "cell_type": "code",
      "execution_count": 71,
      "metadata": {
        "id": "WbG0dLqEyeq_"
      },
      "outputs": [],
      "source": [
        "# labels = [\"0\",\"1\",\"2\",\"3\",\"4\",\"5\",\"6\",\"7\",\"8\",\"9\"]\n",
        "# label2id, id2label = dict(), dict()\n",
        "# for i, label in enumerate(labels):\n",
        "#     label2id[label] = str(i)\n",
        "#     id2label[str(i)] = label\n",
        "\n",
        "# id2label[\"8\"]"
      ]
    },
    {
      "cell_type": "code",
      "execution_count": 71,
      "metadata": {
        "id": "ZN7au1hc_sjK"
      },
      "outputs": [],
      "source": [
        ""
      ]
    },
    {
      "cell_type": "code",
      "execution_count": 72,
      "metadata": {
        "id": "_s3kmrQUzTFs"
      },
      "outputs": [],
      "source": [
        "# import random\n",
        "# from IPython.display import Audio, display\n",
        "\n",
        "# for _ in range(5):\n",
        "#     rand_idx = random.randint(0, len(dataset[\"train\"])-1)\n",
        "#     example = dataset[\"train\"][rand_idx]\n",
        "#     audio = example[\"audio\"]\n",
        "\n",
        "#     print(f'Label: {id2label[str(example[\"label\"])]}')\n",
        "#     print(f'Shape: {audio[\"array\"].shape}, sampling rate: {audio[\"sampling_rate\"]}')\n",
        "#     display(Audio(audio[\"array\"], rate=audio[\"sampling_rate\"]))\n",
        "#     print()"
      ]
    },
    {
      "cell_type": "markdown",
      "metadata": {
        "id": "tm7Xa721Js01"
      },
      "source": [
        "# Step 1: Multi-lingual Audio (Gujarati digits)"
      ]
    },
    {
      "cell_type": "code",
      "execution_count": 73,
      "metadata": {
        "id": "KFwM2mQpJ30m"
      },
      "outputs": [],
      "source": [
        "# !git clone https://github.com/Nikunj1729/free-spoken-gujarati-digit-dataset\n",
        "# !mv free-spoken-gujarati-digit-dataset load_guj"
      ]
    },
    {
      "cell_type": "code",
      "source": [
        ""
      ],
      "metadata": {
        "id": "Jrbv01OmhAJp"
      },
      "execution_count": 73,
      "outputs": []
    },
    {
      "cell_type": "code",
      "execution_count": 74,
      "metadata": {
        "id": "w32YWRQyO9f5"
      },
      "outputs": [],
      "source": [
        "# train_data.cleanup_cache_files()\n",
        "# val_data.cleanup_cache_files()\n",
        "# test_data.cleanup_cache_files()\n",
        "# dataset=None\n",
        "# train_data=None\n",
        "# test_data=None"
      ]
    },
    {
      "cell_type": "code",
      "source": [
        "import glob\n",
        "all_wavs=glob.glob(\"/content/load_guj/**/*.wav\", recursive=True)\n",
        "len(all_wavs)\n",
        "from sklearn.model_selection import train_test_split\n",
        "x, Y=train_test_split(all_wavs, test_size=0.2)\n",
        "print(len(x))\n",
        "print(len(Y))\n",
        "import json\n",
        "#train_file = open(\"/content/load_guj/train.jsonl\", \"w\")\n",
        "#n = train_file.write(json.dumps(x))\n",
        "#train_file.close()\n",
        "\n",
        "import json\n",
        "\n",
        "count=0\n",
        "with open('/content/load_guj/train.jsonl', 'w') as outfile:\n",
        "    for entry in x:\n",
        "        json.dump(entry, outfile)\n",
        "        outfile.write('\\n')\n",
        "        count=count+1\n",
        "        if(count>50):\n",
        "          break\n",
        "\n",
        "with open(\"/content/load_guj/test.jsonl\", \"w\") as outfile:\n",
        "    for entry in Y:\n",
        "        json.dump(entry, outfile)\n",
        "        outfile.write('\\n')\n",
        "!cp /content/load_guj/test.jsonl /content/load_guj/dev.jsonl"
      ],
      "metadata": {
        "colab": {
          "base_uri": "https://localhost:8080/"
        },
        "id": "ZWO5DBzpiByk",
        "outputId": "b27008fe-d891-4fac-9131-c54110dc29d2"
      },
      "execution_count": 75,
      "outputs": [
        {
          "output_type": "stream",
          "name": "stdout",
          "text": [
            "1552\n",
            "388\n"
          ]
        }
      ]
    },
    {
      "cell_type": "code",
      "execution_count": 76,
      "metadata": {
        "colab": {
          "base_uri": "https://localhost:8080/"
        },
        "id": "R1-0jQsUJ44Q",
        "outputId": "ee722e20-1c7f-4a98-db9b-bce4e17c7c8a"
      },
      "outputs": [
        {
          "output_type": "stream",
          "name": "stderr",
          "text": [
            "No config specified, defaulting to: new_dataset/train\n",
            "Reusing dataset new_dataset (/root/.cache/huggingface/datasets/new_dataset/train/1.1.0/cec7da7558d173c9ee688d48951004f9959b1dca0a1ad1890a194efe0e260c1f)\n",
            "No config specified, defaulting to: new_dataset/train\n",
            "Reusing dataset new_dataset (/root/.cache/huggingface/datasets/new_dataset/train/1.1.0/cec7da7558d173c9ee688d48951004f9959b1dca0a1ad1890a194efe0e260c1f)\n"
          ]
        }
      ],
      "source": [
        "from datasets import load_dataset, load_metric\n",
        "train_data=load_dataset(\"/content/load_guj/load_guj.py\",split=\"train\")\n",
        "val_data=load_dataset(\"/content/load_guj/load_guj.py\",split=\"test\")\n",
        "test_data=val_data"
      ]
    },
    {
      "cell_type": "code",
      "execution_count": 76,
      "metadata": {
        "id": "PnhDbvNJKELS"
      },
      "outputs": [],
      "source": [
        ""
      ]
    },
    {
      "cell_type": "code",
      "execution_count": 77,
      "metadata": {
        "id": "k4pD6ZPJKRjQ"
      },
      "outputs": [],
      "source": [
        "from datasets.dataset_dict import DatasetDict\n",
        "from datasets.dataset_dict import DatasetDict\n",
        "dataset={}\n",
        "dataset[\"train\"]=train_data\n",
        "dataset[\"test\"]=test_data\n",
        "dataset=DatasetDict(dataset)\n",
        "# dataset[\"train\"]\n",
        "# dataset[\"train\"][1][\"audio\"]\n",
        "# dataset[\"train\"][1][\"label\"]\n",
        "# dataset[\"train\"].features[\"label\"]\n",
        "# dataset[\"train\"]\n",
        "# dataset[\"train\"][2]"
      ]
    },
    {
      "cell_type": "code",
      "execution_count": 78,
      "metadata": {
        "id": "ASbmcAZQKXzT",
        "colab": {
          "base_uri": "https://localhost:8080/",
          "height": 35
        },
        "outputId": "822d7df2-7552-4eda-d148-40e123ccf9d4"
      },
      "outputs": [
        {
          "output_type": "execute_result",
          "data": {
            "text/plain": [
              "'9'"
            ],
            "application/vnd.google.colaboratory.intrinsic+json": {
              "type": "string"
            }
          },
          "metadata": {},
          "execution_count": 78
        }
      ],
      "source": [
        "labels = dataset[\"train\"].features[\"label\"].names\n",
        "label2id, id2label = dict(), dict()\n",
        "for i, label in enumerate(labels):\n",
        "    label2id[label] = str(i)\n",
        "    id2label[str(i)] = label\n",
        "\n",
        "id2label[\"9\"]"
      ]
    },
    {
      "cell_type": "code",
      "execution_count": 79,
      "metadata": {
        "colab": {
          "base_uri": "https://localhost:8080/"
        },
        "id": "dRzTmYiQVZ5l",
        "outputId": "d1e975e3-106e-4d91-9796-309b7b03b69d"
      },
      "outputs": [
        {
          "output_type": "execute_result",
          "data": {
            "text/plain": [
              "{'0': '0',\n",
              " '1': '1',\n",
              " '2': '2',\n",
              " '3': '3',\n",
              " '4': '4',\n",
              " '5': '5',\n",
              " '6': '6',\n",
              " '7': '7',\n",
              " '8': '8',\n",
              " '9': '9',\n",
              " '_silence_': '10',\n",
              " '_unknown_': '11'}"
            ]
          },
          "metadata": {},
          "execution_count": 79
        }
      ],
      "source": [
        "label2id"
      ]
    },
    {
      "cell_type": "code",
      "execution_count": 79,
      "metadata": {
        "id": "aabXIDQQKksr"
      },
      "outputs": [],
      "source": [
        ""
      ]
    },
    {
      "cell_type": "code",
      "execution_count": 80,
      "metadata": {
        "colab": {
          "base_uri": "https://localhost:8080/",
          "height": 569
        },
        "id": "OG1-MhguKnP8",
        "outputId": "b3a6bc1f-4cbb-4e7c-a3f5-3b7f1163980d"
      },
      "outputs": [
        {
          "output_type": "stream",
          "name": "stdout",
          "text": [
            "Label: 6\n",
            "Shape: (12260,), sampling rate: 16000\n"
          ]
        },
        {
          "output_type": "display_data",
          "data": {
            "text/plain": [
              "<IPython.lib.display.Audio object>"
            ],
            "text/html": [
              "\n",
              "                <audio controls=\"controls\" >\n",
              "                    <source src=\"data:audio/wav;base64,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\" type=\"audio/wav\" />\n",
              "                    Your browser does not support the audio element.\n",
              "                </audio>\n",
              "              "
            ]
          },
          "metadata": {}
        },
        {
          "output_type": "stream",
          "name": "stdout",
          "text": [
            "\n",
            "Label: 2\n",
            "Shape: (10747,), sampling rate: 16000\n"
          ]
        },
        {
          "output_type": "display_data",
          "data": {
            "text/plain": [
              "<IPython.lib.display.Audio object>"
            ],
            "text/html": [
              "\n",
              "                <audio controls=\"controls\" >\n",
              "                    <source src=\"data:audio/wav;base64,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\" type=\"audio/wav\" />\n",
              "                    Your browser does not support the audio element.\n",
              "                </audio>\n",
              "              "
            ]
          },
          "metadata": {}
        },
        {
          "output_type": "stream",
          "name": "stdout",
          "text": [
            "\n",
            "Label: 1\n",
            "Shape: (11223,), sampling rate: 16000\n"
          ]
        },
        {
          "output_type": "display_data",
          "data": {
            "text/plain": [
              "<IPython.lib.display.Audio object>"
            ],
            "text/html": [
              "\n",
              "                <audio controls=\"controls\" >\n",
              "                    <source src=\"data:audio/wav;base64,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\" type=\"audio/wav\" />\n",
              "                    Your browser does not support the audio element.\n",
              "                </audio>\n",
              "              "
            ]
          },
          "metadata": {}
        },
        {
          "output_type": "stream",
          "name": "stdout",
          "text": [
            "\n",
            "Label: 6\n",
            "Shape: (11330,), sampling rate: 16000\n"
          ]
        },
        {
          "output_type": "display_data",
          "data": {
            "text/plain": [
              "<IPython.lib.display.Audio object>"
            ],
            "text/html": [
              "\n",
              "                <audio controls=\"controls\" >\n",
              "                    <source src=\"data:audio/wav;base64,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\" type=\"audio/wav\" />\n",
              "                    Your browser does not support the audio element.\n",
              "                </audio>\n",
              "              "
            ]
          },
          "metadata": {}
        },
        {
          "output_type": "stream",
          "name": "stdout",
          "text": [
            "\n",
            "Label: 1\n",
            "Shape: (9953,), sampling rate: 16000\n"
          ]
        },
        {
          "output_type": "display_data",
          "data": {
            "text/plain": [
              "<IPython.lib.display.Audio object>"
            ],
            "text/html": [
              "\n",
              "                <audio controls=\"controls\" >\n",
              "                    <source src=\"data:audio/wav;base64,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\" type=\"audio/wav\" />\n",
              "                    Your browser does not support the audio element.\n",
              "                </audio>\n",
              "              "
            ]
          },
          "metadata": {}
        },
        {
          "output_type": "stream",
          "name": "stdout",
          "text": [
            "\n"
          ]
        }
      ],
      "source": [
        "import random\n",
        "from IPython.display import Audio, display\n",
        "\n",
        "for _ in range(5):\n",
        "    rand_idx = random.randint(0, len(dataset[\"train\"])-1)\n",
        "    example = dataset[\"train\"][rand_idx]\n",
        "    audio = example[\"audio\"]\n",
        "\n",
        "    print(f'Label: {id2label[str(example[\"label\"])]}')\n",
        "    print(f'Shape: {audio[\"array\"].shape}, sampling rate: {audio[\"sampling_rate\"]}')\n",
        "    display(Audio(audio[\"array\"], rate=audio[\"sampling_rate\"]))\n",
        "    print()"
      ]
    },
    {
      "cell_type": "code",
      "execution_count": 80,
      "metadata": {
        "id": "SvMofwwMKsfL"
      },
      "outputs": [],
      "source": [
        ""
      ]
    },
    {
      "cell_type": "code",
      "execution_count": 81,
      "metadata": {
        "colab": {
          "base_uri": "https://localhost:8080/"
        },
        "id": "mGyb7On-Q5R1",
        "outputId": "e4e3d3f0-29a7-45d3-d2ae-424bda2e7ee8"
      },
      "outputs": [
        {
          "output_type": "execute_result",
          "data": {
            "text/plain": [
              "{'audio': {'array': array([-2.6911581e-05, -4.7613788e-04, -9.2794903e-04, ...,\n",
              "         -1.9840747e-03, -1.1656560e-03,  0.0000000e+00], dtype=float32),\n",
              "  'path': '/content/load_guj/R4 - Saurashtra/S4/R4S4T3D8.wav',\n",
              "  'sampling_rate': 16000},\n",
              " 'file': '/content/load_guj/R4 - Saurashtra/S4/R4S4T3D8.wav',\n",
              " 'label': 8}"
            ]
          },
          "metadata": {},
          "execution_count": 81
        }
      ],
      "source": [
        "dataset[\"train\"][2]"
      ]
    },
    {
      "cell_type": "markdown",
      "metadata": {
        "id": "q62W2NeJ06rL"
      },
      "source": [
        "# Step 2: Pre processing"
      ]
    },
    {
      "cell_type": "code",
      "execution_count": 82,
      "metadata": {
        "id": "3fLGyHRXzaTb"
      },
      "outputs": [],
      "source": [
        "max_duration = 1.0  # seconds"
      ]
    },
    {
      "cell_type": "code",
      "execution_count": 83,
      "metadata": {
        "colab": {
          "base_uri": "https://localhost:8080/"
        },
        "id": "IFUFm4fl31NO",
        "outputId": "4f012cad-ccd2-4f4a-d47c-6338c7521a2c"
      },
      "outputs": [
        {
          "output_type": "stream",
          "name": "stderr",
          "text": [
            "loading configuration file https://huggingface.co/facebook/wav2vec2-base/resolve/main/config.json from cache at /root/.cache/huggingface/transformers/c7746642f045322fd01afa31271dd490e677ea11999e68660a92619ec7c892b4.ce1f96bfaf3d7475cb8187b9668c7f19437ade45fb9ceb78d2b06a2cec198015\n",
            "/usr/local/lib/python3.7/dist-packages/transformers/configuration_utils.py:337: UserWarning: Passing `gradient_checkpointing` to a config initialization is deprecated and will be removed in v5 Transformers. Using `model.gradient_checkpointing_enable()` instead, or if you are using the `Trainer` API, pass `gradient_checkpointing=True` in your `TrainingArguments`.\n",
            "  \"Passing `gradient_checkpointing` to a config initialization is deprecated and will be removed in v5 \"\n",
            "Model config Wav2Vec2Config {\n",
            "  \"activation_dropout\": 0.0,\n",
            "  \"apply_spec_augment\": true,\n",
            "  \"architectures\": [\n",
            "    \"Wav2Vec2ForPreTraining\"\n",
            "  ],\n",
            "  \"attention_dropout\": 0.1,\n",
            "  \"bos_token_id\": 1,\n",
            "  \"classifier_proj_size\": 256,\n",
            "  \"codevector_dim\": 256,\n",
            "  \"contrastive_logits_temperature\": 0.1,\n",
            "  \"conv_bias\": false,\n",
            "  \"conv_dim\": [\n",
            "    512,\n",
            "    512,\n",
            "    512,\n",
            "    512,\n",
            "    512,\n",
            "    512,\n",
            "    512\n",
            "  ],\n",
            "  \"conv_kernel\": [\n",
            "    10,\n",
            "    3,\n",
            "    3,\n",
            "    3,\n",
            "    3,\n",
            "    2,\n",
            "    2\n",
            "  ],\n",
            "  \"conv_stride\": [\n",
            "    5,\n",
            "    2,\n",
            "    2,\n",
            "    2,\n",
            "    2,\n",
            "    2,\n",
            "    2\n",
            "  ],\n",
            "  \"ctc_loss_reduction\": \"sum\",\n",
            "  \"ctc_zero_infinity\": false,\n",
            "  \"diversity_loss_weight\": 0.1,\n",
            "  \"do_stable_layer_norm\": false,\n",
            "  \"eos_token_id\": 2,\n",
            "  \"feat_extract_activation\": \"gelu\",\n",
            "  \"feat_extract_norm\": \"group\",\n",
            "  \"feat_proj_dropout\": 0.1,\n",
            "  \"feat_quantizer_dropout\": 0.0,\n",
            "  \"final_dropout\": 0.0,\n",
            "  \"freeze_feat_extract_train\": true,\n",
            "  \"gradient_checkpointing\": true,\n",
            "  \"hidden_act\": \"gelu\",\n",
            "  \"hidden_dropout\": 0.1,\n",
            "  \"hidden_size\": 768,\n",
            "  \"initializer_range\": 0.02,\n",
            "  \"intermediate_size\": 3072,\n",
            "  \"layer_norm_eps\": 1e-05,\n",
            "  \"layerdrop\": 0.0,\n",
            "  \"mask_channel_length\": 10,\n",
            "  \"mask_channel_min_space\": 1,\n",
            "  \"mask_channel_other\": 0.0,\n",
            "  \"mask_channel_prob\": 0.0,\n",
            "  \"mask_channel_selection\": \"static\",\n",
            "  \"mask_feature_length\": 10,\n",
            "  \"mask_feature_prob\": 0.0,\n",
            "  \"mask_time_length\": 10,\n",
            "  \"mask_time_min_space\": 1,\n",
            "  \"mask_time_other\": 0.0,\n",
            "  \"mask_time_prob\": 0.05,\n",
            "  \"mask_time_selection\": \"static\",\n",
            "  \"model_type\": \"wav2vec2\",\n",
            "  \"no_mask_channel_overlap\": false,\n",
            "  \"no_mask_time_overlap\": false,\n",
            "  \"num_attention_heads\": 12,\n",
            "  \"num_codevector_groups\": 2,\n",
            "  \"num_codevectors_per_group\": 320,\n",
            "  \"num_conv_pos_embedding_groups\": 16,\n",
            "  \"num_conv_pos_embeddings\": 128,\n",
            "  \"num_feat_extract_layers\": 7,\n",
            "  \"num_hidden_layers\": 12,\n",
            "  \"num_negatives\": 100,\n",
            "  \"pad_token_id\": 0,\n",
            "  \"proj_codevector_dim\": 256,\n",
            "  \"transformers_version\": \"4.11.3\",\n",
            "  \"use_weighted_layer_sum\": false,\n",
            "  \"vocab_size\": 32\n",
            "}\n",
            "\n",
            "loading feature extractor configuration file https://huggingface.co/facebook/wav2vec2-base/resolve/main/preprocessor_config.json from cache at /root/.cache/huggingface/transformers/d4583dd9e59eb6295f8fe8b18833ae54d963a122d69aa1df7ecce6caafe18c8f.bc3155ca0bae3a39fc37fc6d64829c6a765f46480894658bb21c08db6155358d\n",
            "Feature extractor Wav2Vec2FeatureExtractor {\n",
            "  \"do_normalize\": true,\n",
            "  \"feature_extractor_type\": \"Wav2Vec2FeatureExtractor\",\n",
            "  \"feature_size\": 1,\n",
            "  \"padding_side\": \"right\",\n",
            "  \"padding_value\": 0.0,\n",
            "  \"return_attention_mask\": false,\n",
            "  \"sampling_rate\": 16000\n",
            "}\n",
            "\n"
          ]
        },
        {
          "output_type": "execute_result",
          "data": {
            "text/plain": [
              "Wav2Vec2FeatureExtractor {\n",
              "  \"do_normalize\": true,\n",
              "  \"feature_extractor_type\": \"Wav2Vec2FeatureExtractor\",\n",
              "  \"feature_size\": 1,\n",
              "  \"padding_side\": \"right\",\n",
              "  \"padding_value\": 0.0,\n",
              "  \"return_attention_mask\": false,\n",
              "  \"sampling_rate\": 16000\n",
              "}"
            ]
          },
          "metadata": {},
          "execution_count": 83
        }
      ],
      "source": [
        "from transformers import AutoFeatureExtractor\n",
        "model_checkpoint = \"facebook/wav2vec2-base\"\n",
        "batch_size = 32\n",
        "feature_extractor = AutoFeatureExtractor.from_pretrained(model_checkpoint)\n",
        "feature_extractor"
      ]
    },
    {
      "cell_type": "code",
      "execution_count": 84,
      "metadata": {
        "id": "GusHscy334HP"
      },
      "outputs": [],
      "source": [
        "def preprocess_function(examples):\n",
        "    audio_arrays = [x[\"array\"] for x in examples[\"audio\"]]\n",
        "    inputs = feature_extractor(\n",
        "        audio_arrays, \n",
        "        sampling_rate=feature_extractor.sampling_rate, \n",
        "        max_length=int(feature_extractor.sampling_rate * max_duration), \n",
        "        truncation=True, \n",
        "    )\n",
        "    return inputs"
      ]
    },
    {
      "cell_type": "code",
      "execution_count": 85,
      "metadata": {
        "colab": {
          "base_uri": "https://localhost:8080/"
        },
        "id": "7NN5RZGS34DI",
        "outputId": "d72b6627-cb24-4444-9ab0-2f743873ff88"
      },
      "outputs": [
        {
          "output_type": "stream",
          "name": "stderr",
          "text": [
            "/usr/local/lib/python3.7/dist-packages/transformers/feature_extraction_utils.py:158: VisibleDeprecationWarning: Creating an ndarray from ragged nested sequences (which is a list-or-tuple of lists-or-tuples-or ndarrays with different lengths or shapes) is deprecated. If you meant to do this, you must specify 'dtype=object' when creating the ndarray.\n",
            "  tensor = as_tensor(value)\n"
          ]
        },
        {
          "output_type": "execute_result",
          "data": {
            "text/plain": [
              "{'input_values': [array([-0.00343115,  0.0268481 ,  0.06603188, ..., -0.003115  ,\n",
              "        0.00139647,  0.00493543], dtype=float32), array([-1.2691899e-03, -9.7545749e-04,  3.9509422e-04, ...,\n",
              "        5.8767633e-03,  4.5574945e-03, -3.3009044e-05], dtype=float32), array([-2.9383608e-04, -6.2776478e-03, -1.2295891e-02, ...,\n",
              "       -2.6363762e-02, -1.5462211e-02,  6.4633219e-05], dtype=float32), array([ 0.1360805 ,  0.23976848,  0.23395076, ..., -0.05796618,\n",
              "       -0.03984864,  0.00543909], dtype=float32), array([-0.00322145,  0.03012054,  0.07010429, ..., -0.08256871,\n",
              "       -0.05468863, -0.00229904], dtype=float32)]}"
            ]
          },
          "metadata": {},
          "execution_count": 85
        }
      ],
      "source": [
        "preprocess_function(dataset['train'][:5])"
      ]
    },
    {
      "cell_type": "code",
      "execution_count": 85,
      "metadata": {
        "id": "DYFUkqGCAjvk"
      },
      "outputs": [],
      "source": [
        ""
      ]
    },
    {
      "cell_type": "code",
      "execution_count": 86,
      "metadata": {
        "colab": {
          "base_uri": "https://localhost:8080/"
        },
        "id": "hbDrJR6O33_u",
        "outputId": "2c48ee22-d278-4631-ad8b-53fdad72d93d"
      },
      "outputs": [
        {
          "output_type": "stream",
          "name": "stderr",
          "text": [
            "Loading cached processed dataset at /root/.cache/huggingface/datasets/new_dataset/train/1.1.0/cec7da7558d173c9ee688d48951004f9959b1dca0a1ad1890a194efe0e260c1f/cache-6ad58047d24d509a.arrow\n",
            "Loading cached processed dataset at /root/.cache/huggingface/datasets/new_dataset/train/1.1.0/cec7da7558d173c9ee688d48951004f9959b1dca0a1ad1890a194efe0e260c1f/cache-a257493ec7cc09c2.arrow\n"
          ]
        },
        {
          "output_type": "execute_result",
          "data": {
            "text/plain": [
              "DatasetDict({\n",
              "    train: Dataset({\n",
              "        features: ['input_values', 'label'],\n",
              "        num_rows: 51\n",
              "    })\n",
              "    test: Dataset({\n",
              "        features: ['input_values', 'label'],\n",
              "        num_rows: 388\n",
              "    })\n",
              "})"
            ]
          },
          "metadata": {},
          "execution_count": 86
        }
      ],
      "source": [
        "encoded_dataset = dataset.map(preprocess_function, remove_columns=[\"audio\", \"file\"], batched=True)\n",
        "encoded_dataset"
      ]
    },
    {
      "cell_type": "markdown",
      "metadata": {
        "id": "BeM7NWOX1ExP"
      },
      "source": [
        "# Training/Finetuning"
      ]
    },
    {
      "cell_type": "code",
      "execution_count": 87,
      "metadata": {
        "colab": {
          "base_uri": "https://localhost:8080/"
        },
        "id": "fHKU8Z-w1GkK",
        "outputId": "de46eabb-6f7f-4c3a-f4b9-47264d72852f"
      },
      "outputs": [
        {
          "output_type": "stream",
          "name": "stderr",
          "text": [
            "loading configuration file https://huggingface.co/facebook/wav2vec2-base/resolve/main/config.json from cache at /root/.cache/huggingface/transformers/c7746642f045322fd01afa31271dd490e677ea11999e68660a92619ec7c892b4.ce1f96bfaf3d7475cb8187b9668c7f19437ade45fb9ceb78d2b06a2cec198015\n",
            "/usr/local/lib/python3.7/dist-packages/transformers/configuration_utils.py:337: UserWarning: Passing `gradient_checkpointing` to a config initialization is deprecated and will be removed in v5 Transformers. Using `model.gradient_checkpointing_enable()` instead, or if you are using the `Trainer` API, pass `gradient_checkpointing=True` in your `TrainingArguments`.\n",
            "  \"Passing `gradient_checkpointing` to a config initialization is deprecated and will be removed in v5 \"\n",
            "Model config Wav2Vec2Config {\n",
            "  \"activation_dropout\": 0.0,\n",
            "  \"apply_spec_augment\": true,\n",
            "  \"architectures\": [\n",
            "    \"Wav2Vec2ForPreTraining\"\n",
            "  ],\n",
            "  \"attention_dropout\": 0.1,\n",
            "  \"bos_token_id\": 1,\n",
            "  \"classifier_proj_size\": 256,\n",
            "  \"codevector_dim\": 256,\n",
            "  \"contrastive_logits_temperature\": 0.1,\n",
            "  \"conv_bias\": false,\n",
            "  \"conv_dim\": [\n",
            "    512,\n",
            "    512,\n",
            "    512,\n",
            "    512,\n",
            "    512,\n",
            "    512,\n",
            "    512\n",
            "  ],\n",
            "  \"conv_kernel\": [\n",
            "    10,\n",
            "    3,\n",
            "    3,\n",
            "    3,\n",
            "    3,\n",
            "    2,\n",
            "    2\n",
            "  ],\n",
            "  \"conv_stride\": [\n",
            "    5,\n",
            "    2,\n",
            "    2,\n",
            "    2,\n",
            "    2,\n",
            "    2,\n",
            "    2\n",
            "  ],\n",
            "  \"ctc_loss_reduction\": \"sum\",\n",
            "  \"ctc_zero_infinity\": false,\n",
            "  \"diversity_loss_weight\": 0.1,\n",
            "  \"do_stable_layer_norm\": false,\n",
            "  \"eos_token_id\": 2,\n",
            "  \"feat_extract_activation\": \"gelu\",\n",
            "  \"feat_extract_norm\": \"group\",\n",
            "  \"feat_proj_dropout\": 0.1,\n",
            "  \"feat_quantizer_dropout\": 0.0,\n",
            "  \"final_dropout\": 0.0,\n",
            "  \"freeze_feat_extract_train\": true,\n",
            "  \"gradient_checkpointing\": true,\n",
            "  \"hidden_act\": \"gelu\",\n",
            "  \"hidden_dropout\": 0.1,\n",
            "  \"hidden_size\": 768,\n",
            "  \"id2label\": {\n",
            "    \"0\": \"0\",\n",
            "    \"1\": \"1\",\n",
            "    \"10\": \"_silence_\",\n",
            "    \"11\": \"_unknown_\",\n",
            "    \"2\": \"2\",\n",
            "    \"3\": \"3\",\n",
            "    \"4\": \"4\",\n",
            "    \"5\": \"5\",\n",
            "    \"6\": \"6\",\n",
            "    \"7\": \"7\",\n",
            "    \"8\": \"8\",\n",
            "    \"9\": \"9\"\n",
            "  },\n",
            "  \"initializer_range\": 0.02,\n",
            "  \"intermediate_size\": 3072,\n",
            "  \"label2id\": {\n",
            "    \"0\": \"0\",\n",
            "    \"1\": \"1\",\n",
            "    \"2\": \"2\",\n",
            "    \"3\": \"3\",\n",
            "    \"4\": \"4\",\n",
            "    \"5\": \"5\",\n",
            "    \"6\": \"6\",\n",
            "    \"7\": \"7\",\n",
            "    \"8\": \"8\",\n",
            "    \"9\": \"9\",\n",
            "    \"_silence_\": \"10\",\n",
            "    \"_unknown_\": \"11\"\n",
            "  },\n",
            "  \"layer_norm_eps\": 1e-05,\n",
            "  \"layerdrop\": 0.0,\n",
            "  \"mask_channel_length\": 10,\n",
            "  \"mask_channel_min_space\": 1,\n",
            "  \"mask_channel_other\": 0.0,\n",
            "  \"mask_channel_prob\": 0.0,\n",
            "  \"mask_channel_selection\": \"static\",\n",
            "  \"mask_feature_length\": 10,\n",
            "  \"mask_feature_prob\": 0.0,\n",
            "  \"mask_time_length\": 10,\n",
            "  \"mask_time_min_space\": 1,\n",
            "  \"mask_time_other\": 0.0,\n",
            "  \"mask_time_prob\": 0.05,\n",
            "  \"mask_time_selection\": \"static\",\n",
            "  \"model_type\": \"wav2vec2\",\n",
            "  \"no_mask_channel_overlap\": false,\n",
            "  \"no_mask_time_overlap\": false,\n",
            "  \"num_attention_heads\": 12,\n",
            "  \"num_codevector_groups\": 2,\n",
            "  \"num_codevectors_per_group\": 320,\n",
            "  \"num_conv_pos_embedding_groups\": 16,\n",
            "  \"num_conv_pos_embeddings\": 128,\n",
            "  \"num_feat_extract_layers\": 7,\n",
            "  \"num_hidden_layers\": 12,\n",
            "  \"num_negatives\": 100,\n",
            "  \"pad_token_id\": 0,\n",
            "  \"proj_codevector_dim\": 256,\n",
            "  \"transformers_version\": \"4.11.3\",\n",
            "  \"use_weighted_layer_sum\": false,\n",
            "  \"vocab_size\": 32\n",
            "}\n",
            "\n",
            "loading weights file https://huggingface.co/facebook/wav2vec2-base/resolve/main/pytorch_model.bin from cache at /root/.cache/huggingface/transformers/ef45231897ce572a660ebc5a63d3702f1a6041c4c5fb78cbec330708531939b3.fcae05302a685f7904c551c8ea571e8bc2a2c4a1777ea81ad66e47f7883a650a\n",
            "Some weights of the model checkpoint at facebook/wav2vec2-base were not used when initializing Wav2Vec2ForSequenceClassification: ['project_q.weight', 'quantizer.weight_proj.bias', 'project_q.bias', 'quantizer.weight_proj.weight', 'project_hid.weight', 'project_hid.bias', 'quantizer.codevectors']\n",
            "- This IS expected if you are initializing Wav2Vec2ForSequenceClassification from the checkpoint of a model trained on another task or with another architecture (e.g. initializing a BertForSequenceClassification model from a BertForPreTraining model).\n",
            "- This IS NOT expected if you are initializing Wav2Vec2ForSequenceClassification from the checkpoint of a model that you expect to be exactly identical (initializing a BertForSequenceClassification model from a BertForSequenceClassification model).\n",
            "Some weights of Wav2Vec2ForSequenceClassification were not initialized from the model checkpoint at facebook/wav2vec2-base and are newly initialized: ['projector.bias', 'classifier.bias', 'projector.weight', 'classifier.weight']\n",
            "You should probably TRAIN this model on a down-stream task to be able to use it for predictions and inference.\n"
          ]
        }
      ],
      "source": [
        "from transformers import AutoModelForAudioClassification, TrainingArguments, Trainer\n",
        "\n",
        "num_labels = len(id2label)\n",
        "model = AutoModelForAudioClassification.from_pretrained(\n",
        "    model_checkpoint, \n",
        "    num_labels=num_labels,\n",
        "    label2id=label2id,\n",
        "    id2label=id2label,\n",
        ")"
      ]
    },
    {
      "cell_type": "code",
      "execution_count": 88,
      "metadata": {
        "colab": {
          "base_uri": "https://localhost:8080/"
        },
        "id": "CLWca8vL4YqH",
        "outputId": "e1cdcf15-b256-4f3f-d657-ea9cab61ccf2"
      },
      "outputs": [
        {
          "output_type": "stream",
          "name": "stderr",
          "text": [
            "PyTorch: setting up devices\n",
            "The default value for the training argument `--report_to` will change in v5 (from all installed integrations to none). In v5, you will need to use `--report_to all` to get the same behavior as now. You should start updating your code and make this info disappear :-).\n"
          ]
        }
      ],
      "source": [
        "model_name = model_checkpoint.split(\"/\")[-1]\n",
        "\n",
        "args = TrainingArguments(\n",
        "    f\"{model_name}-finetuned-ks\",\n",
        "    evaluation_strategy = \"epoch\",\n",
        "    save_strategy = \"epoch\",\n",
        "    learning_rate=3e-5,\n",
        "    per_device_train_batch_size=batch_size,\n",
        "    gradient_accumulation_steps=4,\n",
        "    per_device_eval_batch_size=batch_size,\n",
        "    num_train_epochs=5,\n",
        "    warmup_ratio=0.1,\n",
        "    logging_steps=10,\n",
        "    load_best_model_at_end=True,\n",
        "    metric_for_best_model=\"accuracy\",\n",
        "    push_to_hub=False,\n",
        ")"
      ]
    },
    {
      "cell_type": "code",
      "execution_count": 89,
      "metadata": {
        "id": "j-CMzZ8J4avn"
      },
      "outputs": [],
      "source": [
        "import numpy as np\n",
        "\n",
        "def compute_metrics(eval_pred):\n",
        "    \"\"\"Computes accuracy on a batch of predictions\"\"\"\n",
        "    predictions = np.argmax(eval_pred.predictions, axis=1)\n",
        "    return metric.compute(predictions=predictions, references=eval_pred.label_ids)"
      ]
    },
    {
      "cell_type": "code",
      "source": [
        "dataset"
      ],
      "metadata": {
        "colab": {
          "base_uri": "https://localhost:8080/"
        },
        "id": "ND7ttCXgoA5z",
        "outputId": "410b4f60-243f-4f51-8210-5b6832007962"
      },
      "execution_count": 90,
      "outputs": [
        {
          "output_type": "execute_result",
          "data": {
            "text/plain": [
              "DatasetDict({\n",
              "    train: Dataset({\n",
              "        features: ['file', 'audio', 'label'],\n",
              "        num_rows: 51\n",
              "    })\n",
              "    test: Dataset({\n",
              "        features: ['file', 'audio', 'label'],\n",
              "        num_rows: 388\n",
              "    })\n",
              "})"
            ]
          },
          "metadata": {},
          "execution_count": 90
        }
      ]
    },
    {
      "cell_type": "code",
      "execution_count": 91,
      "metadata": {
        "id": "TilZAqiD4cvG"
      },
      "outputs": [],
      "source": [
        "trainer = Trainer(\n",
        "    model,\n",
        "    args,\n",
        "    train_dataset=encoded_dataset[\"train\"],\n",
        "    eval_dataset=encoded_dataset[\"test\"],\n",
        "    tokenizer=feature_extractor,\n",
        "    compute_metrics=compute_metrics\n",
        ")"
      ]
    },
    {
      "cell_type": "code",
      "execution_count": 92,
      "metadata": {
        "colab": {
          "base_uri": "https://localhost:8080/"
        },
        "id": "Gia7wo5OV_KA",
        "outputId": "dcf56bf4-2aa4-4675-d41d-d502dbc2092d"
      },
      "outputs": [
        {
          "output_type": "execute_result",
          "data": {
            "text/plain": [
              "{'input_values': [-0.0012691898737102747,\n",
              "  -0.0009754574857652187,\n",
              "  0.0003950942191295326,\n",
              "  0.0013603270053863525,\n",
              "  0.002227536868304014,\n",
              "  0.0034051297698169947,\n",
              "  0.004305865615606308,\n",
              "  0.005250157788395882,\n",
              "  0.0064741214737296104,\n",
              "  0.006888297852128744,\n",
              "  0.007782679982483387,\n",
              "  0.00817088596522808,\n",
              "  0.008522817865014076,\n",
              "  0.008699683472514153,\n",
              "  0.009106600657105446,\n",
              "  0.009633886627852917,\n",
              "  0.009820875711739063,\n",
              "  0.010050726123154163,\n",
              "  0.009688937105238438,\n",
              "  0.009452766738831997,\n",
              "  0.008636255748569965,\n",
              "  0.008035107515752316,\n",
              "  0.007544823456555605,\n",
              "  0.0071237520314753056,\n",
              "  0.007159009110182524,\n",
              "  0.006100732367485762,\n",
              "  0.0059182606637477875,\n",
              "  0.005541485734283924,\n",
              "  0.005000593606382608,\n",
              "  0.0047367047518491745,\n",
              "  0.003454019548371434,\n",
              "  0.002940204693004489,\n",
              "  0.0023258309811353683,\n",
              "  0.0014021276729181409,\n",
              "  0.001199354068376124,\n",
              "  0.0007144011906348169,\n",
              "  0.00023908255388960242,\n",
              "  -0.0005572452791966498,\n",
              "  -0.0013151647290214896,\n",
              "  -0.0019140699878335,\n",
              "  -0.0022257498931139708,\n",
              "  -0.002345946617424488,\n",
              "  -0.003062998875975609,\n",
              "  -0.002696654526516795,\n",
              "  -0.0033570548985153437,\n",
              "  -0.003341841744259,\n",
              "  -0.0035522517282515764,\n",
              "  -0.004030301235616207,\n",
              "  -0.0042207431979477406,\n",
              "  -0.00528410729020834,\n",
              "  -0.005104408599436283,\n",
              "  -0.005070477724075317,\n",
              "  -0.005641337484121323,\n",
              "  -0.0060700904577970505,\n",
              "  -0.006246211938560009,\n",
              "  -0.006719361990690231,\n",
              "  -0.006402554456144571,\n",
              "  -0.00642572995275259,\n",
              "  -0.006955117918550968,\n",
              "  -0.007252230774611235,\n",
              "  -0.007434397004544735,\n",
              "  -0.007934737019240856,\n",
              "  -0.008259770460426807,\n",
              "  -0.008279264904558659,\n",
              "  -0.00837341696023941,\n",
              "  -0.008406092412769794,\n",
              "  -0.008192090317606926,\n",
              "  -0.00777517119422555,\n",
              "  -0.007630112115293741,\n",
              "  -0.008008139207959175,\n",
              "  -0.007969397120177746,\n",
              "  -0.007761113811284304,\n",
              "  -0.008166655898094177,\n",
              "  -0.007522742263972759,\n",
              "  -0.007340843323618174,\n",
              "  -0.006840206682682037,\n",
              "  -0.006402585189789534,\n",
              "  -0.005946471821516752,\n",
              "  -0.005073136650025845,\n",
              "  -0.0048940908163785934,\n",
              "  -0.004233518149703741,\n",
              "  -0.0037811491638422012,\n",
              "  -0.0032706353813409805,\n",
              "  -0.0030500940047204494,\n",
              "  -0.0020230384543538094,\n",
              "  -0.0010840281611308455,\n",
              "  -0.0013497145846486092,\n",
              "  -0.00031165004475042224,\n",
              "  0.00015769725723657757,\n",
              "  0.0004038984188809991,\n",
              "  0.0011152040679007769,\n",
              "  0.0009838779224082828,\n",
              "  0.0014929432654753327,\n",
              "  0.0020717435982078314,\n",
              "  0.0027189103420823812,\n",
              "  0.003588238265365362,\n",
              "  0.003828121582046151,\n",
              "  0.0044409832917153835,\n",
              "  0.005022661294788122,\n",
              "  0.005057589616626501,\n",
              "  0.005211408715695143,\n",
              "  0.0052774203941226006,\n",
              "  0.004958577454090118,\n",
              "  0.004897501319646835,\n",
              "  0.005124473944306374,\n",
              "  0.005257491488009691,\n",
              "  0.005289305001497269,\n",
              "  0.005498711485415697,\n",
              "  0.005601406563073397,\n",
              "  0.004893702454864979,\n",
              "  0.004662347491830587,\n",
              "  0.00429558614268899,\n",
              "  0.0035142479464411736,\n",
              "  0.0036654998548328876,\n",
              "  0.0035931426100432873,\n",
              "  0.002926234621554613,\n",
              "  0.0029648535419255495,\n",
              "  0.0030600037425756454,\n",
              "  0.002442233497276902,\n",
              "  0.0023300102911889553,\n",
              "  0.001488809590227902,\n",
              "  0.000677211326546967,\n",
              "  0.00022626921418122947,\n",
              "  -0.0004809288657270372,\n",
              "  -0.0008892763871699572,\n",
              "  -0.001605236204341054,\n",
              "  -0.0018438093829900026,\n",
              "  -0.0024037198163568974,\n",
              "  -0.0027543336618691683,\n",
              "  -0.0033013762440532446,\n",
              "  -0.0039447094313800335,\n",
              "  -0.004791976884007454,\n",
              "  -0.0051056938245892525,\n",
              "  -0.005778227932751179,\n",
              "  -0.0065926131792366505,\n",
              "  -0.006166239734739065,\n",
              "  -0.00670883571729064,\n",
              "  -0.006670001894235611,\n",
              "  -0.007352361921221018,\n",
              "  -0.008091328665614128,\n",
              "  -0.008271599188446999,\n",
              "  -0.00845282431691885,\n",
              "  -0.008814710192382336,\n",
              "  -0.009269408881664276,\n",
              "  -0.009217657148838043,\n",
              "  -0.009545991197228432,\n",
              "  -0.00900805089622736,\n",
              "  -0.008902073837816715,\n",
              "  -0.009247000329196453,\n",
              "  -0.008925599977374077,\n",
              "  -0.009137562476098537,\n",
              "  -0.009004478342831135,\n",
              "  -0.00882898923009634,\n",
              "  -0.008600257337093353,\n",
              "  -0.008401159197092056,\n",
              "  -0.00848619919270277,\n",
              "  -0.007676124572753906,\n",
              "  -0.007062059361487627,\n",
              "  -0.006337740924209356,\n",
              "  -0.005914934910833836,\n",
              "  -0.005337439943104982,\n",
              "  -0.004420203622430563,\n",
              "  -0.004135684110224247,\n",
              "  -0.0032018180936574936,\n",
              "  -0.0025206557475030422,\n",
              "  -0.002179016824811697,\n",
              "  -0.0012937670107930899,\n",
              "  -0.0014886650023981929,\n",
              "  -0.0005261283949948847,\n",
              "  0.0005520168924704194,\n",
              "  0.0004883140791207552,\n",
              "  0.0016439440660178661,\n",
              "  0.0019449713872745633,\n",
              "  0.0024064211174845695,\n",
              "  0.00310868164524436,\n",
              "  0.003571613458916545,\n",
              "  0.0044611734338104725,\n",
              "  0.00519329821690917,\n",
              "  0.0053810300305485725,\n",
              "  0.005816190503537655,\n",
              "  0.006480804178863764,\n",
              "  0.006619334686547518,\n",
              "  0.006789354607462883,\n",
              "  0.006928292103111744,\n",
              "  0.006933070253580809,\n",
              "  0.007161048706620932,\n",
              "  0.007340060081332922,\n",
              "  0.007617373019456863,\n",
              "  0.008244499564170837,\n",
              "  0.008220875635743141,\n",
              "  0.008574556559324265,\n",
              "  0.008299855515360832,\n",
              "  0.00762650091201067,\n",
              "  0.007843447849154472,\n",
              "  0.00796386506408453,\n",
              "  0.008325380273163319,\n",
              "  0.007941706106066704,\n",
              "  0.007514491211622953,\n",
              "  0.007824305444955826,\n",
              "  0.007680123206228018,\n",
              "  0.007987180724740028,\n",
              "  0.007983200252056122,\n",
              "  0.007775674574077129,\n",
              "  0.007800962310284376,\n",
              "  0.007530908100306988,\n",
              "  0.007448527961969376,\n",
              "  0.007559901103377342,\n",
              "  0.007465571630746126,\n",
              "  0.006778883282095194,\n",
              "  0.006478540599346161,\n",
              "  0.006466270890086889,\n",
              "  0.005956314969807863,\n",
              "  0.005495088640600443,\n",
              "  0.005148496478796005,\n",
              "  0.004643906839191914,\n",
              "  0.0044149961322546005,\n",
              "  0.0038489829748868942,\n",
              "  0.003840671619400382,\n",
              "  0.0034760201815515757,\n",
              "  0.0028503290377557278,\n",
              "  0.0026164441369473934,\n",
              "  0.0019848807714879513,\n",
              "  0.0009789559990167618,\n",
              "  8.144119055941701e-05,\n",
              "  -7.014803850324824e-05,\n",
              "  -0.0007880605407990515,\n",
              "  -0.0019564072135835886,\n",
              "  -0.002274732571095228,\n",
              "  -0.0026627518236637115,\n",
              "  -0.003399352543056011,\n",
              "  -0.003272315952926874,\n",
              "  -0.0038620701525360346,\n",
              "  -0.004567843396216631,\n",
              "  -0.004674802999943495,\n",
              "  -0.005194604396820068,\n",
              "  -0.005756007507443428,\n",
              "  -0.005979376845061779,\n",
              "  -0.006461115553975105,\n",
              "  -0.00626091193407774,\n",
              "  -0.006116746924817562,\n",
              "  -0.006270911078900099,\n",
              "  -0.006060574669390917,\n",
              "  -0.005989938508719206,\n",
              "  -0.005429856013506651,\n",
              "  -0.005198136903345585,\n",
              "  -0.004454310983419418,\n",
              "  -0.003497169818729162,\n",
              "  -0.0027832824271172285,\n",
              "  -0.0022747954353690147,\n",
              "  -0.0014572270447388291,\n",
              "  -0.0004094797186553478,\n",
              "  0.00039890356129035354,\n",
              "  0.0016367202624678612,\n",
              "  0.0022874653805047274,\n",
              "  0.003221576102077961,\n",
              "  0.004402298014611006,\n",
              "  0.00514122424647212,\n",
              "  0.005992192309349775,\n",
              "  0.006768097169697285,\n",
              "  0.008132782764732838,\n",
              "  0.009310233406722546,\n",
              "  0.009757176041603088,\n",
              "  0.010097924619913101,\n",
              "  0.010847199708223343,\n",
              "  0.01178587693721056,\n",
              "  0.012417126446962357,\n",
              "  0.013166864402592182,\n",
              "  0.013528566807508469,\n",
              "  0.013622826896607876,\n",
              "  0.013929822482168674,\n",
              "  0.014080086722970009,\n",
              "  0.0141090527176857,\n",
              "  0.014009084552526474,\n",
              "  0.014012063853442669,\n",
              "  0.014203939586877823,\n",
              "  0.014070354402065277,\n",
              "  0.013512833043932915,\n",
              "  0.012702018022537231,\n",
              "  0.011951958760619164,\n",
              "  0.011531875468790531,\n",
              "  0.010858074761927128,\n",
              "  0.010175161994993687,\n",
              "  0.009857390075922012,\n",
              "  0.008960164152085781,\n",
              "  0.007615674752742052,\n",
              "  0.0066276974976062775,\n",
              "  0.0058922963216900826,\n",
              "  0.004488535225391388,\n",
              "  0.0035216629039496183,\n",
              "  0.0024636618327349424,\n",
              "  0.0011786827817559242,\n",
              "  0.0005014348425902426,\n",
              "  -0.0005457553779706359,\n",
              "  -0.0020038823131471872,\n",
              "  -0.0031972515862435102,\n",
              "  -0.003860347205772996,\n",
              "  -0.004827478900551796,\n",
              "  -0.0059515247121453285,\n",
              "  -0.0067603569477796555,\n",
              "  -0.007542276289314032,\n",
              "  -0.008451612666249275,\n",
              "  -0.009237611666321754,\n",
              "  -0.009912759996950626,\n",
              "  -0.010620196349918842,\n",
              "  -0.011425337754189968,\n",
              "  -0.011822312138974667,\n",
              "  -0.012496239505708218,\n",
              "  -0.012409989722073078,\n",
              "  -0.01204350870102644,\n",
              "  -0.012346276082098484,\n",
              "  -0.012457097880542278,\n",
              "  -0.012751863338053226,\n",
              "  -0.012394956313073635,\n",
              "  -0.012695973739027977,\n",
              "  -0.013023984618484974,\n",
              "  -0.01226863544434309,\n",
              "  -0.011985360644757748,\n",
              "  -0.011665666475892067,\n",
              "  -0.011095664463937283,\n",
              "  -0.010888892225921154,\n",
              "  -0.010559841990470886,\n",
              "  -0.009661971591413021,\n",
              "  -0.0095572704449296,\n",
              "  -0.00982792116701603,\n",
              "  -0.009795750491321087,\n",
              "  -0.009804143570363522,\n",
              "  -0.00934627652168274,\n",
              "  -0.009092732332646847,\n",
              "  -0.00886512454599142,\n",
              "  -0.008427932858467102,\n",
              "  -0.007912429049611092,\n",
              "  -0.00768932793289423,\n",
              "  -0.007351653650403023,\n",
              "  -0.0068847001530230045,\n",
              "  -0.006720227655023336,\n",
              "  -0.007063006050884724,\n",
              "  -0.00657267589122057,\n",
              "  -0.006225184071809053,\n",
              "  -0.005916708614677191,\n",
              "  -0.0052624233067035675,\n",
              "  -0.005048923660069704,\n",
              "  -0.004271911922842264,\n",
              "  -0.004070640541613102,\n",
              "  -0.004151421599090099,\n",
              "  -0.004241077695041895,\n",
              "  -0.004194455221295357,\n",
              "  -0.004212379455566406,\n",
              "  -0.003046751022338867,\n",
              "  -0.0022616046480834484,\n",
              "  -0.002103881211951375,\n",
              "  -0.0012223254889249802,\n",
              "  -0.0006872586673125625,\n",
              "  -0.0005275275907479227,\n",
              "  -9.010494250105694e-05,\n",
              "  1.5157768757489976e-05,\n",
              "  0.00019657888333313167,\n",
              "  0.0005144886672496796,\n",
              "  0.0011022293474525213,\n",
              "  0.001740635372698307,\n",
              "  0.0023420811630785465,\n",
              "  0.0036820839159190655,\n",
              "  0.00432251812890172,\n",
              "  0.004754251334816217,\n",
              "  0.0049074687995016575,\n",
              "  0.0054283649660646915,\n",
              "  0.005602893885225058,\n",
              "  0.005929131526499987,\n",
              "  0.006386352702975273,\n",
              "  0.007239339407533407,\n",
              "  0.008056385442614555,\n",
              "  0.008709840476512909,\n",
              "  0.009417989291250706,\n",
              "  0.009350653737783432,\n",
              "  0.009525883011519909,\n",
              "  0.009633251465857029,\n",
              "  0.009893924929201603,\n",
              "  0.010221858508884907,\n",
              "  0.010807974264025688,\n",
              "  0.011377177201211452,\n",
              "  0.011739447712898254,\n",
              "  0.011281074956059456,\n",
              "  0.011879186145961285,\n",
              "  0.0120187196880579,\n",
              "  0.01160656288266182,\n",
              "  0.011684827506542206,\n",
              "  0.011140410788357258,\n",
              "  0.011319709941744804,\n",
              "  0.011145664379000664,\n",
              "  0.011227796785533428,\n",
              "  0.011060154065489769,\n",
              "  0.010748011991381645,\n",
              "  0.010344217531383038,\n",
              "  0.009706223383545876,\n",
              "  0.008779864758253098,\n",
              "  0.007935949601233006,\n",
              "  0.007140523288398981,\n",
              "  0.006534379441291094,\n",
              "  0.0063040535897016525,\n",
              "  0.005378137342631817,\n",
              "  0.004660560749471188,\n",
              "  0.004053962416946888,\n",
              "  0.0031967635732144117,\n",
              "  0.0027785394340753555,\n",
              "  0.0026991518680006266,\n",
              "  0.0017494966741651297,\n",
              "  0.0012194851879030466,\n",
              "  0.0006216237088665366,\n",
              "  0.00027362018590793014,\n",
              "  8.852918108459562e-05,\n",
              "  -0.0005142454756423831,\n",
              "  -0.0011309689143672585,\n",
              "  -0.002140477765351534,\n",
              "  -0.0020986422896385193,\n",
              "  -0.002805104712024331,\n",
              "  -0.0031624597031623125,\n",
              "  -0.0034118241164833307,\n",
              "  -0.0037790725473314524,\n",
              "  -0.0035408351104706526,\n",
              "  -0.0036860411055386066,\n",
              "  -0.003625419456511736,\n",
              "  -0.004051845986396074,\n",
              "  -0.003921711351722479,\n",
              "  -0.00456959055736661,\n",
              "  -0.004779321141541004,\n",
              "  -0.004519984591752291,\n",
              "  -0.004595685284584761,\n",
              "  -0.00447713490575552,\n",
              "  -0.004766428843140602,\n",
              "  -0.004397780634462833,\n",
              "  -0.0042638275772333145,\n",
              "  -0.004251342266798019,\n",
              "  -0.0039145625196397305,\n",
              "  -0.004185425583273172,\n",
              "  -0.004173969849944115,\n",
              "  -0.00349950953386724,\n",
              "  -0.003035865258425474,\n",
              "  -0.0031966520473361015,\n",
              "  -0.003295460483059287,\n",
              "  -0.0029881743248552084,\n",
              "  -0.0027420439291745424,\n",
              "  -0.0025165537372231483,\n",
              "  -0.0017211042577400804,\n",
              "  -0.0012584141222760081,\n",
              "  -0.001298241433687508,\n",
              "  -0.000584060326218605,\n",
              "  -0.00026118947425857186,\n",
              "  9.130968828685582e-05,\n",
              "  -9.435174433747306e-05,\n",
              "  0.0008191486704163253,\n",
              "  0.0009180097840726376,\n",
              "  0.0008788870181888342,\n",
              "  0.0015096119605004787,\n",
              "  0.0010892837308347225,\n",
              "  0.0015340864192694426,\n",
              "  0.0017698578303679824,\n",
              "  0.0017371964640915394,\n",
              "  0.001817507785744965,\n",
              "  0.002142193727195263,\n",
              "  0.001896390807814896,\n",
              "  0.0022802245803177357,\n",
              "  0.002355727832764387,\n",
              "  0.002328659174963832,\n",
              "  0.0024688385892659426,\n",
              "  0.001927888602949679,\n",
              "  0.002194410189986229,\n",
              "  0.0021279144566506147,\n",
              "  0.0013461107155308127,\n",
              "  0.0015112461987882853,\n",
              "  0.0013540498912334442,\n",
              "  0.0013452324783429503,\n",
              "  0.0019099345663562417,\n",
              "  0.0016809377120807767,\n",
              "  0.0017981535056605935,\n",
              "  0.0018022910226136446,\n",
              "  0.0018015446839854121,\n",
              "  0.0017989063635468483,\n",
              "  0.001535111339762807,\n",
              "  0.0009216348989866674,\n",
              "  0.0007274432573467493,\n",
              "  0.0006278381333686411,\n",
              "  -0.00012033135135425255,\n",
              "  6.28822817816399e-05,\n",
              "  -0.00017593287338968366,\n",
              "  -0.0008199203875847161,\n",
              "  -0.000943715451285243,\n",
              "  -0.0013264104491099715,\n",
              "  -0.0010849335230886936,\n",
              "  -0.0010872158454731107,\n",
              "  -0.0017181234434247017,\n",
              "  -0.0018213833682239056,\n",
              "  -0.0019800656009465456,\n",
              "  -0.002570193726569414,\n",
              "  -0.0027956590056419373,\n",
              "  -0.0029467856511473656,\n",
              "  -0.0033099018037319183,\n",
              "  -0.0035244422033429146,\n",
              "  -0.004226059187203646,\n",
              "  -0.004610621836036444,\n",
              "  -0.004393904935568571,\n",
              "  -0.004563362803310156,\n",
              "  -0.004451805725693703,\n",
              "  -0.004767685197293758,\n",
              "  -0.005229932721704245,\n",
              "  -0.00508149852976203,\n",
              "  -0.005299984011799097,\n",
              "  -0.005106440279632807,\n",
              "  -0.004091848153620958,\n",
              "  -0.004380149766802788,\n",
              "  -0.004326767288148403,\n",
              "  -0.003775212215259671,\n",
              "  -0.00381880602799356,\n",
              "  -0.003310676896944642,\n",
              "  -0.0035778593737632036,\n",
              "  -0.0030524926260113716,\n",
              "  -0.002567931078374386,\n",
              "  -0.002509049139916897,\n",
              "  -0.0019211380276829004,\n",
              "  -0.0013441229239106178,\n",
              "  -0.0010748215718194842,\n",
              "  -0.0007366158533841372,\n",
              "  -8.73571407282725e-05,\n",
              "  4.623556014848873e-05,\n",
              "  0.0010632970370352268,\n",
              "  0.0018572205444797873,\n",
              "  0.002335132798179984,\n",
              "  0.002754899440333247,\n",
              "  0.0029200920835137367,\n",
              "  0.0034252291079610586,\n",
              "  0.0032090849708765745,\n",
              "  0.0034196744672954082,\n",
              "  0.00378591800108552,\n",
              "  0.0040522729977965355,\n",
              "  0.004248868208378553,\n",
              "  0.004444590304046869,\n",
              "  0.0047237020917236805,\n",
              "  0.004599403124302626,\n",
              "  0.004689417313784361,\n",
              "  0.004545946139842272,\n",
              "  0.004227686673402786,\n",
              "  0.004356396850198507,\n",
              "  0.004214771557599306,\n",
              "  0.004203163553029299,\n",
              "  0.004533716477453709,\n",
              "  0.0034987605176866055,\n",
              "  0.00364231807179749,\n",
              "  0.003873401088640094,\n",
              "  0.0029004879761487246,\n",
              "  0.0026642067823559046,\n",
              "  0.002581459004431963,\n",
              "  0.0023319292813539505,\n",
              "  0.001682117348536849,\n",
              "  0.0012196478201076388,\n",
              "  0.0004277834959793836,\n",
              "  -0.00036263526999391615,\n",
              "  -0.000520011002663523,\n",
              "  -0.0010706635657697916,\n",
              "  -0.0016304705059155822,\n",
              "  -0.0018675312167033553,\n",
              "  -0.0023260097950696945,\n",
              "  -0.0027810586616396904,\n",
              "  -0.0029102929402142763,\n",
              "  -0.0031730784103274345,\n",
              "  -0.0037133756559342146,\n",
              "  -0.004046889487653971,\n",
              "  -0.004686947911977768,\n",
              "  -0.004993677604943514,\n",
              "  -0.005053989589214325,\n",
              "  -0.00520735839381814,\n",
              "  -0.0054469662718474865,\n",
              "  -0.005335611291229725,\n",
              "  -0.005314236506819725,\n",
              "  -0.005607682280242443,\n",
              "  -0.005080101545900106,\n",
              "  -0.005103554110974073,\n",
              "  -0.005058933049440384,\n",
              "  -0.005030174273997545,\n",
              "  -0.004776401910930872,\n",
              "  -0.004319577477872372,\n",
              "  -0.004647921770811081,\n",
              "  -0.004255594685673714,\n",
              "  -0.004117242526262999,\n",
              "  -0.0038448881823569536,\n",
              "  -0.0036245123483240604,\n",
              "  -0.00403611920773983,\n",
              "  -0.0035016878973692656,\n",
              "  -0.003439731430262327,\n",
              "  -0.0031478756573051214,\n",
              "  -0.002797692781314254,\n",
              "  -0.003262478159740567,\n",
              "  -0.0030477046966552734,\n",
              "  -0.0024524577893316746,\n",
              "  -0.0025185567792505026,\n",
              "  -0.0019044368527829647,\n",
              "  -0.0015701401280239224,\n",
              "  -0.0024779385421425104,\n",
              "  -0.002131005981937051,\n",
              "  -0.002399725839495659,\n",
              "  -0.002805591095238924,\n",
              "  -0.0024836028460413218,\n",
              "  -0.0025203463155776262,\n",
              "  -0.002797723049297929,\n",
              "  -0.0028968295082449913,\n",
              "  -0.002801992231979966,\n",
              "  -0.003281309036538005,\n",
              "  -0.0031777294352650642,\n",
              "  -0.0029201116412878036,\n",
              "  -0.003003553254529834,\n",
              "  -0.003710739081725478,\n",
              "  -0.004099009092897177,\n",
              "  -0.00403011916205287,\n",
              "  -0.004242998547852039,\n",
              "  -0.0037963232025504112,\n",
              "  -0.004283158108592033,\n",
              "  -0.004923183936625719,\n",
              "  -0.005026669707149267,\n",
              "  -0.005200793035328388,\n",
              "  -0.00541171757504344,\n",
              "  -0.006239913869649172,\n",
              "  -0.006354216951876879,\n",
              "  -0.006245515309274197,\n",
              "  -0.006480123847723007,\n",
              "  -0.006817566230893135,\n",
              "  -0.006861592177301645,\n",
              "  -0.006905137095600367,\n",
              "  -0.00726771354675293,\n",
              "  -0.007414521183818579,\n",
              "  -0.007475275546312332,\n",
              "  -0.0071683540008962154,\n",
              "  -0.007481730543076992,\n",
              "  -0.006746099796146154,\n",
              "  -0.00591248320415616,\n",
              "  -0.0059421733021736145,\n",
              "  -0.00548978429287672,\n",
              "  -0.005134954582899809,\n",
              "  -0.004408524837344885,\n",
              "  -0.0038782665506005287,\n",
              "  -0.0035383293870836496,\n",
              "  -0.00298829167149961,\n",
              "  -0.0025204841513186693,\n",
              "  -0.002014491008594632,\n",
              "  -0.0012203457299619913,\n",
              "  -0.00050156912766397,\n",
              "  0.0006201409851200879,\n",
              "  0.001932069193571806,\n",
              "  0.0023365456145256758,\n",
              "  0.0026212804950773716,\n",
              "  0.0031521273776888847,\n",
              "  0.0038567474111914635,\n",
              "  0.004960563499480486,\n",
              "  0.00552201084792614,\n",
              "  0.006240497343242168,\n",
              "  0.006903195753693581,\n",
              "  0.007555502001196146,\n",
              "  0.0078350268304348,\n",
              "  0.007950537838041782,\n",
              "  0.008725212886929512,\n",
              "  0.008957765996456146,\n",
              "  0.009813334792852402,\n",
              "  0.010178759694099426,\n",
              "  0.010094277560710907,\n",
              "  0.01074758730828762,\n",
              "  0.011149696074426174,\n",
              "  0.011307084932923317,\n",
              "  0.01141392346471548,\n",
              "  0.011876918375492096,\n",
              "  0.011725875549018383,\n",
              "  0.011127428151667118,\n",
              "  0.011261899024248123,\n",
              "  0.011337784118950367,\n",
              "  0.011053831316530704,\n",
              "  0.011438286863267422,\n",
              "  0.011227828450500965,\n",
              "  0.010592969134449959,\n",
              "  0.010728735476732254,\n",
              "  0.010562942363321781,\n",
              "  0.010044670663774014,\n",
              "  0.009852827526628971,\n",
              "  0.009761325083673,\n",
              "  0.008677279576659203,\n",
              "  0.008524918928742409,\n",
              "  0.008219100534915924,\n",
              "  0.007618474308401346,\n",
              "  0.007568540051579475,\n",
              "  0.007148113567382097,\n",
              "  0.006579496432095766,\n",
              "  0.006426781881600618,\n",
              "  0.006357636768370867,\n",
              "  0.005365074146538973,\n",
              "  0.005240797530859709,\n",
              "  0.005567335989326239,\n",
              "  0.005505701061338186,\n",
              "  0.00495794927701354,\n",
              "  0.004813697654753923,\n",
              "  0.004813110921531916,\n",
              "  0.00475158728659153,\n",
              "  0.004412377253174782,\n",
              "  0.004281663801521063,\n",
              "  0.00456215301528573,\n",
              "  0.0041201189160346985,\n",
              "  0.004458049312233925,\n",
              "  0.004902863409370184,\n",
              "  0.005121859256178141,\n",
              "  0.005354785360395908,\n",
              "  0.00557682104408741,\n",
              "  0.006345599889755249,\n",
              "  0.006555888801813126,\n",
              "  0.0061077759601175785,\n",
              "  0.006536091677844524,\n",
              "  0.00623804796487093,\n",
              "  0.006364561151713133,\n",
              "  0.007544608786702156,\n",
              "  0.007157172542065382,\n",
              "  0.007360142655670643,\n",
              "  0.007389254402369261,\n",
              "  0.007151155266910791,\n",
              "  0.007415798958390951,\n",
              "  0.007274692878127098,\n",
              "  0.007470317650586367,\n",
              "  0.007441617548465729,\n",
              "  0.007364961318671703,\n",
              "  0.007348128128796816,\n",
              "  0.0075156306847929955,\n",
              "  0.006638748571276665,\n",
              "  0.005907336715608835,\n",
              "  0.005551760550588369,\n",
              "  0.004707115236669779,\n",
              "  0.004454575479030609,\n",
              "  0.0035487336572259665,\n",
              "  0.003058608388528228,\n",
              "  0.002676350064575672,\n",
              "  0.0019798227585852146,\n",
              "  0.0016214004717767239,\n",
              "  0.0009427003678865731,\n",
              "  -0.0002611451200209558,\n",
              "  -0.0011965921148657799,\n",
              "  -0.0015163915231823921,\n",
              "  -0.0019212316256016493,\n",
              "  -0.0026933501940220594,\n",
              "  -0.003372705541551113,\n",
              "  -0.004198381211608648,\n",
              "  -0.0051650116220116615,\n",
              "  -0.006081483792513609,\n",
              "  -0.006526367738842964,\n",
              "  -0.007418028544634581,\n",
              "  -0.008325272239744663,\n",
              "  -0.008480873890221119,\n",
              "  -0.009529237635433674,\n",
              "  -0.009983024559915066,\n",
              "  -0.010444010607898235,\n",
              "  -0.010908713564276695,\n",
              "  -0.011468473821878433,\n",
              "  -0.011674374341964722,\n",
              "  -0.011738074943423271,\n",
              "  -0.012369704432785511,\n",
              "  -0.012601390480995178,\n",
              "  -0.013222573325037956,\n",
              "  -0.013793905265629292,\n",
              "  -0.013862679712474346,\n",
              "  -0.013949794694781303,\n",
              "  -0.014177139848470688,\n",
              "  -0.014033117331564426,\n",
              "  -0.014046466909348965,\n",
              "  -0.014059113338589668,\n",
              "  -0.014056350104510784,\n",
              "  -0.014310031197965145,\n",
              "  -0.01401541382074356,\n",
              "  -0.013587775640189648,\n",
              "  -0.013472444377839565,\n",
              "  -0.013555708341300488,\n",
              "  -0.013496055267751217,\n",
              "  -0.012629847042262554,\n",
              "  -0.012457020580768585,\n",
              "  -0.011454198509454727,\n",
              "  -0.010753987357020378,\n",
              "  -0.01080831978470087,\n",
              "  -0.00980512797832489,\n",
              "  -0.00907350517809391,\n",
              "  -0.008290539495646954,\n",
              "  -0.007425027899444103,\n",
              "  -0.006451270543038845,\n",
              "  -0.006063384003937244,\n",
              "  -0.005835080053657293,\n",
              "  -0.004959126468747854,\n",
              "  -0.003942232578992844,\n",
              "  -0.003313888795673847,\n",
              "  -0.002200015354901552,\n",
              "  -0.001377841574139893,\n",
              "  -0.0006736221257597208,\n",
              "  -0.00021021701104473323,\n",
              "  0.0008550320635549724,\n",
              "  0.0019335714168846607,\n",
              "  0.001930886646732688,\n",
              "  0.0028304713778197765,\n",
              "  0.0035626613534986973,\n",
              "  0.004049353301525116,\n",
              "  0.004566439427435398,\n",
              "  0.005194376688450575,\n",
              "  0.0052438341081142426,\n",
              "  0.005642949603497982,\n",
              "  0.005939148832112551,\n",
              "  0.006211109459400177,\n",
              "  0.007301197852939367,\n",
              "  0.007774849887937307,\n",
              "  0.007900300435721874,\n",
              "  0.008129452355206013,\n",
              "  0.00827029999345541,\n",
              "  0.008235474117100239,\n",
              "  0.008601408451795578,\n",
              "  0.008594490587711334,\n",
              "  0.008181951940059662,\n",
              "  0.008327309973537922,\n",
              "  0.008188698440790176,\n",
              "  0.007771321572363377,\n",
              "  0.007941572926938534,\n",
              "  0.007310228887945414,\n",
              "  0.006736430339515209,\n",
              "  0.007094313390552998,\n",
              "  0.006519464310258627,\n",
              "  0.005813412833958864,\n",
              "  0.00579223083332181,\n",
              "  0.004820613190531731,\n",
              "  0.00395591463893652,\n",
              "  0.0038680247962474823,\n",
              "  0.002739130286499858,\n",
              "  0.0024529292713850737,\n",
              "  0.002662362763658166,\n",
              "  0.0017868424765765667,\n",
              "  0.001637210720218718,\n",
              "  0.0012754462659358978,\n",
              "  0.0008064830326475203,\n",
              "  0.0004438260802999139,\n",
              "  -0.00024743311223573983,\n",
              "  -0.0002042481501121074,\n",
              "  -0.0005122998263686895,\n",
              "  -0.00028166588163003325,\n",
              "  -0.00045273444266058505,\n",
              "  -0.0013471728889271617,\n",
              "  -0.0013272970682010055,\n",
              "  -0.0012639573542401195,\n",
              "  -0.0012720375088974833,\n",
              "  -0.0008614059770479798,\n",
              "  -0.0009160845656879246,\n",
              "  -0.0010742675513029099,\n",
              "  -0.0009064986370503902,\n",
              "  -0.0009836883982643485,\n",
              "  -0.0005150182405486703,\n",
              "  -0.0002472109626978636,\n",
              "  7.259466656250879e-05,\n",
              "  3.1329531338997185e-05,\n",
              "  -0.0005499603576026857,\n",
              "  -0.0005589632783085108,\n",
              "  -0.0005038112867623568,\n",
              "  -0.00018194371659774333,\n",
              "  0.00021147770166862756,\n",
              "  0.0004600863321684301,\n",
              "  0.0007181753171607852,\n",
              "  0.0007748589850962162,\n",
              "  0.001111773424781859,\n",
              "  0.0013349434593692422,\n",
              "  0.0012478363933041692,\n",
              "  0.0008675210410729051,\n",
              "  0.0008730193949304521,\n",
              "  0.0009440768044441938,\n",
              "  0.0007853384595364332,\n",
              "  0.000906013825442642,\n",
              "  0.0011987617472186685,\n",
              "  0.0012281563831493258,\n",
              "  0.0008957302779890597,\n",
              "  0.0015918993158265948,\n",
              "  0.0014576398534700274,\n",
              "  0.0012850710190832615,\n",
              "  0.0013980662915855646,\n",
              "  0.0010938686318695545,\n",
              "  0.0013809737283736467,\n",
              "  0.0012430930510163307,\n",
              "  0.000753863831050694,\n",
              "  0.0003078380541410297,\n",
              "  0.0004966262495145202,\n",
              "  0.0002147411578334868,\n",
              "  0.0002545225142966956,\n",
              "  0.00016279652481898665,\n",
              "  0.00017696985742077231,\n",
              "  0.000497439643368125,\n",
              "  9.438318375032395e-05,\n",
              "  0.0005275800358504057,\n",
              "  0.0006162706995382905,\n",
              "  0.000848742260131985,\n",
              "  0.0007458551554009318,\n",
              "  0.0008395257755182683,\n",
              "  0.001203667838126421,\n",
              "  0.0007703957962803543,\n",
              "  0.000611038994975388,\n",
              "  0.0007511251606047153,\n",
              "  0.0014634864637628198,\n",
              "  0.001957912929356098,\n",
              "  0.0020593469962477684,\n",
              "  0.0020841227378696203,\n",
              "  0.00263518700376153,\n",
              "  0.0025628013536334038,\n",
              "  0.002763823140412569,\n",
              "  0.0026492318138480186,\n",
              "  0.0023024717811495066,\n",
              "  0.002640525111928582,\n",
              "  0.002681254642084241,\n",
              "  0.0033871526829898357,\n",
              "  0.003606504527851939,\n",
              "  0.003782054642215371,\n",
              "  0.0038414497394114733,\n",
              "  0.004138235468417406,\n",
              "  0.003950292244553566,\n",
              "  0.004599640611559153,\n",
              "  0.004696970339864492,\n",
              "  0.004447394050657749,\n",
              "  0.004894437734037638,\n",
              "  0.0041648019105196,\n",
              "  0.0047057196497917175,\n",
              "  0.004861766472458839,\n",
              "  0.005105420481413603,\n",
              "  0.005049407482147217,\n",
              "  0.005343194119632244,\n",
              "  0.005701998248696327,\n",
              "  0.005339526105672121,\n",
              "  0.005563271697610617,\n",
              "  0.0055981772020459175,\n",
              "  0.005590648390352726,\n",
              "  0.005416762549430132,\n",
              "  0.005560502875596285,\n",
              "  0.005437549203634262,\n",
              "  0.005716969724744558,\n",
              "  0.005727874580770731,\n",
              "  0.005371796432882547,\n",
              "  0.0054688542149960995,\n",
              "  0.005527326371520758,\n",
              "  0.005370106548070908,\n",
              "  0.005595420487225056,\n",
              "  0.005236058961600065,\n",
              "  0.004378578159958124,\n",
              "  0.004365361295640469,\n",
              "  0.0046359761618077755,\n",
              "  0.00450240820646286,\n",
              "  0.004223121330142021,\n",
              "  0.004060283303260803,\n",
              "  0.003738631261512637,\n",
              "  0.0031824528705328703,\n",
              "  0.0026100475806742907,\n",
              "  0.0027553406544029713,\n",
              "  0.0021318586077541113,\n",
              "  0.0022401169408112764,\n",
              "  0.002469680504873395,\n",
              "  0.0023463626857846975,\n",
              "  0.002161637647077441,\n",
              "  0.0016749491915106773,\n",
              "  0.001540097058750689,\n",
              "  0.0007828444358892739,\n",
              "  7.026231469353661e-05,\n",
              "  -0.0005444537382572889,\n",
              "  -0.0007793119293637574,\n",
              "  -0.0006546354270540178,\n",
              "  -0.0005136726540513337,\n",
              "  -0.0013239079853519797,\n",
              "  -0.0018586765509098768,\n",
              "  -0.0020318038295954466,\n",
              "  -0.003045238321647048,\n",
              "  -0.003104608738794923,\n",
              "  -0.0035994017962366343,\n",
              "  -0.00382706755772233,\n",
              "  -0.0036391003523021936,\n",
              "  -0.00395627599209547,\n",
              "  -0.004331896547228098,\n",
              "  -0.005216081626713276,\n",
              "  -0.004353840369731188,\n",
              "  -0.00534833176061511,\n",
              "  -0.006384090054780245,\n",
              "  -0.005804294720292091,\n",
              "  -0.006222708150744438,\n",
              "  -0.007014740724116564,\n",
              "  -0.006834632251411676,\n",
              "  -0.006304892245680094,\n",
              "  -0.007971799932420254,\n",
              "  -0.007879930548369884,\n",
              "  -0.007109258323907852,\n",
              "  -0.00786216463893652,\n",
              "  -0.008439118042588234,\n",
              "  -0.007530093193054199,\n",
              "  -0.007074255496263504,\n",
              "  -0.0077960556373000145,\n",
              "  -0.007921421900391579,\n",
              "  -0.007797361351549625,\n",
              "  -0.007650609593838453,\n",
              "  -0.007526359520852566,\n",
              "  -0.0072651393711566925,\n",
              "  -0.007180335000157356,\n",
              "  -0.006503686308860779,\n",
              "  -0.006596975028514862,\n",
              "  -0.00607862276956439,\n",
              "  -0.0059986235573887825,\n",
              "  -0.006050067953765392,\n",
              "  -0.004699170123785734,\n",
              "  -0.0047867088578641415,\n",
              "  -0.004361829720437527,\n",
              "  ...],\n",
              " 'label': 1}"
            ]
          },
          "metadata": {},
          "execution_count": 92
        }
      ],
      "source": [
        "encoded_dataset[\"train\"][1]"
      ]
    },
    {
      "cell_type": "code",
      "execution_count": null,
      "metadata": {
        "colab": {
          "base_uri": "https://localhost:8080/"
        },
        "id": "45WR-aA64fm8",
        "outputId": "6be76869-c3a2-48b3-d59b-56564130127e"
      },
      "outputs": [
        {
          "output_type": "stream",
          "name": "stderr",
          "text": [
            "***** Running training *****\n",
            "  Num examples = 51\n",
            "  Num Epochs = 5\n",
            "  Instantaneous batch size per device = 32\n",
            "  Total train batch size (w. parallel, distributed & accumulation) = 128\n",
            "  Gradient Accumulation steps = 4\n",
            "  Total optimization steps = 5\n"
          ]
        }
      ],
      "source": [
        "trainer.train()"
      ]
    },
    {
      "cell_type": "code",
      "execution_count": null,
      "metadata": {
        "id": "ncR9lD2P4lP9"
      },
      "outputs": [],
      "source": [
        "trainer.push_to_hub()"
      ]
    },
    {
      "cell_type": "code",
      "execution_count": null,
      "metadata": {
        "id": "E0SP5WH5OVgx"
      },
      "outputs": [],
      "source": [
        "trainer.evaluate()"
      ]
    },
    {
      "cell_type": "code",
      "execution_count": null,
      "metadata": {
        "id": "MEoMHe-JFTgM"
      },
      "outputs": [],
      "source": [
        ""
      ]
    }
  ],
  "metadata": {
    "colab": {
      "collapsed_sections": [],
      "machine_shape": "hm",
      "name": "AudioClassification.ipynb",
      "provenance": [],
      "authorship_tag": "ABX9TyM69EJEw30OB0ZQDAVCXR5H",
      "include_colab_link": true
    },
    "kernelspec": {
      "display_name": "Python 3",
      "name": "python3"
    },
    "language_info": {
      "name": "python"
    }
  },
  "nbformat": 4,
  "nbformat_minor": 0
}