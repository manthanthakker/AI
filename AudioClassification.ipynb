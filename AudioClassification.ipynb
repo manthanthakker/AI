{
  "nbformat": 4,
  "nbformat_minor": 0,
  "metadata": {
    "colab": {
      "name": "AudioClassification.ipynb",
      "provenance": [],
      "collapsed_sections": [],
      "authorship_tag": "ABX9TyPx1S4rxspGWq7oktUIixLi",
      "include_colab_link": true
    },
    "kernelspec": {
      "name": "python3",
      "display_name": "Python 3"
    },
    "language_info": {
      "name": "python"
    },
    "widgets": {
      "application/vnd.jupyter.widget-state+json": {
        "799c437739814a25baff049e7780c4c4": {
          "model_module": "@jupyter-widgets/controls",
          "model_name": "VBoxModel",
          "model_module_version": "1.5.0",
          "state": {
            "_dom_classes": [],
            "_model_module": "@jupyter-widgets/controls",
            "_model_module_version": "1.5.0",
            "_model_name": "VBoxModel",
            "_view_count": null,
            "_view_module": "@jupyter-widgets/controls",
            "_view_module_version": "1.5.0",
            "_view_name": "VBoxView",
            "box_style": "",
            "children": [
              "IPY_MODEL_ec473197e11f413dbf0d813a180c2228",
              "IPY_MODEL_efe4f436b742406e85b77e0d00981b02",
              "IPY_MODEL_fd5485064f524ba79778de357884ad98"
            ],
            "layout": "IPY_MODEL_6200b21580e6432480ae86073c602b1c"
          }
        },
        "ec473197e11f413dbf0d813a180c2228": {
          "model_module": "@jupyter-widgets/controls",
          "model_name": "HTMLModel",
          "model_module_version": "1.5.0",
          "state": {
            "_dom_classes": [],
            "_model_module": "@jupyter-widgets/controls",
            "_model_module_version": "1.5.0",
            "_model_name": "HTMLModel",
            "_view_count": null,
            "_view_module": "@jupyter-widgets/controls",
            "_view_module_version": "1.5.0",
            "_view_name": "HTMLView",
            "description": "",
            "description_tooltip": null,
            "layout": "IPY_MODEL_42c8576f6d80407ca64ac52201e48566",
            "placeholder": "​",
            "style": "IPY_MODEL_78eb388d68914eb5a1394b86ef88f333",
            "value": "<center>\n<img src=https://huggingface.co/front/assets/huggingface_logo-noborder.svg alt='Hugging Face'>\n<br>\n<b>The AI community building the future</b>\n<br>\nImmediately click login after typing your password or it might be stored in plain text in this notebook file.\n</center>"
          }
        },
        "efe4f436b742406e85b77e0d00981b02": {
          "model_module": "@jupyter-widgets/controls",
          "model_name": "HBoxModel",
          "model_module_version": "1.5.0",
          "state": {
            "_dom_classes": [],
            "_model_module": "@jupyter-widgets/controls",
            "_model_module_version": "1.5.0",
            "_model_name": "HBoxModel",
            "_view_count": null,
            "_view_module": "@jupyter-widgets/controls",
            "_view_module_version": "1.5.0",
            "_view_name": "HBoxView",
            "box_style": "",
            "children": [
              "IPY_MODEL_a1fc91e776424625bd25109b072086f7",
              "IPY_MODEL_ff66a3fa17354cffbc425abd85fdc31a"
            ],
            "layout": "IPY_MODEL_2c79622554b843c18cfa64d37ea3e5d7"
          }
        },
        "fd5485064f524ba79778de357884ad98": {
          "model_module": "@jupyter-widgets/controls",
          "model_name": "ButtonModel",
          "model_module_version": "1.5.0",
          "state": {
            "_dom_classes": [],
            "_model_module": "@jupyter-widgets/controls",
            "_model_module_version": "1.5.0",
            "_model_name": "ButtonModel",
            "_view_count": null,
            "_view_module": "@jupyter-widgets/controls",
            "_view_module_version": "1.5.0",
            "_view_name": "ButtonView",
            "button_style": "",
            "description": "Login",
            "disabled": false,
            "icon": "",
            "layout": "IPY_MODEL_57b155a669e2450cb58b5d79d892a1fa",
            "style": "IPY_MODEL_6ddbd5046f1044868d55d159d5a1a610",
            "tooltip": ""
          }
        },
        "6200b21580e6432480ae86073c602b1c": {
          "model_module": "@jupyter-widgets/base",
          "model_name": "LayoutModel",
          "model_module_version": "1.2.0",
          "state": {
            "_model_module": "@jupyter-widgets/base",
            "_model_module_version": "1.2.0",
            "_model_name": "LayoutModel",
            "_view_count": null,
            "_view_module": "@jupyter-widgets/base",
            "_view_module_version": "1.2.0",
            "_view_name": "LayoutView",
            "align_content": null,
            "align_items": "center",
            "align_self": null,
            "border": null,
            "bottom": null,
            "display": "flex",
            "flex": null,
            "flex_flow": "column",
            "grid_area": null,
            "grid_auto_columns": null,
            "grid_auto_flow": null,
            "grid_auto_rows": null,
            "grid_column": null,
            "grid_gap": null,
            "grid_row": null,
            "grid_template_areas": null,
            "grid_template_columns": null,
            "grid_template_rows": null,
            "height": null,
            "justify_content": null,
            "justify_items": null,
            "left": null,
            "margin": null,
            "max_height": null,
            "max_width": null,
            "min_height": null,
            "min_width": null,
            "object_fit": null,
            "object_position": null,
            "order": null,
            "overflow": null,
            "overflow_x": null,
            "overflow_y": null,
            "padding": null,
            "right": null,
            "top": null,
            "visibility": null,
            "width": "50%"
          }
        },
        "42c8576f6d80407ca64ac52201e48566": {
          "model_module": "@jupyter-widgets/base",
          "model_name": "LayoutModel",
          "model_module_version": "1.2.0",
          "state": {
            "_model_module": "@jupyter-widgets/base",
            "_model_module_version": "1.2.0",
            "_model_name": "LayoutModel",
            "_view_count": null,
            "_view_module": "@jupyter-widgets/base",
            "_view_module_version": "1.2.0",
            "_view_name": "LayoutView",
            "align_content": null,
            "align_items": null,
            "align_self": null,
            "border": null,
            "bottom": null,
            "display": null,
            "flex": null,
            "flex_flow": null,
            "grid_area": null,
            "grid_auto_columns": null,
            "grid_auto_flow": null,
            "grid_auto_rows": null,
            "grid_column": null,
            "grid_gap": null,
            "grid_row": null,
            "grid_template_areas": null,
            "grid_template_columns": null,
            "grid_template_rows": null,
            "height": null,
            "justify_content": null,
            "justify_items": null,
            "left": null,
            "margin": null,
            "max_height": null,
            "max_width": null,
            "min_height": null,
            "min_width": null,
            "object_fit": null,
            "object_position": null,
            "order": null,
            "overflow": null,
            "overflow_x": null,
            "overflow_y": null,
            "padding": null,
            "right": null,
            "top": null,
            "visibility": null,
            "width": null
          }
        },
        "78eb388d68914eb5a1394b86ef88f333": {
          "model_module": "@jupyter-widgets/controls",
          "model_name": "DescriptionStyleModel",
          "model_module_version": "1.5.0",
          "state": {
            "_model_module": "@jupyter-widgets/controls",
            "_model_module_version": "1.5.0",
            "_model_name": "DescriptionStyleModel",
            "_view_count": null,
            "_view_module": "@jupyter-widgets/base",
            "_view_module_version": "1.2.0",
            "_view_name": "StyleView",
            "description_width": ""
          }
        },
        "a1fc91e776424625bd25109b072086f7": {
          "model_module": "@jupyter-widgets/controls",
          "model_name": "TextModel",
          "model_module_version": "1.5.0",
          "state": {
            "_dom_classes": [],
            "_model_module": "@jupyter-widgets/controls",
            "_model_module_version": "1.5.0",
            "_model_name": "TextModel",
            "_view_count": null,
            "_view_module": "@jupyter-widgets/controls",
            "_view_module_version": "1.5.0",
            "_view_name": "TextView",
            "continuous_update": true,
            "description": "Username:",
            "description_tooltip": null,
            "disabled": false,
            "layout": "IPY_MODEL_48b792a114b34d40a996eba138ce6afb",
            "placeholder": "​",
            "style": "IPY_MODEL_126c9379320040029c0f5e8bb5aa9716",
            "value": "manthanthakker40@gmail.com"
          }
        },
        "ff66a3fa17354cffbc425abd85fdc31a": {
          "model_module": "@jupyter-widgets/controls",
          "model_name": "PasswordModel",
          "model_module_version": "1.5.0",
          "state": {
            "_dom_classes": [],
            "_model_module": "@jupyter-widgets/controls",
            "_model_module_version": "1.5.0",
            "_model_name": "PasswordModel",
            "_view_count": null,
            "_view_module": "@jupyter-widgets/controls",
            "_view_module_version": "1.5.0",
            "_view_name": "PasswordView",
            "continuous_update": true,
            "description": "Password:",
            "description_tooltip": null,
            "disabled": false,
            "layout": "IPY_MODEL_f50bbcf811c34457a67c1f7692fba044",
            "placeholder": "​",
            "style": "IPY_MODEL_98ded25eee6043349910437dadd01d7e",
            "value": ""
          }
        },
        "2c79622554b843c18cfa64d37ea3e5d7": {
          "model_module": "@jupyter-widgets/base",
          "model_name": "LayoutModel",
          "model_module_version": "1.2.0",
          "state": {
            "_model_module": "@jupyter-widgets/base",
            "_model_module_version": "1.2.0",
            "_model_name": "LayoutModel",
            "_view_count": null,
            "_view_module": "@jupyter-widgets/base",
            "_view_module_version": "1.2.0",
            "_view_name": "LayoutView",
            "align_content": null,
            "align_items": null,
            "align_self": null,
            "border": null,
            "bottom": null,
            "display": null,
            "flex": null,
            "flex_flow": null,
            "grid_area": null,
            "grid_auto_columns": null,
            "grid_auto_flow": null,
            "grid_auto_rows": null,
            "grid_column": null,
            "grid_gap": null,
            "grid_row": null,
            "grid_template_areas": null,
            "grid_template_columns": null,
            "grid_template_rows": null,
            "height": null,
            "justify_content": null,
            "justify_items": null,
            "left": null,
            "margin": null,
            "max_height": null,
            "max_width": null,
            "min_height": null,
            "min_width": null,
            "object_fit": null,
            "object_position": null,
            "order": null,
            "overflow": null,
            "overflow_x": null,
            "overflow_y": null,
            "padding": null,
            "right": null,
            "top": null,
            "visibility": null,
            "width": null
          }
        },
        "57b155a669e2450cb58b5d79d892a1fa": {
          "model_module": "@jupyter-widgets/base",
          "model_name": "LayoutModel",
          "model_module_version": "1.2.0",
          "state": {
            "_model_module": "@jupyter-widgets/base",
            "_model_module_version": "1.2.0",
            "_model_name": "LayoutModel",
            "_view_count": null,
            "_view_module": "@jupyter-widgets/base",
            "_view_module_version": "1.2.0",
            "_view_name": "LayoutView",
            "align_content": null,
            "align_items": null,
            "align_self": null,
            "border": null,
            "bottom": null,
            "display": null,
            "flex": null,
            "flex_flow": null,
            "grid_area": null,
            "grid_auto_columns": null,
            "grid_auto_flow": null,
            "grid_auto_rows": null,
            "grid_column": null,
            "grid_gap": null,
            "grid_row": null,
            "grid_template_areas": null,
            "grid_template_columns": null,
            "grid_template_rows": null,
            "height": null,
            "justify_content": null,
            "justify_items": null,
            "left": null,
            "margin": null,
            "max_height": null,
            "max_width": null,
            "min_height": null,
            "min_width": null,
            "object_fit": null,
            "object_position": null,
            "order": null,
            "overflow": null,
            "overflow_x": null,
            "overflow_y": null,
            "padding": null,
            "right": null,
            "top": null,
            "visibility": null,
            "width": null
          }
        },
        "6ddbd5046f1044868d55d159d5a1a610": {
          "model_module": "@jupyter-widgets/controls",
          "model_name": "ButtonStyleModel",
          "model_module_version": "1.5.0",
          "state": {
            "_model_module": "@jupyter-widgets/controls",
            "_model_module_version": "1.5.0",
            "_model_name": "ButtonStyleModel",
            "_view_count": null,
            "_view_module": "@jupyter-widgets/base",
            "_view_module_version": "1.2.0",
            "_view_name": "StyleView",
            "button_color": null,
            "font_weight": ""
          }
        },
        "48b792a114b34d40a996eba138ce6afb": {
          "model_module": "@jupyter-widgets/base",
          "model_name": "LayoutModel",
          "model_module_version": "1.2.0",
          "state": {
            "_model_module": "@jupyter-widgets/base",
            "_model_module_version": "1.2.0",
            "_model_name": "LayoutModel",
            "_view_count": null,
            "_view_module": "@jupyter-widgets/base",
            "_view_module_version": "1.2.0",
            "_view_name": "LayoutView",
            "align_content": null,
            "align_items": null,
            "align_self": null,
            "border": null,
            "bottom": null,
            "display": null,
            "flex": null,
            "flex_flow": null,
            "grid_area": null,
            "grid_auto_columns": null,
            "grid_auto_flow": null,
            "grid_auto_rows": null,
            "grid_column": null,
            "grid_gap": null,
            "grid_row": null,
            "grid_template_areas": null,
            "grid_template_columns": null,
            "grid_template_rows": null,
            "height": null,
            "justify_content": null,
            "justify_items": null,
            "left": null,
            "margin": null,
            "max_height": null,
            "max_width": null,
            "min_height": null,
            "min_width": null,
            "object_fit": null,
            "object_position": null,
            "order": null,
            "overflow": null,
            "overflow_x": null,
            "overflow_y": null,
            "padding": null,
            "right": null,
            "top": null,
            "visibility": null,
            "width": null
          }
        },
        "126c9379320040029c0f5e8bb5aa9716": {
          "model_module": "@jupyter-widgets/controls",
          "model_name": "DescriptionStyleModel",
          "model_module_version": "1.5.0",
          "state": {
            "_model_module": "@jupyter-widgets/controls",
            "_model_module_version": "1.5.0",
            "_model_name": "DescriptionStyleModel",
            "_view_count": null,
            "_view_module": "@jupyter-widgets/base",
            "_view_module_version": "1.2.0",
            "_view_name": "StyleView",
            "description_width": ""
          }
        },
        "f50bbcf811c34457a67c1f7692fba044": {
          "model_module": "@jupyter-widgets/base",
          "model_name": "LayoutModel",
          "model_module_version": "1.2.0",
          "state": {
            "_model_module": "@jupyter-widgets/base",
            "_model_module_version": "1.2.0",
            "_model_name": "LayoutModel",
            "_view_count": null,
            "_view_module": "@jupyter-widgets/base",
            "_view_module_version": "1.2.0",
            "_view_name": "LayoutView",
            "align_content": null,
            "align_items": null,
            "align_self": null,
            "border": null,
            "bottom": null,
            "display": null,
            "flex": null,
            "flex_flow": null,
            "grid_area": null,
            "grid_auto_columns": null,
            "grid_auto_flow": null,
            "grid_auto_rows": null,
            "grid_column": null,
            "grid_gap": null,
            "grid_row": null,
            "grid_template_areas": null,
            "grid_template_columns": null,
            "grid_template_rows": null,
            "height": null,
            "justify_content": null,
            "justify_items": null,
            "left": null,
            "margin": null,
            "max_height": null,
            "max_width": null,
            "min_height": null,
            "min_width": null,
            "object_fit": null,
            "object_position": null,
            "order": null,
            "overflow": null,
            "overflow_x": null,
            "overflow_y": null,
            "padding": null,
            "right": null,
            "top": null,
            "visibility": null,
            "width": null
          }
        },
        "98ded25eee6043349910437dadd01d7e": {
          "model_module": "@jupyter-widgets/controls",
          "model_name": "DescriptionStyleModel",
          "model_module_version": "1.5.0",
          "state": {
            "_model_module": "@jupyter-widgets/controls",
            "_model_module_version": "1.5.0",
            "_model_name": "DescriptionStyleModel",
            "_view_count": null,
            "_view_module": "@jupyter-widgets/base",
            "_view_module_version": "1.2.0",
            "_view_name": "StyleView",
            "description_width": ""
          }
        },
        "da8e76f099124fed9f94f8f3e11adb2d": {
          "model_module": "@jupyter-widgets/controls",
          "model_name": "HBoxModel",
          "model_module_version": "1.5.0",
          "state": {
            "_dom_classes": [],
            "_model_module": "@jupyter-widgets/controls",
            "_model_module_version": "1.5.0",
            "_model_name": "HBoxModel",
            "_view_count": null,
            "_view_module": "@jupyter-widgets/controls",
            "_view_module_version": "1.5.0",
            "_view_name": "HBoxView",
            "box_style": "",
            "children": [
              "IPY_MODEL_3accfcaaa2984ca49cca2a4b5cbadbf1",
              "IPY_MODEL_eca961f078a54f1b8ffbbe57651cf718",
              "IPY_MODEL_e93d5dbbfa4b48ee82559c2fc29ead92"
            ],
            "layout": "IPY_MODEL_33051d874c2c471f936b80102088f621"
          }
        },
        "3accfcaaa2984ca49cca2a4b5cbadbf1": {
          "model_module": "@jupyter-widgets/controls",
          "model_name": "HTMLModel",
          "model_module_version": "1.5.0",
          "state": {
            "_dom_classes": [],
            "_model_module": "@jupyter-widgets/controls",
            "_model_module_version": "1.5.0",
            "_model_name": "HTMLModel",
            "_view_count": null,
            "_view_module": "@jupyter-widgets/controls",
            "_view_module_version": "1.5.0",
            "_view_name": "HTMLView",
            "description": "",
            "description_tooltip": null,
            "layout": "IPY_MODEL_98a5d71d8cb04c168c8f4ae600ee1804",
            "placeholder": "​",
            "style": "IPY_MODEL_efa9ea7109c644d4bf35b305b228c8f2",
            "value": "100%"
          }
        },
        "eca961f078a54f1b8ffbbe57651cf718": {
          "model_module": "@jupyter-widgets/controls",
          "model_name": "FloatProgressModel",
          "model_module_version": "1.5.0",
          "state": {
            "_dom_classes": [],
            "_model_module": "@jupyter-widgets/controls",
            "_model_module_version": "1.5.0",
            "_model_name": "FloatProgressModel",
            "_view_count": null,
            "_view_module": "@jupyter-widgets/controls",
            "_view_module_version": "1.5.0",
            "_view_name": "ProgressView",
            "bar_style": "success",
            "description": "",
            "description_tooltip": null,
            "layout": "IPY_MODEL_8a614f7894e748e5b1f1d07a7a7204f1",
            "max": 3,
            "min": 0,
            "orientation": "horizontal",
            "style": "IPY_MODEL_b289191a27dc4715afd5d0719e24f2c1",
            "value": 3
          }
        },
        "e93d5dbbfa4b48ee82559c2fc29ead92": {
          "model_module": "@jupyter-widgets/controls",
          "model_name": "HTMLModel",
          "model_module_version": "1.5.0",
          "state": {
            "_dom_classes": [],
            "_model_module": "@jupyter-widgets/controls",
            "_model_module_version": "1.5.0",
            "_model_name": "HTMLModel",
            "_view_count": null,
            "_view_module": "@jupyter-widgets/controls",
            "_view_module_version": "1.5.0",
            "_view_name": "HTMLView",
            "description": "",
            "description_tooltip": null,
            "layout": "IPY_MODEL_c6bf26f424374f789af10203d53ec309",
            "placeholder": "​",
            "style": "IPY_MODEL_7025eef3719649c88616df3b59a76c3e",
            "value": " 3/3 [00:00&lt;00:00, 18.50it/s]"
          }
        },
        "33051d874c2c471f936b80102088f621": {
          "model_module": "@jupyter-widgets/base",
          "model_name": "LayoutModel",
          "model_module_version": "1.2.0",
          "state": {
            "_model_module": "@jupyter-widgets/base",
            "_model_module_version": "1.2.0",
            "_model_name": "LayoutModel",
            "_view_count": null,
            "_view_module": "@jupyter-widgets/base",
            "_view_module_version": "1.2.0",
            "_view_name": "LayoutView",
            "align_content": null,
            "align_items": null,
            "align_self": null,
            "border": null,
            "bottom": null,
            "display": null,
            "flex": null,
            "flex_flow": null,
            "grid_area": null,
            "grid_auto_columns": null,
            "grid_auto_flow": null,
            "grid_auto_rows": null,
            "grid_column": null,
            "grid_gap": null,
            "grid_row": null,
            "grid_template_areas": null,
            "grid_template_columns": null,
            "grid_template_rows": null,
            "height": null,
            "justify_content": null,
            "justify_items": null,
            "left": null,
            "margin": null,
            "max_height": null,
            "max_width": null,
            "min_height": null,
            "min_width": null,
            "object_fit": null,
            "object_position": null,
            "order": null,
            "overflow": null,
            "overflow_x": null,
            "overflow_y": null,
            "padding": null,
            "right": null,
            "top": null,
            "visibility": null,
            "width": null
          }
        },
        "98a5d71d8cb04c168c8f4ae600ee1804": {
          "model_module": "@jupyter-widgets/base",
          "model_name": "LayoutModel",
          "model_module_version": "1.2.0",
          "state": {
            "_model_module": "@jupyter-widgets/base",
            "_model_module_version": "1.2.0",
            "_model_name": "LayoutModel",
            "_view_count": null,
            "_view_module": "@jupyter-widgets/base",
            "_view_module_version": "1.2.0",
            "_view_name": "LayoutView",
            "align_content": null,
            "align_items": null,
            "align_self": null,
            "border": null,
            "bottom": null,
            "display": null,
            "flex": null,
            "flex_flow": null,
            "grid_area": null,
            "grid_auto_columns": null,
            "grid_auto_flow": null,
            "grid_auto_rows": null,
            "grid_column": null,
            "grid_gap": null,
            "grid_row": null,
            "grid_template_areas": null,
            "grid_template_columns": null,
            "grid_template_rows": null,
            "height": null,
            "justify_content": null,
            "justify_items": null,
            "left": null,
            "margin": null,
            "max_height": null,
            "max_width": null,
            "min_height": null,
            "min_width": null,
            "object_fit": null,
            "object_position": null,
            "order": null,
            "overflow": null,
            "overflow_x": null,
            "overflow_y": null,
            "padding": null,
            "right": null,
            "top": null,
            "visibility": null,
            "width": null
          }
        },
        "efa9ea7109c644d4bf35b305b228c8f2": {
          "model_module": "@jupyter-widgets/controls",
          "model_name": "DescriptionStyleModel",
          "model_module_version": "1.5.0",
          "state": {
            "_model_module": "@jupyter-widgets/controls",
            "_model_module_version": "1.5.0",
            "_model_name": "DescriptionStyleModel",
            "_view_count": null,
            "_view_module": "@jupyter-widgets/base",
            "_view_module_version": "1.2.0",
            "_view_name": "StyleView",
            "description_width": ""
          }
        },
        "8a614f7894e748e5b1f1d07a7a7204f1": {
          "model_module": "@jupyter-widgets/base",
          "model_name": "LayoutModel",
          "model_module_version": "1.2.0",
          "state": {
            "_model_module": "@jupyter-widgets/base",
            "_model_module_version": "1.2.0",
            "_model_name": "LayoutModel",
            "_view_count": null,
            "_view_module": "@jupyter-widgets/base",
            "_view_module_version": "1.2.0",
            "_view_name": "LayoutView",
            "align_content": null,
            "align_items": null,
            "align_self": null,
            "border": null,
            "bottom": null,
            "display": null,
            "flex": null,
            "flex_flow": null,
            "grid_area": null,
            "grid_auto_columns": null,
            "grid_auto_flow": null,
            "grid_auto_rows": null,
            "grid_column": null,
            "grid_gap": null,
            "grid_row": null,
            "grid_template_areas": null,
            "grid_template_columns": null,
            "grid_template_rows": null,
            "height": null,
            "justify_content": null,
            "justify_items": null,
            "left": null,
            "margin": null,
            "max_height": null,
            "max_width": null,
            "min_height": null,
            "min_width": null,
            "object_fit": null,
            "object_position": null,
            "order": null,
            "overflow": null,
            "overflow_x": null,
            "overflow_y": null,
            "padding": null,
            "right": null,
            "top": null,
            "visibility": null,
            "width": null
          }
        },
        "b289191a27dc4715afd5d0719e24f2c1": {
          "model_module": "@jupyter-widgets/controls",
          "model_name": "ProgressStyleModel",
          "model_module_version": "1.5.0",
          "state": {
            "_model_module": "@jupyter-widgets/controls",
            "_model_module_version": "1.5.0",
            "_model_name": "ProgressStyleModel",
            "_view_count": null,
            "_view_module": "@jupyter-widgets/base",
            "_view_module_version": "1.2.0",
            "_view_name": "StyleView",
            "bar_color": null,
            "description_width": ""
          }
        },
        "c6bf26f424374f789af10203d53ec309": {
          "model_module": "@jupyter-widgets/base",
          "model_name": "LayoutModel",
          "model_module_version": "1.2.0",
          "state": {
            "_model_module": "@jupyter-widgets/base",
            "_model_module_version": "1.2.0",
            "_model_name": "LayoutModel",
            "_view_count": null,
            "_view_module": "@jupyter-widgets/base",
            "_view_module_version": "1.2.0",
            "_view_name": "LayoutView",
            "align_content": null,
            "align_items": null,
            "align_self": null,
            "border": null,
            "bottom": null,
            "display": null,
            "flex": null,
            "flex_flow": null,
            "grid_area": null,
            "grid_auto_columns": null,
            "grid_auto_flow": null,
            "grid_auto_rows": null,
            "grid_column": null,
            "grid_gap": null,
            "grid_row": null,
            "grid_template_areas": null,
            "grid_template_columns": null,
            "grid_template_rows": null,
            "height": null,
            "justify_content": null,
            "justify_items": null,
            "left": null,
            "margin": null,
            "max_height": null,
            "max_width": null,
            "min_height": null,
            "min_width": null,
            "object_fit": null,
            "object_position": null,
            "order": null,
            "overflow": null,
            "overflow_x": null,
            "overflow_y": null,
            "padding": null,
            "right": null,
            "top": null,
            "visibility": null,
            "width": null
          }
        },
        "7025eef3719649c88616df3b59a76c3e": {
          "model_module": "@jupyter-widgets/controls",
          "model_name": "DescriptionStyleModel",
          "model_module_version": "1.5.0",
          "state": {
            "_model_module": "@jupyter-widgets/controls",
            "_model_module_version": "1.5.0",
            "_model_name": "DescriptionStyleModel",
            "_view_count": null,
            "_view_module": "@jupyter-widgets/base",
            "_view_module_version": "1.2.0",
            "_view_name": "StyleView",
            "description_width": ""
          }
        },
        "4f7519107f9d4566beee9f1496e712ec": {
          "model_module": "@jupyter-widgets/controls",
          "model_name": "HBoxModel",
          "model_module_version": "1.5.0",
          "state": {
            "_dom_classes": [],
            "_model_module": "@jupyter-widgets/controls",
            "_model_module_version": "1.5.0",
            "_model_name": "HBoxModel",
            "_view_count": null,
            "_view_module": "@jupyter-widgets/controls",
            "_view_module_version": "1.5.0",
            "_view_name": "HBoxView",
            "box_style": "",
            "children": [
              "IPY_MODEL_e8ce3c0b4b8a4a1495823f4c12f50a06",
              "IPY_MODEL_1c23128b5bf94e568b85fba677d5ab17",
              "IPY_MODEL_ef7512e2fdf44062b0532c768465b995"
            ],
            "layout": "IPY_MODEL_c7137046652a42db8ee7e2557cf6f222"
          }
        },
        "e8ce3c0b4b8a4a1495823f4c12f50a06": {
          "model_module": "@jupyter-widgets/controls",
          "model_name": "HTMLModel",
          "model_module_version": "1.5.0",
          "state": {
            "_dom_classes": [],
            "_model_module": "@jupyter-widgets/controls",
            "_model_module_version": "1.5.0",
            "_model_name": "HTMLModel",
            "_view_count": null,
            "_view_module": "@jupyter-widgets/controls",
            "_view_module_version": "1.5.0",
            "_view_name": "HTMLView",
            "description": "",
            "description_tooltip": null,
            "layout": "IPY_MODEL_5a1f27825dd44e45a8b4dae76036edd1",
            "placeholder": "​",
            "style": "IPY_MODEL_d4dd0416bbc64a52964c15eb104950ee",
            "value": ""
          }
        },
        "1c23128b5bf94e568b85fba677d5ab17": {
          "model_module": "@jupyter-widgets/controls",
          "model_name": "FloatProgressModel",
          "model_module_version": "1.5.0",
          "state": {
            "_dom_classes": [],
            "_model_module": "@jupyter-widgets/controls",
            "_model_module_version": "1.5.0",
            "_model_name": "FloatProgressModel",
            "_view_count": null,
            "_view_module": "@jupyter-widgets/controls",
            "_view_module_version": "1.5.0",
            "_view_name": "ProgressView",
            "bar_style": "info",
            "description": "",
            "description_tooltip": null,
            "layout": "IPY_MODEL_d272635ab50b4a30ad9c3d971eb29199",
            "max": 1,
            "min": 0,
            "orientation": "horizontal",
            "style": "IPY_MODEL_c25e7a705ec042ab812c0b5d62e43c4f",
            "value": 1
          }
        },
        "ef7512e2fdf44062b0532c768465b995": {
          "model_module": "@jupyter-widgets/controls",
          "model_name": "HTMLModel",
          "model_module_version": "1.5.0",
          "state": {
            "_dom_classes": [],
            "_model_module": "@jupyter-widgets/controls",
            "_model_module_version": "1.5.0",
            "_model_name": "HTMLModel",
            "_view_count": null,
            "_view_module": "@jupyter-widgets/controls",
            "_view_module_version": "1.5.0",
            "_view_name": "HTMLView",
            "description": "",
            "description_tooltip": null,
            "layout": "IPY_MODEL_3a9f237bed5b422592a5e23711d162dd",
            "placeholder": "​",
            "style": "IPY_MODEL_7a2052000e2344bb8ee30f16b5955932",
            "value": " 855/0 [00:00&lt;00:00, 8542.96 examples/s]"
          }
        },
        "c7137046652a42db8ee7e2557cf6f222": {
          "model_module": "@jupyter-widgets/base",
          "model_name": "LayoutModel",
          "model_module_version": "1.2.0",
          "state": {
            "_model_module": "@jupyter-widgets/base",
            "_model_module_version": "1.2.0",
            "_model_name": "LayoutModel",
            "_view_count": null,
            "_view_module": "@jupyter-widgets/base",
            "_view_module_version": "1.2.0",
            "_view_name": "LayoutView",
            "align_content": null,
            "align_items": null,
            "align_self": null,
            "border": null,
            "bottom": null,
            "display": null,
            "flex": null,
            "flex_flow": null,
            "grid_area": null,
            "grid_auto_columns": null,
            "grid_auto_flow": null,
            "grid_auto_rows": null,
            "grid_column": null,
            "grid_gap": null,
            "grid_row": null,
            "grid_template_areas": null,
            "grid_template_columns": null,
            "grid_template_rows": null,
            "height": null,
            "justify_content": null,
            "justify_items": null,
            "left": null,
            "margin": null,
            "max_height": null,
            "max_width": null,
            "min_height": null,
            "min_width": null,
            "object_fit": null,
            "object_position": null,
            "order": null,
            "overflow": null,
            "overflow_x": null,
            "overflow_y": null,
            "padding": null,
            "right": null,
            "top": null,
            "visibility": null,
            "width": null
          }
        },
        "5a1f27825dd44e45a8b4dae76036edd1": {
          "model_module": "@jupyter-widgets/base",
          "model_name": "LayoutModel",
          "model_module_version": "1.2.0",
          "state": {
            "_model_module": "@jupyter-widgets/base",
            "_model_module_version": "1.2.0",
            "_model_name": "LayoutModel",
            "_view_count": null,
            "_view_module": "@jupyter-widgets/base",
            "_view_module_version": "1.2.0",
            "_view_name": "LayoutView",
            "align_content": null,
            "align_items": null,
            "align_self": null,
            "border": null,
            "bottom": null,
            "display": null,
            "flex": null,
            "flex_flow": null,
            "grid_area": null,
            "grid_auto_columns": null,
            "grid_auto_flow": null,
            "grid_auto_rows": null,
            "grid_column": null,
            "grid_gap": null,
            "grid_row": null,
            "grid_template_areas": null,
            "grid_template_columns": null,
            "grid_template_rows": null,
            "height": null,
            "justify_content": null,
            "justify_items": null,
            "left": null,
            "margin": null,
            "max_height": null,
            "max_width": null,
            "min_height": null,
            "min_width": null,
            "object_fit": null,
            "object_position": null,
            "order": null,
            "overflow": null,
            "overflow_x": null,
            "overflow_y": null,
            "padding": null,
            "right": null,
            "top": null,
            "visibility": null,
            "width": null
          }
        },
        "d4dd0416bbc64a52964c15eb104950ee": {
          "model_module": "@jupyter-widgets/controls",
          "model_name": "DescriptionStyleModel",
          "model_module_version": "1.5.0",
          "state": {
            "_model_module": "@jupyter-widgets/controls",
            "_model_module_version": "1.5.0",
            "_model_name": "DescriptionStyleModel",
            "_view_count": null,
            "_view_module": "@jupyter-widgets/base",
            "_view_module_version": "1.2.0",
            "_view_name": "StyleView",
            "description_width": ""
          }
        },
        "d272635ab50b4a30ad9c3d971eb29199": {
          "model_module": "@jupyter-widgets/base",
          "model_name": "LayoutModel",
          "model_module_version": "1.2.0",
          "state": {
            "_model_module": "@jupyter-widgets/base",
            "_model_module_version": "1.2.0",
            "_model_name": "LayoutModel",
            "_view_count": null,
            "_view_module": "@jupyter-widgets/base",
            "_view_module_version": "1.2.0",
            "_view_name": "LayoutView",
            "align_content": null,
            "align_items": null,
            "align_self": null,
            "border": null,
            "bottom": null,
            "display": null,
            "flex": null,
            "flex_flow": null,
            "grid_area": null,
            "grid_auto_columns": null,
            "grid_auto_flow": null,
            "grid_auto_rows": null,
            "grid_column": null,
            "grid_gap": null,
            "grid_row": null,
            "grid_template_areas": null,
            "grid_template_columns": null,
            "grid_template_rows": null,
            "height": null,
            "justify_content": null,
            "justify_items": null,
            "left": null,
            "margin": null,
            "max_height": null,
            "max_width": null,
            "min_height": null,
            "min_width": null,
            "object_fit": null,
            "object_position": null,
            "order": null,
            "overflow": null,
            "overflow_x": null,
            "overflow_y": null,
            "padding": null,
            "right": null,
            "top": null,
            "visibility": null,
            "width": "20px"
          }
        },
        "c25e7a705ec042ab812c0b5d62e43c4f": {
          "model_module": "@jupyter-widgets/controls",
          "model_name": "ProgressStyleModel",
          "model_module_version": "1.5.0",
          "state": {
            "_model_module": "@jupyter-widgets/controls",
            "_model_module_version": "1.5.0",
            "_model_name": "ProgressStyleModel",
            "_view_count": null,
            "_view_module": "@jupyter-widgets/base",
            "_view_module_version": "1.2.0",
            "_view_name": "StyleView",
            "bar_color": null,
            "description_width": ""
          }
        },
        "3a9f237bed5b422592a5e23711d162dd": {
          "model_module": "@jupyter-widgets/base",
          "model_name": "LayoutModel",
          "model_module_version": "1.2.0",
          "state": {
            "_model_module": "@jupyter-widgets/base",
            "_model_module_version": "1.2.0",
            "_model_name": "LayoutModel",
            "_view_count": null,
            "_view_module": "@jupyter-widgets/base",
            "_view_module_version": "1.2.0",
            "_view_name": "LayoutView",
            "align_content": null,
            "align_items": null,
            "align_self": null,
            "border": null,
            "bottom": null,
            "display": null,
            "flex": null,
            "flex_flow": null,
            "grid_area": null,
            "grid_auto_columns": null,
            "grid_auto_flow": null,
            "grid_auto_rows": null,
            "grid_column": null,
            "grid_gap": null,
            "grid_row": null,
            "grid_template_areas": null,
            "grid_template_columns": null,
            "grid_template_rows": null,
            "height": null,
            "justify_content": null,
            "justify_items": null,
            "left": null,
            "margin": null,
            "max_height": null,
            "max_width": null,
            "min_height": null,
            "min_width": null,
            "object_fit": null,
            "object_position": null,
            "order": null,
            "overflow": null,
            "overflow_x": null,
            "overflow_y": null,
            "padding": null,
            "right": null,
            "top": null,
            "visibility": null,
            "width": null
          }
        },
        "7a2052000e2344bb8ee30f16b5955932": {
          "model_module": "@jupyter-widgets/controls",
          "model_name": "DescriptionStyleModel",
          "model_module_version": "1.5.0",
          "state": {
            "_model_module": "@jupyter-widgets/controls",
            "_model_module_version": "1.5.0",
            "_model_name": "DescriptionStyleModel",
            "_view_count": null,
            "_view_module": "@jupyter-widgets/base",
            "_view_module_version": "1.2.0",
            "_view_name": "StyleView",
            "description_width": ""
          }
        },
        "d8581b043a244ca6854b60791b1eab7b": {
          "model_module": "@jupyter-widgets/controls",
          "model_name": "HBoxModel",
          "model_module_version": "1.5.0",
          "state": {
            "_dom_classes": [],
            "_model_module": "@jupyter-widgets/controls",
            "_model_module_version": "1.5.0",
            "_model_name": "HBoxModel",
            "_view_count": null,
            "_view_module": "@jupyter-widgets/controls",
            "_view_module_version": "1.5.0",
            "_view_name": "HBoxView",
            "box_style": "",
            "children": [
              "IPY_MODEL_9dad13ba4a0b4283892c789ef31b5532",
              "IPY_MODEL_fb92687ac1ad4542aef0c9bc07478a97",
              "IPY_MODEL_ebefa2e6b94345f4a125bba8ce459c0d"
            ],
            "layout": "IPY_MODEL_2fc2a8db52ee4202b634b3478ba5ba42"
          }
        },
        "9dad13ba4a0b4283892c789ef31b5532": {
          "model_module": "@jupyter-widgets/controls",
          "model_name": "HTMLModel",
          "model_module_version": "1.5.0",
          "state": {
            "_dom_classes": [],
            "_model_module": "@jupyter-widgets/controls",
            "_model_module_version": "1.5.0",
            "_model_name": "HTMLModel",
            "_view_count": null,
            "_view_module": "@jupyter-widgets/controls",
            "_view_module_version": "1.5.0",
            "_view_name": "HTMLView",
            "description": "",
            "description_tooltip": null,
            "layout": "IPY_MODEL_9afc0b18547942f8b22b611e85173703",
            "placeholder": "​",
            "style": "IPY_MODEL_e1dae202c9aa427c8dec7eda8f330a3a",
            "value": ""
          }
        },
        "fb92687ac1ad4542aef0c9bc07478a97": {
          "model_module": "@jupyter-widgets/controls",
          "model_name": "FloatProgressModel",
          "model_module_version": "1.5.0",
          "state": {
            "_dom_classes": [],
            "_model_module": "@jupyter-widgets/controls",
            "_model_module_version": "1.5.0",
            "_model_name": "FloatProgressModel",
            "_view_count": null,
            "_view_module": "@jupyter-widgets/controls",
            "_view_module_version": "1.5.0",
            "_view_name": "ProgressView",
            "bar_style": "info",
            "description": "",
            "description_tooltip": null,
            "layout": "IPY_MODEL_edc9a028d64c47e09a4218983f9ce8ef",
            "max": 1,
            "min": 0,
            "orientation": "horizontal",
            "style": "IPY_MODEL_e73f674d210949f9aa78191d26612865",
            "value": 1
          }
        },
        "ebefa2e6b94345f4a125bba8ce459c0d": {
          "model_module": "@jupyter-widgets/controls",
          "model_name": "HTMLModel",
          "model_module_version": "1.5.0",
          "state": {
            "_dom_classes": [],
            "_model_module": "@jupyter-widgets/controls",
            "_model_module_version": "1.5.0",
            "_model_name": "HTMLModel",
            "_view_count": null,
            "_view_module": "@jupyter-widgets/controls",
            "_view_module_version": "1.5.0",
            "_view_name": "HTMLView",
            "description": "",
            "description_tooltip": null,
            "layout": "IPY_MODEL_c6ebb411ed3341f9bed0b427cff62e1f",
            "placeholder": "​",
            "style": "IPY_MODEL_ef9287b4fe6c4d58ad93cc71e931def8",
            "value": " 0/0 [00:00&lt;?, ? examples/s]"
          }
        },
        "2fc2a8db52ee4202b634b3478ba5ba42": {
          "model_module": "@jupyter-widgets/base",
          "model_name": "LayoutModel",
          "model_module_version": "1.2.0",
          "state": {
            "_model_module": "@jupyter-widgets/base",
            "_model_module_version": "1.2.0",
            "_model_name": "LayoutModel",
            "_view_count": null,
            "_view_module": "@jupyter-widgets/base",
            "_view_module_version": "1.2.0",
            "_view_name": "LayoutView",
            "align_content": null,
            "align_items": null,
            "align_self": null,
            "border": null,
            "bottom": null,
            "display": null,
            "flex": null,
            "flex_flow": null,
            "grid_area": null,
            "grid_auto_columns": null,
            "grid_auto_flow": null,
            "grid_auto_rows": null,
            "grid_column": null,
            "grid_gap": null,
            "grid_row": null,
            "grid_template_areas": null,
            "grid_template_columns": null,
            "grid_template_rows": null,
            "height": null,
            "justify_content": null,
            "justify_items": null,
            "left": null,
            "margin": null,
            "max_height": null,
            "max_width": null,
            "min_height": null,
            "min_width": null,
            "object_fit": null,
            "object_position": null,
            "order": null,
            "overflow": null,
            "overflow_x": null,
            "overflow_y": null,
            "padding": null,
            "right": null,
            "top": null,
            "visibility": null,
            "width": null
          }
        },
        "9afc0b18547942f8b22b611e85173703": {
          "model_module": "@jupyter-widgets/base",
          "model_name": "LayoutModel",
          "model_module_version": "1.2.0",
          "state": {
            "_model_module": "@jupyter-widgets/base",
            "_model_module_version": "1.2.0",
            "_model_name": "LayoutModel",
            "_view_count": null,
            "_view_module": "@jupyter-widgets/base",
            "_view_module_version": "1.2.0",
            "_view_name": "LayoutView",
            "align_content": null,
            "align_items": null,
            "align_self": null,
            "border": null,
            "bottom": null,
            "display": null,
            "flex": null,
            "flex_flow": null,
            "grid_area": null,
            "grid_auto_columns": null,
            "grid_auto_flow": null,
            "grid_auto_rows": null,
            "grid_column": null,
            "grid_gap": null,
            "grid_row": null,
            "grid_template_areas": null,
            "grid_template_columns": null,
            "grid_template_rows": null,
            "height": null,
            "justify_content": null,
            "justify_items": null,
            "left": null,
            "margin": null,
            "max_height": null,
            "max_width": null,
            "min_height": null,
            "min_width": null,
            "object_fit": null,
            "object_position": null,
            "order": null,
            "overflow": null,
            "overflow_x": null,
            "overflow_y": null,
            "padding": null,
            "right": null,
            "top": null,
            "visibility": null,
            "width": null
          }
        },
        "e1dae202c9aa427c8dec7eda8f330a3a": {
          "model_module": "@jupyter-widgets/controls",
          "model_name": "DescriptionStyleModel",
          "model_module_version": "1.5.0",
          "state": {
            "_model_module": "@jupyter-widgets/controls",
            "_model_module_version": "1.5.0",
            "_model_name": "DescriptionStyleModel",
            "_view_count": null,
            "_view_module": "@jupyter-widgets/base",
            "_view_module_version": "1.2.0",
            "_view_name": "StyleView",
            "description_width": ""
          }
        },
        "edc9a028d64c47e09a4218983f9ce8ef": {
          "model_module": "@jupyter-widgets/base",
          "model_name": "LayoutModel",
          "model_module_version": "1.2.0",
          "state": {
            "_model_module": "@jupyter-widgets/base",
            "_model_module_version": "1.2.0",
            "_model_name": "LayoutModel",
            "_view_count": null,
            "_view_module": "@jupyter-widgets/base",
            "_view_module_version": "1.2.0",
            "_view_name": "LayoutView",
            "align_content": null,
            "align_items": null,
            "align_self": null,
            "border": null,
            "bottom": null,
            "display": null,
            "flex": null,
            "flex_flow": null,
            "grid_area": null,
            "grid_auto_columns": null,
            "grid_auto_flow": null,
            "grid_auto_rows": null,
            "grid_column": null,
            "grid_gap": null,
            "grid_row": null,
            "grid_template_areas": null,
            "grid_template_columns": null,
            "grid_template_rows": null,
            "height": null,
            "justify_content": null,
            "justify_items": null,
            "left": null,
            "margin": null,
            "max_height": null,
            "max_width": null,
            "min_height": null,
            "min_width": null,
            "object_fit": null,
            "object_position": null,
            "order": null,
            "overflow": null,
            "overflow_x": null,
            "overflow_y": null,
            "padding": null,
            "right": null,
            "top": null,
            "visibility": null,
            "width": "20px"
          }
        },
        "e73f674d210949f9aa78191d26612865": {
          "model_module": "@jupyter-widgets/controls",
          "model_name": "ProgressStyleModel",
          "model_module_version": "1.5.0",
          "state": {
            "_model_module": "@jupyter-widgets/controls",
            "_model_module_version": "1.5.0",
            "_model_name": "ProgressStyleModel",
            "_view_count": null,
            "_view_module": "@jupyter-widgets/base",
            "_view_module_version": "1.2.0",
            "_view_name": "StyleView",
            "bar_color": null,
            "description_width": ""
          }
        },
        "c6ebb411ed3341f9bed0b427cff62e1f": {
          "model_module": "@jupyter-widgets/base",
          "model_name": "LayoutModel",
          "model_module_version": "1.2.0",
          "state": {
            "_model_module": "@jupyter-widgets/base",
            "_model_module_version": "1.2.0",
            "_model_name": "LayoutModel",
            "_view_count": null,
            "_view_module": "@jupyter-widgets/base",
            "_view_module_version": "1.2.0",
            "_view_name": "LayoutView",
            "align_content": null,
            "align_items": null,
            "align_self": null,
            "border": null,
            "bottom": null,
            "display": null,
            "flex": null,
            "flex_flow": null,
            "grid_area": null,
            "grid_auto_columns": null,
            "grid_auto_flow": null,
            "grid_auto_rows": null,
            "grid_column": null,
            "grid_gap": null,
            "grid_row": null,
            "grid_template_areas": null,
            "grid_template_columns": null,
            "grid_template_rows": null,
            "height": null,
            "justify_content": null,
            "justify_items": null,
            "left": null,
            "margin": null,
            "max_height": null,
            "max_width": null,
            "min_height": null,
            "min_width": null,
            "object_fit": null,
            "object_position": null,
            "order": null,
            "overflow": null,
            "overflow_x": null,
            "overflow_y": null,
            "padding": null,
            "right": null,
            "top": null,
            "visibility": null,
            "width": null
          }
        },
        "ef9287b4fe6c4d58ad93cc71e931def8": {
          "model_module": "@jupyter-widgets/controls",
          "model_name": "DescriptionStyleModel",
          "model_module_version": "1.5.0",
          "state": {
            "_model_module": "@jupyter-widgets/controls",
            "_model_module_version": "1.5.0",
            "_model_name": "DescriptionStyleModel",
            "_view_count": null,
            "_view_module": "@jupyter-widgets/base",
            "_view_module_version": "1.2.0",
            "_view_name": "StyleView",
            "description_width": ""
          }
        },
        "616d4eb91faf44a49b62e07dbae611cb": {
          "model_module": "@jupyter-widgets/controls",
          "model_name": "HBoxModel",
          "model_module_version": "1.5.0",
          "state": {
            "_dom_classes": [],
            "_model_module": "@jupyter-widgets/controls",
            "_model_module_version": "1.5.0",
            "_model_name": "HBoxModel",
            "_view_count": null,
            "_view_module": "@jupyter-widgets/controls",
            "_view_module_version": "1.5.0",
            "_view_name": "HBoxView",
            "box_style": "",
            "children": [
              "IPY_MODEL_fce3f44b404b45f89297474c32a79fe4",
              "IPY_MODEL_56254f41d6214da994f865c954b4005a",
              "IPY_MODEL_3bddb920fa6a42598e2a04a5cc87d68c"
            ],
            "layout": "IPY_MODEL_b1b8de58eae3478abb17010f6af8e2ef"
          }
        },
        "fce3f44b404b45f89297474c32a79fe4": {
          "model_module": "@jupyter-widgets/controls",
          "model_name": "HTMLModel",
          "model_module_version": "1.5.0",
          "state": {
            "_dom_classes": [],
            "_model_module": "@jupyter-widgets/controls",
            "_model_module_version": "1.5.0",
            "_model_name": "HTMLModel",
            "_view_count": null,
            "_view_module": "@jupyter-widgets/controls",
            "_view_module_version": "1.5.0",
            "_view_name": "HTMLView",
            "description": "",
            "description_tooltip": null,
            "layout": "IPY_MODEL_fb1fad1966824704ad3c60c80f9c6326",
            "placeholder": "​",
            "style": "IPY_MODEL_a48f298fcfee48d1860fe7b4ff608bc8",
            "value": ""
          }
        },
        "56254f41d6214da994f865c954b4005a": {
          "model_module": "@jupyter-widgets/controls",
          "model_name": "FloatProgressModel",
          "model_module_version": "1.5.0",
          "state": {
            "_dom_classes": [],
            "_model_module": "@jupyter-widgets/controls",
            "_model_module_version": "1.5.0",
            "_model_name": "FloatProgressModel",
            "_view_count": null,
            "_view_module": "@jupyter-widgets/controls",
            "_view_module_version": "1.5.0",
            "_view_name": "ProgressView",
            "bar_style": "info",
            "description": "",
            "description_tooltip": null,
            "layout": "IPY_MODEL_73cec07871984163849dacea6304b058",
            "max": 1,
            "min": 0,
            "orientation": "horizontal",
            "style": "IPY_MODEL_24046c2d8914497db5c166fc7270d76a",
            "value": 1
          }
        },
        "3bddb920fa6a42598e2a04a5cc87d68c": {
          "model_module": "@jupyter-widgets/controls",
          "model_name": "HTMLModel",
          "model_module_version": "1.5.0",
          "state": {
            "_dom_classes": [],
            "_model_module": "@jupyter-widgets/controls",
            "_model_module_version": "1.5.0",
            "_model_name": "HTMLModel",
            "_view_count": null,
            "_view_module": "@jupyter-widgets/controls",
            "_view_module_version": "1.5.0",
            "_view_name": "HTMLView",
            "description": "",
            "description_tooltip": null,
            "layout": "IPY_MODEL_fe91f30edb9a42c08caf8240e4e0f796",
            "placeholder": "​",
            "style": "IPY_MODEL_968e63e37cdd41c090665dc51b986646",
            "value": " 0/0 [00:00&lt;?, ? examples/s]"
          }
        },
        "b1b8de58eae3478abb17010f6af8e2ef": {
          "model_module": "@jupyter-widgets/base",
          "model_name": "LayoutModel",
          "model_module_version": "1.2.0",
          "state": {
            "_model_module": "@jupyter-widgets/base",
            "_model_module_version": "1.2.0",
            "_model_name": "LayoutModel",
            "_view_count": null,
            "_view_module": "@jupyter-widgets/base",
            "_view_module_version": "1.2.0",
            "_view_name": "LayoutView",
            "align_content": null,
            "align_items": null,
            "align_self": null,
            "border": null,
            "bottom": null,
            "display": null,
            "flex": null,
            "flex_flow": null,
            "grid_area": null,
            "grid_auto_columns": null,
            "grid_auto_flow": null,
            "grid_auto_rows": null,
            "grid_column": null,
            "grid_gap": null,
            "grid_row": null,
            "grid_template_areas": null,
            "grid_template_columns": null,
            "grid_template_rows": null,
            "height": null,
            "justify_content": null,
            "justify_items": null,
            "left": null,
            "margin": null,
            "max_height": null,
            "max_width": null,
            "min_height": null,
            "min_width": null,
            "object_fit": null,
            "object_position": null,
            "order": null,
            "overflow": null,
            "overflow_x": null,
            "overflow_y": null,
            "padding": null,
            "right": null,
            "top": null,
            "visibility": null,
            "width": null
          }
        },
        "fb1fad1966824704ad3c60c80f9c6326": {
          "model_module": "@jupyter-widgets/base",
          "model_name": "LayoutModel",
          "model_module_version": "1.2.0",
          "state": {
            "_model_module": "@jupyter-widgets/base",
            "_model_module_version": "1.2.0",
            "_model_name": "LayoutModel",
            "_view_count": null,
            "_view_module": "@jupyter-widgets/base",
            "_view_module_version": "1.2.0",
            "_view_name": "LayoutView",
            "align_content": null,
            "align_items": null,
            "align_self": null,
            "border": null,
            "bottom": null,
            "display": null,
            "flex": null,
            "flex_flow": null,
            "grid_area": null,
            "grid_auto_columns": null,
            "grid_auto_flow": null,
            "grid_auto_rows": null,
            "grid_column": null,
            "grid_gap": null,
            "grid_row": null,
            "grid_template_areas": null,
            "grid_template_columns": null,
            "grid_template_rows": null,
            "height": null,
            "justify_content": null,
            "justify_items": null,
            "left": null,
            "margin": null,
            "max_height": null,
            "max_width": null,
            "min_height": null,
            "min_width": null,
            "object_fit": null,
            "object_position": null,
            "order": null,
            "overflow": null,
            "overflow_x": null,
            "overflow_y": null,
            "padding": null,
            "right": null,
            "top": null,
            "visibility": null,
            "width": null
          }
        },
        "a48f298fcfee48d1860fe7b4ff608bc8": {
          "model_module": "@jupyter-widgets/controls",
          "model_name": "DescriptionStyleModel",
          "model_module_version": "1.5.0",
          "state": {
            "_model_module": "@jupyter-widgets/controls",
            "_model_module_version": "1.5.0",
            "_model_name": "DescriptionStyleModel",
            "_view_count": null,
            "_view_module": "@jupyter-widgets/base",
            "_view_module_version": "1.2.0",
            "_view_name": "StyleView",
            "description_width": ""
          }
        },
        "73cec07871984163849dacea6304b058": {
          "model_module": "@jupyter-widgets/base",
          "model_name": "LayoutModel",
          "model_module_version": "1.2.0",
          "state": {
            "_model_module": "@jupyter-widgets/base",
            "_model_module_version": "1.2.0",
            "_model_name": "LayoutModel",
            "_view_count": null,
            "_view_module": "@jupyter-widgets/base",
            "_view_module_version": "1.2.0",
            "_view_name": "LayoutView",
            "align_content": null,
            "align_items": null,
            "align_self": null,
            "border": null,
            "bottom": null,
            "display": null,
            "flex": null,
            "flex_flow": null,
            "grid_area": null,
            "grid_auto_columns": null,
            "grid_auto_flow": null,
            "grid_auto_rows": null,
            "grid_column": null,
            "grid_gap": null,
            "grid_row": null,
            "grid_template_areas": null,
            "grid_template_columns": null,
            "grid_template_rows": null,
            "height": null,
            "justify_content": null,
            "justify_items": null,
            "left": null,
            "margin": null,
            "max_height": null,
            "max_width": null,
            "min_height": null,
            "min_width": null,
            "object_fit": null,
            "object_position": null,
            "order": null,
            "overflow": null,
            "overflow_x": null,
            "overflow_y": null,
            "padding": null,
            "right": null,
            "top": null,
            "visibility": null,
            "width": "20px"
          }
        },
        "24046c2d8914497db5c166fc7270d76a": {
          "model_module": "@jupyter-widgets/controls",
          "model_name": "ProgressStyleModel",
          "model_module_version": "1.5.0",
          "state": {
            "_model_module": "@jupyter-widgets/controls",
            "_model_module_version": "1.5.0",
            "_model_name": "ProgressStyleModel",
            "_view_count": null,
            "_view_module": "@jupyter-widgets/base",
            "_view_module_version": "1.2.0",
            "_view_name": "StyleView",
            "bar_color": null,
            "description_width": ""
          }
        },
        "fe91f30edb9a42c08caf8240e4e0f796": {
          "model_module": "@jupyter-widgets/base",
          "model_name": "LayoutModel",
          "model_module_version": "1.2.0",
          "state": {
            "_model_module": "@jupyter-widgets/base",
            "_model_module_version": "1.2.0",
            "_model_name": "LayoutModel",
            "_view_count": null,
            "_view_module": "@jupyter-widgets/base",
            "_view_module_version": "1.2.0",
            "_view_name": "LayoutView",
            "align_content": null,
            "align_items": null,
            "align_self": null,
            "border": null,
            "bottom": null,
            "display": null,
            "flex": null,
            "flex_flow": null,
            "grid_area": null,
            "grid_auto_columns": null,
            "grid_auto_flow": null,
            "grid_auto_rows": null,
            "grid_column": null,
            "grid_gap": null,
            "grid_row": null,
            "grid_template_areas": null,
            "grid_template_columns": null,
            "grid_template_rows": null,
            "height": null,
            "justify_content": null,
            "justify_items": null,
            "left": null,
            "margin": null,
            "max_height": null,
            "max_width": null,
            "min_height": null,
            "min_width": null,
            "object_fit": null,
            "object_position": null,
            "order": null,
            "overflow": null,
            "overflow_x": null,
            "overflow_y": null,
            "padding": null,
            "right": null,
            "top": null,
            "visibility": null,
            "width": null
          }
        },
        "968e63e37cdd41c090665dc51b986646": {
          "model_module": "@jupyter-widgets/controls",
          "model_name": "DescriptionStyleModel",
          "model_module_version": "1.5.0",
          "state": {
            "_model_module": "@jupyter-widgets/controls",
            "_model_module_version": "1.5.0",
            "_model_name": "DescriptionStyleModel",
            "_view_count": null,
            "_view_module": "@jupyter-widgets/base",
            "_view_module_version": "1.2.0",
            "_view_name": "StyleView",
            "description_width": ""
          }
        },
        "03022686a9774ed4b0258e6a6c2e27f9": {
          "model_module": "@jupyter-widgets/controls",
          "model_name": "HBoxModel",
          "model_module_version": "1.5.0",
          "state": {
            "_dom_classes": [],
            "_model_module": "@jupyter-widgets/controls",
            "_model_module_version": "1.5.0",
            "_model_name": "HBoxModel",
            "_view_count": null,
            "_view_module": "@jupyter-widgets/controls",
            "_view_module_version": "1.5.0",
            "_view_name": "HBoxView",
            "box_style": "",
            "children": [
              "IPY_MODEL_3b8f35273d494f0994dfc69c92824b70",
              "IPY_MODEL_5aec0e446b4f4494a74b9880c5e3e055",
              "IPY_MODEL_1de62dc0ef8e4e2e9e05d299b0f9f412"
            ],
            "layout": "IPY_MODEL_329266f03aa8429483545c00161aa542"
          }
        },
        "3b8f35273d494f0994dfc69c92824b70": {
          "model_module": "@jupyter-widgets/controls",
          "model_name": "HTMLModel",
          "model_module_version": "1.5.0",
          "state": {
            "_dom_classes": [],
            "_model_module": "@jupyter-widgets/controls",
            "_model_module_version": "1.5.0",
            "_model_name": "HTMLModel",
            "_view_count": null,
            "_view_module": "@jupyter-widgets/controls",
            "_view_module_version": "1.5.0",
            "_view_name": "HTMLView",
            "description": "",
            "description_tooltip": null,
            "layout": "IPY_MODEL_24208a9972a7417284bc8b1a0257b0e1",
            "placeholder": "​",
            "style": "IPY_MODEL_681810c27fb04e2ba07a62f28e0751ee",
            "value": "100%"
          }
        },
        "5aec0e446b4f4494a74b9880c5e3e055": {
          "model_module": "@jupyter-widgets/controls",
          "model_name": "FloatProgressModel",
          "model_module_version": "1.5.0",
          "state": {
            "_dom_classes": [],
            "_model_module": "@jupyter-widgets/controls",
            "_model_module_version": "1.5.0",
            "_model_name": "FloatProgressModel",
            "_view_count": null,
            "_view_module": "@jupyter-widgets/controls",
            "_view_module_version": "1.5.0",
            "_view_name": "ProgressView",
            "bar_style": "success",
            "description": "",
            "description_tooltip": null,
            "layout": "IPY_MODEL_7daf9b251bbb44cea171766ae59eea78",
            "max": 2,
            "min": 0,
            "orientation": "horizontal",
            "style": "IPY_MODEL_7d5492e1a5814a6db373edab94fa28b5",
            "value": 2
          }
        },
        "1de62dc0ef8e4e2e9e05d299b0f9f412": {
          "model_module": "@jupyter-widgets/controls",
          "model_name": "HTMLModel",
          "model_module_version": "1.5.0",
          "state": {
            "_dom_classes": [],
            "_model_module": "@jupyter-widgets/controls",
            "_model_module_version": "1.5.0",
            "_model_name": "HTMLModel",
            "_view_count": null,
            "_view_module": "@jupyter-widgets/controls",
            "_view_module_version": "1.5.0",
            "_view_name": "HTMLView",
            "description": "",
            "description_tooltip": null,
            "layout": "IPY_MODEL_d3132486d16d40fabe08dcabcb44dcef",
            "placeholder": "​",
            "style": "IPY_MODEL_5710794dd0b544e89d03101a67c7b054",
            "value": " 2/2 [00:57&lt;00:00, 27.22s/ba]"
          }
        },
        "329266f03aa8429483545c00161aa542": {
          "model_module": "@jupyter-widgets/base",
          "model_name": "LayoutModel",
          "model_module_version": "1.2.0",
          "state": {
            "_model_module": "@jupyter-widgets/base",
            "_model_module_version": "1.2.0",
            "_model_name": "LayoutModel",
            "_view_count": null,
            "_view_module": "@jupyter-widgets/base",
            "_view_module_version": "1.2.0",
            "_view_name": "LayoutView",
            "align_content": null,
            "align_items": null,
            "align_self": null,
            "border": null,
            "bottom": null,
            "display": null,
            "flex": null,
            "flex_flow": null,
            "grid_area": null,
            "grid_auto_columns": null,
            "grid_auto_flow": null,
            "grid_auto_rows": null,
            "grid_column": null,
            "grid_gap": null,
            "grid_row": null,
            "grid_template_areas": null,
            "grid_template_columns": null,
            "grid_template_rows": null,
            "height": null,
            "justify_content": null,
            "justify_items": null,
            "left": null,
            "margin": null,
            "max_height": null,
            "max_width": null,
            "min_height": null,
            "min_width": null,
            "object_fit": null,
            "object_position": null,
            "order": null,
            "overflow": null,
            "overflow_x": null,
            "overflow_y": null,
            "padding": null,
            "right": null,
            "top": null,
            "visibility": null,
            "width": null
          }
        },
        "24208a9972a7417284bc8b1a0257b0e1": {
          "model_module": "@jupyter-widgets/base",
          "model_name": "LayoutModel",
          "model_module_version": "1.2.0",
          "state": {
            "_model_module": "@jupyter-widgets/base",
            "_model_module_version": "1.2.0",
            "_model_name": "LayoutModel",
            "_view_count": null,
            "_view_module": "@jupyter-widgets/base",
            "_view_module_version": "1.2.0",
            "_view_name": "LayoutView",
            "align_content": null,
            "align_items": null,
            "align_self": null,
            "border": null,
            "bottom": null,
            "display": null,
            "flex": null,
            "flex_flow": null,
            "grid_area": null,
            "grid_auto_columns": null,
            "grid_auto_flow": null,
            "grid_auto_rows": null,
            "grid_column": null,
            "grid_gap": null,
            "grid_row": null,
            "grid_template_areas": null,
            "grid_template_columns": null,
            "grid_template_rows": null,
            "height": null,
            "justify_content": null,
            "justify_items": null,
            "left": null,
            "margin": null,
            "max_height": null,
            "max_width": null,
            "min_height": null,
            "min_width": null,
            "object_fit": null,
            "object_position": null,
            "order": null,
            "overflow": null,
            "overflow_x": null,
            "overflow_y": null,
            "padding": null,
            "right": null,
            "top": null,
            "visibility": null,
            "width": null
          }
        },
        "681810c27fb04e2ba07a62f28e0751ee": {
          "model_module": "@jupyter-widgets/controls",
          "model_name": "DescriptionStyleModel",
          "model_module_version": "1.5.0",
          "state": {
            "_model_module": "@jupyter-widgets/controls",
            "_model_module_version": "1.5.0",
            "_model_name": "DescriptionStyleModel",
            "_view_count": null,
            "_view_module": "@jupyter-widgets/base",
            "_view_module_version": "1.2.0",
            "_view_name": "StyleView",
            "description_width": ""
          }
        },
        "7daf9b251bbb44cea171766ae59eea78": {
          "model_module": "@jupyter-widgets/base",
          "model_name": "LayoutModel",
          "model_module_version": "1.2.0",
          "state": {
            "_model_module": "@jupyter-widgets/base",
            "_model_module_version": "1.2.0",
            "_model_name": "LayoutModel",
            "_view_count": null,
            "_view_module": "@jupyter-widgets/base",
            "_view_module_version": "1.2.0",
            "_view_name": "LayoutView",
            "align_content": null,
            "align_items": null,
            "align_self": null,
            "border": null,
            "bottom": null,
            "display": null,
            "flex": null,
            "flex_flow": null,
            "grid_area": null,
            "grid_auto_columns": null,
            "grid_auto_flow": null,
            "grid_auto_rows": null,
            "grid_column": null,
            "grid_gap": null,
            "grid_row": null,
            "grid_template_areas": null,
            "grid_template_columns": null,
            "grid_template_rows": null,
            "height": null,
            "justify_content": null,
            "justify_items": null,
            "left": null,
            "margin": null,
            "max_height": null,
            "max_width": null,
            "min_height": null,
            "min_width": null,
            "object_fit": null,
            "object_position": null,
            "order": null,
            "overflow": null,
            "overflow_x": null,
            "overflow_y": null,
            "padding": null,
            "right": null,
            "top": null,
            "visibility": null,
            "width": null
          }
        },
        "7d5492e1a5814a6db373edab94fa28b5": {
          "model_module": "@jupyter-widgets/controls",
          "model_name": "ProgressStyleModel",
          "model_module_version": "1.5.0",
          "state": {
            "_model_module": "@jupyter-widgets/controls",
            "_model_module_version": "1.5.0",
            "_model_name": "ProgressStyleModel",
            "_view_count": null,
            "_view_module": "@jupyter-widgets/base",
            "_view_module_version": "1.2.0",
            "_view_name": "StyleView",
            "bar_color": null,
            "description_width": ""
          }
        },
        "d3132486d16d40fabe08dcabcb44dcef": {
          "model_module": "@jupyter-widgets/base",
          "model_name": "LayoutModel",
          "model_module_version": "1.2.0",
          "state": {
            "_model_module": "@jupyter-widgets/base",
            "_model_module_version": "1.2.0",
            "_model_name": "LayoutModel",
            "_view_count": null,
            "_view_module": "@jupyter-widgets/base",
            "_view_module_version": "1.2.0",
            "_view_name": "LayoutView",
            "align_content": null,
            "align_items": null,
            "align_self": null,
            "border": null,
            "bottom": null,
            "display": null,
            "flex": null,
            "flex_flow": null,
            "grid_area": null,
            "grid_auto_columns": null,
            "grid_auto_flow": null,
            "grid_auto_rows": null,
            "grid_column": null,
            "grid_gap": null,
            "grid_row": null,
            "grid_template_areas": null,
            "grid_template_columns": null,
            "grid_template_rows": null,
            "height": null,
            "justify_content": null,
            "justify_items": null,
            "left": null,
            "margin": null,
            "max_height": null,
            "max_width": null,
            "min_height": null,
            "min_width": null,
            "object_fit": null,
            "object_position": null,
            "order": null,
            "overflow": null,
            "overflow_x": null,
            "overflow_y": null,
            "padding": null,
            "right": null,
            "top": null,
            "visibility": null,
            "width": null
          }
        },
        "5710794dd0b544e89d03101a67c7b054": {
          "model_module": "@jupyter-widgets/controls",
          "model_name": "DescriptionStyleModel",
          "model_module_version": "1.5.0",
          "state": {
            "_model_module": "@jupyter-widgets/controls",
            "_model_module_version": "1.5.0",
            "_model_name": "DescriptionStyleModel",
            "_view_count": null,
            "_view_module": "@jupyter-widgets/base",
            "_view_module_version": "1.2.0",
            "_view_name": "StyleView",
            "description_width": ""
          }
        },
        "4a015465e50c46cd9142f46df8d15f4a": {
          "model_module": "@jupyter-widgets/controls",
          "model_name": "HBoxModel",
          "model_module_version": "1.5.0",
          "state": {
            "_dom_classes": [],
            "_model_module": "@jupyter-widgets/controls",
            "_model_module_version": "1.5.0",
            "_model_name": "HBoxModel",
            "_view_count": null,
            "_view_module": "@jupyter-widgets/controls",
            "_view_module_version": "1.5.0",
            "_view_name": "HBoxView",
            "box_style": "",
            "children": [
              "IPY_MODEL_69545380220a48e7b25d8e74abb54023",
              "IPY_MODEL_e62ddc220e5549ab91bfeb1f7542bb4f",
              "IPY_MODEL_5a03e2ddcb3f4a339134f28bb82e92a6"
            ],
            "layout": "IPY_MODEL_eefc0b35abae4a46a6dc5d2d504b2771"
          }
        },
        "69545380220a48e7b25d8e74abb54023": {
          "model_module": "@jupyter-widgets/controls",
          "model_name": "HTMLModel",
          "model_module_version": "1.5.0",
          "state": {
            "_dom_classes": [],
            "_model_module": "@jupyter-widgets/controls",
            "_model_module_version": "1.5.0",
            "_model_name": "HTMLModel",
            "_view_count": null,
            "_view_module": "@jupyter-widgets/controls",
            "_view_module_version": "1.5.0",
            "_view_name": "HTMLView",
            "description": "",
            "description_tooltip": null,
            "layout": "IPY_MODEL_48fd16b8e2214c539f2ed78bd657cbfd",
            "placeholder": "​",
            "style": "IPY_MODEL_d002bab8bab34449a84f46b0665deb7e",
            "value": "100%"
          }
        },
        "e62ddc220e5549ab91bfeb1f7542bb4f": {
          "model_module": "@jupyter-widgets/controls",
          "model_name": "FloatProgressModel",
          "model_module_version": "1.5.0",
          "state": {
            "_dom_classes": [],
            "_model_module": "@jupyter-widgets/controls",
            "_model_module_version": "1.5.0",
            "_model_name": "FloatProgressModel",
            "_view_count": null,
            "_view_module": "@jupyter-widgets/controls",
            "_view_module_version": "1.5.0",
            "_view_name": "ProgressView",
            "bar_style": "success",
            "description": "",
            "description_tooltip": null,
            "layout": "IPY_MODEL_c0c61008a0d44766888b48d5bcfb779b",
            "max": 1,
            "min": 0,
            "orientation": "horizontal",
            "style": "IPY_MODEL_3cc0a1e3a0294408bc1489a75bcceb00",
            "value": 1
          }
        },
        "5a03e2ddcb3f4a339134f28bb82e92a6": {
          "model_module": "@jupyter-widgets/controls",
          "model_name": "HTMLModel",
          "model_module_version": "1.5.0",
          "state": {
            "_dom_classes": [],
            "_model_module": "@jupyter-widgets/controls",
            "_model_module_version": "1.5.0",
            "_model_name": "HTMLModel",
            "_view_count": null,
            "_view_module": "@jupyter-widgets/controls",
            "_view_module_version": "1.5.0",
            "_view_name": "HTMLView",
            "description": "",
            "description_tooltip": null,
            "layout": "IPY_MODEL_b07ef12967744c0b924716f13a2a1604",
            "placeholder": "​",
            "style": "IPY_MODEL_bd5f3a0b8dd34e7f8aec453900d8ef30",
            "value": " 1/1 [00:14&lt;00:00, 14.11s/ba]"
          }
        },
        "eefc0b35abae4a46a6dc5d2d504b2771": {
          "model_module": "@jupyter-widgets/base",
          "model_name": "LayoutModel",
          "model_module_version": "1.2.0",
          "state": {
            "_model_module": "@jupyter-widgets/base",
            "_model_module_version": "1.2.0",
            "_model_name": "LayoutModel",
            "_view_count": null,
            "_view_module": "@jupyter-widgets/base",
            "_view_module_version": "1.2.0",
            "_view_name": "LayoutView",
            "align_content": null,
            "align_items": null,
            "align_self": null,
            "border": null,
            "bottom": null,
            "display": null,
            "flex": null,
            "flex_flow": null,
            "grid_area": null,
            "grid_auto_columns": null,
            "grid_auto_flow": null,
            "grid_auto_rows": null,
            "grid_column": null,
            "grid_gap": null,
            "grid_row": null,
            "grid_template_areas": null,
            "grid_template_columns": null,
            "grid_template_rows": null,
            "height": null,
            "justify_content": null,
            "justify_items": null,
            "left": null,
            "margin": null,
            "max_height": null,
            "max_width": null,
            "min_height": null,
            "min_width": null,
            "object_fit": null,
            "object_position": null,
            "order": null,
            "overflow": null,
            "overflow_x": null,
            "overflow_y": null,
            "padding": null,
            "right": null,
            "top": null,
            "visibility": null,
            "width": null
          }
        },
        "48fd16b8e2214c539f2ed78bd657cbfd": {
          "model_module": "@jupyter-widgets/base",
          "model_name": "LayoutModel",
          "model_module_version": "1.2.0",
          "state": {
            "_model_module": "@jupyter-widgets/base",
            "_model_module_version": "1.2.0",
            "_model_name": "LayoutModel",
            "_view_count": null,
            "_view_module": "@jupyter-widgets/base",
            "_view_module_version": "1.2.0",
            "_view_name": "LayoutView",
            "align_content": null,
            "align_items": null,
            "align_self": null,
            "border": null,
            "bottom": null,
            "display": null,
            "flex": null,
            "flex_flow": null,
            "grid_area": null,
            "grid_auto_columns": null,
            "grid_auto_flow": null,
            "grid_auto_rows": null,
            "grid_column": null,
            "grid_gap": null,
            "grid_row": null,
            "grid_template_areas": null,
            "grid_template_columns": null,
            "grid_template_rows": null,
            "height": null,
            "justify_content": null,
            "justify_items": null,
            "left": null,
            "margin": null,
            "max_height": null,
            "max_width": null,
            "min_height": null,
            "min_width": null,
            "object_fit": null,
            "object_position": null,
            "order": null,
            "overflow": null,
            "overflow_x": null,
            "overflow_y": null,
            "padding": null,
            "right": null,
            "top": null,
            "visibility": null,
            "width": null
          }
        },
        "d002bab8bab34449a84f46b0665deb7e": {
          "model_module": "@jupyter-widgets/controls",
          "model_name": "DescriptionStyleModel",
          "model_module_version": "1.5.0",
          "state": {
            "_model_module": "@jupyter-widgets/controls",
            "_model_module_version": "1.5.0",
            "_model_name": "DescriptionStyleModel",
            "_view_count": null,
            "_view_module": "@jupyter-widgets/base",
            "_view_module_version": "1.2.0",
            "_view_name": "StyleView",
            "description_width": ""
          }
        },
        "c0c61008a0d44766888b48d5bcfb779b": {
          "model_module": "@jupyter-widgets/base",
          "model_name": "LayoutModel",
          "model_module_version": "1.2.0",
          "state": {
            "_model_module": "@jupyter-widgets/base",
            "_model_module_version": "1.2.0",
            "_model_name": "LayoutModel",
            "_view_count": null,
            "_view_module": "@jupyter-widgets/base",
            "_view_module_version": "1.2.0",
            "_view_name": "LayoutView",
            "align_content": null,
            "align_items": null,
            "align_self": null,
            "border": null,
            "bottom": null,
            "display": null,
            "flex": null,
            "flex_flow": null,
            "grid_area": null,
            "grid_auto_columns": null,
            "grid_auto_flow": null,
            "grid_auto_rows": null,
            "grid_column": null,
            "grid_gap": null,
            "grid_row": null,
            "grid_template_areas": null,
            "grid_template_columns": null,
            "grid_template_rows": null,
            "height": null,
            "justify_content": null,
            "justify_items": null,
            "left": null,
            "margin": null,
            "max_height": null,
            "max_width": null,
            "min_height": null,
            "min_width": null,
            "object_fit": null,
            "object_position": null,
            "order": null,
            "overflow": null,
            "overflow_x": null,
            "overflow_y": null,
            "padding": null,
            "right": null,
            "top": null,
            "visibility": null,
            "width": null
          }
        },
        "3cc0a1e3a0294408bc1489a75bcceb00": {
          "model_module": "@jupyter-widgets/controls",
          "model_name": "ProgressStyleModel",
          "model_module_version": "1.5.0",
          "state": {
            "_model_module": "@jupyter-widgets/controls",
            "_model_module_version": "1.5.0",
            "_model_name": "ProgressStyleModel",
            "_view_count": null,
            "_view_module": "@jupyter-widgets/base",
            "_view_module_version": "1.2.0",
            "_view_name": "StyleView",
            "bar_color": null,
            "description_width": ""
          }
        },
        "b07ef12967744c0b924716f13a2a1604": {
          "model_module": "@jupyter-widgets/base",
          "model_name": "LayoutModel",
          "model_module_version": "1.2.0",
          "state": {
            "_model_module": "@jupyter-widgets/base",
            "_model_module_version": "1.2.0",
            "_model_name": "LayoutModel",
            "_view_count": null,
            "_view_module": "@jupyter-widgets/base",
            "_view_module_version": "1.2.0",
            "_view_name": "LayoutView",
            "align_content": null,
            "align_items": null,
            "align_self": null,
            "border": null,
            "bottom": null,
            "display": null,
            "flex": null,
            "flex_flow": null,
            "grid_area": null,
            "grid_auto_columns": null,
            "grid_auto_flow": null,
            "grid_auto_rows": null,
            "grid_column": null,
            "grid_gap": null,
            "grid_row": null,
            "grid_template_areas": null,
            "grid_template_columns": null,
            "grid_template_rows": null,
            "height": null,
            "justify_content": null,
            "justify_items": null,
            "left": null,
            "margin": null,
            "max_height": null,
            "max_width": null,
            "min_height": null,
            "min_width": null,
            "object_fit": null,
            "object_position": null,
            "order": null,
            "overflow": null,
            "overflow_x": null,
            "overflow_y": null,
            "padding": null,
            "right": null,
            "top": null,
            "visibility": null,
            "width": null
          }
        },
        "bd5f3a0b8dd34e7f8aec453900d8ef30": {
          "model_module": "@jupyter-widgets/controls",
          "model_name": "DescriptionStyleModel",
          "model_module_version": "1.5.0",
          "state": {
            "_model_module": "@jupyter-widgets/controls",
            "_model_module_version": "1.5.0",
            "_model_name": "DescriptionStyleModel",
            "_view_count": null,
            "_view_module": "@jupyter-widgets/base",
            "_view_module_version": "1.2.0",
            "_view_name": "StyleView",
            "description_width": ""
          }
        },
        "6e0f0c60f7bc4f339d50c161a29d1fc7": {
          "model_module": "@jupyter-widgets/controls",
          "model_name": "HBoxModel",
          "model_module_version": "1.5.0",
          "state": {
            "_dom_classes": [],
            "_model_module": "@jupyter-widgets/controls",
            "_model_module_version": "1.5.0",
            "_model_name": "HBoxModel",
            "_view_count": null,
            "_view_module": "@jupyter-widgets/controls",
            "_view_module_version": "1.5.0",
            "_view_name": "HBoxView",
            "box_style": "",
            "children": [
              "IPY_MODEL_9ecfc14ff54842fe875d20eacfa2e573",
              "IPY_MODEL_611af84d32d5447e9ac1685b1e711449",
              "IPY_MODEL_fb1a84d0b82c411ea9cb4d2b1340ab65"
            ],
            "layout": "IPY_MODEL_d595e9c2f6774e67b19fb40ac64db1a2"
          }
        },
        "9ecfc14ff54842fe875d20eacfa2e573": {
          "model_module": "@jupyter-widgets/controls",
          "model_name": "HTMLModel",
          "model_module_version": "1.5.0",
          "state": {
            "_dom_classes": [],
            "_model_module": "@jupyter-widgets/controls",
            "_model_module_version": "1.5.0",
            "_model_name": "HTMLModel",
            "_view_count": null,
            "_view_module": "@jupyter-widgets/controls",
            "_view_module_version": "1.5.0",
            "_view_name": "HTMLView",
            "description": "",
            "description_tooltip": null,
            "layout": "IPY_MODEL_2e2dff1ea4f94754a816649a7501b596",
            "placeholder": "​",
            "style": "IPY_MODEL_4511fc706b0b443494a5176132a045db",
            "value": "Upload file pytorch_model.bin: 100%"
          }
        },
        "611af84d32d5447e9ac1685b1e711449": {
          "model_module": "@jupyter-widgets/controls",
          "model_name": "FloatProgressModel",
          "model_module_version": "1.5.0",
          "state": {
            "_dom_classes": [],
            "_model_module": "@jupyter-widgets/controls",
            "_model_module_version": "1.5.0",
            "_model_name": "FloatProgressModel",
            "_view_count": null,
            "_view_module": "@jupyter-widgets/controls",
            "_view_module_version": "1.5.0",
            "_view_name": "ProgressView",
            "bar_style": "success",
            "description": "",
            "description_tooltip": null,
            "layout": "IPY_MODEL_88b884e949864d0ab7d8daf07f5e0d44",
            "max": 378366931,
            "min": 0,
            "orientation": "horizontal",
            "style": "IPY_MODEL_79d3db4e07774e01b2c71994e2b97d2e",
            "value": 378366931
          }
        },
        "fb1a84d0b82c411ea9cb4d2b1340ab65": {
          "model_module": "@jupyter-widgets/controls",
          "model_name": "HTMLModel",
          "model_module_version": "1.5.0",
          "state": {
            "_dom_classes": [],
            "_model_module": "@jupyter-widgets/controls",
            "_model_module_version": "1.5.0",
            "_model_name": "HTMLModel",
            "_view_count": null,
            "_view_module": "@jupyter-widgets/controls",
            "_view_module_version": "1.5.0",
            "_view_name": "HTMLView",
            "description": "",
            "description_tooltip": null,
            "layout": "IPY_MODEL_38252a6056e04c749dccf2af6904bb25",
            "placeholder": "​",
            "style": "IPY_MODEL_c9085122611240a494b1716be8f28e9e",
            "value": " 361M/361M [06:34&lt;00:00, 739kB/s]"
          }
        },
        "d595e9c2f6774e67b19fb40ac64db1a2": {
          "model_module": "@jupyter-widgets/base",
          "model_name": "LayoutModel",
          "model_module_version": "1.2.0",
          "state": {
            "_model_module": "@jupyter-widgets/base",
            "_model_module_version": "1.2.0",
            "_model_name": "LayoutModel",
            "_view_count": null,
            "_view_module": "@jupyter-widgets/base",
            "_view_module_version": "1.2.0",
            "_view_name": "LayoutView",
            "align_content": null,
            "align_items": null,
            "align_self": null,
            "border": null,
            "bottom": null,
            "display": null,
            "flex": null,
            "flex_flow": null,
            "grid_area": null,
            "grid_auto_columns": null,
            "grid_auto_flow": null,
            "grid_auto_rows": null,
            "grid_column": null,
            "grid_gap": null,
            "grid_row": null,
            "grid_template_areas": null,
            "grid_template_columns": null,
            "grid_template_rows": null,
            "height": null,
            "justify_content": null,
            "justify_items": null,
            "left": null,
            "margin": null,
            "max_height": null,
            "max_width": null,
            "min_height": null,
            "min_width": null,
            "object_fit": null,
            "object_position": null,
            "order": null,
            "overflow": null,
            "overflow_x": null,
            "overflow_y": null,
            "padding": null,
            "right": null,
            "top": null,
            "visibility": null,
            "width": null
          }
        },
        "2e2dff1ea4f94754a816649a7501b596": {
          "model_module": "@jupyter-widgets/base",
          "model_name": "LayoutModel",
          "model_module_version": "1.2.0",
          "state": {
            "_model_module": "@jupyter-widgets/base",
            "_model_module_version": "1.2.0",
            "_model_name": "LayoutModel",
            "_view_count": null,
            "_view_module": "@jupyter-widgets/base",
            "_view_module_version": "1.2.0",
            "_view_name": "LayoutView",
            "align_content": null,
            "align_items": null,
            "align_self": null,
            "border": null,
            "bottom": null,
            "display": null,
            "flex": null,
            "flex_flow": null,
            "grid_area": null,
            "grid_auto_columns": null,
            "grid_auto_flow": null,
            "grid_auto_rows": null,
            "grid_column": null,
            "grid_gap": null,
            "grid_row": null,
            "grid_template_areas": null,
            "grid_template_columns": null,
            "grid_template_rows": null,
            "height": null,
            "justify_content": null,
            "justify_items": null,
            "left": null,
            "margin": null,
            "max_height": null,
            "max_width": null,
            "min_height": null,
            "min_width": null,
            "object_fit": null,
            "object_position": null,
            "order": null,
            "overflow": null,
            "overflow_x": null,
            "overflow_y": null,
            "padding": null,
            "right": null,
            "top": null,
            "visibility": null,
            "width": null
          }
        },
        "4511fc706b0b443494a5176132a045db": {
          "model_module": "@jupyter-widgets/controls",
          "model_name": "DescriptionStyleModel",
          "model_module_version": "1.5.0",
          "state": {
            "_model_module": "@jupyter-widgets/controls",
            "_model_module_version": "1.5.0",
            "_model_name": "DescriptionStyleModel",
            "_view_count": null,
            "_view_module": "@jupyter-widgets/base",
            "_view_module_version": "1.2.0",
            "_view_name": "StyleView",
            "description_width": ""
          }
        },
        "88b884e949864d0ab7d8daf07f5e0d44": {
          "model_module": "@jupyter-widgets/base",
          "model_name": "LayoutModel",
          "model_module_version": "1.2.0",
          "state": {
            "_model_module": "@jupyter-widgets/base",
            "_model_module_version": "1.2.0",
            "_model_name": "LayoutModel",
            "_view_count": null,
            "_view_module": "@jupyter-widgets/base",
            "_view_module_version": "1.2.0",
            "_view_name": "LayoutView",
            "align_content": null,
            "align_items": null,
            "align_self": null,
            "border": null,
            "bottom": null,
            "display": null,
            "flex": null,
            "flex_flow": null,
            "grid_area": null,
            "grid_auto_columns": null,
            "grid_auto_flow": null,
            "grid_auto_rows": null,
            "grid_column": null,
            "grid_gap": null,
            "grid_row": null,
            "grid_template_areas": null,
            "grid_template_columns": null,
            "grid_template_rows": null,
            "height": null,
            "justify_content": null,
            "justify_items": null,
            "left": null,
            "margin": null,
            "max_height": null,
            "max_width": null,
            "min_height": null,
            "min_width": null,
            "object_fit": null,
            "object_position": null,
            "order": null,
            "overflow": null,
            "overflow_x": null,
            "overflow_y": null,
            "padding": null,
            "right": null,
            "top": null,
            "visibility": null,
            "width": null
          }
        },
        "79d3db4e07774e01b2c71994e2b97d2e": {
          "model_module": "@jupyter-widgets/controls",
          "model_name": "ProgressStyleModel",
          "model_module_version": "1.5.0",
          "state": {
            "_model_module": "@jupyter-widgets/controls",
            "_model_module_version": "1.5.0",
            "_model_name": "ProgressStyleModel",
            "_view_count": null,
            "_view_module": "@jupyter-widgets/base",
            "_view_module_version": "1.2.0",
            "_view_name": "StyleView",
            "bar_color": null,
            "description_width": ""
          }
        },
        "38252a6056e04c749dccf2af6904bb25": {
          "model_module": "@jupyter-widgets/base",
          "model_name": "LayoutModel",
          "model_module_version": "1.2.0",
          "state": {
            "_model_module": "@jupyter-widgets/base",
            "_model_module_version": "1.2.0",
            "_model_name": "LayoutModel",
            "_view_count": null,
            "_view_module": "@jupyter-widgets/base",
            "_view_module_version": "1.2.0",
            "_view_name": "LayoutView",
            "align_content": null,
            "align_items": null,
            "align_self": null,
            "border": null,
            "bottom": null,
            "display": null,
            "flex": null,
            "flex_flow": null,
            "grid_area": null,
            "grid_auto_columns": null,
            "grid_auto_flow": null,
            "grid_auto_rows": null,
            "grid_column": null,
            "grid_gap": null,
            "grid_row": null,
            "grid_template_areas": null,
            "grid_template_columns": null,
            "grid_template_rows": null,
            "height": null,
            "justify_content": null,
            "justify_items": null,
            "left": null,
            "margin": null,
            "max_height": null,
            "max_width": null,
            "min_height": null,
            "min_width": null,
            "object_fit": null,
            "object_position": null,
            "order": null,
            "overflow": null,
            "overflow_x": null,
            "overflow_y": null,
            "padding": null,
            "right": null,
            "top": null,
            "visibility": null,
            "width": null
          }
        },
        "c9085122611240a494b1716be8f28e9e": {
          "model_module": "@jupyter-widgets/controls",
          "model_name": "DescriptionStyleModel",
          "model_module_version": "1.5.0",
          "state": {
            "_model_module": "@jupyter-widgets/controls",
            "_model_module_version": "1.5.0",
            "_model_name": "DescriptionStyleModel",
            "_view_count": null,
            "_view_module": "@jupyter-widgets/base",
            "_view_module_version": "1.2.0",
            "_view_name": "StyleView",
            "description_width": ""
          }
        },
        "8bf03a0a1f1f4eae945eeb888e3c0986": {
          "model_module": "@jupyter-widgets/controls",
          "model_name": "HBoxModel",
          "model_module_version": "1.5.0",
          "state": {
            "_dom_classes": [],
            "_model_module": "@jupyter-widgets/controls",
            "_model_module_version": "1.5.0",
            "_model_name": "HBoxModel",
            "_view_count": null,
            "_view_module": "@jupyter-widgets/controls",
            "_view_module_version": "1.5.0",
            "_view_name": "HBoxView",
            "box_style": "",
            "children": [
              "IPY_MODEL_cadd2708299642218d509822313d5584",
              "IPY_MODEL_8c3f93e21157476b8976773e8577c607",
              "IPY_MODEL_631a283f9a5147f485dcda64a20f6cbc"
            ],
            "layout": "IPY_MODEL_6dd5005c04a04fd69d9472a51e5fc9d7"
          }
        },
        "cadd2708299642218d509822313d5584": {
          "model_module": "@jupyter-widgets/controls",
          "model_name": "HTMLModel",
          "model_module_version": "1.5.0",
          "state": {
            "_dom_classes": [],
            "_model_module": "@jupyter-widgets/controls",
            "_model_module_version": "1.5.0",
            "_model_name": "HTMLModel",
            "_view_count": null,
            "_view_module": "@jupyter-widgets/controls",
            "_view_module_version": "1.5.0",
            "_view_name": "HTMLView",
            "description": "",
            "description_tooltip": null,
            "layout": "IPY_MODEL_d82a8d4a07d5449693fe43c28670f852",
            "placeholder": "​",
            "style": "IPY_MODEL_0319f7dfa6c44838ab511499fa63ab4a",
            "value": "Upload file runs/May12_02-15-52_f6718c83993a/events.out.tfevents.1652321761.f6718c83993a.63.4: 100%"
          }
        },
        "8c3f93e21157476b8976773e8577c607": {
          "model_module": "@jupyter-widgets/controls",
          "model_name": "FloatProgressModel",
          "model_module_version": "1.5.0",
          "state": {
            "_dom_classes": [],
            "_model_module": "@jupyter-widgets/controls",
            "_model_module_version": "1.5.0",
            "_model_name": "FloatProgressModel",
            "_view_count": null,
            "_view_module": "@jupyter-widgets/controls",
            "_view_module_version": "1.5.0",
            "_view_name": "ProgressView",
            "bar_style": "success",
            "description": "",
            "description_tooltip": null,
            "layout": "IPY_MODEL_7a5c4a24ed77420dafd387521de5ee68",
            "max": 5390,
            "min": 0,
            "orientation": "horizontal",
            "style": "IPY_MODEL_0cf77d2e7b774d4c8e05336f6ec10144",
            "value": 5390
          }
        },
        "631a283f9a5147f485dcda64a20f6cbc": {
          "model_module": "@jupyter-widgets/controls",
          "model_name": "HTMLModel",
          "model_module_version": "1.5.0",
          "state": {
            "_dom_classes": [],
            "_model_module": "@jupyter-widgets/controls",
            "_model_module_version": "1.5.0",
            "_model_name": "HTMLModel",
            "_view_count": null,
            "_view_module": "@jupyter-widgets/controls",
            "_view_module_version": "1.5.0",
            "_view_name": "HTMLView",
            "description": "",
            "description_tooltip": null,
            "layout": "IPY_MODEL_3afeb9aa79b441018da35aa72ebbddbd",
            "placeholder": "​",
            "style": "IPY_MODEL_184067e4147f4b42aa27050f61a1d242",
            "value": " 5.26k/5.26k [06:34&lt;00:00, 12.5kB/s]"
          }
        },
        "6dd5005c04a04fd69d9472a51e5fc9d7": {
          "model_module": "@jupyter-widgets/base",
          "model_name": "LayoutModel",
          "model_module_version": "1.2.0",
          "state": {
            "_model_module": "@jupyter-widgets/base",
            "_model_module_version": "1.2.0",
            "_model_name": "LayoutModel",
            "_view_count": null,
            "_view_module": "@jupyter-widgets/base",
            "_view_module_version": "1.2.0",
            "_view_name": "LayoutView",
            "align_content": null,
            "align_items": null,
            "align_self": null,
            "border": null,
            "bottom": null,
            "display": null,
            "flex": null,
            "flex_flow": null,
            "grid_area": null,
            "grid_auto_columns": null,
            "grid_auto_flow": null,
            "grid_auto_rows": null,
            "grid_column": null,
            "grid_gap": null,
            "grid_row": null,
            "grid_template_areas": null,
            "grid_template_columns": null,
            "grid_template_rows": null,
            "height": null,
            "justify_content": null,
            "justify_items": null,
            "left": null,
            "margin": null,
            "max_height": null,
            "max_width": null,
            "min_height": null,
            "min_width": null,
            "object_fit": null,
            "object_position": null,
            "order": null,
            "overflow": null,
            "overflow_x": null,
            "overflow_y": null,
            "padding": null,
            "right": null,
            "top": null,
            "visibility": null,
            "width": null
          }
        },
        "d82a8d4a07d5449693fe43c28670f852": {
          "model_module": "@jupyter-widgets/base",
          "model_name": "LayoutModel",
          "model_module_version": "1.2.0",
          "state": {
            "_model_module": "@jupyter-widgets/base",
            "_model_module_version": "1.2.0",
            "_model_name": "LayoutModel",
            "_view_count": null,
            "_view_module": "@jupyter-widgets/base",
            "_view_module_version": "1.2.0",
            "_view_name": "LayoutView",
            "align_content": null,
            "align_items": null,
            "align_self": null,
            "border": null,
            "bottom": null,
            "display": null,
            "flex": null,
            "flex_flow": null,
            "grid_area": null,
            "grid_auto_columns": null,
            "grid_auto_flow": null,
            "grid_auto_rows": null,
            "grid_column": null,
            "grid_gap": null,
            "grid_row": null,
            "grid_template_areas": null,
            "grid_template_columns": null,
            "grid_template_rows": null,
            "height": null,
            "justify_content": null,
            "justify_items": null,
            "left": null,
            "margin": null,
            "max_height": null,
            "max_width": null,
            "min_height": null,
            "min_width": null,
            "object_fit": null,
            "object_position": null,
            "order": null,
            "overflow": null,
            "overflow_x": null,
            "overflow_y": null,
            "padding": null,
            "right": null,
            "top": null,
            "visibility": null,
            "width": null
          }
        },
        "0319f7dfa6c44838ab511499fa63ab4a": {
          "model_module": "@jupyter-widgets/controls",
          "model_name": "DescriptionStyleModel",
          "model_module_version": "1.5.0",
          "state": {
            "_model_module": "@jupyter-widgets/controls",
            "_model_module_version": "1.5.0",
            "_model_name": "DescriptionStyleModel",
            "_view_count": null,
            "_view_module": "@jupyter-widgets/base",
            "_view_module_version": "1.2.0",
            "_view_name": "StyleView",
            "description_width": ""
          }
        },
        "7a5c4a24ed77420dafd387521de5ee68": {
          "model_module": "@jupyter-widgets/base",
          "model_name": "LayoutModel",
          "model_module_version": "1.2.0",
          "state": {
            "_model_module": "@jupyter-widgets/base",
            "_model_module_version": "1.2.0",
            "_model_name": "LayoutModel",
            "_view_count": null,
            "_view_module": "@jupyter-widgets/base",
            "_view_module_version": "1.2.0",
            "_view_name": "LayoutView",
            "align_content": null,
            "align_items": null,
            "align_self": null,
            "border": null,
            "bottom": null,
            "display": null,
            "flex": null,
            "flex_flow": null,
            "grid_area": null,
            "grid_auto_columns": null,
            "grid_auto_flow": null,
            "grid_auto_rows": null,
            "grid_column": null,
            "grid_gap": null,
            "grid_row": null,
            "grid_template_areas": null,
            "grid_template_columns": null,
            "grid_template_rows": null,
            "height": null,
            "justify_content": null,
            "justify_items": null,
            "left": null,
            "margin": null,
            "max_height": null,
            "max_width": null,
            "min_height": null,
            "min_width": null,
            "object_fit": null,
            "object_position": null,
            "order": null,
            "overflow": null,
            "overflow_x": null,
            "overflow_y": null,
            "padding": null,
            "right": null,
            "top": null,
            "visibility": null,
            "width": null
          }
        },
        "0cf77d2e7b774d4c8e05336f6ec10144": {
          "model_module": "@jupyter-widgets/controls",
          "model_name": "ProgressStyleModel",
          "model_module_version": "1.5.0",
          "state": {
            "_model_module": "@jupyter-widgets/controls",
            "_model_module_version": "1.5.0",
            "_model_name": "ProgressStyleModel",
            "_view_count": null,
            "_view_module": "@jupyter-widgets/base",
            "_view_module_version": "1.2.0",
            "_view_name": "StyleView",
            "bar_color": null,
            "description_width": ""
          }
        },
        "3afeb9aa79b441018da35aa72ebbddbd": {
          "model_module": "@jupyter-widgets/base",
          "model_name": "LayoutModel",
          "model_module_version": "1.2.0",
          "state": {
            "_model_module": "@jupyter-widgets/base",
            "_model_module_version": "1.2.0",
            "_model_name": "LayoutModel",
            "_view_count": null,
            "_view_module": "@jupyter-widgets/base",
            "_view_module_version": "1.2.0",
            "_view_name": "LayoutView",
            "align_content": null,
            "align_items": null,
            "align_self": null,
            "border": null,
            "bottom": null,
            "display": null,
            "flex": null,
            "flex_flow": null,
            "grid_area": null,
            "grid_auto_columns": null,
            "grid_auto_flow": null,
            "grid_auto_rows": null,
            "grid_column": null,
            "grid_gap": null,
            "grid_row": null,
            "grid_template_areas": null,
            "grid_template_columns": null,
            "grid_template_rows": null,
            "height": null,
            "justify_content": null,
            "justify_items": null,
            "left": null,
            "margin": null,
            "max_height": null,
            "max_width": null,
            "min_height": null,
            "min_width": null,
            "object_fit": null,
            "object_position": null,
            "order": null,
            "overflow": null,
            "overflow_x": null,
            "overflow_y": null,
            "padding": null,
            "right": null,
            "top": null,
            "visibility": null,
            "width": null
          }
        },
        "184067e4147f4b42aa27050f61a1d242": {
          "model_module": "@jupyter-widgets/controls",
          "model_name": "DescriptionStyleModel",
          "model_module_version": "1.5.0",
          "state": {
            "_model_module": "@jupyter-widgets/controls",
            "_model_module_version": "1.5.0",
            "_model_name": "DescriptionStyleModel",
            "_view_count": null,
            "_view_module": "@jupyter-widgets/base",
            "_view_module_version": "1.2.0",
            "_view_name": "StyleView",
            "description_width": ""
          }
        },
        "0c67cb2d10874eb4baec22dd3776d63d": {
          "model_module": "@jupyter-widgets/controls",
          "model_name": "HBoxModel",
          "model_module_version": "1.5.0",
          "state": {
            "_dom_classes": [],
            "_model_module": "@jupyter-widgets/controls",
            "_model_module_version": "1.5.0",
            "_model_name": "HBoxModel",
            "_view_count": null,
            "_view_module": "@jupyter-widgets/controls",
            "_view_module_version": "1.5.0",
            "_view_name": "HBoxView",
            "box_style": "",
            "children": [
              "IPY_MODEL_d4d41c2e458b428899981e5cc0db3541",
              "IPY_MODEL_9ff9a455c6e44b1cbe4fb129b056fced",
              "IPY_MODEL_97fbc18eb0c44f5c845d11e5e817162b"
            ],
            "layout": "IPY_MODEL_2407d041a265437e825872572ebed8a9"
          }
        },
        "d4d41c2e458b428899981e5cc0db3541": {
          "model_module": "@jupyter-widgets/controls",
          "model_name": "HTMLModel",
          "model_module_version": "1.5.0",
          "state": {
            "_dom_classes": [],
            "_model_module": "@jupyter-widgets/controls",
            "_model_module_version": "1.5.0",
            "_model_name": "HTMLModel",
            "_view_count": null,
            "_view_module": "@jupyter-widgets/controls",
            "_view_module_version": "1.5.0",
            "_view_name": "HTMLView",
            "description": "",
            "description_tooltip": null,
            "layout": "IPY_MODEL_ea64054dcb304c33abb1ae6cda622b19",
            "placeholder": "​",
            "style": "IPY_MODEL_6c564fa779fe4da58ccfdf3e15ecfa2d",
            "value": "Upload file training_args.bin: 100%"
          }
        },
        "9ff9a455c6e44b1cbe4fb129b056fced": {
          "model_module": "@jupyter-widgets/controls",
          "model_name": "FloatProgressModel",
          "model_module_version": "1.5.0",
          "state": {
            "_dom_classes": [],
            "_model_module": "@jupyter-widgets/controls",
            "_model_module_version": "1.5.0",
            "_model_name": "FloatProgressModel",
            "_view_count": null,
            "_view_module": "@jupyter-widgets/controls",
            "_view_module_version": "1.5.0",
            "_view_name": "ProgressView",
            "bar_style": "success",
            "description": "",
            "description_tooltip": null,
            "layout": "IPY_MODEL_573de4fc6bcd4d55a310936f19feb629",
            "max": 2863,
            "min": 0,
            "orientation": "horizontal",
            "style": "IPY_MODEL_4205e9d72e2347e48a297d24d2a9923b",
            "value": 2863
          }
        },
        "97fbc18eb0c44f5c845d11e5e817162b": {
          "model_module": "@jupyter-widgets/controls",
          "model_name": "HTMLModel",
          "model_module_version": "1.5.0",
          "state": {
            "_dom_classes": [],
            "_model_module": "@jupyter-widgets/controls",
            "_model_module_version": "1.5.0",
            "_model_name": "HTMLModel",
            "_view_count": null,
            "_view_module": "@jupyter-widgets/controls",
            "_view_module_version": "1.5.0",
            "_view_name": "HTMLView",
            "description": "",
            "description_tooltip": null,
            "layout": "IPY_MODEL_c665fcbf85f04e62856a3fe5634ebf2e",
            "placeholder": "​",
            "style": "IPY_MODEL_4ab1932f199f406892e918f317b5d0ba",
            "value": " 2.80k/2.80k [06:34&lt;?, ?B/s]"
          }
        },
        "2407d041a265437e825872572ebed8a9": {
          "model_module": "@jupyter-widgets/base",
          "model_name": "LayoutModel",
          "model_module_version": "1.2.0",
          "state": {
            "_model_module": "@jupyter-widgets/base",
            "_model_module_version": "1.2.0",
            "_model_name": "LayoutModel",
            "_view_count": null,
            "_view_module": "@jupyter-widgets/base",
            "_view_module_version": "1.2.0",
            "_view_name": "LayoutView",
            "align_content": null,
            "align_items": null,
            "align_self": null,
            "border": null,
            "bottom": null,
            "display": null,
            "flex": null,
            "flex_flow": null,
            "grid_area": null,
            "grid_auto_columns": null,
            "grid_auto_flow": null,
            "grid_auto_rows": null,
            "grid_column": null,
            "grid_gap": null,
            "grid_row": null,
            "grid_template_areas": null,
            "grid_template_columns": null,
            "grid_template_rows": null,
            "height": null,
            "justify_content": null,
            "justify_items": null,
            "left": null,
            "margin": null,
            "max_height": null,
            "max_width": null,
            "min_height": null,
            "min_width": null,
            "object_fit": null,
            "object_position": null,
            "order": null,
            "overflow": null,
            "overflow_x": null,
            "overflow_y": null,
            "padding": null,
            "right": null,
            "top": null,
            "visibility": null,
            "width": null
          }
        },
        "ea64054dcb304c33abb1ae6cda622b19": {
          "model_module": "@jupyter-widgets/base",
          "model_name": "LayoutModel",
          "model_module_version": "1.2.0",
          "state": {
            "_model_module": "@jupyter-widgets/base",
            "_model_module_version": "1.2.0",
            "_model_name": "LayoutModel",
            "_view_count": null,
            "_view_module": "@jupyter-widgets/base",
            "_view_module_version": "1.2.0",
            "_view_name": "LayoutView",
            "align_content": null,
            "align_items": null,
            "align_self": null,
            "border": null,
            "bottom": null,
            "display": null,
            "flex": null,
            "flex_flow": null,
            "grid_area": null,
            "grid_auto_columns": null,
            "grid_auto_flow": null,
            "grid_auto_rows": null,
            "grid_column": null,
            "grid_gap": null,
            "grid_row": null,
            "grid_template_areas": null,
            "grid_template_columns": null,
            "grid_template_rows": null,
            "height": null,
            "justify_content": null,
            "justify_items": null,
            "left": null,
            "margin": null,
            "max_height": null,
            "max_width": null,
            "min_height": null,
            "min_width": null,
            "object_fit": null,
            "object_position": null,
            "order": null,
            "overflow": null,
            "overflow_x": null,
            "overflow_y": null,
            "padding": null,
            "right": null,
            "top": null,
            "visibility": null,
            "width": null
          }
        },
        "6c564fa779fe4da58ccfdf3e15ecfa2d": {
          "model_module": "@jupyter-widgets/controls",
          "model_name": "DescriptionStyleModel",
          "model_module_version": "1.5.0",
          "state": {
            "_model_module": "@jupyter-widgets/controls",
            "_model_module_version": "1.5.0",
            "_model_name": "DescriptionStyleModel",
            "_view_count": null,
            "_view_module": "@jupyter-widgets/base",
            "_view_module_version": "1.2.0",
            "_view_name": "StyleView",
            "description_width": ""
          }
        },
        "573de4fc6bcd4d55a310936f19feb629": {
          "model_module": "@jupyter-widgets/base",
          "model_name": "LayoutModel",
          "model_module_version": "1.2.0",
          "state": {
            "_model_module": "@jupyter-widgets/base",
            "_model_module_version": "1.2.0",
            "_model_name": "LayoutModel",
            "_view_count": null,
            "_view_module": "@jupyter-widgets/base",
            "_view_module_version": "1.2.0",
            "_view_name": "LayoutView",
            "align_content": null,
            "align_items": null,
            "align_self": null,
            "border": null,
            "bottom": null,
            "display": null,
            "flex": null,
            "flex_flow": null,
            "grid_area": null,
            "grid_auto_columns": null,
            "grid_auto_flow": null,
            "grid_auto_rows": null,
            "grid_column": null,
            "grid_gap": null,
            "grid_row": null,
            "grid_template_areas": null,
            "grid_template_columns": null,
            "grid_template_rows": null,
            "height": null,
            "justify_content": null,
            "justify_items": null,
            "left": null,
            "margin": null,
            "max_height": null,
            "max_width": null,
            "min_height": null,
            "min_width": null,
            "object_fit": null,
            "object_position": null,
            "order": null,
            "overflow": null,
            "overflow_x": null,
            "overflow_y": null,
            "padding": null,
            "right": null,
            "top": null,
            "visibility": null,
            "width": null
          }
        },
        "4205e9d72e2347e48a297d24d2a9923b": {
          "model_module": "@jupyter-widgets/controls",
          "model_name": "ProgressStyleModel",
          "model_module_version": "1.5.0",
          "state": {
            "_model_module": "@jupyter-widgets/controls",
            "_model_module_version": "1.5.0",
            "_model_name": "ProgressStyleModel",
            "_view_count": null,
            "_view_module": "@jupyter-widgets/base",
            "_view_module_version": "1.2.0",
            "_view_name": "StyleView",
            "bar_color": null,
            "description_width": ""
          }
        },
        "c665fcbf85f04e62856a3fe5634ebf2e": {
          "model_module": "@jupyter-widgets/base",
          "model_name": "LayoutModel",
          "model_module_version": "1.2.0",
          "state": {
            "_model_module": "@jupyter-widgets/base",
            "_model_module_version": "1.2.0",
            "_model_name": "LayoutModel",
            "_view_count": null,
            "_view_module": "@jupyter-widgets/base",
            "_view_module_version": "1.2.0",
            "_view_name": "LayoutView",
            "align_content": null,
            "align_items": null,
            "align_self": null,
            "border": null,
            "bottom": null,
            "display": null,
            "flex": null,
            "flex_flow": null,
            "grid_area": null,
            "grid_auto_columns": null,
            "grid_auto_flow": null,
            "grid_auto_rows": null,
            "grid_column": null,
            "grid_gap": null,
            "grid_row": null,
            "grid_template_areas": null,
            "grid_template_columns": null,
            "grid_template_rows": null,
            "height": null,
            "justify_content": null,
            "justify_items": null,
            "left": null,
            "margin": null,
            "max_height": null,
            "max_width": null,
            "min_height": null,
            "min_width": null,
            "object_fit": null,
            "object_position": null,
            "order": null,
            "overflow": null,
            "overflow_x": null,
            "overflow_y": null,
            "padding": null,
            "right": null,
            "top": null,
            "visibility": null,
            "width": null
          }
        },
        "4ab1932f199f406892e918f317b5d0ba": {
          "model_module": "@jupyter-widgets/controls",
          "model_name": "DescriptionStyleModel",
          "model_module_version": "1.5.0",
          "state": {
            "_model_module": "@jupyter-widgets/controls",
            "_model_module_version": "1.5.0",
            "_model_name": "DescriptionStyleModel",
            "_view_count": null,
            "_view_module": "@jupyter-widgets/base",
            "_view_module_version": "1.2.0",
            "_view_name": "StyleView",
            "description_width": ""
          }
        },
        "c00aafac873d48b1bfb4072fc62a5e84": {
          "model_module": "@jupyter-widgets/controls",
          "model_name": "HBoxModel",
          "model_module_version": "1.5.0",
          "state": {
            "_dom_classes": [],
            "_model_module": "@jupyter-widgets/controls",
            "_model_module_version": "1.5.0",
            "_model_name": "HBoxModel",
            "_view_count": null,
            "_view_module": "@jupyter-widgets/controls",
            "_view_module_version": "1.5.0",
            "_view_name": "HBoxView",
            "box_style": "",
            "children": [
              "IPY_MODEL_96caad30c6604585a1a01c99d8459891",
              "IPY_MODEL_3acce758937040ecb4dc287252747b78",
              "IPY_MODEL_57500262fd0f4e36847574ab3dd04222"
            ],
            "layout": "IPY_MODEL_e93bf26b6a574937a003e4e14832ada1"
          }
        },
        "96caad30c6604585a1a01c99d8459891": {
          "model_module": "@jupyter-widgets/controls",
          "model_name": "HTMLModel",
          "model_module_version": "1.5.0",
          "state": {
            "_dom_classes": [],
            "_model_module": "@jupyter-widgets/controls",
            "_model_module_version": "1.5.0",
            "_model_name": "HTMLModel",
            "_view_count": null,
            "_view_module": "@jupyter-widgets/controls",
            "_view_module_version": "1.5.0",
            "_view_name": "HTMLView",
            "description": "",
            "description_tooltip": null,
            "layout": "IPY_MODEL_c9b13f9c485840acabfef7494c592bec",
            "placeholder": "​",
            "style": "IPY_MODEL_ba23700b8b944edca27caf9ccecd666a",
            "value": "Upload file runs/May12_02-15-52_f6718c83993a/1652321761.5831435/events.out.tfevents.1652321761.f6718c83993a.63.5: 100%"
          }
        },
        "3acce758937040ecb4dc287252747b78": {
          "model_module": "@jupyter-widgets/controls",
          "model_name": "FloatProgressModel",
          "model_module_version": "1.5.0",
          "state": {
            "_dom_classes": [],
            "_model_module": "@jupyter-widgets/controls",
            "_model_module_version": "1.5.0",
            "_model_name": "FloatProgressModel",
            "_view_count": null,
            "_view_module": "@jupyter-widgets/controls",
            "_view_module_version": "1.5.0",
            "_view_name": "ProgressView",
            "bar_style": "success",
            "description": "",
            "description_tooltip": null,
            "layout": "IPY_MODEL_789d949d02df4ea6b2394f41b7d9b7c3",
            "max": 4544,
            "min": 0,
            "orientation": "horizontal",
            "style": "IPY_MODEL_c3b894e989694f8e89daf95437845c90",
            "value": 4544
          }
        },
        "57500262fd0f4e36847574ab3dd04222": {
          "model_module": "@jupyter-widgets/controls",
          "model_name": "HTMLModel",
          "model_module_version": "1.5.0",
          "state": {
            "_dom_classes": [],
            "_model_module": "@jupyter-widgets/controls",
            "_model_module_version": "1.5.0",
            "_model_name": "HTMLModel",
            "_view_count": null,
            "_view_module": "@jupyter-widgets/controls",
            "_view_module_version": "1.5.0",
            "_view_name": "HTMLView",
            "description": "",
            "description_tooltip": null,
            "layout": "IPY_MODEL_4ec52ddd0e8b440ea1fc3fcfc4ef8749",
            "placeholder": "​",
            "style": "IPY_MODEL_0746deb361e549dda738d4d006a1bb6f",
            "value": " 4.44k/4.44k [06:33&lt;00:00, 2.85B/s]"
          }
        },
        "e93bf26b6a574937a003e4e14832ada1": {
          "model_module": "@jupyter-widgets/base",
          "model_name": "LayoutModel",
          "model_module_version": "1.2.0",
          "state": {
            "_model_module": "@jupyter-widgets/base",
            "_model_module_version": "1.2.0",
            "_model_name": "LayoutModel",
            "_view_count": null,
            "_view_module": "@jupyter-widgets/base",
            "_view_module_version": "1.2.0",
            "_view_name": "LayoutView",
            "align_content": null,
            "align_items": null,
            "align_self": null,
            "border": null,
            "bottom": null,
            "display": null,
            "flex": null,
            "flex_flow": null,
            "grid_area": null,
            "grid_auto_columns": null,
            "grid_auto_flow": null,
            "grid_auto_rows": null,
            "grid_column": null,
            "grid_gap": null,
            "grid_row": null,
            "grid_template_areas": null,
            "grid_template_columns": null,
            "grid_template_rows": null,
            "height": null,
            "justify_content": null,
            "justify_items": null,
            "left": null,
            "margin": null,
            "max_height": null,
            "max_width": null,
            "min_height": null,
            "min_width": null,
            "object_fit": null,
            "object_position": null,
            "order": null,
            "overflow": null,
            "overflow_x": null,
            "overflow_y": null,
            "padding": null,
            "right": null,
            "top": null,
            "visibility": null,
            "width": null
          }
        },
        "c9b13f9c485840acabfef7494c592bec": {
          "model_module": "@jupyter-widgets/base",
          "model_name": "LayoutModel",
          "model_module_version": "1.2.0",
          "state": {
            "_model_module": "@jupyter-widgets/base",
            "_model_module_version": "1.2.0",
            "_model_name": "LayoutModel",
            "_view_count": null,
            "_view_module": "@jupyter-widgets/base",
            "_view_module_version": "1.2.0",
            "_view_name": "LayoutView",
            "align_content": null,
            "align_items": null,
            "align_self": null,
            "border": null,
            "bottom": null,
            "display": null,
            "flex": null,
            "flex_flow": null,
            "grid_area": null,
            "grid_auto_columns": null,
            "grid_auto_flow": null,
            "grid_auto_rows": null,
            "grid_column": null,
            "grid_gap": null,
            "grid_row": null,
            "grid_template_areas": null,
            "grid_template_columns": null,
            "grid_template_rows": null,
            "height": null,
            "justify_content": null,
            "justify_items": null,
            "left": null,
            "margin": null,
            "max_height": null,
            "max_width": null,
            "min_height": null,
            "min_width": null,
            "object_fit": null,
            "object_position": null,
            "order": null,
            "overflow": null,
            "overflow_x": null,
            "overflow_y": null,
            "padding": null,
            "right": null,
            "top": null,
            "visibility": null,
            "width": null
          }
        },
        "ba23700b8b944edca27caf9ccecd666a": {
          "model_module": "@jupyter-widgets/controls",
          "model_name": "DescriptionStyleModel",
          "model_module_version": "1.5.0",
          "state": {
            "_model_module": "@jupyter-widgets/controls",
            "_model_module_version": "1.5.0",
            "_model_name": "DescriptionStyleModel",
            "_view_count": null,
            "_view_module": "@jupyter-widgets/base",
            "_view_module_version": "1.2.0",
            "_view_name": "StyleView",
            "description_width": ""
          }
        },
        "789d949d02df4ea6b2394f41b7d9b7c3": {
          "model_module": "@jupyter-widgets/base",
          "model_name": "LayoutModel",
          "model_module_version": "1.2.0",
          "state": {
            "_model_module": "@jupyter-widgets/base",
            "_model_module_version": "1.2.0",
            "_model_name": "LayoutModel",
            "_view_count": null,
            "_view_module": "@jupyter-widgets/base",
            "_view_module_version": "1.2.0",
            "_view_name": "LayoutView",
            "align_content": null,
            "align_items": null,
            "align_self": null,
            "border": null,
            "bottom": null,
            "display": null,
            "flex": null,
            "flex_flow": null,
            "grid_area": null,
            "grid_auto_columns": null,
            "grid_auto_flow": null,
            "grid_auto_rows": null,
            "grid_column": null,
            "grid_gap": null,
            "grid_row": null,
            "grid_template_areas": null,
            "grid_template_columns": null,
            "grid_template_rows": null,
            "height": null,
            "justify_content": null,
            "justify_items": null,
            "left": null,
            "margin": null,
            "max_height": null,
            "max_width": null,
            "min_height": null,
            "min_width": null,
            "object_fit": null,
            "object_position": null,
            "order": null,
            "overflow": null,
            "overflow_x": null,
            "overflow_y": null,
            "padding": null,
            "right": null,
            "top": null,
            "visibility": null,
            "width": null
          }
        },
        "c3b894e989694f8e89daf95437845c90": {
          "model_module": "@jupyter-widgets/controls",
          "model_name": "ProgressStyleModel",
          "model_module_version": "1.5.0",
          "state": {
            "_model_module": "@jupyter-widgets/controls",
            "_model_module_version": "1.5.0",
            "_model_name": "ProgressStyleModel",
            "_view_count": null,
            "_view_module": "@jupyter-widgets/base",
            "_view_module_version": "1.2.0",
            "_view_name": "StyleView",
            "bar_color": null,
            "description_width": ""
          }
        },
        "4ec52ddd0e8b440ea1fc3fcfc4ef8749": {
          "model_module": "@jupyter-widgets/base",
          "model_name": "LayoutModel",
          "model_module_version": "1.2.0",
          "state": {
            "_model_module": "@jupyter-widgets/base",
            "_model_module_version": "1.2.0",
            "_model_name": "LayoutModel",
            "_view_count": null,
            "_view_module": "@jupyter-widgets/base",
            "_view_module_version": "1.2.0",
            "_view_name": "LayoutView",
            "align_content": null,
            "align_items": null,
            "align_self": null,
            "border": null,
            "bottom": null,
            "display": null,
            "flex": null,
            "flex_flow": null,
            "grid_area": null,
            "grid_auto_columns": null,
            "grid_auto_flow": null,
            "grid_auto_rows": null,
            "grid_column": null,
            "grid_gap": null,
            "grid_row": null,
            "grid_template_areas": null,
            "grid_template_columns": null,
            "grid_template_rows": null,
            "height": null,
            "justify_content": null,
            "justify_items": null,
            "left": null,
            "margin": null,
            "max_height": null,
            "max_width": null,
            "min_height": null,
            "min_width": null,
            "object_fit": null,
            "object_position": null,
            "order": null,
            "overflow": null,
            "overflow_x": null,
            "overflow_y": null,
            "padding": null,
            "right": null,
            "top": null,
            "visibility": null,
            "width": null
          }
        },
        "0746deb361e549dda738d4d006a1bb6f": {
          "model_module": "@jupyter-widgets/controls",
          "model_name": "DescriptionStyleModel",
          "model_module_version": "1.5.0",
          "state": {
            "_model_module": "@jupyter-widgets/controls",
            "_model_module_version": "1.5.0",
            "_model_name": "DescriptionStyleModel",
            "_view_count": null,
            "_view_module": "@jupyter-widgets/base",
            "_view_module_version": "1.2.0",
            "_view_name": "StyleView",
            "description_width": ""
          }
        },
        "5c4d9f74b42c4a11a65e222fd401aef8": {
          "model_module": "@jupyter-widgets/controls",
          "model_name": "HBoxModel",
          "model_module_version": "1.5.0",
          "state": {
            "_dom_classes": [],
            "_model_module": "@jupyter-widgets/controls",
            "_model_module_version": "1.5.0",
            "_model_name": "HBoxModel",
            "_view_count": null,
            "_view_module": "@jupyter-widgets/controls",
            "_view_module_version": "1.5.0",
            "_view_name": "HBoxView",
            "box_style": "",
            "children": [
              "IPY_MODEL_b74c457634174935a585ca7cfc6724fe",
              "IPY_MODEL_57d8c265c20f4e349d440505fc0c004a",
              "IPY_MODEL_63b93d00d02a41dcaedc41d2d0dbef07"
            ],
            "layout": "IPY_MODEL_665ccec6c2634d92896323214adf6376"
          }
        },
        "b74c457634174935a585ca7cfc6724fe": {
          "model_module": "@jupyter-widgets/controls",
          "model_name": "HTMLModel",
          "model_module_version": "1.5.0",
          "state": {
            "_dom_classes": [],
            "_model_module": "@jupyter-widgets/controls",
            "_model_module_version": "1.5.0",
            "_model_name": "HTMLModel",
            "_view_count": null,
            "_view_module": "@jupyter-widgets/controls",
            "_view_module_version": "1.5.0",
            "_view_name": "HTMLView",
            "description": "",
            "description_tooltip": null,
            "layout": "IPY_MODEL_61145640cd084d59a1191bf83b7410e3",
            "placeholder": "​",
            "style": "IPY_MODEL_1cfda438337846918b8c0daf54bb5eda",
            "value": "Upload file runs/May12_02-07-11_f6718c83993a/1652321255.5379248/events.out.tfevents.1652321255.f6718c83993a.63.3: 100%"
          }
        },
        "57d8c265c20f4e349d440505fc0c004a": {
          "model_module": "@jupyter-widgets/controls",
          "model_name": "FloatProgressModel",
          "model_module_version": "1.5.0",
          "state": {
            "_dom_classes": [],
            "_model_module": "@jupyter-widgets/controls",
            "_model_module_version": "1.5.0",
            "_model_name": "FloatProgressModel",
            "_view_count": null,
            "_view_module": "@jupyter-widgets/controls",
            "_view_module_version": "1.5.0",
            "_view_name": "ProgressView",
            "bar_style": "success",
            "description": "",
            "description_tooltip": null,
            "layout": "IPY_MODEL_5279c3745d0a4bc5be15efc2cd7da640",
            "max": 4544,
            "min": 0,
            "orientation": "horizontal",
            "style": "IPY_MODEL_a7c3fdeb1f634eb79b12bbfdacff4a3d",
            "value": 4544
          }
        },
        "63b93d00d02a41dcaedc41d2d0dbef07": {
          "model_module": "@jupyter-widgets/controls",
          "model_name": "HTMLModel",
          "model_module_version": "1.5.0",
          "state": {
            "_dom_classes": [],
            "_model_module": "@jupyter-widgets/controls",
            "_model_module_version": "1.5.0",
            "_model_name": "HTMLModel",
            "_view_count": null,
            "_view_module": "@jupyter-widgets/controls",
            "_view_module_version": "1.5.0",
            "_view_name": "HTMLView",
            "description": "",
            "description_tooltip": null,
            "layout": "IPY_MODEL_3051a5bab1154a4a90177c419f4ea49b",
            "placeholder": "​",
            "style": "IPY_MODEL_244d1d36e269476cb71c73d4b32cc391",
            "value": " 4.44k/4.44k [06:33&lt;00:00, 11.2kB/s]"
          }
        },
        "665ccec6c2634d92896323214adf6376": {
          "model_module": "@jupyter-widgets/base",
          "model_name": "LayoutModel",
          "model_module_version": "1.2.0",
          "state": {
            "_model_module": "@jupyter-widgets/base",
            "_model_module_version": "1.2.0",
            "_model_name": "LayoutModel",
            "_view_count": null,
            "_view_module": "@jupyter-widgets/base",
            "_view_module_version": "1.2.0",
            "_view_name": "LayoutView",
            "align_content": null,
            "align_items": null,
            "align_self": null,
            "border": null,
            "bottom": null,
            "display": null,
            "flex": null,
            "flex_flow": null,
            "grid_area": null,
            "grid_auto_columns": null,
            "grid_auto_flow": null,
            "grid_auto_rows": null,
            "grid_column": null,
            "grid_gap": null,
            "grid_row": null,
            "grid_template_areas": null,
            "grid_template_columns": null,
            "grid_template_rows": null,
            "height": null,
            "justify_content": null,
            "justify_items": null,
            "left": null,
            "margin": null,
            "max_height": null,
            "max_width": null,
            "min_height": null,
            "min_width": null,
            "object_fit": null,
            "object_position": null,
            "order": null,
            "overflow": null,
            "overflow_x": null,
            "overflow_y": null,
            "padding": null,
            "right": null,
            "top": null,
            "visibility": null,
            "width": null
          }
        },
        "61145640cd084d59a1191bf83b7410e3": {
          "model_module": "@jupyter-widgets/base",
          "model_name": "LayoutModel",
          "model_module_version": "1.2.0",
          "state": {
            "_model_module": "@jupyter-widgets/base",
            "_model_module_version": "1.2.0",
            "_model_name": "LayoutModel",
            "_view_count": null,
            "_view_module": "@jupyter-widgets/base",
            "_view_module_version": "1.2.0",
            "_view_name": "LayoutView",
            "align_content": null,
            "align_items": null,
            "align_self": null,
            "border": null,
            "bottom": null,
            "display": null,
            "flex": null,
            "flex_flow": null,
            "grid_area": null,
            "grid_auto_columns": null,
            "grid_auto_flow": null,
            "grid_auto_rows": null,
            "grid_column": null,
            "grid_gap": null,
            "grid_row": null,
            "grid_template_areas": null,
            "grid_template_columns": null,
            "grid_template_rows": null,
            "height": null,
            "justify_content": null,
            "justify_items": null,
            "left": null,
            "margin": null,
            "max_height": null,
            "max_width": null,
            "min_height": null,
            "min_width": null,
            "object_fit": null,
            "object_position": null,
            "order": null,
            "overflow": null,
            "overflow_x": null,
            "overflow_y": null,
            "padding": null,
            "right": null,
            "top": null,
            "visibility": null,
            "width": null
          }
        },
        "1cfda438337846918b8c0daf54bb5eda": {
          "model_module": "@jupyter-widgets/controls",
          "model_name": "DescriptionStyleModel",
          "model_module_version": "1.5.0",
          "state": {
            "_model_module": "@jupyter-widgets/controls",
            "_model_module_version": "1.5.0",
            "_model_name": "DescriptionStyleModel",
            "_view_count": null,
            "_view_module": "@jupyter-widgets/base",
            "_view_module_version": "1.2.0",
            "_view_name": "StyleView",
            "description_width": ""
          }
        },
        "5279c3745d0a4bc5be15efc2cd7da640": {
          "model_module": "@jupyter-widgets/base",
          "model_name": "LayoutModel",
          "model_module_version": "1.2.0",
          "state": {
            "_model_module": "@jupyter-widgets/base",
            "_model_module_version": "1.2.0",
            "_model_name": "LayoutModel",
            "_view_count": null,
            "_view_module": "@jupyter-widgets/base",
            "_view_module_version": "1.2.0",
            "_view_name": "LayoutView",
            "align_content": null,
            "align_items": null,
            "align_self": null,
            "border": null,
            "bottom": null,
            "display": null,
            "flex": null,
            "flex_flow": null,
            "grid_area": null,
            "grid_auto_columns": null,
            "grid_auto_flow": null,
            "grid_auto_rows": null,
            "grid_column": null,
            "grid_gap": null,
            "grid_row": null,
            "grid_template_areas": null,
            "grid_template_columns": null,
            "grid_template_rows": null,
            "height": null,
            "justify_content": null,
            "justify_items": null,
            "left": null,
            "margin": null,
            "max_height": null,
            "max_width": null,
            "min_height": null,
            "min_width": null,
            "object_fit": null,
            "object_position": null,
            "order": null,
            "overflow": null,
            "overflow_x": null,
            "overflow_y": null,
            "padding": null,
            "right": null,
            "top": null,
            "visibility": null,
            "width": null
          }
        },
        "a7c3fdeb1f634eb79b12bbfdacff4a3d": {
          "model_module": "@jupyter-widgets/controls",
          "model_name": "ProgressStyleModel",
          "model_module_version": "1.5.0",
          "state": {
            "_model_module": "@jupyter-widgets/controls",
            "_model_module_version": "1.5.0",
            "_model_name": "ProgressStyleModel",
            "_view_count": null,
            "_view_module": "@jupyter-widgets/base",
            "_view_module_version": "1.2.0",
            "_view_name": "StyleView",
            "bar_color": null,
            "description_width": ""
          }
        },
        "3051a5bab1154a4a90177c419f4ea49b": {
          "model_module": "@jupyter-widgets/base",
          "model_name": "LayoutModel",
          "model_module_version": "1.2.0",
          "state": {
            "_model_module": "@jupyter-widgets/base",
            "_model_module_version": "1.2.0",
            "_model_name": "LayoutModel",
            "_view_count": null,
            "_view_module": "@jupyter-widgets/base",
            "_view_module_version": "1.2.0",
            "_view_name": "LayoutView",
            "align_content": null,
            "align_items": null,
            "align_self": null,
            "border": null,
            "bottom": null,
            "display": null,
            "flex": null,
            "flex_flow": null,
            "grid_area": null,
            "grid_auto_columns": null,
            "grid_auto_flow": null,
            "grid_auto_rows": null,
            "grid_column": null,
            "grid_gap": null,
            "grid_row": null,
            "grid_template_areas": null,
            "grid_template_columns": null,
            "grid_template_rows": null,
            "height": null,
            "justify_content": null,
            "justify_items": null,
            "left": null,
            "margin": null,
            "max_height": null,
            "max_width": null,
            "min_height": null,
            "min_width": null,
            "object_fit": null,
            "object_position": null,
            "order": null,
            "overflow": null,
            "overflow_x": null,
            "overflow_y": null,
            "padding": null,
            "right": null,
            "top": null,
            "visibility": null,
            "width": null
          }
        },
        "244d1d36e269476cb71c73d4b32cc391": {
          "model_module": "@jupyter-widgets/controls",
          "model_name": "DescriptionStyleModel",
          "model_module_version": "1.5.0",
          "state": {
            "_model_module": "@jupyter-widgets/controls",
            "_model_module_version": "1.5.0",
            "_model_name": "DescriptionStyleModel",
            "_view_count": null,
            "_view_module": "@jupyter-widgets/base",
            "_view_module_version": "1.2.0",
            "_view_name": "StyleView",
            "description_width": ""
          }
        },
        "5aa647e835c848699e6bba866e89fe4c": {
          "model_module": "@jupyter-widgets/controls",
          "model_name": "HBoxModel",
          "model_module_version": "1.5.0",
          "state": {
            "_dom_classes": [],
            "_model_module": "@jupyter-widgets/controls",
            "_model_module_version": "1.5.0",
            "_model_name": "HBoxModel",
            "_view_count": null,
            "_view_module": "@jupyter-widgets/controls",
            "_view_module_version": "1.5.0",
            "_view_name": "HBoxView",
            "box_style": "",
            "children": [
              "IPY_MODEL_15ae3d454db044daa8512b2fe47ee98a",
              "IPY_MODEL_275eb4c0c741453c8a7c9babb70b032e",
              "IPY_MODEL_eca7fc89e8d04192a1b332d91d1a0ae1"
            ],
            "layout": "IPY_MODEL_b78e6ba56e3744cd8af301f1307fbafb"
          }
        },
        "15ae3d454db044daa8512b2fe47ee98a": {
          "model_module": "@jupyter-widgets/controls",
          "model_name": "HTMLModel",
          "model_module_version": "1.5.0",
          "state": {
            "_dom_classes": [],
            "_model_module": "@jupyter-widgets/controls",
            "_model_module_version": "1.5.0",
            "_model_name": "HTMLModel",
            "_view_count": null,
            "_view_module": "@jupyter-widgets/controls",
            "_view_module_version": "1.5.0",
            "_view_name": "HTMLView",
            "description": "",
            "description_tooltip": null,
            "layout": "IPY_MODEL_77d828a0dbe04e0ab01fbbd1d6fc6c1e",
            "placeholder": "​",
            "style": "IPY_MODEL_9820aa8b64834c02bc3723334a4574d8",
            "value": "Upload file runs/May12_02-07-11_f6718c83993a/events.out.tfevents.1652321255.f6718c83993a.63.2: 100%"
          }
        },
        "275eb4c0c741453c8a7c9babb70b032e": {
          "model_module": "@jupyter-widgets/controls",
          "model_name": "FloatProgressModel",
          "model_module_version": "1.5.0",
          "state": {
            "_dom_classes": [],
            "_model_module": "@jupyter-widgets/controls",
            "_model_module_version": "1.5.0",
            "_model_name": "FloatProgressModel",
            "_view_count": null,
            "_view_module": "@jupyter-widgets/controls",
            "_view_module_version": "1.5.0",
            "_view_name": "ProgressView",
            "bar_style": "success",
            "description": "",
            "description_tooltip": null,
            "layout": "IPY_MODEL_3d9604cd45fa44fe913a5b43341b62d3",
            "max": 4774,
            "min": 0,
            "orientation": "horizontal",
            "style": "IPY_MODEL_63023e1ca2244bcc9d3fecbe371cc2ec",
            "value": 4774
          }
        },
        "eca7fc89e8d04192a1b332d91d1a0ae1": {
          "model_module": "@jupyter-widgets/controls",
          "model_name": "HTMLModel",
          "model_module_version": "1.5.0",
          "state": {
            "_dom_classes": [],
            "_model_module": "@jupyter-widgets/controls",
            "_model_module_version": "1.5.0",
            "_model_name": "HTMLModel",
            "_view_count": null,
            "_view_module": "@jupyter-widgets/controls",
            "_view_module_version": "1.5.0",
            "_view_name": "HTMLView",
            "description": "",
            "description_tooltip": null,
            "layout": "IPY_MODEL_06a9d536857845539c9f0c2707d2f451",
            "placeholder": "​",
            "style": "IPY_MODEL_2599899234b847eb9f65513574436b1f",
            "value": " 4.66k/4.66k [06:33&lt;00:00, 3.44B/s]"
          }
        },
        "b78e6ba56e3744cd8af301f1307fbafb": {
          "model_module": "@jupyter-widgets/base",
          "model_name": "LayoutModel",
          "model_module_version": "1.2.0",
          "state": {
            "_model_module": "@jupyter-widgets/base",
            "_model_module_version": "1.2.0",
            "_model_name": "LayoutModel",
            "_view_count": null,
            "_view_module": "@jupyter-widgets/base",
            "_view_module_version": "1.2.0",
            "_view_name": "LayoutView",
            "align_content": null,
            "align_items": null,
            "align_self": null,
            "border": null,
            "bottom": null,
            "display": null,
            "flex": null,
            "flex_flow": null,
            "grid_area": null,
            "grid_auto_columns": null,
            "grid_auto_flow": null,
            "grid_auto_rows": null,
            "grid_column": null,
            "grid_gap": null,
            "grid_row": null,
            "grid_template_areas": null,
            "grid_template_columns": null,
            "grid_template_rows": null,
            "height": null,
            "justify_content": null,
            "justify_items": null,
            "left": null,
            "margin": null,
            "max_height": null,
            "max_width": null,
            "min_height": null,
            "min_width": null,
            "object_fit": null,
            "object_position": null,
            "order": null,
            "overflow": null,
            "overflow_x": null,
            "overflow_y": null,
            "padding": null,
            "right": null,
            "top": null,
            "visibility": null,
            "width": null
          }
        },
        "77d828a0dbe04e0ab01fbbd1d6fc6c1e": {
          "model_module": "@jupyter-widgets/base",
          "model_name": "LayoutModel",
          "model_module_version": "1.2.0",
          "state": {
            "_model_module": "@jupyter-widgets/base",
            "_model_module_version": "1.2.0",
            "_model_name": "LayoutModel",
            "_view_count": null,
            "_view_module": "@jupyter-widgets/base",
            "_view_module_version": "1.2.0",
            "_view_name": "LayoutView",
            "align_content": null,
            "align_items": null,
            "align_self": null,
            "border": null,
            "bottom": null,
            "display": null,
            "flex": null,
            "flex_flow": null,
            "grid_area": null,
            "grid_auto_columns": null,
            "grid_auto_flow": null,
            "grid_auto_rows": null,
            "grid_column": null,
            "grid_gap": null,
            "grid_row": null,
            "grid_template_areas": null,
            "grid_template_columns": null,
            "grid_template_rows": null,
            "height": null,
            "justify_content": null,
            "justify_items": null,
            "left": null,
            "margin": null,
            "max_height": null,
            "max_width": null,
            "min_height": null,
            "min_width": null,
            "object_fit": null,
            "object_position": null,
            "order": null,
            "overflow": null,
            "overflow_x": null,
            "overflow_y": null,
            "padding": null,
            "right": null,
            "top": null,
            "visibility": null,
            "width": null
          }
        },
        "9820aa8b64834c02bc3723334a4574d8": {
          "model_module": "@jupyter-widgets/controls",
          "model_name": "DescriptionStyleModel",
          "model_module_version": "1.5.0",
          "state": {
            "_model_module": "@jupyter-widgets/controls",
            "_model_module_version": "1.5.0",
            "_model_name": "DescriptionStyleModel",
            "_view_count": null,
            "_view_module": "@jupyter-widgets/base",
            "_view_module_version": "1.2.0",
            "_view_name": "StyleView",
            "description_width": ""
          }
        },
        "3d9604cd45fa44fe913a5b43341b62d3": {
          "model_module": "@jupyter-widgets/base",
          "model_name": "LayoutModel",
          "model_module_version": "1.2.0",
          "state": {
            "_model_module": "@jupyter-widgets/base",
            "_model_module_version": "1.2.0",
            "_model_name": "LayoutModel",
            "_view_count": null,
            "_view_module": "@jupyter-widgets/base",
            "_view_module_version": "1.2.0",
            "_view_name": "LayoutView",
            "align_content": null,
            "align_items": null,
            "align_self": null,
            "border": null,
            "bottom": null,
            "display": null,
            "flex": null,
            "flex_flow": null,
            "grid_area": null,
            "grid_auto_columns": null,
            "grid_auto_flow": null,
            "grid_auto_rows": null,
            "grid_column": null,
            "grid_gap": null,
            "grid_row": null,
            "grid_template_areas": null,
            "grid_template_columns": null,
            "grid_template_rows": null,
            "height": null,
            "justify_content": null,
            "justify_items": null,
            "left": null,
            "margin": null,
            "max_height": null,
            "max_width": null,
            "min_height": null,
            "min_width": null,
            "object_fit": null,
            "object_position": null,
            "order": null,
            "overflow": null,
            "overflow_x": null,
            "overflow_y": null,
            "padding": null,
            "right": null,
            "top": null,
            "visibility": null,
            "width": null
          }
        },
        "63023e1ca2244bcc9d3fecbe371cc2ec": {
          "model_module": "@jupyter-widgets/controls",
          "model_name": "ProgressStyleModel",
          "model_module_version": "1.5.0",
          "state": {
            "_model_module": "@jupyter-widgets/controls",
            "_model_module_version": "1.5.0",
            "_model_name": "ProgressStyleModel",
            "_view_count": null,
            "_view_module": "@jupyter-widgets/base",
            "_view_module_version": "1.2.0",
            "_view_name": "StyleView",
            "bar_color": null,
            "description_width": ""
          }
        },
        "06a9d536857845539c9f0c2707d2f451": {
          "model_module": "@jupyter-widgets/base",
          "model_name": "LayoutModel",
          "model_module_version": "1.2.0",
          "state": {
            "_model_module": "@jupyter-widgets/base",
            "_model_module_version": "1.2.0",
            "_model_name": "LayoutModel",
            "_view_count": null,
            "_view_module": "@jupyter-widgets/base",
            "_view_module_version": "1.2.0",
            "_view_name": "LayoutView",
            "align_content": null,
            "align_items": null,
            "align_self": null,
            "border": null,
            "bottom": null,
            "display": null,
            "flex": null,
            "flex_flow": null,
            "grid_area": null,
            "grid_auto_columns": null,
            "grid_auto_flow": null,
            "grid_auto_rows": null,
            "grid_column": null,
            "grid_gap": null,
            "grid_row": null,
            "grid_template_areas": null,
            "grid_template_columns": null,
            "grid_template_rows": null,
            "height": null,
            "justify_content": null,
            "justify_items": null,
            "left": null,
            "margin": null,
            "max_height": null,
            "max_width": null,
            "min_height": null,
            "min_width": null,
            "object_fit": null,
            "object_position": null,
            "order": null,
            "overflow": null,
            "overflow_x": null,
            "overflow_y": null,
            "padding": null,
            "right": null,
            "top": null,
            "visibility": null,
            "width": null
          }
        },
        "2599899234b847eb9f65513574436b1f": {
          "model_module": "@jupyter-widgets/controls",
          "model_name": "DescriptionStyleModel",
          "model_module_version": "1.5.0",
          "state": {
            "_model_module": "@jupyter-widgets/controls",
            "_model_module_version": "1.5.0",
            "_model_name": "DescriptionStyleModel",
            "_view_count": null,
            "_view_module": "@jupyter-widgets/base",
            "_view_module_version": "1.2.0",
            "_view_name": "StyleView",
            "description_width": ""
          }
        }
      }
    }
  },
  "cells": [
    {
      "cell_type": "markdown",
      "metadata": {
        "id": "view-in-github",
        "colab_type": "text"
      },
      "source": [
        "<a href=\"https://colab.research.google.com/github/manthanthakker/AI/blob/master/AudioClassification.ipynb\" target=\"_parent\"><img src=\"https://colab.research.google.com/assets/colab-badge.svg\" alt=\"Open In Colab\"/></a>"
      ]
    },
    {
      "cell_type": "code",
      "execution_count": 1,
      "metadata": {
        "id": "ohGo4HXre2E8"
      },
      "outputs": [],
      "source": [
        "model_checkpoint = \"facebook/wav2vec2-base\"\n",
        "batch_size = 32"
      ]
    },
    {
      "cell_type": "code",
      "source": [
        "%%capture\n",
        "!pip install datasets==1.14\n",
        "!pip install transformers==4.11.3\n",
        "!pip install librosa"
      ],
      "metadata": {
        "id": "c36ym6dRq_93"
      },
      "execution_count": 2,
      "outputs": []
    },
    {
      "cell_type": "code",
      "source": [
        "from huggingface_hub import notebook_login\n",
        "\n",
        "notebook_login()"
      ],
      "metadata": {
        "colab": {
          "base_uri": "https://localhost:8080/",
          "height": 239,
          "referenced_widgets": [
            "799c437739814a25baff049e7780c4c4",
            "ec473197e11f413dbf0d813a180c2228",
            "efe4f436b742406e85b77e0d00981b02",
            "fd5485064f524ba79778de357884ad98",
            "6200b21580e6432480ae86073c602b1c",
            "42c8576f6d80407ca64ac52201e48566",
            "78eb388d68914eb5a1394b86ef88f333",
            "a1fc91e776424625bd25109b072086f7",
            "ff66a3fa17354cffbc425abd85fdc31a",
            "2c79622554b843c18cfa64d37ea3e5d7",
            "57b155a669e2450cb58b5d79d892a1fa",
            "6ddbd5046f1044868d55d159d5a1a610",
            "48b792a114b34d40a996eba138ce6afb",
            "126c9379320040029c0f5e8bb5aa9716",
            "f50bbcf811c34457a67c1f7692fba044",
            "98ded25eee6043349910437dadd01d7e"
          ]
        },
        "id": "dxcgjMN2rCii",
        "outputId": "60f8b6aa-2d75-4768-d4c0-b87be6a5a3e4"
      },
      "execution_count": 42,
      "outputs": [
        {
          "output_type": "stream",
          "name": "stdout",
          "text": [
            "Login successful\n",
            "Your token has been saved to /root/.huggingface/token\n",
            "\u001b[1m\u001b[31mAuthenticated through git-crendential store but this isn't the helper defined on your machine.\n",
            "You will have to re-authenticate when pushing to the Hugging Face Hub. Run the following command in your terminal to set it as the default\n",
            "\n",
            "git config --global credential.helper store\u001b[0m\n"
          ]
        }
      ]
    },
    {
      "cell_type": "code",
      "source": [
        "%%capture\n",
        "!apt install git-lfs"
      ],
      "metadata": {
        "id": "8O458p19rFII"
      },
      "execution_count": 4,
      "outputs": []
    },
    {
      "cell_type": "markdown",
      "source": [
        "# Step 1: Dataset "
      ],
      "metadata": {
        "id": "pjMNghE009ch"
      }
    },
    {
      "cell_type": "code",
      "source": [
        "from datasets import load_dataset, load_metric"
      ],
      "metadata": {
        "id": "E4uKJoLDrKqW"
      },
      "execution_count": 5,
      "outputs": []
    },
    {
      "cell_type": "code",
      "source": [
        "dataset = load_dataset(\"superb\", \"ks\")\n",
        "metric = load_metric(\"accuracy\")"
      ],
      "metadata": {
        "colab": {
          "base_uri": "https://localhost:8080/",
          "height": 66,
          "referenced_widgets": [
            "da8e76f099124fed9f94f8f3e11adb2d",
            "3accfcaaa2984ca49cca2a4b5cbadbf1",
            "eca961f078a54f1b8ffbbe57651cf718",
            "e93d5dbbfa4b48ee82559c2fc29ead92",
            "33051d874c2c471f936b80102088f621",
            "98a5d71d8cb04c168c8f4ae600ee1804",
            "efa9ea7109c644d4bf35b305b228c8f2",
            "8a614f7894e748e5b1f1d07a7a7204f1",
            "b289191a27dc4715afd5d0719e24f2c1",
            "c6bf26f424374f789af10203d53ec309",
            "7025eef3719649c88616df3b59a76c3e"
          ]
        },
        "id": "Luq5UNLSrOvH",
        "outputId": "e1ee2953-b9ab-4393-d850-617345191a36"
      },
      "execution_count": 122,
      "outputs": [
        {
          "output_type": "stream",
          "name": "stderr",
          "text": [
            "Reusing dataset superb (/root/.cache/huggingface/datasets/superb/ks/1.9.0/ce836692657f82230c16b3bbcb93eaacdbfd7de4def3be90016f112d68683481)\n"
          ]
        },
        {
          "output_type": "display_data",
          "data": {
            "text/plain": [
              "  0%|          | 0/3 [00:00<?, ?it/s]"
            ],
            "application/vnd.jupyter.widget-view+json": {
              "version_major": 2,
              "version_minor": 0,
              "model_id": "da8e76f099124fed9f94f8f3e11adb2d"
            }
          },
          "metadata": {}
        }
      ]
    },
    {
      "cell_type": "code",
      "source": [
        "dataset"
      ],
      "metadata": {
        "colab": {
          "base_uri": "https://localhost:8080/"
        },
        "id": "HanIZUrhrRqq",
        "outputId": "0d3b0c7e-ad49-49f0-a882-4066bc316bd2"
      },
      "execution_count": 123,
      "outputs": [
        {
          "output_type": "execute_result",
          "data": {
            "text/plain": [
              "DatasetDict({\n",
              "    train: Dataset({\n",
              "        features: ['file', 'audio', 'label'],\n",
              "        num_rows: 51094\n",
              "    })\n",
              "    validation: Dataset({\n",
              "        features: ['file', 'audio', 'label'],\n",
              "        num_rows: 6798\n",
              "    })\n",
              "    test: Dataset({\n",
              "        features: ['file', 'audio', 'label'],\n",
              "        num_rows: 3081\n",
              "    })\n",
              "})"
            ]
          },
          "metadata": {},
          "execution_count": 123
        }
      ]
    },
    {
      "cell_type": "code",
      "source": [
        "dataset[\"train\"][1]"
      ],
      "metadata": {
        "colab": {
          "base_uri": "https://localhost:8080/"
        },
        "id": "srWwWkpt96eA",
        "outputId": "464aae66-1d60-4301-f2c0-4e84ee7ece67"
      },
      "execution_count": 128,
      "outputs": [
        {
          "output_type": "execute_result",
          "data": {
            "text/plain": [
              "{'audio': {'array': array([ 0.        ,  0.        ,  0.        , ...,  0.00289917,\n",
              "          0.00338745, -0.00033569], dtype=float32),\n",
              "  'path': '/root/.cache/huggingface/datasets/downloads/extracted/05734a36d88019a09725c20cc024e1c4e7982e37d7d55c0c1ca1742ea1cdd47f/_background_noise_/dude_miaowing.wav',\n",
              "  'sampling_rate': 16000},\n",
              " 'file': '/root/.cache/huggingface/datasets/downloads/extracted/05734a36d88019a09725c20cc024e1c4e7982e37d7d55c0c1ca1742ea1cdd47f/_background_noise_/dude_miaowing.wav',\n",
              " 'label': 10}"
            ]
          },
          "metadata": {},
          "execution_count": 128
        }
      ]
    },
    {
      "cell_type": "code",
      "source": [
        "!git clone https://github.com/Nikunj1729/free-spoken-gujarati-digit-dataset"
      ],
      "metadata": {
        "colab": {
          "base_uri": "https://localhost:8080/"
        },
        "id": "ysPPEG8sYbAH",
        "outputId": "30cdf3f5-3a14-4494-8ffc-229ee2dde251"
      },
      "execution_count": 34,
      "outputs": [
        {
          "output_type": "stream",
          "name": "stdout",
          "text": [
            "Cloning into 'free-spoken-gujarati-digit-dataset'...\n",
            "remote: Enumerating objects: 3333, done.\u001b[K\n",
            "remote: Counting objects:   4% (1/21)\u001b[K\rremote: Counting objects:   9% (2/21)\u001b[K\rremote: Counting objects:  14% (3/21)\u001b[K\rremote: Counting objects:  19% (4/21)\u001b[K\rremote: Counting objects:  23% (5/21)\u001b[K\rremote: Counting objects:  28% (6/21)\u001b[K\rremote: Counting objects:  33% (7/21)\u001b[K\rremote: Counting objects:  38% (8/21)\u001b[K\rremote: Counting objects:  42% (9/21)\u001b[K\rremote: Counting objects:  47% (10/21)\u001b[K\rremote: Counting objects:  52% (11/21)\u001b[K\rremote: Counting objects:  57% (12/21)\u001b[K\rremote: Counting objects:  61% (13/21)\u001b[K\rremote: Counting objects:  66% (14/21)\u001b[K\rremote: Counting objects:  71% (15/21)\u001b[K\rremote: Counting objects:  76% (16/21)\u001b[K\rremote: Counting objects:  80% (17/21)\u001b[K\rremote: Counting objects:  85% (18/21)\u001b[K\rremote: Counting objects:  90% (19/21)\u001b[K\rremote: Counting objects:  95% (20/21)\u001b[K\rremote: Counting objects: 100% (21/21)\u001b[K\rremote: Counting objects: 100% (21/21), done.\u001b[K\n",
            "remote: Compressing objects: 100% (19/19), done.\u001b[K\n",
            "remote: Total 3333 (delta 10), reused 0 (delta 0), pack-reused 3312\u001b[K\n",
            "Receiving objects: 100% (3333/3333), 281.99 MiB | 24.16 MiB/s, done.\n",
            "Resolving deltas: 100% (1316/1316), done.\n",
            "Checking out files: 100% (1956/1956), done.\n"
          ]
        }
      ]
    },
    {
      "cell_type": "code",
      "source": [
        "from datasets import load_dataset, load_metric\n",
        "train_data=load_dataset(\"/content/load_guj/load_guj.py\",split=\"train\")\n",
        "val_data=load_dataset(\"/content/load_guj/load_guj.py\",split=\"test\")\n",
        "test_data=val_data"
      ],
      "metadata": {
        "colab": {
          "base_uri": "https://localhost:8080/",
          "height": 124,
          "referenced_widgets": [
            "4f7519107f9d4566beee9f1496e712ec",
            "e8ce3c0b4b8a4a1495823f4c12f50a06",
            "1c23128b5bf94e568b85fba677d5ab17",
            "ef7512e2fdf44062b0532c768465b995",
            "c7137046652a42db8ee7e2557cf6f222",
            "5a1f27825dd44e45a8b4dae76036edd1",
            "d4dd0416bbc64a52964c15eb104950ee",
            "d272635ab50b4a30ad9c3d971eb29199",
            "c25e7a705ec042ab812c0b5d62e43c4f",
            "3a9f237bed5b422592a5e23711d162dd",
            "7a2052000e2344bb8ee30f16b5955932",
            "d8581b043a244ca6854b60791b1eab7b",
            "9dad13ba4a0b4283892c789ef31b5532",
            "fb92687ac1ad4542aef0c9bc07478a97",
            "ebefa2e6b94345f4a125bba8ce459c0d",
            "2fc2a8db52ee4202b634b3478ba5ba42",
            "9afc0b18547942f8b22b611e85173703",
            "e1dae202c9aa427c8dec7eda8f330a3a",
            "edc9a028d64c47e09a4218983f9ce8ef",
            "e73f674d210949f9aa78191d26612865",
            "c6ebb411ed3341f9bed0b427cff62e1f",
            "ef9287b4fe6c4d58ad93cc71e931def8",
            "616d4eb91faf44a49b62e07dbae611cb",
            "fce3f44b404b45f89297474c32a79fe4",
            "56254f41d6214da994f865c954b4005a",
            "3bddb920fa6a42598e2a04a5cc87d68c",
            "b1b8de58eae3478abb17010f6af8e2ef",
            "fb1fad1966824704ad3c60c80f9c6326",
            "a48f298fcfee48d1860fe7b4ff608bc8",
            "73cec07871984163849dacea6304b058",
            "24046c2d8914497db5c166fc7270d76a",
            "fe91f30edb9a42c08caf8240e4e0f796",
            "968e63e37cdd41c090665dc51b986646"
          ]
        },
        "id": "IoVR-e-4YmIj",
        "outputId": "8ad1436f-d734-4d3e-c6c9-9ab2171ab2d9"
      },
      "execution_count": 170,
      "outputs": [
        {
          "output_type": "stream",
          "name": "stderr",
          "text": [
            "No config specified, defaulting to: new_dataset/train\n"
          ]
        },
        {
          "output_type": "stream",
          "name": "stdout",
          "text": [
            "Downloading and preparing dataset new_dataset/train to /root/.cache/huggingface/datasets/new_dataset/train/1.1.0/5c4ed9612e3ddae614ebb7d02e2394d863273f0c537da95ce3583516b4863932...\n"
          ]
        },
        {
          "output_type": "display_data",
          "data": {
            "text/plain": [
              "0 examples [00:00, ? examples/s]"
            ],
            "application/vnd.jupyter.widget-view+json": {
              "version_major": 2,
              "version_minor": 0,
              "model_id": "4f7519107f9d4566beee9f1496e712ec"
            }
          },
          "metadata": {}
        },
        {
          "output_type": "display_data",
          "data": {
            "text/plain": [
              "0 examples [00:00, ? examples/s]"
            ],
            "application/vnd.jupyter.widget-view+json": {
              "version_major": 2,
              "version_minor": 0,
              "model_id": "d8581b043a244ca6854b60791b1eab7b"
            }
          },
          "metadata": {}
        },
        {
          "output_type": "display_data",
          "data": {
            "text/plain": [
              "0 examples [00:00, ? examples/s]"
            ],
            "application/vnd.jupyter.widget-view+json": {
              "version_major": 2,
              "version_minor": 0,
              "model_id": "616d4eb91faf44a49b62e07dbae611cb"
            }
          },
          "metadata": {}
        },
        {
          "output_type": "stream",
          "name": "stderr",
          "text": [
            "No config specified, defaulting to: new_dataset/train\n",
            "Reusing dataset new_dataset (/root/.cache/huggingface/datasets/new_dataset/train/1.1.0/5c4ed9612e3ddae614ebb7d02e2394d863273f0c537da95ce3583516b4863932)\n"
          ]
        },
        {
          "output_type": "stream",
          "name": "stdout",
          "text": [
            "Dataset new_dataset downloaded and prepared to /root/.cache/huggingface/datasets/new_dataset/train/1.1.0/5c4ed9612e3ddae614ebb7d02e2394d863273f0c537da95ce3583516b4863932. Subsequent calls will reuse this data.\n"
          ]
        }
      ]
    },
    {
      "cell_type": "code",
      "source": [
        "test_data"
      ],
      "metadata": {
        "colab": {
          "base_uri": "https://localhost:8080/"
        },
        "id": "WrgEAf1VtZ0v",
        "outputId": "5db4c4bf-41a8-4392-cc26-2fe729863ce6"
      },
      "execution_count": 139,
      "outputs": [
        {
          "output_type": "execute_result",
          "data": {
            "text/plain": [
              "Dataset({\n",
              "    features: ['file', 'audio', 'label'],\n",
              "    num_rows: 388\n",
              "})"
            ]
          },
          "metadata": {},
          "execution_count": 139
        }
      ]
    },
    {
      "cell_type": "code",
      "source": [
        "!ls /content/"
      ],
      "metadata": {
        "colab": {
          "base_uri": "https://localhost:8080/"
        },
        "id": "XBuOl3EBZMp_",
        "outputId": "47947bd3-1091-4810-da69-591c156ca7e0"
      },
      "execution_count": 138,
      "outputs": [
        {
          "output_type": "stream",
          "name": "stdout",
          "text": [
            "load_guj  sample_data  test.jsonl  train.jsonl\twav2vec2-base-finetuned-ks\n"
          ]
        }
      ]
    },
    {
      "cell_type": "code",
      "source": [
        "import glob\n",
        "all_wavs=glob.glob(\"/content/load_guj/**/*.wav\", recursive=True)\n",
        "len(all_wavs)\n",
        "from sklearn.model_selection import train_test_split\n",
        "x, Y=train_test_split(all_wavs, test_size=0.2)\n",
        "print(len(x))\n",
        "print(len(Y))\n",
        "import json\n",
        "#train_file = open(\"/content/load_guj/train.jsonl\", \"w\")\n",
        "#n = train_file.write(json.dumps(x))\n",
        "#train_file.close()\n",
        "\n",
        "import json\n",
        "\n",
        "with open('/content/load_guj/train.jsonl', 'w') as outfile:\n",
        "    for entry in x:\n",
        "        json.dump(entry, outfile)\n",
        "        outfile.write('\\n')\n",
        "\n",
        "with open(\"/content/load_guj/test.jsonl\", \"w\") as outfile:\n",
        "    for entry in Y:\n",
        "        json.dump(entry, outfile)\n",
        "        outfile.write('\\n')"
      ],
      "metadata": {
        "colab": {
          "base_uri": "https://localhost:8080/"
        },
        "id": "4kwwB7iNe1Fo",
        "outputId": "db49defd-5c40-4dfe-8083-78540e797fc9"
      },
      "execution_count": 86,
      "outputs": [
        {
          "output_type": "stream",
          "name": "stdout",
          "text": [
            "1552\n",
            "388\n"
          ]
        }
      ]
    },
    {
      "cell_type": "code",
      "source": [
        "from datasets.dataset_dict import DatasetDict"
      ],
      "metadata": {
        "id": "6KuGgi0ArTwD"
      },
      "execution_count": 168,
      "outputs": []
    },
    {
      "cell_type": "code",
      "source": [
        "dataset[\"train\"]"
      ],
      "metadata": {
        "colab": {
          "base_uri": "https://localhost:8080/"
        },
        "id": "mtdUc_mSsGsD",
        "outputId": "2b460907-000a-494c-c026-70ab87fb3ade"
      },
      "execution_count": 9,
      "outputs": [
        {
          "output_type": "execute_result",
          "data": {
            "text/plain": [
              "Dataset({\n",
              "    features: ['file', 'audio', 'label'],\n",
              "    num_rows: 51094\n",
              "})"
            ]
          },
          "metadata": {},
          "execution_count": 9
        }
      ]
    },
    {
      "cell_type": "code",
      "source": [
        "dataset[\"train\"][1][\"audio\"]"
      ],
      "metadata": {
        "colab": {
          "base_uri": "https://localhost:8080/"
        },
        "id": "v1y6OszBumAf",
        "outputId": "59e991e6-c318-4ab7-c59e-9d8db3067c74"
      },
      "execution_count": 10,
      "outputs": [
        {
          "output_type": "execute_result",
          "data": {
            "text/plain": [
              "{'array': array([ 0.        ,  0.        ,  0.        , ...,  0.00289917,\n",
              "         0.00338745, -0.00033569], dtype=float32),\n",
              " 'path': '/root/.cache/huggingface/datasets/downloads/extracted/05734a36d88019a09725c20cc024e1c4e7982e37d7d55c0c1ca1742ea1cdd47f/_background_noise_/dude_miaowing.wav',\n",
              " 'sampling_rate': 16000}"
            ]
          },
          "metadata": {},
          "execution_count": 10
        }
      ]
    },
    {
      "cell_type": "code",
      "source": [
        "dataset[\"train\"][1][\"label\"]"
      ],
      "metadata": {
        "colab": {
          "base_uri": "https://localhost:8080/"
        },
        "id": "n00lwAQ7u546",
        "outputId": "ab8e4abf-9897-4006-e449-c7ae73ae83f3"
      },
      "execution_count": 11,
      "outputs": [
        {
          "output_type": "execute_result",
          "data": {
            "text/plain": [
              "10"
            ]
          },
          "metadata": {},
          "execution_count": 11
        }
      ]
    },
    {
      "cell_type": "code",
      "source": [
        " dataset[\"train\"].features[\"label\"]"
      ],
      "metadata": {
        "colab": {
          "base_uri": "https://localhost:8080/"
        },
        "id": "kyJDzQzOxMPM",
        "outputId": "44dbd3c3-8ec6-4be6-c2ff-bcb9b2007fff"
      },
      "execution_count": 12,
      "outputs": [
        {
          "output_type": "execute_result",
          "data": {
            "text/plain": [
              "ClassLabel(num_classes=12, names=['yes', 'no', 'up', 'down', 'left', 'right', 'on', 'off', 'stop', 'go', '_silence_', '_unknown_'], names_file=None, id=None)"
            ]
          },
          "metadata": {},
          "execution_count": 12
        }
      ]
    },
    {
      "cell_type": "code",
      "source": [
        "dataset[\"train\"]"
      ],
      "metadata": {
        "colab": {
          "base_uri": "https://localhost:8080/"
        },
        "id": "HDbasEiMxa9v",
        "outputId": "99c4a26c-ff3d-4fdb-9bd4-654cd1aa37b1"
      },
      "execution_count": 13,
      "outputs": [
        {
          "output_type": "execute_result",
          "data": {
            "text/plain": [
              "Dataset({\n",
              "    features: ['file', 'audio', 'label'],\n",
              "    num_rows: 51094\n",
              "})"
            ]
          },
          "metadata": {},
          "execution_count": 13
        }
      ]
    },
    {
      "cell_type": "code",
      "source": [
        "dataset[\"train\"][2]"
      ],
      "metadata": {
        "colab": {
          "base_uri": "https://localhost:8080/"
        },
        "id": "a0SPqb8SyZ0P",
        "outputId": "bfbd75f3-70eb-496e-8a03-589de7f2f40c"
      },
      "execution_count": 14,
      "outputs": [
        {
          "output_type": "execute_result",
          "data": {
            "text/plain": [
              "{'audio': {'array': array([ 0.        ,  0.        ,  0.        , ..., -0.02764893,\n",
              "         -0.01760864,  0.00912476], dtype=float32),\n",
              "  'path': '/root/.cache/huggingface/datasets/downloads/extracted/05734a36d88019a09725c20cc024e1c4e7982e37d7d55c0c1ca1742ea1cdd47f/_background_noise_/exercise_bike.wav',\n",
              "  'sampling_rate': 16000},\n",
              " 'file': '/root/.cache/huggingface/datasets/downloads/extracted/05734a36d88019a09725c20cc024e1c4e7982e37d7d55c0c1ca1742ea1cdd47f/_background_noise_/exercise_bike.wav',\n",
              " 'label': 10}"
            ]
          },
          "metadata": {},
          "execution_count": 14
        }
      ]
    },
    {
      "cell_type": "code",
      "source": [
        "labels = [\"0\",\"1\",\"2\",\"3\",\"4\",\"5\",\"6\",\"7\",\"8\",\"9\"]\n",
        "label2id, id2label = dict(), dict()\n",
        "for i, label in enumerate(labels):\n",
        "    label2id[label] = str(i)\n",
        "    id2label[str(i)] = label\n",
        "\n",
        "id2label[\"8\"]"
      ],
      "metadata": {
        "colab": {
          "base_uri": "https://localhost:8080/",
          "height": 35
        },
        "id": "WbG0dLqEyeq_",
        "outputId": "7cb7ffc8-6b78-46da-aa6e-4146302ac170"
      },
      "execution_count": 171,
      "outputs": [
        {
          "output_type": "execute_result",
          "data": {
            "text/plain": [
              "'8'"
            ],
            "application/vnd.google.colaboratory.intrinsic+json": {
              "type": "string"
            }
          },
          "metadata": {},
          "execution_count": 171
        }
      ]
    },
    {
      "cell_type": "code",
      "source": [
        "dataset={}\n",
        "dataset[\"train\"]=train_data\n",
        "dataset[\"test\"]=test_data"
      ],
      "metadata": {
        "id": "ZN7au1hc_sjK"
      },
      "execution_count": 172,
      "outputs": []
    },
    {
      "cell_type": "code",
      "source": [
        "import random\n",
        "from IPython.display import Audio, display\n",
        "\n",
        "for _ in range(5):\n",
        "    rand_idx = random.randint(0, len(dataset[\"train\"])-1)\n",
        "    example = dataset[\"train\"][rand_idx]\n",
        "    audio = example[\"audio\"]\n",
        "\n",
        "    print(f'Label: {id2label[str(example[\"label\"])]}')\n",
        "    print(f'Shape: {audio[\"array\"].shape}, sampling rate: {audio[\"sampling_rate\"]}')\n",
        "    display(Audio(audio[\"array\"], rate=audio[\"sampling_rate\"]))\n",
        "    print()"
      ],
      "metadata": {
        "colab": {
          "base_uri": "https://localhost:8080/",
          "height": 569
        },
        "id": "_s3kmrQUzTFs",
        "outputId": "eff7a8f7-dd2f-41fa-d3ac-9a2a35d8671d"
      },
      "execution_count": 173,
      "outputs": [
        {
          "output_type": "stream",
          "name": "stdout",
          "text": [
            "Label: 0\n",
            "Shape: (10817,), sampling rate: 16000\n"
          ]
        },
        {
          "output_type": "display_data",
          "data": {
            "text/plain": [
              "<IPython.lib.display.Audio object>"
            ],
            "text/html": [
              "\n",
              "                <audio controls=\"controls\" >\n",
              "                    <source src=\"data:audio/wav;base64,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\" type=\"audio/wav\" />\n",
              "                    Your browser does not support the audio element.\n",
              "                </audio>\n",
              "              "
            ]
          },
          "metadata": {}
        },
        {
          "output_type": "stream",
          "name": "stdout",
          "text": [
            "\n",
            "Label: 7\n",
            "Shape: (12275,), sampling rate: 16000\n"
          ]
        },
        {
          "output_type": "display_data",
          "data": {
            "text/plain": [
              "<IPython.lib.display.Audio object>"
            ],
            "text/html": [
              "\n",
              "                <audio controls=\"controls\" >\n",
              "                    <source src=\"data:audio/wav;base64,UklGRgpgAABXQVZFZm10IBAAAAABAAEAgD4AAAB9AAACABAAZGF0YeZfAAARAEgAngBiAaUBigHZAQcC3wH0AZ4BsgBCANv/P/9L/2//Tf+R/5b/TP9i/2L/g//0/+D/qf/d/9r/+/96AC4A0P9IAJoADwHFAaUBUQF1AW8BVAE6AcUAOwDq/9j/GgCLAPgAMQG6AMD/+f6Y/tH+hP/Z/4D/CP+s/nr+wf5A/2X/Tv8e/7r+wP5k/ywA5AAwAasA8P94/xP/F/9y/8H/8v/s/7z/x/8SAG0AqQAqAEP/mf4c/j/+0/4N/1b/nf9m/3T/y//v/2kAxAA3AK7/bP8w/8D/dwCZAOQA+gDJABgBYgGYASICSwIUAvUBggE2AXcBdwGZASICQgI7AkwC1QFRAToB+gCrAJsAnwDHAB4BRgEeAbsARADS/2H/Fv8n/4X/w//g//b/1f/V/xYA0/8h/7z+ff6N/ij/df9g/23/Wf88/0L/TP+E/6X/VP/s/oP+UP7D/g7/nf43/vv93v2U/nb/q/+v/3n/vv5O/nb+2v6Y/0oAYwA5AEQAkQAWAVYBIwGyAAoAwf8QAG4A7QBoARUBYgDV/0D/Kv+i/8n/n/9X/+/+zP77/ib/PP9a/0r/NP9i/6z/EwCoAPAAowA+AOH/of+2/8H/2/8bADgAYwCFAG0AhADFANgA+QDlAHEAUAB3AG0AkADlAMgAkAB5AAIAjf+k/7//lf+H/2T/Hv9W/7r/1P8IAEMASgBhAI0AjACbANcA5gCqAFkAQgAeAMH/iP91/2n/o//Y/4D/Ev/Y/qf+x/4Y/yT/Uf+0/7z/iv+u/wIAOwBbAAEAVf8g/4H/GAClAMsAnQBoABIAx//f/1UAAAFvAT8BvgBdAFYAsAAJARIBIQEtASABEQHfAMkA0QCXABkAnv9e/4P/DQB4AFgAEgDg/23/9P7j/gT/T/+j/3P/+P7I/t7+LP+I/5b/j/+U/33/Xf9e/9z/vABNAVMB7QBpAFwAxgAIAQcB0wB5ACwA0/+H/8T/ZADOAKgABwBM/wf/ZP+8/8z/6f9UAOUAZQGhAXsBUQElAbgALwDN/9b/RwCpAL8AsgCzANEAvQBNANz/uP/T/+n/wv93/0L/af/f/0EAbABYABsAmf/3/sH+BP+D/+n/3f90/0b/fP/b/zMAZABLAPP/gf8M//r+df8BAEEA8f8b/4b+ov4E/1//n/+C/y//wv4Z/qv91v1a/uz+Nv8W/wL/JP9E/0H/4/5s/j/+MP4w/nX+8/5l/73/nf/7/of+gP63/jn/0P8rAJYA8wDtANUA7gD5APoAxAAaAGr/IP9b/9z/cQDvAAUBmwDl/0H/Af9O/8n/7P+x/4j/sf9TAHIBWQLfAjcDKwPAAosCngK0AgkDSAMiAxQDTANtA4ADTAOsAkMCLAIZAioCUQJLAmoCjwI7Ao4BvQDm/1H/6P6d/pn+qv7Q/uL+sv6T/rv+/f4T/8/+NP7S/Rf+tf5i/+r/BADg/7X/YP8m/2b/sv/E/5X/y/77/R7+rP4q/7L/t/9E/yb/Pf9h//r/uwAIAdQAPgCG/zr/Yf+f/7j/gP8x/w7//v43/+T/VgB9AIEA5P9E/3//r/+s/0IAZAARAE4ALgC6/9z/7v+q/3P/6P5l/qz+Rf/G/1EApACjAGEAuP8i//r+Gf9n/3//PP80/5T/y//d/8P/Of+l/jP+jv0t/aj9jP5x/x4AOQAzAIQAuQCfAGwAKQD6/87/aP8l/2L/+f+xAOkAawDf/6D/e/9n/3v/xP9gAPUAJwEBAe4AEgFHAUIB0wCMAKIA3AAQATYBagG/Ae0BkQHuAH8AfwD2AHwBsAHdAQgCAwLgAbABlQGNAVcBzQAuAPD/LACmAOMAsQBzAEAACgAEACsAmQBQAaQBWwH0ALoA4gBvAawBZwEkAekAgwAbAL7/pf8AABkAlf/f/nz+sv5k/9//4P+v/3H/Nv/u/p7+qf5G/+v/JQDn/3j/bf+8/+P/y/+X/2P/Uv83/+P+zP4Z/4j/6v/1/8j/4P8+AHkAYwAdAOb/5P/2/wgARwCoAPgA+gB7AMD/Lf/N/oL+OP7V/Z79wf3t/Qv+RP50/p3+uf52/hH+Av5I/tb+jf8lAJcA1QChADgA4P/P/zUAmwCaAEkA5P+g/8X/MQB3AKIAkgAIAH3/Tv+G/zIA7QApAewAbQAGAAAASQCkAOQA8ADFAJUAbgCAAOMAQQFRAQoBmAA+AGwA7wBfAa4BrAF+AVYBMQEnAVABcQF3AVoBDwHpAPcAHwEpAfEAigAlAOr/xP+w/5f/b/82/7r+IP69/a392P0a/kr+U/5l/nz+e/6D/qT+8v5j/7L/sv+s/9D/AwBGAHsAugAbAW0BZwEAAXgAEQDu/wEAJABQAH0AfwBHAPz/7v89AKsA1gCrAG8AcAC4AAQBEQHgAJEARgAjAEYAswAyAW8BMQGeAD8AawDoAFQBXAH8AJcAagBhAHgArwDMAK0AIwBm/wj/NP/A/z4AUwALAKz/Rf/p/tz+SP/y/4cAsQBaAAUACgA5AH4AnQBrAGIAZwBVAGYAfwCAAFcAxf8Z/wD/cP87AMYAmwAUAJL/If/g/u7+//4r/1X/7/5B/tz9u/3v/VL+XP4W/t/9t/2f/df9S/7X/mj/nP97/3X/lv8AAHsAoACNAHUAWQBwAMYAGQFhAYIBPAGzAC4Auf+L/4H/h/++/+3/CAAzAD4ALAA7AEgAFQDe/5b/TP9m/8f/UAD6AJUB5gEOAgACwgGaAXwBNAHOAGUAGgA+ALQAFgFLARoBeQC1/wb/xP4e/9z/kADUAHMAuv8g/+f+Ff9y/5H/Vf/8/pT+Uv5z/uL+N/82/9z+R/4V/nz+Qv8vANYAFQEdAfsAxwDWAPcADQECAaIAMgAKADYAdwCUAFwABwDK/6z/pv+7/9//2v+K/+n+K/7H/fn9cP7g/g7/Ef8y/2n/lf/F/xMAgwD9AEwBhgHgAV4C7gJgA1kDGAP7AsAChQJWAvcBvAGTARQBcADm/67/1f8zAHMAbQBKAOv/ZP/l/pz+tP4J/0j/L//f/qj+kf6U/rL+4/4o/0j/G/+4/mr+a/7O/lH/y/9VANEAFgERAcEAWQAfAPT/wf/O/yYAnAAMAQQBcQDR/0n/Av8t/4H/zf8AALP/Df+y/sL+OP/o/w4AnP8w//r+Ev+P/yQAqQAJAeYAlACEALkAOgGoAZUBSQEVAe8A2QDoAPMA+QD2AHYAlP/N/ln+Kf4V/vf94v0j/pH+5/4e/y3/GP+7/i7+vf3g/df+DwDeAPsAYgCs/3j/Z/9q/7j/z/+i/2//0f4s/hf+9v21/bT9h/2+/bf+SP+U//n/zP+M/5z/RP8//wYAbACmANkANQCr/9H/tP/1/9MAEAFcAbYBHAHHAP4ApwCCAHoAzv/9/7sApgD8AEABJQCd/2f/Tv5Z/hb/Af/F/7cAhwABAVsBdwAbAO7/df8xADYBhQFEAogC9gEEAtwBWAGbAa4BbQEEAoQCvAKIA7IDNQMcA7ACOwKHAokCQwIqAmUBfAArAOT/5P9EABMArP9o/7b+Qv5b/mj+tf4w/yf/Ev9D/03/if/p//3/EwAnAPP/2P/z/xgAcQC8ANgAIQF4AZABmAFCAZwARQD7/4j/Qv8M/9/+9/4E//L+Gf9G/zb/Ef+x/mH+lv7E/rT+g/41/iL+Xv6G/oP+iv52/l3+Xv5q/sr+jP8PAAIAnP/8/pv+o/60/sn+7f7d/pP+Dv5m/Rn9YP3M/Qv+Hf7v/cv9tv15/Wv9zv13/i7/vf8MAFcAuAD4ANsAdQAEAMT/uv/M/xcAfwCyAIgA9f9P/zH/tv9+AA4BOAEqASsBagHFAQECBQLXAWsB7QDPACUBowHVAYsBHAHoABUBcQG5Ae0BJwJGAi0C9gGsAXgBawFfAS0BDAEoAWcBrAG1AZUBgwFsAVcBXwGPAecBNQIkAqIBDAG9AMMA/AAYAcwAUQDc/3X/J//l/s7+z/7U/gn/Yv+1/9n/j/8G/9L+MP/9/84AOAEyAQoBAgH+ALsALwCv/4H/jP/Z/0YAlQC0AH4A1v8K/3X+DP7l/ff9Lf6Z/iT/cP96/3n/Z/9m/2L/Uv94/9n/LAArAM//Yf86/03/U/8+/1f/3f+YAN0AUwBI/zP+hf2A/e39ZP6i/nb+If4T/mD+2/4y/0H/Sv+B/xQA6QCIAcUBsgFiAcAA5f9E/0L/xv89AAsALv9R/gP+af4b/4f/Xf/C/jT+Ef6I/nj/agAAAS8BEQEBAQgB9QDUAL8ArwB9ABQAjf9y//T/twAoAesAKwB1/1v/x/9eAPoAUAFyAZgBlwGyARwCtQJtA/0DHAToA4YD+wKIAkkCEwL3AbsBRQH6ALYAdgBaAAwAd//7/qL+Xv5K/k3+df7k/kX/Pv/4/oj+J/4j/l7+rP4q/83/TQC2AMAAZgA1ADIANwAVAKT/Qv9S/8P/fgAtAYQBkwEuAXQAyf9O/yn/LP8c//v+Bv9c/6f/o/9c/wT/3/7h/rb+m/7Q/j//tP+5/3H/cf+h/9b/6P96/yL/Tf+o/xMASgAmANf/kf9p/7L/mwDUAcMC8gJfAo4BLAEjAUUBiQGXAYQBjAEuAcgAvgCOAFgA6v8A/33+rP4S/9r/mAD+ADIB8wBSAMH/qv8HAIgA2gCaAPP/Xf/b/rf+7f4V/2L/dv/4/nn+Bv6+/ff9VP6T/vH+Vf+5/0MArQDIALUAjwBXAEAAVABfAIYAxwDFAL4AoABdAJAAAQF2AfMB9QF4AfIAQQDH/+n/KgA+ABsAkP/B/iv+m/35/Nf8X/1h/o3/LgC//wv/wf6l/i7/x//t/1wApADdAEUBXAF8ASgBcABMAPz/LQD8AOcA6QCzADsAwgAEAUwB9QGHATYBCwFWAKUAJwHpAHcAWf9F/kX+j/4C/6D/N/+W/nj+Uv6U/k7/UAC7AAEBigH/AHEAZgAo/7f+X/8I/+H/egApAE4A6f8f/1T+Dv7A/Qn+8/41/2///P9U/yD/Ov82/hD/If8f/6QAJQCd/9X/hv4R/pH/av/8/wAB7f8EAHAAOAAcAXABAwGgAaQAfABgAQkAvwAqAYX/zv8AAKr+If8fAJX/TwATAcn/av8bANr+nv8aAfb/lQGaAqUAOAEwAbn+UAApATn/FAHxAGD/lgG/AR8BrwPcASMAqwEi/xsAJwPQAcEBvAIZAH3/ggErAKIALwKc/4H+EAD3/Av+dQEY/c/+mABs+1L++AAF/YoAJQK2/joCJgKh/3sBSADU/nYAzQAoAA8BRgKdAHX/LQIBAFD+6QFf/s/9WQAF/dv/Sf9O/BQDb/8N/LcD9f19+9EC2f6e/GAAS/8s/oH/bwFoAHj/HALI/lP//wDl/XEC8P8Q/uACXf3B/osCzvoAAL8AAfkUAWr+VPksAZD+wfvfADL/fP+H/7f/swFD/eoATQIj/kL/zQGGAOL9zAFjAcb82v8BAUb8AgC8ACP/AwI6/sIAxwIV/d4CqgO8+9IC+gOY/LYCAARJ/msAQQE7/Zn9JwJeAOn+FQLx/r3+FAGh/hcCHgFe/SIE5v4r/JIGRwBM/60FjP9W/rQBQwHN/4sARgPsAfj/dQNeAp0A7wLgAxwC7/4WA0cCr/6BA+8DXf5cAVUF+Pzx/iEG2Pwb/UgGifwW/CcHlv5s+uAFCADr+D4GWAKt94ADXwOj+MkCdgSo++IAdgQM/v/8/QTF/1X8bgS//rD6ogF4/1z6CgGIAFn5+P+wAI73Nf0jA1z1+v3lBFH2Pf+eA2T5KPoKBBP8L/gaBsr+dfY6CZsCg/Z4DaX9tPRNCun6RfaZC778UveECif5p/i1Bgb9lPnhBJH+QfeRBDb9APppAz79QPqtAYf8XPnjAyT9FvogBWz8NfjcB4v+mPlnC6T+m/izChL/KPgrDd//ePl9DWb9pfrvCu3+mvsdC9H/efplCp79b/qTCbX+lPrECZMAaflRC9r+h/n6Cjz8fvvOCb/8jPtBCon7dfvgDNH68vwWDzv5ugBLENf37QMcDHT0ZwXoCSnzDwwCB3X0Xw3O/zb3oAnR/7z5tgjc/5354QpR/Rr9lQxP+/z/+Av0+A0CXgtn9TEHcgVO9EILe/yA9kIKgPVX+QMLq/D+/kcHXO4TBDICw/F6BUj/lPK4BoP5+PeSCN32l/5cBgr1qwHKBRD0JgkpAEz2fQnF+BP7Aggd+VH+1Ads9QkB2QVZ81MEygOQ8tcFMgKg9ckHAgF7+nAFrP75+2MEgPuNANoEofssAr8Dc/o/AYUEEPkTBnMBgvr9BvH95fx3CJT6NwBsBlr3PwUMAof7vwbR/+n+IAUh+8cEygGd/IwJhfxhAGQElvsVAgIBn/2lBQ399gAsBX77FwSTALD/DQB3AF3/N/8NAcr96gJNAGb+lQJCAMz57AO4AF36Ygf9/mj/mQTC/6MB+QDLAdf+NQIZAIj9nQR0/P38lALz+kH+EALX+1b+BgDp+yQAEf4LAAEBEfweBGb8ZwCiBAb8ogc0/Wj8KgrR9CgDpgqS8XwIRgQr85oKhP/k+kIKJPkFBHsBK/tICW/6HQLjAXf5CQIK+6L8/wCu+dUBHf9V/E8EpvyrAnEBrftYBbD7qv68BIT6BgIbAoX9bQEmA8X+kABNA9f8JwJl/8f+RgV6+sUDCQNb+E4H+P1J/6IFBf34BLj9lgEGA537OwXT/W79+QMF/fwA8wDs/rAB3/u6ATUAofu/BP3/m/3NBBr++/+AAtL8UAFk/vr+UwAI/swBUf7X/gEBMf4EAAwAiQH0/gkB+QLq/XkEA//v/9EBX/2EAaL/K/9X/1sB7PyOAScBYP5rBMb/Uv9HAsv9oP5vBD78mQFHAdP8NQHU/aYDu/uOAN4Cr/d9AD4Bj/mp/0kFrfZMAvkBQfR9BCD93PjQArf9tflRAEv/sfrJ/1AAb/si/1AA7/s+ATn+CP9nAWH/yQAdAhkBzQBxBHv9qAXdAJ37QQoQ+w//gQjt+WUByQHU/Uj/B/+AABf9pwKq/4YBVAMq/7QBBQN4/YACSQII++EG3/sW/wgIB/ogBi4HBfzqCU4B8AA6BAb/FAOR/pQFNv2LBuD+6vzCB8P1TwQCA5b74QIOBaT5iwI/Bw31kgqcAB35Xwt0+YQDrwTA+4kJPv/c/PEJdv1w+yYOLvrc/tsJCvrJ/jkJLv42/0AL0/u/ANQGYP7M/I4Gp/h8/rQE+/MEBtb7l/lsA7n6mP4dACr7hwFU/En6JAWe+bsAlAKm+9IBmfuZAZz8T/+kBFP27gUm+8L3/AUi+sn64gWj+IP53Qe58SkEOP34+ogAifgcBDz3TAKf/7D8pf0VAAT6IwBF/cn7eQJM9qAGJvbV/4oD6vT/BVsBnfnBAicDfPlPAUQFEPyhAwkFx/sABdT/dgANBJwBJgEtBKL/DALnAXr+sQWv/OcC1gBIABABjQTSApD+vQWy/9n7cQU0/uT7ggfD/bP+KwfQ/o/9dQnk+bEAbQKo+jUApwBLAHH9cwaX+5MAsgNl+2wC6//p/UT/Zf9q/r3/3AC7/AEBjgFx+uMEYAIw/OUHbgDB/GoDoAA6/18FJAJY/zUD7v6Y/p0B7/4KAa//pADpALz88QMjAsX9VAI4BSX42gUdBIz5aQn//QcAOAUW/FEDlAFh+3YEB//R/gYFYP6ZAZQB6/7UA4r/4AJiACr/qAEp//gA7v/9ACP+N/7b/JH9IfuH/0D+Qfw0/nT7Tv0p+lMAlvld/bn+//i0/b3+r/qj/ncDbvYQAzj/Z/jIAwT97/vaAtL+DP7FA+j/WgFZA1IBwABuAKsC3ACUAXYD6QHJAVwCOwGOAO0B9/wUBI/+1/ndBU37GvusBiP6PvmLBrD2uPr7BJj3av2tAqv7V/uKBOD8G/38BG75iAK7AM/6AQQK/HH+owKKANn9LgSsAZz6PQgKAL/8cghsAw378wX8AM/2Awea/yX8cQGX/5cAqfnxCbn+t/fCDjL1ggBhCoP3lgbAA7j6pgQcBOz5eQN2BWT6ZwCFDAz1XwNECyrxUAqBA+L25Apx/+H6+QqC9nwDrwEc/JsG4PlsAogA0fvuBe4EIvlMDHP+1/smCwf9A//zCFr/QP5JC4D7nAKMCMD7BQNuA9T6FQOIAjv58gZv/434cwVNAOr1aQY4AmTxOQnw/vHzrgc7ANnzhAiQAEHyawtW+xH2KgvR9/D7tAYt+B8BtwSe+1QCQwCy/TYB9v39AJv8sf7c/z35zQLc++T7ngHk9RAAvPtc+TIBU/5S+ysCSf8g9xEEHvyw+mUCbwCa+G8Euv9P9hgJ6/pS+p4IUPoJ/3MJSvnNAjoFbPpmAxQE3ftdAy0CC/2zA1EALfzmAb/+KfuhA2z8ef3WATL/BP3mAAv/4v0T/woCvv4MAYICL/zfAooABP7yAgIC0PYyBmUARPgwCY0C8PZBC78B5vjkDbb+8P3GCYYAnvzJCbj/fv/tCDj/sf6zB0L9vQCsBYn6yAF1Ann8+gQUAXD9jAKV+z0B0P+A/8IBrf1uAA8CnfsaB50AKvzZCa79Qv0CC1j6vf8sCVr1Mwbc/qH8jAOzAdf6XgEAAML1sAV3/Hb7WgNC/oH6QQYv/ED9ngae9vcCfQH190oEF/tJ/1IAkPrIBB36gv4RBmj2mwGsAw37kwOUA2r/kP93BIX+xf8cAekA0v6q/iAB1v6//bkBgAAv+3cCd/3o/yEBFP7RApX+a/u4BBj8afsdBgH9kvwmAh8BBvvXBA4DDfysAxgD/fryAvUCM/qYBz39cf1MA5f5mgRw/0T+vwOa+uv/UgAp+swDaf1Z/LYGMPoFAcEClPlXAyH/Qv5o/3QCT/6HAKkGBfpEAggFGfiOBkIDWffsCYn8XfwoCI/6n/9uAeD80gIF/esEWP/J+5sG6fzk/QQGv/9x+tsFlv4n+6ADwQGn+48FEASk+d4G0/2R/3AGkv2kAw0E8/7GBBIFoPzOAsACvv5ZABoH1vteAbcFd/tsAZr/CP3F/ev/5Pzk/Ab+rf9N+osAmv0w/BgAcfr/ALb8S/oxBKD5G/vSBQb5rv+FA1H6AAFPAEz8zAMN/pkAXgRP/fUBfv9X/3sBKQFb/+wBRvxhAA8CJvoOBPT9ZP3JAYT+s/03AqT+vwA8AaX9gP+bAGL9IgDBAWn7QAKwAAsABALLA+oA9wIXBEwAVAOIASP/UgM5AMwBhAUxAJUCmQN8/lIDLwHY/yEDUAB3Aqv/EwPD//wArAMrABT/YgTq+xACMQW3/O4ECACm/hYB8gIP/ZkFrv2hAFQCOv31/70C6/0Z/dkJx/X7BJID4Pe2BJX/GPvJA3T+Y/t0BE772wFPAfL7WAIR/Vn+YwGZ/JX/xgBD/SkDa//s/hMEdv10AOYEdv0PAZcErflQAiEAIPxPAkb+gP6v/Fb+Vv9i+egBJ//a9+sC2Prz+KYAHvuy/IX9UvxF/Pb6cv8Q/eX74wJ2+6v85QTT9y8BAQLr+wYAeANM/KT8GwcX+HMAIQIp/fb95QNp/Nn8BQPi+20C8f+GAvP8dQGkAcz7YQeAACT/5gVb/pT/mwR5AMkBaATA/5D/zwBUAAUAVQgd/vUCFgbw92EHKQRx+cYIEANt96kM3f+S/XIL9wFA/WoInAJC+vYKWP8V/nUHwv83/tEFP/0//58F8fzUAJQF4v2y//AG6fs1/6IESQI9/CAIJf+j/JoHtv+YADgE8gL0+zwKH/yJAtIETf19AEwACv8l+9gFH/sSAWMASwJ1/tf/jgVE+C0CFwSa+8YAhgTb+2j+owI0+ob/xv/E+ygCRfzc/TX/CPyA+rYAxvvV+gcAQvnR+wD95wB++LoA4f+d9skALv+a+AoBJALo+Gf/h/4x+K4ALgCo93UIHfVi/BwFivMjBbD/tftw/0D+LPpeAUP5XAD7AAL5yQi4+vj9rQTl/PP7vwUW/RX7+gdW/HQAiQApBRQALP61Cb/8tv53BvACcfwdDHEESf2XCH387wSLAxMDYgea/tgDOgcq/HcD0wOF/SUDoP/dAcD4CwSVBfX2VAnKAsf1QgsV/f/6KgyK+oUEYgKn+ioGW/2p/zAHU/krBewEGvnYCOn8kf6LBRb7RgIdAMX8VAL7/mf/rwK2ABYASwDLAkr9agBkBx/69gJECDz4HwRzAwP5TAY6/dcAhgN19R8Kf/l6+CIK8/L8AK4A3/XHA6f77PrRBcb5s/gGCeP3+PlACfv2av6vBGT9r//J/dIBEv8Z/bgDZP79+RUBb/+H+m0DZv+E/CIFVvhiANcCTfOJCXgALfUNDET7U/tHB4/7lAJ4ABH/+gQ+/In80gbo+Sn6bgm2+eb4Bwpv/k32DQ6LALz1uArJ/qP4NAnA///8Agb9+xADR//T9owHFvwj+u4LffYF+5wMBfaXAI8GI/cUAowBiv0FAjAAq/85B7X5QQRBBAX5LgbmAQX+UwQvBtP9pQVbAav+XAS3/eoDywFk+0YIof4x/esETgG1/i//YAN7+7r8sQYwAXL2VQZ+Avb2fQuFAcj2ZQxa/vv7eAup+G4Bzgqt91sCeQVt89gFIwiQ9dkKLQBE9bwJevrJ/DEH3/b4AZv/yvJfCtv5o/hzDHTzdQBQBjn09QQg/q/48Ab6+UX6nwdx+Sj9zgYL+/n9XgVg+y78PwZp+fL/oget9WMCiwXN72QF8AaM9X8JCwIj+Fr/6P9IABj7CgUuBEj6xQSEAY79+wWAAHsFYQBL9w8HXf46+roK2wDE+Q8GrgDq/IQB+QNxAdr7NgRWAfX7cAT1AVX/UP63AaL/Ovm8BgUAm/oOBOUADQBWBb8D5/++/h4B2QOU+VsBCgIi91kCpwAA+ykBEAHN/vX+RP4hAjb/zvtdBocB4fqfCK0F8vVsBB8FaPR7BFgFEfq8ACMB1P/9/+P++APhAfn9DgaBBBj5MgKDBqf7DwMdCZr99fxjBiT8tfp9CGkCZ/53A38Ab/0I/lYDmAFwAAcDjwEb/KT5hgRNAvT8lgQJAcf3fwAHBWP6j/4qBRr8bfskA5P/hPri/1kBUvtX/cIA8P2m+Fr/OALR+0MCPgLp+uH7dv7w+9/8EP9n/yH/NPoZ/Ib8EfpWATgCwfrY/DgDBP0e/pIFp/4sAD4GDQEy/x4DigJIAisBtf/4Adj8fv01AvD7sf3sA8r9f/zBAiP+P/tdAnIAov3hAsb/Pf5hAhkAJwFLAdz+LAOeABX/xgMKAV4D8wfaA/wAigKNAKoAwAP7AsoAigAHAPX9rv4lALICuQFLAAQAi/6T/RD/OwCV/kgB6gIz/1H9FP4i/ssATgFbAVYBI/7kADsBe/zLAvgELQHaBTYCIf9hBAoDHQQ7CBAGQwdkCQIERgSHCawGagjaC4oGyQQ+BoMDfQO2BsIGLgYcBCoDLQDF/b7/n/++/8j/oP3N+pv4wfhR+Tj4/vqf+9X3Svhq9yD2n/eb+FX66ffV9XD0V+587SLv+et27UrtP+pu6t3kkuT05k/mMekg7CXrWOjm6YzrLvEUASsNEw6ED9cU4xdtHAUnLy3DL043FzYFKcshoiFgILIdVhyPGFcPSAowCJkB/QD2ByEJ0QSCAzcBw/5RAC8DTAeWBy8I4wbN/jf8GP4S/hL+kP1K+W3zSe1l6CjnHOZv6M7mtd87287VYNLu0BTNIsurxrbAhMK1w7DINNng58fy/QCRCr0NeBnFKY00RkGNSppKPkQwPCoyXSZPIfAdlhcXDVEDDPzR9Cv0Vvlm+U771gXrBfMGjxAeFZcdkicZKiIotyZxJokigx7PG3QYQxWxDeIE2/zm9T/0S/Mb7/DtDe5B62nqT+un7dvxDvU29kD19vHM8PDv/u1c7eLqxObP37LYGNJSzKfGZL4ut4Kt4ar3t9rDzNCQ4t7tc/kvCFMUuB+NM1BIU1TUWUFVY0ucQUg3Di11JPAb5RGyBsD6sfH/76PwQvBa9zD84vwQBFcJqQ7fGoEk8yc7KsgnBSPAHnEYsBQGEXUKQwPI+mfxQumX5vPkYONU5ebm1uYV6YfszO6W9CL6wPvf+8f5cPcE9svyn+3Z6RzkQNuc1V7MNL8qtWusuqRAqb26CcpX12bpc/umB4UVdiTRNTNM7F8UaXNjSFh0TTtAti03IMIWvQmi/WLwB+SA38nkU+xg8Pr3UgHBB1YRRBkwJLkx6TjgPJs4pC55KCEiihrdErgLwQPo9l7tNOW73wDhjeNe5x/rF+7r8o72MfgDAP0I1wxODh4JdP+z92Xywu095z/jD90A0dDHpb+etbSuyagmocOesKwoxwTcl/H6Ch8YpB7CKgM65EiuXI1sEmq9WyJKfjQeHJsHvPzm9CvsFeQJ3NrWSdq759/1qwAGC3kYWiBVJEEtgzUtPBJAQzz1LKMcmhAkBdn7cvZG9ALv0ugb5GThQeQW7Kn2Hf/6ApAGaQikB1sJUQqhCtgJQANf+Izpt91F2YHW7NK7zevIlcTEvfa39LYltkW1R7EsqkO0ptTr8d4J0h+UKKoqYi8mOm1GMFMhYBljvVE0NlscLAO78XrsYuzy5mHjOeT34rXmvPW5CWcbzShxMW03JjZ7NQI4nTnqOIQyxiOvDR/97fEe7JXqk+zS74zxovEJ89P4owCWDHQWfBv9GqUXrRKwDDQH0QKG/Xv1POty3a7QCsj9xfXHRci6xmbGWMPrwZ/DJMXyw+u6ObEqtpzTLPeSDiMh3zF/MBMnmS5TOvJC4FSLX39OUDBdFr762+I23XvhkeMx5HXl4eWE6PnxzwYeIH8yjDpOO3g6CjbFMp822TbuL8AmhxOG+g7q8uMR5bXpjO+79Vf3Tfcx+9UBaQtSFaccoBymFogNLwTw/bv3ePKz7qPnxdx/0lrLvMrOzErSJdnv193UedMA0hvTktWx1IjKfbgvsCbGBOkiAB0ZFC2/JmsalyNLMEQ2vEpGXrtSwzhCIA79zOAE3ULiJecx7DzrpOn57MvyCwFHGXozA0LvQydBATroMsgxfTK6LL8hshQiARrscuEm4obo0fCf+AL9ZwBXA0AI7A+cFmkegCIPHskRkANV+RHxjOq/5oXiltzp1efPD8p3x5vPP93E4nHiTuP04bzeFtpJ1HfMm738rea1DdfL9TAOLiLcJFkXMhlGLtU3sUIlWGFaRkU8KPkCruJd1qnZ/uEJ5i7mnefx6n3wD/xAEH4r4kLpTVJKDUAeOdUyJi+LK9MgWxMjBtLyvt7C2Gzed+g08tn6FgKTB1gNChHdFFEa2h6lHh0U8QKn9HLq+eFe3NParNl0177VWNEzz1zUl97j6i3wbe9C8OLsxORm3b7UJssxu0ammqTNv8LgEP4JHrosCh96G4IwDzxFRTlbqWTIVfk6txbB7azVkNU53RTjTulQ61nwkfnAAjEVjy/0R1VZiFzTTpZAnzSRK8AmRB2fDwsBNvCM3OLQx9OQ4DLxfABGCTcPTxV6Gfkb+BwGHzEf9xewB+b1vOg93lvYhNWy1ALXgdo6237Zw9sX5UTwDvUc9Sfz5O6r59PeG9J5wza0A57PjoueM8dO7+kSQS1yLfQeCyhfPM1Fy1XbZ6llSEunJM7zw8uIvuvDT81/16/hr+jS8mf8fQrvIuk/fVcTYuBbxEk9OAIpSBw4EcwEfvdy63XcZc1FyurV6ObT+FEJgBUQIIQlriWlI3QhGx56GbYOMvwL6zzcbNFLzPfLa9KV25nhm+Sx5CTl2euU9m/9Sf6K/TP4wepi233M3LocrCGfF5K7nTvFjelFCP8uLEJWNlY4k05AV3VdUWrmYy5JvShS/87SQrpot0HBcNKX4qTvr/7QD0MfrzMTTChg1G3EbRJb0kBUKU8VqweB+snru+Iq3CDSTc0q1kzmJP6/GD4pxjBgNMMyTisWIUoXpA8OB+D3buOi0RHHJ8Y9zCLTEtxc5ZHrp+yz667uUfZF/v4A6fwH8zznldxR0YTAmLD2olmR+odvnp3NJ/h+IC1JNFK9PaM7EkwlU4FXf1+OVq43exEE4qmz26BUqNO5PtKV5z72lQkiHh0taj90VeNjlGlwY0VLKSvaEDD+gvAF5L/ZatYU1tPTitfj5jr7kRF2KMk2rDmCN4UxXiNYEKcA4vXH69XfQtOlybbGXclCz9jXyeK87fj2Lf0y/YH6Rf3IAbn/Bvnc8CniJtEXw4i15q0epw6b6JErnQLE2fZoJzJRzmOYV9ZNaVVyV21P1VAAUjk+3Bsc7o67OJ5WoXWzKM1c6xwJtyONNslAHEiXU89g+mpKZfNOjTFHFHD6iObx2WfTs9dV4MDlfep09VMHPhnyKc02Bzz3O6syAiAICyT4x+ro4LXXVM9ny+TMz9Jv2jjhouqA9TUAVgeeB7UFYwQ+ASX5tO0Y4iHX98vlxTPCQbnzruejRpQxj7Gqe9wND99C0mvla8JRNUTDQh0/bUCtRVw9lCNEAMbRSKQYkFiZ67a23RgEViNPPABKBUwpT29VhVleXM5Wnz6sGp/6JuIG0H3ICczm1+Ll7fBX+a8C4w2gG0QpjzNNN7oyRCYyEE33SOSV2tPVp9To1XfXH9sG4DLnhO95+MwCwQ1mEQMKrP/t9KrrT+Wf4FPcmNdV0CDIQ8I7vTa4arRCr+WmIq3xz50B0yxMVD5wd2fFTO9BGz1RM5ExeDKbJMIKkusAxSqnzqLutQ3Y+P+lIao7f04tVMNSaVN9U2ZP6kdLOLkcn/yP5MvVqc4c0JbZOejD9nECGg3CFwYfCCWoLOIvMispIvgSQf1/6FzastIr0G3TdNss5f7s5PSw/bEEOwvBD9QQXw3BBkf8Pe7l4m7cjtlF11nV+NHDz7jM6MeywQS8rrf7sjO1yMzv+JsnGFVTbCBdVD8sNLMxiSi5JGAm9yAgEFn1wM6IrLiiibb/1xz8ph+QPepQn1VMTjhFG0AdOm0zlCpjGvEB4usb3nnVDtM+2tDlh/Ck/hAOWhkdIaol6yaPJuQgqxWXB3P3gOms3zXaONkW3efkTO0u9PH7bgKHB/QKTwl/Bd7/kfc27l/lXd1c2aDX1NbB2HzatNia1jzXItfI1M/RssngvAW7u9IS/fwmMU6IZEFZjz4uM1svCCOsHDUgTR7rEZX7L9l2usSw0r232cL95CEEQmJZFl9GU6dD4DdWLsEnVSKhGlcKfvX/4xPWKs3+0FzgGPObBgEZjiUYJ6ohqhtUFj8R4woKBHn7cvD26CPmbuRU5VTrcfT0/SoFwwj4B/QCwf1g+QvymekA5I/gPN3E2kfcT98n5FHpyOlK5YvfSNwr3MXVAsmYvdeyU7mb2RcD8i+aWS5iCUo+NYgvlyUMGhcbrR0bGNkLYvC8xzmtx6zUwZ3lUw7RNI9U+GJNXLVIsDTkKO8iIxw5E4kIWPiY5CrSl8UWxWPUxespAs8WkidNLIMlKBz2FPkQaA47C0kFzf3P9rDxAe6U7DLx/PlQAsgGxQYzBFD/l/jC8qTvwe5w7tvt8+wv6vPnBOxa8Ybzu/Rn9Q31vvGT57/YWcuKv/6yGKkosdfRaf4vMfNfFGjOS2A6ZDpRLxwhzCDQIdwaEwwV7RvAvqM0qFzBHOU3DWQ0XVWPZllhik6jOaInPBzeE5AI0/tm7xjgN89dw1/FatfE7ycHTR14LvE05S+FI+AWdA+lDAYKvASW/bH35vKp7H/n6+d57dD0O/pR/ej+PfyX9LTub+4h8H/wtO8/7/HsCemG6PHrffEZ9h71A/Bq6Hfg19k4ztm9Bq9KosGjRsN+8ZggclJ/bkRfw0HzMlAlfRQiEukYHxZlC1z2IM+DqMac66xrz4L9lS3ZVnZuj20qWd87Bx8uDaQF8f+++PLwdelu4IbVltJM4Fr4wxGZJ203MEADQJw1pCXAFWQK8AOr/+/4cfJS8abwN+0D7VbxQPXp+iMAmwAl/63/IgEZAP/5gfXc9tn2nvRm9M70PfZQ+V34ffPZ7WTo9uE12LHN/ceVxBq/ArcmtlfMbvKrHXVQ8G9PYWRGqz22Mnodaw88CmcEIf5G8+jXPrinrjm+hdoA/RUigEd2YoBnblirPCocKgM+983wUeuy6CvsVfAt7NnmL+1t/AEObx//LqU5zjjpKyAXYf4s7JPmvOZI6AXsjvHP9InzK/J181n22/1XCTwQqw8rCuUAS/U36lPjguPy5wrsH+957zrtRe1w7JzoxuaC5kXnaOep4UTWaMl5uluqoqYOvkHmwhbMUS1zJ1/+P1800CWhDzMEfQTlBWMG9vyx3WS5qK3UvALZBv0BJ2NQhGw3cZFggUKZIJsGyPe07+7rbO2k9In8Ofqj8f3xDfqRBC4UbiVFMn02Oy+HHQcFze+z5ufnm+wW8wX8UwTKB7EIiQk2CDMK0Q75DCMFzfwk9RvwNO4+7Ujuxu+E8H/zLPhR+7T+ggG9/6744e5a5trfX9mu0cLJgsGjtCylA6b+whnyBC4kaPl3wltvRI06UiHEBHj9sQPJCxcQ0f872WC5dba7yMbkZwjoMRZamHEPbyJWvTBcDK704ueZ4oPkE+wg9UT6x/aF79/vfPiqBkYZYiq9MlAxZSQkDSb0+OOy4NPmM/GM/OUGPA0qDb4HqwCJ+5r7hv4v/8z9ufqn9NvuX+qd5TXkKun+8Mf41P0z/qj6n/TS7Nnjxtza22bcCtcV0LTIk76ksZSjoaHOvdru4Ce9Y/9/smlySoY7TyUQCef8LP/FBTIO3QhW6hLG77bHv+/VmvXHH7lORHDBd9tkHj9aFNHzW+L43XLjH+9q/IoDEf8J8+nqIu5v/GMRxicUN8c4eS6tG50DEPAO6Srsu/Mt/nYJ5A8sDfQF2f6S+ez5pv9TBuYHFATm/YT2vOz15Rfnsu3i9twBdweKApT55fFz61Tl0OKj4yfmduXY3zvVT8fGuXCuyqpvvvzrZSGyVz56H2z3RRIzHCSCDPgBsQYSD6AXWBEo7+TDt6qkrgHH3uqTGFZKj2xJcoVd3zZwDVHxsOU85Avr8vTY+079V/d566/l0OwW/yEWMCqvNjw4ayz0Fr8Ai/A763Tvpfa1/HgBXwMEA44Au/y7++j9af/t/sj72fWY8AHurO598fn0GfjF+n78L/sG9onwnu2i61roYOSN5BHof+bp3/PZLc9gv4ay1ak1r8/OefxsLhlhsXTyWrQ6vyunGwIJNgRfChAQ7xB9AWXdmLoasFi+Ddqm/ZwmrE1tZJNlglNgM5ERIfr97PnngOug9Jn+eQMDAn/8+/aE+O4DvxJZIq8uoi9rJpMXxAQm9a/unO+K9Tj9ewRkCrIMpgmCA/39pvtA+1f7hPpM+OT2bva+9DLz1fRG+Ob6yflR9pfz7PDF7N/pZeg251/nKeXy3arYutZ30uPM98GJtGq6y9nn/0osr13xbWJR7jQwKO4TcgAEAFgIGQ4QEJwDy+OJwzO73Mi43/sAiSsBUPFhDF88SBIlfAOE7Rrk2uTN66f2lgFvBTYA5fdI8iD1IQKqE+skPi9rLD4gPRAp/YntHuhk64Dzif4HCKQN8Q6OCwkFPf/e+1v6m/kb97XzafHd8Wjzs/VG+nsAlwLR/tH22e706jPqW+xB79rv3O5Q7L3kh9yL1bbNNMeHwzm+TbyZzVvwaRcQRahpqmEUQT8xZiVZD6YDjgT2BUgInQWu7rPLS7lrwqnaFPr+IVpLIWeCbKFbYDjLEGL08eWk4OPiF+q18o/4QPgX873v7PbyB4Abzi2ZOy0+5DN7IHcIg/EZ5UDnSPCR+agCwQjACasFvf7y+QP39PUk+ST9zf2d/Ij5Y/Uj8kvxE/Sp97L4lPY18dbpuuaf6bPspOwG6+/mS+Gp2vfQLsgCwsy69LQCumvQzvN5HT1NZmzRXsM93ywKHy0KAwKfBhgJFwodBczqOcePt8HBeNvb/nYnoUw9YvZhQU5aK3kGFe+55B/h5+Sr7Abzk/Ug9BTz2vYBAcgSSCj3N7I9jzhLJ+EP2frD6i7kRehf7x72w/0/BKQHfwdDBk8HQghQB1QF7wHA/Tb6jffS9fvzEPNg8zLzW/Im8fHwrfGs8Qryk/Kv77HrEOok6Vvmh+GN2tfRh8jTvoO72ckU6WoU2EpucCVmekSVMaEj0Q5ZBMgGkQkODtcLQPCwyH6znLjEzmfv6hcwQSBdb2QCVms1QxJq+yXvwejj5+Hp7Ozt7jntKu1R9TEAVw11IIYw0TX0MQskoA+y/eLxcetN56fm1uwX9Xr6//6xAnkFMAl6DLQLugafAMv6yvQX8N3uxvBP8pPxbfCq7ivs/euZ7p3yCPg5+0z6hPZ88HfpveJs2/3TFM8YzbnGB7i2sxfKM/K4JZBd13I8WZQ+gTSdH+kFU/9oAyIHNAmS++LXeraAr1W/09gN/KUo+1GaaY1pwFNoMRQRY/su7avjauKq53vsTOzU6NPqNveaBtwUdCWJNSU9gDh5JxMQ9fwU8TfpgOU/53TtDPbz/EEB7wb8DqoVPBizFHcM7wQh/9b4c/Oi8CDwG/J19Jf0uvOJ9OD2XfkW+qT5wvl7+Yf47/Vl7mDkNtsH0FPGycIsvxm5e7712CkCBjUVZAprjEnUMtUv8x/yCjsG/AdJCoYLxPi8z1qwMLHmxnXi+AROLmVRjmJBX5BHsSRWCSj5Uetb4YHeht/8313dT92H5vr34A7PIgYtiTXuOnswvRq/BfT0U+zE663r7Omk65fy//lX/voClQsAFBEYbRdsEeYHMQCU+u30VvGd8WfzX/NH8eDufO5a8cz1MPkT/Cn9VPyT+j71Ie6Y6DLhitcbz3bItMKsuNSwmLzJ3WkSM1G7bHVTHjlzNmosNBcUDXIM+w5VEgkCstNOp1Cdsq7yyOnsABxUSKdkQmtQWGw16RgECVX71O0q54LlmOMQ353XoNWn4kX70RYmLTg5pj7jO6wsBRpAC0X/OfnO9r/xKO0e7Z7v0fKU+JACFg79FgwcchvjFdMPrAskBzcAxvjY8pjuouyv7VDwBvQC+K367vrP+Cf1NPTo9iD33PMv79bkdNVfyJS957JhqZWp1L4k7kIzE22qbUlHnjRcM9kldhfgExsRBhGwDJXpELCfjnqVY7B/1CoDTjXaXIRvXWgBShEnWRNLCEj6Cu715vffLdf0zLbFnszk5YYGLyP1OGJEDURuOpYoDxSmBtoApfzz9frtM+gO5QflDuqt9JEE6hb9JEEqESiFIsYZEw8tBQT7QfL67Pnmf+AU3zPkWe6s95778Ptl+1388P76/Tb4m/Ho6SHej9B5xZy9EbkbtPyvVroZ3UcbnGIOfIValjxrOcYsihbIC3UGPgUsCPHzfb/Clnqat7dQ2fYA6CumTmli3GBCRyUmKxVEEbEHJ/cP6aPeYtWAzKbF8Mf+2lz6OhYuJ8wzGD4tPuk3STZjMssj2hHl/YTo4dyO2szbOOWk9nMGJw/JEqoWwBtkIBsjdiA6GMQMv/2S6xjcX9bq2czgo+l08ir3a/hm9wv2Cfi/+rf6kPcj7g/gMdJpxPS30a07pdqoUcb8AdNMcHVXX5k7GTU9Megh1BpjGF8UJBWhA3DMZJa0jbOl58LX5W0P5jPVTUhYrUq3MJgllytKKpsZjATq7/Dcx8ykvkG66sdt4i/83gyHHhM3vkOPPaczPipqIQEbRA0A9yvob+XM46ffi+G07Xf++w1WGW4flSPjJzwmCBqiCt7/QPaV64/jEt/43kDkKOqF7Urw/PNH+ab+cAIqBnwGCP3z7rDkxN1115fQa8fBu+yxALTQxZjpHyk0Zw9rX0XiMbArAx0IFygaXhZEFIwPh+r4rzOTZ6AOvO/eTAr9LvtGjVVtUcM5XCi0KlMrwByBCJnxa9lfyFy97bYzv5/ZOfchCucaUDPqQ3dBpjmgNIAtOiXSGZQDsusA4orf5dhE1kfgf/FGAkAQIBtpI5YpACnOHNEMfwOi/mX3Ke4m6CvmTuQV42XkWeh38nwA/Ab1AwgAcP1591zuceXD3ArV8cw4wfa0Va1RsPnEoOqOIPNWdmMUR/g05zJzKZQkTyelHgoSPgVr3+ipopIooWO7XtthAeUeETHEQAJF0jeWMH45IzvRLI8ZcwB54wTQhsWjvWzCGdhF7dX9ehTzJs8rZTDyNvM2qzPrLD0dmwoa/SXx5uKt2uDe0+ha83f+9AdoD1cXFR5PH8Mb8hZqD04EC/rD8R/r/egU6pPqVut37Szw5fM7+Bv8ev6W+6nzi+zy5hvgMtduy12/F7Uhr0O4yNSUASA4L1fCSNQxjC37KKEj+yipKBsdwBFZ+P/HAqTbpSq6S9Ha7pQJhxh3Jfcw4C/jLHw40kQ8P8otrRaz+KvfqtL2yHjGiNTW5v/xivtaBTAPdx7ZL/o5jjykOqYykCMoEicFZPwB9Jnt6urY6TnrcvAf9/b+dQkgEygXoRUvEQcN/Qr4CEQE1fwS9JfsI+j45Q7l7eTP5fjn2enq6SvpKelN69/uIe1W4KnOOsHUuXC9w9Dc7LIQgzgaRc4u4Ry0G9UaLiJHMJAuQCM1GEX6YM06tum7tcnE3F70QwGLBlMS8RoXGuwhczOGOiE1MCpHFxkCsPRR7IDl5eNn6Iju2vG39PT8LwmQFQUiGyvQLF8rKCmaIdMXuREaCiP+JvMH6sLjK+Xy7NL1of6AB00MYAnrA3EDhQhfDysT8A97Bf72yOi33ZDYs9yI5c/qgO3p7rPr2eeI58PmreUN5ZDdTM+cxLTDxM4D5fcD5CWJNzYvrCD6GpUb8CQONBo5ljGkJOIKgePkxpXB9Mep1YvohPOy9r7+uAhcDhga6S4aPgZCxj1dLqAXiQUq+mPxou1s8Rb14/E57uzv0vQb/iUMnhcwHhQlCipFJpcepBkCEzIJXwG++q/0bvRM+TL8wvw1/1YABP5I/vIBdwVkCjUOTAp7/7vzo+q/5a7m3uvT8M7zQfSl8O7ppOI93tTe1+Fq47HfudTlx3XAysIi0a/pdAhnI38rPiGaF60XphzOJk4zyjXGLc4f3gQR5czW2dhZ3pLnbPBR8GPuHvOG+EX+tQ3AISkt8S+XK+EdxRC0DnYQ/Q4GEMIQ2gcW/Mn1r/EL8vj49f3P/14ExwcqBloGLQtzDxoT8hZPFqMSexGmEIcNbwuzCkkHwwD6+H7wdOva7G/v4+8i8M3vne7f7kHxN/Uq+3EBFwKM+x31mPGZ7Y7q8ejI5ATfRdl40a7KKcuk0g/eQO2W/cUIxwsvCicLthENHMsoOzJzMjUtcyScFPcD/Pue+jL7ePx3+X/w0ek36YzqiO6u90cBcAagB/kFoQLDAiAKExS0G6sg1SElH+YaWhZcEygSlhB4DmIL5wUbAKL8IfrP9wL4wvoE/ST/vgPbCSIOHhAZEXoQ3Q1OCs4FbQCI/Ev74Pry+Qv5VPhG9xT2n/SV8YDtf+oA6dnoWOqZ7PTtIe4a7crqFOi55VPkEeaV6zvxsfSO9xT6Ufqh+Ib3/Ph2/rYGVA3fD88Pkg9QENARoBNrFtEasB2uGl4TVQzaBpIC/P/u/lH+sPwp+TP0e+8e7oDx0/cw/9UFSAo+DVAPTQ/kDWsNzw2mDQMNywuZCTgHNwUGBJADRgMlBFgHjgs/D/YRYxItD1QKhAbCAlH/vv6Q/5z/GAB1AOb+efw0+z/7vfvQ+zX7Sfq4+HL2CvXV9CL0RfOv8lzxA/Ag77LukvCI9IX4Yfzs/lP+MPyh+Xb1H/G47s/sqOqI6aHo/uc56ojvTfUr+rz+SgINA5YCkQMmBdcGSQmmCoAJOgcsBIr/W/sY+kH7Nf5KA5AI4gsIDmcQxBLsE5ITKxKuDwgN/wu0DP8N0Q6RDtIMmAmZBskF1QbmCDgL7gvoCQ4GmQHx/aT8G/1c/WT9vP2U/T39cPz4+uD6QPyy/YX/pQDC/9D9J/s4+LP2wPbH9iv24PVX9nX2DPfI+ff8Jv9cAcgCewHf/vf8X/uS+Xb3bvSb8WDxUvOm9fX3r/lO+mT78/zz/Pb8W/+UAjYFPAfPBs0DgAAw/az5lPfu92T6OP4MAl8E6AR6BW8HdQluCtoKqQrDCV0JKwm0B58GRgfcBxgI+AhHCmsL5grcCJwH+wYuBlUG9Ab4BhAHdAZ2A+L+Gvv6+U782wC1Bf4J9Qx8Dc4KaQX6/zL9kfxy/CL8zfpH+Cv1aPKh8fry4fU0+0ABpwRvBs0HBAcXBewDOwKO/wz9EPpR9hLzWvC/7cLrq+tb7uDxXPQe9x76VPwV/+8BAAO7Au4BbwA5/uL7iPoB+g35z/dS93z3zvfB+Gr7MABXBZUIDApjCrQJdAnpCesJ+QmRCvwK0gqNCT8HGAUSBDIFxAetCeUKCAvgCPUF+gIM/+n74/rl+sn81AAABGcFDQajBNkA2/wE+gD5a/mh+mT8JP2A/Lj7Cvqd9233uvmO/LX/BgMeBToFFASnAowB7QCIAO7/Dv5h+kD2GPOD8eXxzvMZ9oT4CPvE/DH9eP2q/koAyQHKAikDWAP7AoAByP81/l78Ovso+1H7R/zZ/bn+2/8YAisEuwUzBucEogPUAqQBMgK8BBYGeQb/BkgGxASDBI8FPAc/CZAKHAobCGsFZALC/7/+Gf9N/wsAHANpBiAHQAZ5BOgBrgB1ADj/r/4kAEQB0QAb/0n8gvkv+PX3J/hV+eT78/7BAOcA6wCdAfkB7AG0AZMADv/E/cb7kflo+Y/6k/o7+uL6k/tf/Pj9AP+L/qr9bv3N/Sz+Sv48/m39vvsV+kH5bPn/+fD69vwfAF8D9wX5B4cIVQboAoEAQ/9I/34ATAF2AUMCAgOFAqUBPgEfAZ0BmAJVA10EiQWLBXkEtwK1ANT/CwAYADsAOwGVAm8DOANcAsYBHAFrAHIAgwCpACICkQNGA4EChAGi/+n92vx1/Jv9mf+lAN0AJQFLAd4AHwCD/+n+m/43/4n/nv5u/h8AfQG6ASMC7wHfAKAAFwCt/XL7Ivte+y77OvuM+/b7o/zA/JX7xvoA/Er+JQB9AXAC+AKjAkIAYvws+QT4/Pgm+3r9+f+UAmgEIgUlBcUEOAQ1BDYFuwbGB6MH+wVBA44A9P3Q+837bf35/Wv9W/3b/bP+1v+FALEANwEfAtoCJQM5AzsD+QJ6AlsCcwIcAkwBcP9s/BP6xPkA+978a/5U/4z/1v65/T/94/3G/xcCMgNMA6ED8QN0AyQCFwAk/hL9Pvzh+8j8F/57/tb9Y/z0+rb6c/s//KX89vzC/ZL+mf5//kL/ogCnAUEBXP/D/Tf+CwAJAuwDQAXxBYsFBwP7//3+o/+wAKgCMgXZBlYH1Qa2BAICTgF2AioDaQLBALn+pfwF+3b60vrS+4/9if81AeMCwQT+BRwG0gUjBuoGdgfZBjYEXwDd/Fr6RPn0+Xn7l/y8/Aj8hvsH/Cr9x/1A/Xn8Nv1l/ykBAAJaAtABHAAd/q/8//s3/En9Hv4D/ub98v0z/e/7Mfv2+gr7+PuW/XD+Qf7v/Xb9Sv0o/pz/WQFeA7gE6QSEBLoD2QKfAowCZAHo/4H/AgBAAVADEQXeBZUGCQd5BqoF6AUbBwUIawd8BOP/J/wA+0f72fsH/Sz+Qv70/dL9/v1//1IC4gQ6BoQGlAU+AwoACP2x+8b8/P5RABIArv6f/Kr6R/qY+0X9df6T/jj9ePsg+0X8nv2R/gn/o/7M/cb9e/6X/lb+6v7u/48A0wBKAJH+zfyY+yL7NPxD/rn/1P+n/vP8dvy5/fP/mwLrBEAG4ga0BnAFcASjBPYEpwT2AxEDRQIHAiMCaQIvA6sEYAZsB8YHxAf9BmcF7AOqAisBvP+X/or9yPya/LP8rPx5/Mj8Q/6nAEcDDgXTBMAC5f/X/F76yfno+o/8Wf5z/5H+CPyD+en3pve1+DH6Tfvw+2H8uvwD/W79H/78/s//KACc/77+iP7V/i3/M/93/pD9Tv1T/QD93fzm/cT/RQG/Af0A/v7Q/B78Ev1c/v7/zQFWAtkBWAHeAP4AjwKxBG8G0weECCgI7gYhBYwDNQP8Az4FVwZZBnYFrwRhBKUElAWPBqsGuAUZBA8C7v+J/h7+/f3J/eb9e/51/8MAXQFxAM/+UP0S/M/7wvxy/Vz9e/1T/d77A/qr+J33NvcR+H/56/pp/Df9n/yr+9r7Y/23/94ByAIJAksAUv5O/Lr6lvoV/Br+Vf98/3H/LgCXAc8CTgPMAqIBvQAUAD//fP6s/b38+Pth+w/7u/vr/cQATgNrBf0GggcnB5gGygW/BBgECQTDA0IDIwPEAtMBaQHIAf8B1AGUAXYBlAHtAUAC9wEeAZ4AYACH/+b+gf9AACoA7v+L/7/+x/7D/1AApgBzAfwB0QGhAVEBuP+L/av8BP3P/WD/KQHrAecBtQH0AEIABgHXAukDPgMJAf/9L/uH+e/42vi6+eH79v0X/63/yP+J/9L/iACoAI4AxgCdAKv/Z/4h/b/7s/q6+n37PvxN/fH+WwBOAUkCqgIFAoQB4AE+AlICzQIUA3MCbgGbACoAWgBtAb4CJQPHAmUCqgGrAGcA1gAyAWwBVgFPAAT/yP6l/9IA8wGfAikCsAA3/zb+lv26/bb+mf+2/yf//f2Z/GD8qv0f/zoAXAFKAswCGAOrAlwBcgCgAPcA2ABQAFj/if5e/kT+w/2u/dH+ZAAzAZ4AAv+J/TX9Cv5l/5kATgFuAZkA1f4s/dv82f2P/7ABfgMWBK0D4wKqARsAC//D/u/+s//hAK8B7wH/Aa4BCwHdACEBIAHNAFoAtv8V/+/+E//e/lP+Df5o/iz/y/8OAEIA0ADJAX0CSAJSAQYAgv4B/dX7Nvub+zH9M/9gAEQAZv+a/n3+Xf/uAF0CGwMLA+oBtv+v/db84Px7/T/+Xv7j/RX+Uf+NAHEBQgLRAvQClQJCARD/Af3K+077bvti/Nb9Sv+VAF4BiQG5AYECrQPnBN4F/wX6BAYDZwBU/a/6m/lR+g383f3d/pr+xv2e/bT+pQDFAjMEKgQiAyQCdgHRACsAo/8j/8j+9P6R//T/IgCCABAB8QGSAy0FdwV0BMQC/gDG/3P/gP+X//T/SAAfALn/uP8vAO0AtAFIApQCgwIKAuEA3f6d/Dz7Kfv8+xn91f3Q/W/9Uf2e/ab+dwAOAqcCPQLbAAP/qP0m/VD94v2A/qD+XP4H/rz9If56//wAGwIRA9oDHQSOA0kCnAAU/1j+ev5u//sAFAL2AcIAQP9o/sP+QwAoAoID8AOEAzkCVwC0/rX9Hv0n/db9QP4R/hj+Zv6j/ob/LAGvAqIDBwRdA7kBLgBo/xb/w/5e/if+X/7t/kz/0v7E/Tv9tf3G/gEAMQG4ASMBif8h/ef6QPpb+/38Mf4G/4H/nP/P/2AACwHBAZAC3AIIAoIA3v78/Cb7RPqk+uj7cv2T/uX+3v5Q/0AAlAF0A5cF9gYRB0wGHgUvBLMDJAMdAtIAhv82/v38ZPzj/En+EgCeAYUC6QIoAzMDlgJvAVsAsv9o/xr/of4G/mn92vyJ/AH9TP7R/9QACAGaABkAFgCyAGsBFQLCAtkCVgK6AVMBIQEUATEBdAHKAR8CbAJ5Au8BAgFIAMP/RP8F/yb/Of9W//v/wwAMATMBlAGuAYUBWgHUAND/BP+r/nj+2/7a/4YAJADA/ub8n/vx+8b9MgBVAnoDXwNSAhgBdgCfACkBOQFRAKP+ufwo+/P5Ffkh+X36qfzJ/k4ApgDa/+7+uf4x/xMAIAGXAdIAR//u/R/94fw7/dr9Kf4Y/hv+av77/v3/JwGsAZMBfwF9AV4BNwHGAMP/lv6x/TL9N/3U/Zf+E/90/7L/ev/b/k7+9v3M/f79bv68/vP+VP9d/+/+qP6a/qL+DP/O/3cA9QA7AfIAJgB0/zT/Ov9+/wAAnQCBAa4CnAMaBJcENQW6BfMFygVsBQMFWgQlA4AB8v8X/wv/Of84/4f/gACHAfMBtQEOAeYA7wFkA/8DsgMjA0wCMwE+AMH/3v+GAPoAjQDg/9T/UQC3APIAGQFMAbIB8gGOAYkAdv+U/qj91fyR/Pb8mP0m/oX+tP4J/6X/9/9w/7b+ev6I/pr+lv4a/hb9Pvz6+0n8K/2O/sz/TQAjAIr/yv5o/q3+Gv9F/0n/Qf8A/7P+s/4M/7X/jQA5AT8B0QCYAMUA/QBOAa8BnQEiAagA4P/G/hj+0f2W/Yv95f1F/or+1v77/vv+Nv/W/1EAKQCM/+P+Yf4X/iL+YP6r/vP+F//o/nP+LP5t/i//XgDAAacCqALuAbUAMv8o/iP+nv7U/qv+Wf5F/jP/EgHSAr8D+wOJA2UCSgHIAJkAewBDAHr/SP6s/SP+//66/30AGQFZAWsBPgGTAO3/7P9vABEB1gGRAoACtgHXAGAAkwBsAWYCqQIeAmcBzQA3ABEAbACrAHYAGgDi/+b/ZQAmAVcByABKACoAMABhANAAMwFIATEBsADL/1X/h/+1/2X/CP/v/tD+3v4P/xT/R/8oACcBdgFTARwBnADC/8f+x/0f/Tj95f1z/rL+Bf+B/87/+P8xAHMA7QCzASMCuAHHAK3/mf7k/eT9M/5L/kT+Jv7m/ff9pf5Q/4T/Q/+N/qf9Sf3b/QH/HQCtAG8Amv/U/r3+af9MAN0A4QBjAMT/i//O/zAAjgCvAFcAuf9Z/1D/iv8OALAALQGCAdgB4gFMAXwABwAnANkAtAEQAsEBGAFVAIz/2v51/i7+1/20/fL9of7I/xYB6gEIAqABBgGfAJkAwgDGAKYAYQDo/0r/ov4I/qD9o/0z/i//MgAGAXcBWQHjAIoAhADAAAwBKgHyAIsAPwAwADAAFADs/7//df8a/73+Yv45/nT+Gv/h/6wAJwEYAZ4AIwAaAIIAUQEVAlYC4QH3ABgAtv8CAKgA4ABIAD//MP6w/T7+df+DAP8AwQDO/77+lP6H/wIBRwKoAgsC9QAUAJf/Sv8L/+3+2v7U/v7+Yv/U/ygARgAIAMr/CgDNAHEBeQHdAK//Wf5Y/b/8bvym/HD9cP6L/5EAGgHvAHcABwDe/0MACAGLAWMBsADA/9n+XP5z/rr+6P7y/s7+tP77/q7/bADwAEEBbgGYAbABeQHtAFkASwABAS4CQwPFA1oDFgKyANr/4f+8AO4BrAKEApgBcQB2/+n++/6F/zQAyAAqATQB5gCGACwA1f/L/xwAhgCyAGsA2P82/+7+Rf/s/24AjgAhAC3/Zv6C/mv/qACWAZgBswCe/9n+a/41/hj+wv02/Qz9dP1X/oD/XQCVAEgAEwBnACUB5gElApcBhgB3/8P+lP6n/pT+UP7t/ZP9jf3k/Tb+R/5E/jf+N/51/tn+Hv9P/5T/9/+VAGoB9gHeAWUB0gBoAEUAdwDIAP4AFgHwAG4A0P9r/03/fP/4/4YA6AABAaMA4/8O/5D+uf5F/97/ZQCxALwAvQDDALQAgwBDAPz/sf+F/3//kf++/xwAnAADAVoBlwFoAcMA5f8G/3D+NP4h/hH+BP46/tL+sv+vAIwBIgJQAiYC2gGFAVsBbQFeAd0ACgBL//X+OP/W/0sAUgATAND/nP+d/7//4v/o/8P/cv8y/3b/SABOAdYBsQERAVsADAA9ALgAcQFVAgsDZwNaAwgDrQJjAjYCNQJqArACzgKOAsoBywAKAL3/7/9xAN8A/QDVAIUAPQAhAAwAvP8Z/0z+j/0Z/Qv9Sf2r/SD+lv7f/gv/M/9G/0n/PP8J/5v+AP46/UD8dvs4+6r70fw4/lD/3//p/7H/i/+d/+3/SACPAKEAfgBoAHsAlwB+AEYAEgALAEEAdAA+AJL/2P5y/qv+cP9sACsBSgHUAB8Atv/W/3kALAGHAWwBCAG1AKsA8gAfAQkBvgBrAFcAhwC7AIwA/f9Q/9n+yP4k/7j/MABQAAQAgf8V/xL/cP+0/5T/Hv+I/if+F/4v/mD+sf4u/8T/XwAEAZcB3QGyAQsBCwAo/4j+Gv7J/XD9MP1D/cH9kv59/1cA5AAVAfMAjAA8ABcAGAAbACgAVgChABUBbAFfAfsAXACu/zv/Nf98/9r/MwByAJcAuwD0AC4BWQF2AZcBxgH7AS4CIwK7ARYBcwAVACUAfAC6AK4AagAmAPn/6P/Y/8P/vf/w/3wARwE+AggDUQMEAzYCUQGmAFEASgBlAHwAkQCWAF8A3v9F/+X+Cv/f/xIBGgJ+AhUCFwEAAE7/Iv8s//3+av6B/bX8i/wa/RT+A/+T/7T/iP9i/2P/V/8v/+X+i/5n/r7+dv8xAJ4AfADm/xj/dP5S/p3+Qv8AAFkATADr/2X/Af/b/hf/pP9nAC8BqQGlAR8BTQCU/yD/DP88/2X/c/9P//j+m/5f/lP+cf6x/hH/fv8IALIATAGlAYQBCQFhAKf/Ff/D/pj+h/6L/oL+af46/vv9qP1z/Z39Jf4B//r/vgA1AW4BbgFSARkBwQBKALv/Ov/5/iH/rf9QAMYAEgE/AXQBrQHNAcoBigFYAWYBrwErAqYC4QLIAlgCtgE+AekArAByAAoAvv/C/xcAjQC4AIEABgCq/8r/UgAPAacBsAE9Ac8AlQDOAHoBAgIcAqgBywAHAKv/k/+T/5P/af9f/5j/9v+SACQBgwG8Aa4BUQHWADAAhf8F/6D+sf4G/yz///5b/mz9iPwV/DP8rfx2/T/+vv46/3b/YP9n/wb/mv6z/oL+bP6Q/j7+5v3H/an95/1r/gX/eP+5/9z/mf/P/9n/t/9bAFkAhwACAXcAGQDe/23/nv/Z/08AOQF0AWAB3AAhAEn/1v6z/1IA1gBdAeQAfwC1ACMA7f+qAA4B5QD+APAAawAfABsAf//hAAACEAIrCGIC9f77Bb/9awDTBpP/xwE5BRIAMv8/Afz/hgFFCEQHoP1I/Ij8e/uK/38AVPyX/N7+Mv3T+0/8r/3A/f/+dQByAL4FPwz2BkcDLAQKAmQAGACz/v/5Zv7zANP98f4t/1X8bfr9+v36gfshAAYDHf+p/0r/AP3S/X7/vf6Q/vj/nf8WAA8BMAJhAQkDegFGAV4CIQHpAYcDuAOPBA4IxwTpA7cD2v8m/oH+9v23/1EBpP7A/l78+/pF/G/8M/wu/kf/nP2+/gr/rvxW/eH9CPvd+8f7L/ph+rf7c/3X/Jr9sf02/Gr90/7//rMAdAEfAb0BygCvAeoCoQIFBMwC0QDtAU8COQJiA74C3AB+AgcDXQAyAlkCmgAcAwACNwGJA0gD+gIAAjoBgAJBAvgBWAH4/i3+Ef/s/vv9I/8bAGP+Gv/T/yr+w//yAB0BywDe/0EAvf5m/s0Ax/+a/loABv8U/sL/9/8o/rT+MgDi/k//vgDz/+j/8QFWASsAdf9y/jH9EfyG/Tj9Pf1Z/r/9Gv5n/5YAxwCf/0EAXAABAAgCkQAR/97/PwD2AF4BmQEeAUoBdwEOACv/uf9FAEUBewGeAHoAsP+i/4L/o/4kAEQBmwEzAscA0f/g//n/TgFyAc8AfgDz/jb+pf7X/m//pgDDAMf/ff9S/3n/yABcAcIAlwD0/8j/QgApAOQAAQE9Aa4CtAH+/7T/Uf8wAJkBhQExAKD+//3S/YD+3f8IAN//wv6u/NH7Qvzz/cL/rQDVAPn/kP4+/nP+zP5z/9v/YAAzAI7/3P4n/nj+Af+I/58AUgCN/zv/mP6b/oD/PQAeADsA3f90/8P/wf/O/4oAuwAnAPH/0v/3AEkCAANKA+oCdwKyAZQBnwGBAZkCWQMiA+QCywEjASwBpQFbAo0CJwLgALv/Zf+f/xMA3ADDAMMA4QAEALv/fP++/uT+W/8y/yv/gv+z/yH/Nf+U/yoAiAETAm0BZwBz/8f+gP6//jn/Ff/0/tD+9v75/sD/EQDs/gT/GP9b/5YA+gCXAIIAxv+e/9j/FQCOADYA5f9e/0b/Xv+//yIAuv8b/z//nv/q/zIAyv8+/yX/mP/8/58AAgGwALn/Kv+p/n7+cv/A/+v/CADz/5L/TP/h/kH+zP1j/SD9jP1R/mr+w/6W/pz+lf4S/rf+M/9H/73/Dv9Q/jH/pv/5/4IAOwDL/0sATgAmAA0BRAHSAY4BagDl//b+Gv+t/9r/igB4AAcALQAMAGgAzwDGAFgB1AFhAtcCcQK+AS8BtAAAAcIB3QEeAugBIQHZAOYAOQE/Ab4BLwLIAZ0BXQG7ACwA5f9V/xP/JgDoAPsAQgFxAPj/EQAaAMYAJwHVAQYC1QEDAp0BaAEKAdD/vf8IAG4ARQERAXIBwgG2AZYBtADn/8//Wv+F/mT+2v1x/rL/+f/q/1v/4f74/sn+vP4z/xr/VP+o/3X/9f6c/iz+m/2b/WT9Uv3Z/er9ff0P/Xb8svx1/W/+Lf8//yr/5/7k/uT+Mf+r/y4AZQAdAMj/if9U/8j/HAB1/47/S/8I/zEAQACt/9D/CP/r/q3/uP/J/9///P8JACMAYgB8AIsAPgE8AZ8AKgBm/wj/vf77/un+9P7P/1AA3QB5AewB4gH2Ae4BGAG6AJQAOgChAJsAdQCiAAUAAwC3/1T/sf/j/4oAwgCKAGAAFwDG/2z/0v5w/qL+UP8EAJ8ArgBt/3r+cf3f/Iz9o/6Q//7/EgC2/67/0v90ANoANwGkAXgBmwHPAYEBPAFVAeQAjwCgAOYA6gBiAaUB3wDZAMcA8AChAQUC7wHIASwCEwK6AdQBIgHbAG0B4gBmADIA+f9GAFQACAA+/83+Lv9t//f/dwCiAOIAEQGWAAoA3P/R/1wAswC0AH4AhACIACkA9P9L//7+Xv9H/zv/RP8D/+H+Yf5W/nX+W/7w/sL+Sf7h/j//Wf+Q/13/Rv9i/4//Sv8d/xz/gP6c/o7+Uf6o/lP+R/6q/u/+kv/D/4b/GP+2/gf/Mv84/zf/vv6Z/tz+Gf9e/0r/+P7l/pf+vv7d/xQAegAiAWEAlABbAU0BwQEdAnkB1QCZABIAuf9gAJYAYADKAJsARQCOAK0ATwBKADUAmv9p/5P/pP/M/1MAlACQAKYAdQD9/63/r/8RAF0AZgBJAJP/cP/p/yQASwB4AF0ALgBPAEwA/v+U/4b/Nf8h/zb/Hf8h/0P/t//Z/xYADAB7/3f/GwAqAM8AigF3AcoBiAEKAb0AuwDFANUAhgAAALT/jP/L//7/5f/3/z4AMQCoAAEBVwFfAaoB3QFBAbIBrwFuAb4BwgF6AYQBJQEnAHz/S//p/hX/nf/h/s7+qP5p/rb+3f4t/z3/gv+R/w3/Kf95/8D/aAAPAJ3/Ff+j/vD+yf6i/vn+3f6F/t/+sf6N/i3/ff8+/6X/8v+8/1IAegAPANL/s/+C/8n/RgCfAN4ACgH5AHEAQQBqAJIAxAAFAXYA//8IAAYAewDYACsBHwG+AF8Asf9h/53/4P84AHgAogByAEAALgDL/8r/sf/G/x0AJwB9AJsAhgDaAOQAnwBHAJb/6/5H/iD+8v3H/X/+3P4T/4f/tf/f/yMAQQAiAAYAIAA6AFUAcAB7AGYAEADj/6P/ev/V/w4Aif9P/yv/Zv50/sr+x/5w/zwAFgCu/0X/uf6U/kD/1P/Y/3MAuQDKAPkA6ADBABQAzv+S/9b+PP/z/6n/1f/j/x7/Jf/f/+//SwAGATMBBAHTAK8A3f/H/y4AvP+6//P/uP8VAOgAhwEAAmoCYwKoAR0BrwCZAKsA8QA+AQoBNQEqAawAaAASAOr/LABeALUAkAA6AOr/iv+k////RwBGAF0ARQAeAPr/6/8MADoAcwBIAJL/yf4U/pL9l/3D/Rz+h/7x/gn//P7p/qH+2/5O/5f/FQBRACYAKgD3/6H/pf/N//H/ZwC1ALIAwgB+AFIAQAAsAI0AuQCxAPMAtQB1ALUA2wDPAAYBEwGOAJoAtQBlAM4AegGBAYwBvQFgARsBggE4AX0AYwBfAGkAxQDuAEsAyv+X/xH/sP7I/gX/dP///0oA5v8a/+j+0/7X/nb/AADR//v//v85/zb/qv8NANIAqQFNAYsA3/+0/vb97P0P/m7+0P4R/2H/Of8v/5/+5P0E/kr+xP4g//D+UP64/YD9kv2//bD+S/8b/yn/8v6v/h//hv+a//3/RABxAF8AjABrANr/1/+1/9f/lwAWAfsArgBDAF8AKAEwAgADhwO2A9ICwQERAZkARwGEAucC8wLEAgICgAF3ATgBCgFKAWABDAHkAPUAuwDCAOsAtACSAIYAVQAiABwAOQAfAPz/DQA1AL0ATQFiAeQAEgBn/9z+xv5B/5f/0v/9/7j/Rf9r/9T/WACvAXkCbAJGAmwBcgAUAOT/7f8wAFIANADz/wUADgA/AHYAMgDq/5T/hf++/9D/LgBlAAUAwv9v/yX/TP+b/3v/Yf9Q/2P/2f83AIMAbgBEAOX/c/8c/9b+GP9C/yb/Cf+T/jH+N/5W/r3+Yv8vAJQAnQBfAIb/Jv/1/ob+of7M/sL+4v7K/nD+WP6h/qL+kf6V/hz+2v3a/aX9af1z/ZX9lv3Y/Ur+n/43/9X/kf8m//v+vP7u/tv/qgDrAAwBfQA5/33+Xf5P/sj+df+T/6j/GwBRAHAA/wCMAfQBhALYAqcCXQILAsUBnAGjAckBjAFQAToBvwCoAAMBNgHHAU4CZwJtAm4CSQIpAjMCVQLLAnwD0QO1AzYDcwIoAjcCkQIUAw4DyAJZAqIBOAFFAZEB8AHkARsBCQBs/0f/vv+YACMBYwFmAesARwC+/y3/Fv8//3P/r/+e/z//m/4o/hf+SP6p/u/+6v7Q/oX+c/6e/sn+OP9x/1z/HP/e/tH+LP+e/wAA\" type=\"audio/wav\" />\n",
              "                    Your browser does not support the audio element.\n",
              "                </audio>\n",
              "              "
            ]
          },
          "metadata": {}
        },
        {
          "output_type": "stream",
          "name": "stdout",
          "text": [
            "\n",
            "Label: 5\n",
            "Shape: (12035,), sampling rate: 16000\n"
          ]
        },
        {
          "output_type": "display_data",
          "data": {
            "text/plain": [
              "<IPython.lib.display.Audio object>"
            ],
            "text/html": [
              "\n",
              "                <audio controls=\"controls\" >\n",
              "                    <source src=\"data:audio/wav;base64,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\" type=\"audio/wav\" />\n",
              "                    Your browser does not support the audio element.\n",
              "                </audio>\n",
              "              "
            ]
          },
          "metadata": {}
        },
        {
          "output_type": "stream",
          "name": "stdout",
          "text": [
            "\n",
            "Label: 2\n",
            "Shape: (13340,), sampling rate: 16000\n"
          ]
        },
        {
          "output_type": "display_data",
          "data": {
            "text/plain": [
              "<IPython.lib.display.Audio object>"
            ],
            "text/html": [
              "\n",
              "                <audio controls=\"controls\" >\n",
              "                    <source src=\"data:audio/wav;base64,UklGRlxoAABXQVZFZm10IBAAAAABAAEAgD4AAAB9AAACABAAZGF0YThoAAD//xwAPABcAHcAiACRAJQAjQB9AGoATwA2ABgAAQDt/97/2P/U/9r/5P/z/wYAGwAuAEUAVQBgAGkAaQBoAGgAYgBeAF0AWgBaAFwAYwBrAHIAdwB/AIUAigCMAIkAgwB4AHAAZABWAEoAOQAmABYABgD4/+n/3P/P/8T/uf+y/6r/of+f/5r/lv+U/5X/k/+T/5T/k/+S/5P/kf+P/5H/lP+e/6b/tP/F/9b/6//9/w0AHgApADEANAAuACUAFgACAO7/1v+9/6f/l/+J/4H/gf+I/5b/q//G/97/9v8MACMAMwA6ADoANAAmABIA+v/c/8D/pf+O/37/d/92/4D/jf+c/67/xP/X/9//6f/v/+3/6P/g/9j/0f/M/8v/0v/d/+//BgAjAEAAWgBzAIcAmQCjAKoAqQCfAJgAjQCBAHkAdABwAG4AcABwAHAAbgBsAGUAVwBLADwAKAAVAAcA/v/+/wAACAAVACYANwBFAFQAXQBgAFUASgA6ACYADAD0/9//zf/E/8H/y//a/+7/AwAbADIARwBWAF8AXgBVAEkANAAbAP//4P/A/6T/iv90/2L/Uv9J/0X/Q/9G/03/WP9m/3L/gf+Q/5//r/+5/8j/2P/i/+3/+f8EAA0AGQAiACoALgA3AD4AQgBDAEAAQQA7ADUAMQAoACIAIAAgABoAFwAWABUAFQAZABsAHAAjACsANQBCAFAAWABiAGgAZgBhAFgATgBBADMAJAAXAA4ACQAKABEAGgAmAC8ANwA+AD4AOQAsABwABQDv/9n/xP+1/6b/ov+j/6r/sv+6/8T/yP/K/8j/wv+1/6b/mv+L/4H/fP97/37/hv+W/6f/uP/E/9L/3v/i/+L/3P/U/8j/vP+w/6r/o/+h/6r/sP+//9H/4//z/wEADwAcACQAKgAsAC8AMgAyADUANwBDAE0AWgBsAHgAgwCKAI0AiQCAAHEAWwBIADEAGAAAAOz/2P/J/8D/uv+6/7//y//V/+P/6//3/wQADwAYAB4AJQAmACgAJQAhABkADwADAPb/6f/V/8D/rP+b/4j/e/9v/2r/bf91/4r/pP/I//T/IQBTAIQAsgDeAAIBGwErATABKAEYAfsA1wCwAIUAYQA+ACMAEQALAAwAEQAfAC8APwBLAFcAXwBjAF4AVQBKADwAKQAZAAgA9v/o/9n/0f/K/8X/vv+4/7T/sv+y/67/rf+q/6f/qv+v/7L/uv+//8f/0P/W/93/3v/f/9z/2P/S/8j/v/+z/6X/l/+L/33/cf9j/1r/UP9M/0j/Rf9M/1H/Xf9s/4P/m/+2/8z/4P/x//v/AwAEAAAA+f/v/93/0f/B/7P/qv+k/6v/tv/J/+f/BwAvAFwAigCzANcA8gAEAQoBAwHzANcAswCLAGIAOAAUAPn/4//Y/9f/2//n//b/BQAXACMAKgArACQAGwASAAcA+f/t/+X/3f/Z/9n/2f/d/+L/5v/q/+v/8f/2//v/AAACAA0AEgAYAB4AIQAnACkAJgAkACIAIwAlACkALAAxADYAOgA9ADwANAAoABkABwD2/+X/2P/J/8P/wv/I/9D/3v/0/wUAFQAgACgAJgAdABEAAADu/9//z//B/7z/vP++/8X/zv/Z/9//4//j/+L/2//R/8f/uv+y/6//rv+1/8H/zv/e/+f/8P/8/wMAAwAEAAAA9//w/+b/2//R/8//zf/P/9X/1//d/+P/5v/r/+3/7f/t//H/9v/8/wEABgAMABEAFAATABEAEQASABEAEgAVABcAHgAnADAAPgBIAFMAXwBjAGUAXgBVAEcAOAAnABUABgD7//X/8f/w//b/+/8CAA8AGwAoADMAPwBLAFUAXgBrAHkAhgCQAJcAnQCfAJoAiAByAFEALQACANX/p/95/1X/NP8g/xj/G/8k/zT/S/9m/4T/of+7/9L/5//4/wcAFgAiACwAOQBCAEwAVQBYAFoAWABQAEQANAAiAA4A+//t/+P/3v/g/+j/8f///w0AGwAiACYAJQAdABQABgD5/+v/4//e/9v/2//b/9r/3P/d/93/2v/O/8X/tf+m/5b/iv+G/4P/if+V/6L/tv/K/9r/6f/x//P/8v/t/+H/1P/J/7//tv+x/67/rf+w/7T/uf/E/9D/3f/v/wIAGwA1AFMAdACTALQAzwDjAPMA+AD2AO8A3ADFAKkAiABsAFMAOQAlABoAEAAHAAMAAAAAAP////8AAAIABgAHAA0AEgAaABwAHQAbABMADQAAAPD/3f/L/7n/rf+m/6H/pf+p/7b/wv/P/97/6//2//z/AAAAAP//+//2/+7/5v/Y/8n/uv+s/57/kf+G/33/fP96/4D/iv+a/63/xP/g//7/GgAxAEQAVQBhAGQAXwBTAEMANAAjABAAAgD1/+3/6v/r//P//v8MACAANgBMAF8AcwCBAIwAkwCUAI4AgQB1AGMATQA4ACAACwD4/+j/3P/S/8//zP/K/8v/zf/R/9L/0f/P/8z/x//F/8P/xf/M/9P/3P/i/+n/7v/y//b/9v/1//f/9v/1//j/9f/6//7/AAADAAQACQAIAAoACgAEAAAA+f/x/+T/2P/O/8T/wP/B/8D/w//K/9X/4//w//3/BwAOABUAGwAeAB8AIQAiAB4AHgAiACEAIwAoAC8AMgA3AEAARQBJAEwASwBFAD4ANQAmABUAAgDx/9v/y/+2/6P/lf+G/33/eP99/4j/mf+y/87/8P8WADgAWgB6AI8AnwCqAKgAnQCLAHYAXgBCAC0AGwANAAcAAwACAAoAEgAcACIAIwAgABYACgD7/+r/1//G/7n/sf+x/7f/wv/R/+P/9v8KABwAKgA1AD0AQABAADsAOQA2ADUANgA3ADoAOQA6ADoANwAyACkAHwARAP//6f/S/7z/pP+P/33/aP9Z/03/Rf9C/0b/Tv9b/3L/jP+p/8f/5v8EACIAOwBOAF8AawBsAGoAZQBfAFUATABCADUAKwAgABUABgD4/+j/2f/K/7r/sP+r/6n/rv+3/8P/0//n//7/EAAlADgASQBVAFsAXwBdAFEAQwAzAB8ADQD5/+X/1f/I/8P/x//P/+H/+f8SADEATgBmAHUAfwB4AGcATwAuAAcA3/+4/5L/ef9o/2L/Zv9x/4P/mv+2/9D/6f/9/wgADQAJAAAA7P/T/7f/l/92/1b/Of8i/w//Bv8D/wf/Fv8s/0j/af+L/6//0v/3/xgANwBUAG0AiACeALQAyQDbAOcA8AD1APQA7QDeAM8AtwChAIkAcwBhAFAARwBCAD4AOgA6ADgAMwAqACMAFwAJAPz/6//d/87/w/+5/6//qv+l/6D/oP+e/5v/mf+X/5n/n/+o/7j/zP/i//3/FgAtAEMAVQBgAGQAZABZAEcAMQAVAPX/1v+3/5z/gv9t/1//Wv9b/2T/d/+S/7X/2/8BACsAUgBzAIwAmACcAJkAigB4AGMASwA6AC4AKQAnACsANAA9AEgAUgBWAFIASgA+ACwAGQAGAPb/6//q/+//+v8LAB8ANABKAFwAbABxAG4AZQBPADQAEwDy/9D/s/+a/4f/f/9//4r/m/+w/8f/3v/y//3/AgD8/+//3P/F/6z/lP+H/33/ff+J/53/tf/O/+v/BQAfADYASgBfAG4AfgCLAJgApQCvALgAvwC9ALoAtwCnAJcAgQBmAEkALQATAPn/4v/H/7D/mP+E/3P/Zf9c/1f/WP9i/3H/hv+d/7P/yv/Z/+b/6f/o/+L/2f/S/8r/xP/C/8f/0//e/+r/9f/6//z/8v/m/9X/v/+o/5P/if+E/4j/j/+e/7H/xf/a/+j/9f/5//b/8P/n/9z/1f/V/9j/4v/w/wQAGwAxAEwAZAB6AI4AmQCeAJ0AlgCLAH8AbwBcAEgAOwA0ACwAJgAiACIAJQAjAB8AHAAYAA8AAQDz/+v/5P/e/+D/6f/3/woAHwA0AEoAWwBmAGoAZwBeAEwANQAdAAgA9P/i/9b/zv/O/9H/2f/i/+j/8f/4//j/9//2//P/7//r/+n/5v/o/+j/5//n/+T/4P/Z/9P/zf/D/7v/t/+3/7z/vv/F/9H/2//m/+v/8P/3//z/+f/5//3/AQAGAAkADwATABkAHgAfACAAHgAfABgAEwAQAA4AEQARABcAHAApADcAQwBNAFIAUgBOAEUAOAAoABcACgD+//L/6f/n/+j/7v/1//r/AQAIAA0ACAD9//D/5P/S/73/q/+e/5j/k/+Q/5j/q/++/9H/5/8FACMAOABEAE4AXwBkAF8ATwBHAEMALgAUAP3/9P/t/93/zP/F/87/0//O/83/3v/3/wEABgAVADAARwBNAE0AYwB/AIkAiQCMAJ4AqwCcAHwAawBiAEkAFQDm/83/vv+g/3j/ZP9o/3H/Zf9S/1b/Zv9n/1n/U/9e/2j/Yf9V/1n/bP93/3X/ev+W/7z/1v/k/wEAKwBQAF4AYQBuAH8AfABjAE4ARgBCACsADgAHABAAFgARAAkAFgArADIAKQAkACwALgAdAAQA+P/4//X/6f/q////HAAzAEQAWwB6AJEAlQCQAI4AiQB0AFAAMQAeAAsA7//R/7//v/+5/6z/pP+p/7X/uv/A/8v/5P/7/w0AHwA2AFQAawB6AIcAlACfAJ8AkQCCAHUAYQBFACoAEAD6/+H/yP+2/6v/pP+d/5T/kP+O/4j/hf+F/4b/h/+F/4P/iP+H/4b/iv+Q/5z/qv+6/9D/6f8CABsAMQBLAGAAbwB4AHwAgAB+AHoAbwBpAGUAVwBLADwALwAlABgACwAAAP7/9//w/+r/6P/q/+b/3f/V/8z/xv++/7T/sv+w/7L/rv+t/7X/vv/G/8z/1//n//j/AAAJABEAGAAYAA4AAgD3/+b/0v+9/6//q/+o/6n/r/+8/87/3//u//z/CgAVABcAFgAVABUAEQAIAP//+//8//b/8//y//n/BgATABsAIgAvADMALgAnACEAHAAVAA0ACAAHAA8AFQAXACUAOABKAFcAYABqAHIAdQBrAFwASwA6ACYAEAD///X/7P/p/+z/8/8BAAwAEwAUABYAFgATAAkA+v/t/+D/0P+4/6H/kf+D/3L/Yf9X/1f/Vf9Y/2P/d/+T/63/y//n/wkALwBIAF4AcQCEAJAAkQCNAI0AjwCNAIgAgACDAIMAgAB6AHQAdQBuAGoAZABjAGUAXQBUAE8ASgBDADYAIgAOAAEA7//V/77/q/+d/5D/jP+N/5T/ov+t/77/1f/s/wAAEgAkADYARQBNAFIAVgBWAFIARQA3ACcAHAALAPj/6//b/8z/vv+1/7D/rv+p/6P/of+g/6L/ov+m/7T/xv/a/+3/BgAeADQARQBQAFQAVABJADMAHAAHAPT/3v/N/7//vv/A/8T/1v/q/wIAFgAnADwAUgBeAGEAYwBgAF4AVgBLAEIAOwA0ACwAIwAeAB8AHwAdABsAGgAVAAYA9v/l/83/rP+H/2T/Rf8n/w3/9v7w/vX+A/8Z/zP/WP97/5j/sv/G/9f/4P/g/97/2P/X/9D/x//E/8T/zf/T/+L///8dADwAWQB5AJ4AvADRAOIA7QDyAO8A4gDRAMEArQCVAH4AbwBgAFMASAA/AD4APgA8ADwAQQBHAEsASQBJAEoASQBBADYALwAlABQAAADr/9f/xv+t/5L/ev9j/1H/Q/89/0D/S/9W/2X/fv+g/8L/4P8AACAAPwBYAGwAfgCQAJoAmACQAIUAeQBfAEAAIAADAOj/zP+1/6T/ov+f/6L/rv/D/97/+/8UADMAVwB0AIkAlQCdAJ4AlgB5AFsAPAAaAPr/1v+7/6f/lv+C/3n/fP+G/4r/jv+W/6L/sf+5/8D/xP/K/83/yf/D/8X/x//D/8H/x//R/9f/1v/a/97/4//j/93/3v/g/+P/4f/k/+r/8v/7//7/AwAOABoAIgAlACsALgAqACEAEgABAPD/1/+7/6r/n/+g/6P/sv/N/+//GQBDAHMApADUAPcAGQEvATkBNAEgAQUB4gC0AIAATQAfAPf/1f/A/7T/sv+1/8X/2P/z/wwAIQA0ADwAQgA3ACYADgD0/8//pv+F/2v/Wv9O/0//XP9z/5P/tf/U//X/EgAtAEAATwBWAFAASAA9AC8AJwAfABYAEgAPABEAFQAaABwAIwAjAB4AGAASAAoA+v/l/8//wf+w/6L/lf+J/4b/iP+L/5L/oP+w/8X/2f/t/wAAEAAcACIAKgAsACoAJQAeABgADgADAP3/9v/w/+v/5//o/+n/8f/0//b//f///wAA/f/4//P/6//g/9f/0P/K/8z/0P/Y/+L/7/8AABMAIgAwADkAQABAADoAMwAjABMA+//g/8X/qP+N/3b/Zf9b/1f/W/9k/3f/kf+s/83/6v8IACcARQBeAHEAgwCRAJsAogCpAKwAsgC3AL8AxgDMANEA0gDSANAAygC/ALMApgCXAIkAfgB4AHUAdgB3AHsAhQCPAJsApwCuALQAsACnAJ4AjQB3AFoAOAAUAO//x/+d/3b/VP82/xn/Af/s/t/+1v7O/sr+zP7U/tv+4/7s/vj+//4F/wb/Av8B//n+7v7l/uH+2/7X/tT+1f7e/un++P4N/yn/R/9s/5H/tP/f/wUAJwBDAFsAbgB9AIMAgAB+AHYAbABgAFMASAA+ADMALQAuADIAPABHAFIAZQB4AIYAlgCoALMAugDAAL8AwAC9ALQArgCmAJ8AnwCdAJ0AowCqALIAvQDHAMsA0ADQAMsAwQC1AKMAjgB7AGQAUwBEADUAKAAdABEACQABAPr/9P/v/+3/6v/n/+j/6//v//b//v8IABUAIwAvADkAQwBIAEgARgA4ACQACwDp/8j/of98/1X/Lf8P//T+4v7T/sr+yP7K/tH+3f7m/vX+BP8J/xL/Gv8d/x//Hv8c/xz/Gv8b/xr/Hf8k/y7/Nv9B/1D/Yf96/4//pf+//93//P8VADYAVwB5AJoAwADmAA0BMwFXAXoBlwG1AccB0QHWAdsB2wHVAcUBuAGwAaEBlwGQAY0BjgGVAZ4BrQG+Ac4B3QHmAe4B8AHsAeEB0wG/AaYBjgFzAV4BSwE4AS0BJQEjASQBKAEtATEBNQEyASkBHAECAdkApgBmABwAzf9z/xX/sP5L/u39kv08/ef8nfxa/B/88PvF+6D7fvti+0b7Mfsj+xP7Bvv/+gP7Dvsi+0H7ZvuQ+8X7APxF/Jj87fxG/ab9B/5v/tr+RP+w/xgAeQDXADYBkAHnATMCbwKkAtQC/AIaAzIDSANZA2oDfgOWA7IDzAPvAxUEPwRsBJcEuwTaBPYEDgUeBSMFHQUNBf4E8gTlBNcEyQS6BK8EsASyBLAEpgSZBIkEcARQBCYE7wOqA1YD9QKFAgYCdgHQABgAT/9w/nz9dPxZ+y76/Pi+93P2JfXd85/yePFj8F7vb+6c7efsWOzw65nrWesp6xnrNetw68nrPOzO7I3ti+7D7zHxyPKO9Ib2ufgg+6X9MAC5AkEF0QddCtIMFg8hEfgSrhRJFrkX8hjfGYEa/RphG6wbwxuQGw4bWhqIGaMYoBdjFuEUKBNfEaYP+g1IDHgKkwi4BgYFjgM9AvUAsv9//n79v/w3/L/7TfvW+nP6Ovoh+h/6Dfrm+a75e/lS+Sr58/iR+A34effh9kX2nPXl9BP0LPM38j/xT/Bj73bufu2F7Jnrzuoi6pTpG+m06GvoXOio6FPpSupz69Xske7R8IjzevZ5+W78Z/+WAhkGyglSDW0QIhOvFV0YGRt+HSkfGiCVIP8gfiHeIbghyiA6H34d/RukGgcZyRb9ExgRgA5bDGAKJwiIBbgCNwBa/vv8tvs7+qP4XPez9p72w/bM9qH2dvaj9lD3Tfg7+e75gvpN+3v86P1K/2YAOwH4AdICxwOuBEkFewVhBSsF7QSIBMoDpAIoAYP/2P0n/Gn6hvh+9nD0e/Kx8AXvY+3D6zXqx+iS55/m5eVW5drkfeRS5HLk7OS45cTmAuh36Trrbe0F8Nbyo/Ve+BP77P0AATcEVwcsCqwM/Q5YEcUTChbbFx0Z8hmlGmUbIRyQHHEcxxvDGrgZxxjDF14WfxRSEi8QVA62DBQLMwkMB9sE6QJeAQ0Au/5A/bb7Zfp9+fH4hfgL+Hf39fa99tr2Oveu9xH4cfj0+LH5lvp8+0f88PyT/Tv+6v6F//T/LAAvAAkAuP82/33+nf2j/J37ifph+Sf45fap9W/0LPPZ8XXwGe/e7c3s0evW6uXpEumP6G7omuj06HLpMepe6xbtM+928bHz7vVX+B/7RP6AAY0EVAfzCa0MnA+LEiYVMBfJGDgavRtNHaEeZx+UH1Mf+R6vHkgefx0qHHIamxjkFksVnROfEVAP3AyECm8IfAaCBGQCOgA0/nv8Bfuy+WD4F/f69TH1xfSi9KH0sPTf9ET18fXG9qf3fPhQ+TX6P/te/HT9a/42/+X/hAAYAYgBvgG0AXwBKQHFAEMAl/+t/pH9WfwS+8T5Yfjr9mT17vOY8mDxN/AO7/Ht+Ow/7MDreOtf63PrzOuW7M3tVe8A8bbykfSv9iv56fu8/mcB7ANpBv4IpwsrDksQ8RFFE4UU3BU3F1UYChlaGXgZlxm2GbEZRhlpGEYXGBYEFfcTvBInEUwPTg1oC54J1wfnBdIDyQH1/3H+Jv3q+6v6evlz+L73SPf39rD2cvZa9nn2z/Y495z38PdM+M34fPlF+hD7yvt1/CH9y/1f/sD+3v6//nr+IP68/T79ovzc+/r6CfoW+Q345vas9Wr0O/Mi8h/xI/Ao7y/uR+167M/rP+vU6p7quOpB6znsiO0R78zwsfLO9BT3fPnj+yn+TwBfAn0EngamCHMKBAxhDbMODRBwEbgSyxOkFFMV9BWBFuMW6xaYFvgVOhV2FK0TvxKaET0Qug5ADc8LVAq6CAMHSgXCA3gCZgFhAFj/Qv49/Vf8kvvZ+hP6UPms+FX4SviE+Nf4N/mb+R76xvqB+zb8xvw3/ZL98f1S/p7+u/6p/mz+J/7i/Z39RP3Q/EX8rvsT+3D6t/nZ+OH32Pba9eb0+PMA8/7x+fD+7xrvRO6D7eTshuyC7Ozsue3L7gzwePEL88f0l/Zk+CD6xvt4/U7/SgFdA2AFNwf2CKcKYQwSDqMP9hAEEvAS1hPEFJ0VNxZ1FnIWShYhFv0VvBVBFYIUnBO0EuMRGRE2ECEP3w2YDG4LaQp2CXMIQwfvBaAEbwNmAmoBbABm/23+pP0c/cj8iPxE/PL7pPtw+2H7afty+3H7aftd+2D7a/tr+1T7GfvK+nP6J/rf+Zj5Rfnq+IL4E/iU9wP3Xvah9d70EfRD83TyqfHp8ELwt+9D7+Xuoe6A7pnu8O6D70fwJPEh8kbzkfT/9Yz3Ivm0+kT84/2Z/18BJwPUBFsGywcyCZcK/AtJDW8OaQ9OECwRCRLWEnUT3BMLFB0UJBQlFBIU1RNsE+QSSxKoEf8QMRAwD/8NsgxjCx4K6gioB14GDwXJA6ACigGAAG//V/5G/Vf8lPv/+of6HfrD+Xj5SPkz+S35Jvkd+RH5C/kT+SL5J/kf+Qv56/jD+Jj4Zvgu+PD3r/dr9xv3ufZC9r/1L/Wi9BH0ffPk8knytPEh8ZnwCfB77+7ud+4x7iruZu7Z7nnvRvA78VnynPP39GP21PdW+e36nvxm/jYA/QGsAz4FugYlCIkJ6QozDGkNhw6UD5EQihFrEh4TnRPqEw8UHhQjFAwUzBNXE7US+hE6EXoQrQ/ADrUNmQx8C24KYQk/CPoGnAU2BN8CpQF8AFr/O/4u/Ub8ivv3+nv6CPqk+V75PPk8+VL5bPmH+av52/kV+k/6cvp8+nf6bvpk+lf6PfoP+tf5mvlg+SL5zvhd+NH3M/eR9vn1WPWr9PnzQfOU8vzxefEE8Z3wQ/AP8A/wTfDG8GzxM/IT8xP0MfV39uH3YPno+nn8Hf7d/7oBpQOFBUYH5ghwCvQLeA3qDjEQThE+Eh0T+hPLFHcV7RUrFkAWRRZHFjkWARaVFfYUPxSGE78S3hHSEJ0PUg4IDcsLkgpFCd0HbQYGBbYDfgJMARsA//77/Sr9hPz8+4X7D/us+mD6L/oG+t/5tvmb+Zr5r/nW+fT5APr8+fX57Pnk+cX5lPlT+RP54fix+Hn4I/iu9x/3hfbm9UD1ivS689vy//E28YPw3+9I78DuU+4f7jPujO4i7+XvzfDg8RnzfPQF9qT3SPnq+pH8Qv4IANoBnwNABcEGKwiJCesKSgyTDbkOww+2EKMRixJeEwQUdxS+FOgUBRUTFQIVvBRJFK8T/BI4EloRXBA4D/0NuAxqCx8KzghsBwUGlgQtA8YBaQAO/7r9ffxU+076Z/ml+P73evcU98X2kPZq9lz2XPZs9o72uvbr9iH3WPeJ96/3y/fS99H3wfel94f3X/cr9+/2qvZW9vX1g/UE9Xf04vNK87DyHPKP8RHxnvA88OzvtO+k77jv/O9r8PvwsvGT8pPzsfTv9Uf3svgt+sb7ef1G/ycBDgPsBL0GgQguCsELOQ2FDq8PuRCoEYISTRMAFIcU7RQtFU4VVhVCFQ8VtBQ0FJQT1xIHEh4RDRDZDoYNHgyxCk0J7geUBj4F7wOuAoQBbQBf/1f+U/1W/HX7sPoF+nL58/iN+D/4FPgE+Av4J/hc+KH4+Phg+cz5Nvqc+vb6Oftn+3z7c/tO+x/73PqL+jf6y/lS+dP4TPiz9wv3XPaa9c/0E/Rb86PyCPKG8Rrx2fDB8MvwCvGR8UzyHfMX9DL1ZPbG90z50vpc/P79pP9WASYD+gS+BnoIIgqcCwcNgQ7vDzsRXxJSEyYUBxXoFZMW9xYaFwAXzRaVFkAWvBUKFS8UPRNOEmoRchBWDw8OnQwjC8MJdwglB7sFRgTXAo0BbQBg/1D+OP0j/Cz7Y/q8+TH5uPhP+P330/fU9+/3F/g++GX4oPj4+Fj5qfnw+Sb6Tfp4+pH6evpB+vb5mfkr+bf4KfiA99T2KvZ19cf0KPR588HyEPJc8b/wUfD5757vWe9H72/v4++b8GbxPfI882T0pPUF93j44/la++b8c/4ZAOsByAOQBUsH8giCChgMrA0PDzQQOxElEgQT5hOpFCsVexWqFacVeBUlFZ8U5hMRExgSCxH/D/AO1g2oDGELBQqpCFIH7wWDBBMDoAFEAAD/y/2i/IT7d/pw+Yn4wPcY9532UvYf9gf2G/ZL9oj2y/YG9zf3eve+9/D3H/hU+H34nPi5+Lr4qPiV+HD4KPja95r3UfcF96n2JfaO9RX1pvQR9GLzofLa8T3x3fB78AvwwO+j77rvK/Dj8K3xqfLb8xf1cPYE+KP5Mvu3/Cb+kv8rAf8CygR9Bh4ItAlRC/cMeA64D8wQuBGLElITCxSlFBwVaRV3FWEVRBUKFZcU8xMmE1USohH0EA8QCA8EDvAMyguhClYJ7AeUBjMFqQM/AgcByv+G/kj9Avzh+iX6jvnV+Dj43/eo97P35ffs9/P3PfiW+M34Gflq+aP5Dfp/+qT6wvrx+vv6/voN+/f6y/qd+l/6D/qq+T752vhp+MD3A/da9rr1NPWs9AT0WPPL8m/yGvK68YvxsvE38hfzCvQK9WX23fdD+bL6Pvyw/Rn/uQBKAtUDngV5Bx4JugpZDLkN6g4sED4RABLaErUTKBSyFIUV7BX3FS0WLhakFUIV5hTxExETZhIsEd4P+g7EDTEM5grDCVUI4gabBUQE+gLcAaMAUf8b/gj9/fvy+iP6kfnw+G34DvjI94z3PvcV9w33Xfeu96H3hPeL9+33c/jv+Dj5F/na+Bz5mfnI+ev6uPs3+oX5mfqf+i76F/s++lH3I/bu9F/yyfAY7xPs7OnP6AXnC+V94zbiFeIH5IPnmOo37Q3xn/X4+cr+bgNJBs4I/Az6EUwXIh2LIRgjuiO/JaAnJyhdKA4m1iCtHTQdQBugFyAT8QsyBP7/Rv7H+4n4IPbH8w/yufNl9tT1l/RF9nf40/rK/7UDiAOsA0kGMQjMCawMLQ23CrwKcQwbC4AJdwkJBwQEYwQXBFAAm/1C/ef79/os/DX76/dd95z3M/XB8y3z/e6H6tHpGOmn5vPjvt9O2wTawdm31hTT5NER0QbPl82EzNHJI8mKzZfRQdIz08TVINnl4mf6+ROSGc0QuBNGJYQ3E0m0VN5NFEJURK5Jd0oUTkpIgzJNJ8EqZSEdEdILEQHD8ADyivWG5i3ZRdYz0djVzOZq50/bBd0L5CbpafypEP8NFAhWE24g0Sl7NVs34S+sMkA7YzkSND4wtiV5HU8g6h0uD8YCCPw79jP2Jfhi8S/oveVp5ijqvfEj9JzwZvLU+Sf+9/+RAeT/qv2W/gj+gvke9Pfu4Onj5rnjads/0oDNbMoIxw7Dab5fuie4H7hzuXS9PcEOwWrD08uj1H7l+QbYHkQWGA12I3tBK1S6ZcZn+FL2SzVc5WMmYgZgCkosLeErtCztFjIKpAeR8nbiDeiE3tHH6MYczbvL4NSr2l7NLMy83wTtd/sXD2wLhf8WES8sATZ8PeU/mzPFMVpASkRSPjU6dy2bHksevB1RD6ED9f5n9tvvzO5D6Afg1uEj6MLrn+7K7tvsmvJ2/pUFfQfTBzAF3QFQAqoCEf6e+KL0nu6z5VLbvtJbzZfKlcaDvii1o62GqpCsRbBrsVivHK7sssK6WcP4zFvbJ/lGGE8a4wzWGvk+rlchaZ5zJWCLSiJY7mvPbAhoGFbwMtwiMSgnHQsMqgbg8abW4dVH1knDlLxCxQnDpMI8ywLGAcIZ1ePnv/NWBi8Lnf2PBjYoLjquPRFB1DfJLsM6Z0f2Q+k7ZDBoIF8aUhpYEDAFfwBN+K3tEOif4x/fruEi6drr+el36EjqlfMmASQJcwkeB8EFdQVuB9MIJgT9/PP2R+895anbf9VO0SXM3cQBuhWvV6m5qhKvvq6QqminC6gIr++5esRezOzRUuWvC8EiaxlrF8c1T1RcZVt2fnFnVpNW1m+fd7Bw7WKKQbEmRSxMLWYYVgs6/Krd09Ox3IDR28FexQbGicEdyW/Mvcen1PvpivIp/nsMMAiJB+Ai9DyvQRZCSj8zN1Y8K0tCTRFECDgrKU8gNCAgG3wPkQeC/17zRuu25xblduY26nvrqunL58/qdvSBATkKnQqTCAEJCQymEJESQA1dA1j8/Pi/8vrnCN4K13TREMskwSS1Q67xrYmuAq5Aq+Km+6ZZrn+4W7/NxGjLsdS08XMa0yMTEy4bGj/sWfxqb3dlZulNSV0Kd591u2onVy81uyfQMpEq3xK9BsDyhdnw2jHfY8xqwYHH48QqwlrKAsmmx9jar+vt8JL9KwXV/wMMOis8Ogo4gzgkNtw0M0L4TO1GwjtLMEwmEiU4JdUaHA6eBuX8XPJw7YfqWueF55Do7eUL46vkhuvB9t3/vwB0/tz+KAPmCcQNWQqSADT3d/Q79E3wAOex2l/RoMrXxPHB3b29tfmtA6u0rJKsL6vtrGWxRbhvvDO/B8aI1oH6SxuZFoMF4hXYO1FWOmmubVRSckLIWyVxUm6kZJRLmSt+KO4yeyU6E0sIRO6H2/PhUN2iyk/ILcuxwynEL8m1w17JUd6m50zsovju+Q34LA4dKkMx9y8AMEktujM6RFJKcEIaOMEumymaK64oYhwKEgMKpQBj+C7ylu6a7MHrb+rc5Tjj9uZ+72r5av1g+q74+PveApUJIwl4AL323vKP9cj1iesc3nXWMNOdz2/IIMCouei1Gbe4tZuvPKzZrF20Rb7fv7y+8cJxzfjrGhRBGrADqAhlMF1O9V/BbP5ZYkEnVh51P3RbaglZCzm7L2k+nDYrH+gTjQBk6O3qI+3+1grNAtOiy2HGiMxpyJTHqtnf5Zvluu0c98z3mwR8HdgoqSlULQUv1DOrQDZIFkV9Pv43TTVsNlwxCCViHNIYXhGbBr38d/QX8k70r/IR7Gfl6+Os6472hftY+bP1A/ip/4AHjwoxBBn5s/N29sH65PWn54rcjdcF1ZPSzsrzv0m4Xba9txa1OK8tq/ysY7WWuQe6FL/lwt7QHfg3FvAKhvv0FAY9QFLBYxZmi0rrRDlnAXtfc8RmxE3+NFs7uUUzMwgf3RHW91jp9vGb6cDSls/xzX7BO8KyxnvB98ea18nay9u955rvKfRkCBYd5CC9IhkoJC0pOIdE00aRQOo5vDZFODs6UDKhI4kasBXYDoUGIv0f9L3vWe+y7BLnFuMN5PnqMPLS84nxvPCo9YL9pwLGAUf5l/Az8IH1NvZh7OLdR9Qx0izROs0Zxh+9jbUysbuwBa76qeOsybGxslex1bPouoPK/+8yDvoAPO/XByUz201zX35hQEUiPAthPXuadsFq31EUNyo7U0mbPLco7Bn//Xrsy/S/7wrbe9X80Q3DsL+SxQjCf8Z01ejWOdSj3fznAPF2AsATlhgKG+YhfykLN5NEeEZOQd07hTkSPhJD2jx/LXEh1xzRGHwSHAoy/wH3aPQc8ofuN+vB6fLsm/EK8zbyXfKB9jv9CAFYAOX52vD472b2YPgr8B3hn9Yw1V/WMtX9y+a+BrfBtZW3GbY4sLqr1K5Mtai2ZrZeukLI9OpgCh8CmO8BBRUxzEozXBVieUbEO+pi/3/zefFtLljDPCRAgVL+RggwyCBpBbbygvyS+fnhANrN1ifGAcK0yRbGTsja1VbX69JU2q/mvfP4BHcPsBCUF4siGyo5N3lDxUKZPtI9VT0KP6JDukFxNOQkARwYGrgY3RGOBg75h/DW70vwivBG7tPpLOp97XXwO/Ti97/7dv3o/A/8Fvie8870qPco84vnEdx412rYq9eD0MfDEbn/tmG5k7cwsH+pxqpesU+09LKKs824g9CG+f4FOu9L7kgVHjq3TYVcD1HHNQZHb3Lie8twhWHdRI84A0u7T2M5HSeSEvL3UPf2/w7uZNv32BzNicBExsPH68I4zMTT/s4N0eTbQ+i4+BgGbgjUC6oXWSGnK+c5+z0bOqU50zmHOqE+iUA9OVQrfh5NGGwYcxWXC33+KPJQ7X3uA+8Q7jHqxeY56fXsvfDB9JD3QPpj+yr7vfjH8nnw4PSa9ADsieBW10jV8NQx0P3InL8kuGi1MbPwsLmrRqkRrqCwJLDMr6SyKMbI7E8CJfLH5jgFyy6VRfpWyFVGOro722bqfINz1mb4T8o7R0YmVC9FvC/BHQgEqvkaA4D5WOPB3U7VicWWxqzLu8Z4yujTcNEHz0nY0uTe9KsEhgZpBVsRUx/oKO42KT6vOF83PjsEPdpA+0PNPHovzSTeHiYeCB1HFJ0Gofqr9H30pfXe9GfwROzw7Dvw/vPc97v6Wfx3/Tz+tP3R+WP1m/Yy+V7zEujU3tXZAdno13HTZMhru1G3IriXub63vK6vqqyu4LHjtSy6iMQS4Uj6LfUm6ZX/kihaP21P1lWQP4A5jl9ve6Z1eWqTV8w/R0TxVflMcTeJJaELevu3A30BB+wL4mXaw8hCxifO0Mr2ygbTcdGDzWvVsOGP8PYBGQWq/0IK5RwsJ2AyOTtqNpczBDuDP+Q/z0AFPSQ0PizaJJAejRt7FhAOTQQB+qbz3fKR9A315PHK7XTsbu6K9G36IfxQ+2j5WPhT9wf07/Kd9C7wMeZX3VPYudbi1BHQD8dlvN222LWYtL6yjq5uq/esc67grxy0Sb7u2kb5G/NU4Lz0GiFaOshJC1OsPFkvuVWXeM1z1WhuV8g8cT4oU9xMOjcnJ1IMRfiVANYAAuvJ4ELbechcwoPKKsfcxTPQws+8yRzQbtq05qf8FAfZ/RoAZxMwIswtTzlqNkEulDPLPB4/oz74OuIygypMI8od+RpfFiENPwOW+cDxT/A/8nvy8e9S69Dp5ewP8jr4Avv5+eb4yfhT+FL15PGE8t3xBupw373XOtU81B3RAMvhvpCz5rI6thC17K9mq5epd6kwr/m1Zbsr08LzjPNb4GTvHRsaN2VHhVQSQnwvYFDSdxd5525FXwVDZz6KVIhUfT+6LgAUa/sRAbcFk/GH5LLff8zXwpHLJcp3x5nR+dIBzDXQ5dqg5dH6nAwiBc//wBBLIzQxXD1APRAz5TJHPrZELkTqP+Y2aC7QKHgjiB4ZGqkSTQhL/6P3x/Pi9Nr15fQ78cXtbu/V8w36e/8K/wn9OPzs+t747fXr9Zb14+1s4/zbkthu1gzSZMs0w+i6xLXstN2zvq8drb6uJa8Sr5Gyf70G3Ob56/Jc4d32zCFsOdNLIFfXPpAy0lpWe7h1Hm2EXV5CBkOUV8tQezuwLOARV/3CBNUCh+wH5E7fpcvjxLDLd8b/xarSStOQzPrQ8tlA5d36fQtgBq4BrA6dIKgxpDw8OjwyaTE7OiZCWkHbObEwhCtfKPgimBvIE70M4gV3AP35JPLV72vxx/IT8/XwfO9C8d323f2S/6r9zfwe+434E/ZP9CXz1u0A5G7aSdT40HHNw8iswGG27a9prvit46sEqt2pGakHqmau+7o23cP5N+wq2yb34SJvODBMLVXEN2gvpl3ZejFyqmo4WBM8rEE8VuBKMjaWJ4kJ2feNAgX9v+Wu34DZhMW6wnDJ08DUwQbQM8/AyX3PBNf/4fj4CApKBP7/0QywHUUvhTqPN5MvQi4rNwJARz9CN6cs0ibVJGYgeRmcEPIIjwO5/8P6IfNo757wOvPP9FfzxvGJ8ij3rv7eAToAA/4E+zr47/UB9LbyM+204sDYbtK+z1nMlMZuvsWzea6Cr4yupqvHqbCpb6qGrFyyFcE84YL6ae5m4br+fChCPtRRJVfqOiA3d2OBfVV2S24dWno/MUW5V+hMbDnhKAUKgfp7BE/9g+iu4rvZXseixg7MIcROxpzTGtNmz8rVsdw06JP/Eg8wCncHlRKWIqI0Wj/IO44z8THcOexBhkFBOWAuaSnFJzkiOxpeEv8M8wjWAw/9g/XB8nX2gPr++VD2L/Rn9iH9gQQcBgID9f+z/Uv72/f59Pbyke7t5PrYYtG0zTzLjchQwUa1Yasrql6tQq5vrlaswajCq7az2MiD7mP96ujz5N0K9C+FQuFX11SRNhBB8G34elxy4WvhU9c9hEllU4BCSDMXIcwCJvqpAOjx8uCy33/Tt8ORxw3It7/WxybUstIS0r3X5tyo6oAC2g4kDIgL8BExIb81pj5cOTMyzS+UNC49Zj7xNO0oKyLFIL4dXRXWC+QFoANdAWn7+fIY7rDxjvj7+m74PPO88vP6NASPByIEGf2k9/z0qfTl9OPww+Zf2WfPVMwiy3TGir/StnSsU6dSp3unz6iYqk2p96aIqQC4LtnE+fn2zOEq8RUdGTjbTNZbrkTNMdlTandaduxu92DUQn87EE4VS5Q3MyknDj/2hfrn+Hjkw9wo2ITGWMGwx7jBJ7/MzNLTAtLZ1vPbV+K2928MyA+uD5YTsxqzK7c97j8yOIszrjPrN2o9tzq7L5En4iHiG74WcRC1CXIEuADI+/X0ofB38V72u/oz+n33T/bt+b8C2AiHCDMEs/0t+JP29PZL9VbuIuHz1BPP5MzFyvHE6bu2scCqkqoHqwyrk6yyq3+rEq4fuKzYuPoa9zXk5vR4Hd815ksqXXxF/DItVhp3k3SSb3NicUQzP9tQ00qJOBYtnBII+2H/Xfyt5nfgV95LzNjGI82exejDKNLQ1/jV0dv94Nblqvl2DnoThRTaFj4bFStePfRArTqZNOMwrjTGO2Y5AC9AJModBBvmFlUQXAiCAmv/pv32+or0+PDi9Jj6F/6l/WP65vqcAAAIHAxJCQ4CE/vg97n3xvYH8JLjN9cIz2vM+cmrw/25ma9Iqxar5qoBqmimXqW7qauuOrZ1zoXwR/bP42ntpxQEMJNDl1eqSRIwzEeMbyN0+G34Y9BGdzhaSfJMoDrPLXgXgfpX+Qv96epJ3x3dGM4jxEbKuMdlwtLNvNad1AvZ098e41bztwkrEM8QIBafGW8jXTUyPS840DLcLzYv1DP3NaUtryO+He0WYRFGDZkHIgMW/yv6LvXt8Ujy9vST+BL6mfhH+KL7VgFMBu0HJwWo/+n5cfX883vzMO5l4j7Ub8v+yZzI6MJQuCCt5ad5p+2oo6mnqPGnmKnxrFa3ttd++bX0MOL69GIbbzGaSYlbkkHFLfFPum4sbXBrR16dPcY2SUk/RVg0DikxDqL3uPwb+UXl8t8A3AXM+smmz3TG6MQb1AraSdll4EfkE+c9+R8OPhVTFUAV4xnzKIc3yDrkNzgxuCsKMI81wTEzKWcgzRqAGFoTMQxDBlsChgBp//376fX79Bv63v5QAtcBuP6dAOQGGA0yEKUMIAUn/437Ufkk9vzvx+Xo2IvPEssvx5nCJLyustWqtacxqLipkKo5rLmtDa6huTDdV/y79MHlu/vfHyY1cU7kW34/mTE6Vhlx+234asxaOjzNORdLoUTWMzEmUQpq+ML/SPp/5qfgMtqZy0XNcdOmycbHN9Wb2pvbzuOy58Lq7/tkDqEWEhqZGJIaGSqTOOg6wTghMlUp4yvbM8swuSbZHXUXrBQSEoELeATTAEX+Bf1J+yH2q/RT+d7+uAKgAd/+UgEfB9QM6A9lDNsDM/xm+PH29vRm7wDiONINyrnHX8VGwPe3UK1wpXuk3aYuqUmp0qejqIqs4cCT6Bn6bujc420D+CTWOp1Tj1BjMCc3ql/CbqFqhmMTSkozXz1ASAU7yizSGQH+fvew/ZvxeuKO3r/S5cdXzpPOkMa+zNrWxdfK2ijilOXf7uIBqw0xE24XbxQVGdkr2jZQNWIy1CvLI+8nKDAWK4kfqxVKDc8KpQw1CsEBcfmY9Sr3b/oi+g34OPcT+qMAVwRFBPIEAgcuC6QP9A4HCFX/5vjX9PzyX+/749zUTsqTxezC87/kuVKv/aV/of6hhafwqgCqBKkTqke+ruc6+3jqh+WIBDIk2zoTVyxU3zKzOWlhUm+wbIpnmExoNDc/R0o1PYkv1Ruu/o74P/918pvk5OHH1P/JEdF60C3Izs9O29Lbpt7e5Svo9/H+BsYSeBe0HEYZQhs0LiU8fjq3NbgvaybwJz8y6y9xI2AYFA9jDKsO1gvUA5P80fir+fr8s/zh+RX65P6iBSgIPgfsB90KJRDoFOATfwyjA5L96Pi49UHzEOoG2oDLtcSsxPzDXr0jstOnN6KQoiupka7HrPKpMKwYwQjpDfwV7YXpdAc1Jqo8YVeyU+Iz9zuRY+lv/2rFZbJMMzUrQPNKDzwMLakavf81+ZP+ofES45LgrtVUy0XRSdCrx77PRtxY3ZrfuuVb53bw3wWwEpkWnBs/GeYYvilVOig6bzOlLekl9SQKLREt5CFPFsgNnQkMCv0IAQNH/BL4ovew+fP56viL+Rf9vQJGBXMERAWCCJ4N5BEsEXUKlgFC+yX2AvKF72boIdpXzALErL8UvmO7N7Odp8+fKaDSpG2pMatVqWyqlL875yP36eVb5tYGeiOZOktUTkwpLRU5PWH3bIpoyWCsRPkvfj1ARyM5dyo5FVP6WPe2/M/uBuLE3lzSmsl10InOVcZHz6Lagdto39zkp+Xh764EChGTFrwbWRjQF6YoMznFOR8z4isiJEokdyxJLB4h4xR+CzIIRQnEB2MCgPsl9rf1Nfnp+nj5bflQ/CYBUQWKBkkHNAmGDIMQHhGyCy8DEPyf9qrzQ/IX6vfads2bxWDD4cHWvay0fKiIovii6ahirrysY6oYrDnCjeqy99vlp+abBmEk9TuYVJFKSCzCOh5iRW5tas5g5kS1MspB2krhPNYt/hYp/s780AGT9PfmgeJw1nHP09aq08PLjtMy3Q/fUOOl6LrpRfOCBkISoximHeYZYxqoK4Y7YzspNVMuoSZiKJsw/i4mIwsXvA4ZDE8OOgwWBMX8O/i194D7sv0o+4v51vzPAXAFnwe6CLcJcQxFEOsQkAxwBWH+8vcX9Iryzet03iPRVMigxObDh8HGuIOsb6WFpTKrv69rrjCssq2rwizp4PYw5eDk/ATTIXo3eVDqRowrIj7oYCxlnGB1W91DyTVdRHlJyzgiKUkWXwEZAa4EIPQf5Jng+9YU0N3WzNMcyoLRrtwC3LPdzuTL5xnySQXNDXIQ2xU1FGsXuiutOQI0aCz3KHQksSi9MTwsDx0WEmUNDw4lD8IJkgC/+Rn2//YK+1b7UfhU95n5d/4MAuEDQAZXB0kIKAuaC2AHtQF4+1D0S/A9727oWts9znXGzMMAwoi+4LVsq72k9qR4q0Kuc6zuqlix/M8679bq0twk7Q4OQSXtPY1L1DJtJGNFgmMvZSph91ElNoYz2kbERV42xia3DW/9qQLPATDyjeks4prTQtOI2YHSStDb2Qndhdt44Cblteiy9uAFpgtREvEUshApGm8v4jchMrQspibPI1IthzStLHceVRM+D5gR+xJFDdUDyfuf96P6Kv8J/gD7mvmq+1kAiAMzBkYI/AjsCvIM8AtnB+MBOfzn9QzzFfGZ6B/cPNFvyzDKl8h4wuG3W67dqQOtrbRgtTqvDKysuAXcJ/bY69fdbvAEEeMpTkQWSmAs9STiSFhjkmQiX3tLOTJ8NsFI5ERANtgkUQyDAbUHBAML9Dbt7OMr17fYUdtU0+PTh92V30LeMeKC5T7rDft3CB4N8xGYEtgQah1mMUI39TCzK+ImwSW8Los0RSzgHhQV5xCvEr8TWA6eBU394/jA+nb+Zv5X+9X5N/uo/aQA1wN3BnUHKQhvCWoH6AGQ/Sr5x/Jo7xXt3+So2FXOp8neyPPFvL9cthutG6qdrdazV7Sfru2tMMGF5N7xkeFT4Dn7cRX1LOlEID1QIW0sXFGiX1Re2FaGPu8t+DvZR5A9Oi+KGtgDAANzCML85++56cHciNRH2vPXhc/Q1F/cHds63EbgKeJu66X8iAa9CekMvgsVEBciJDEwMe8pzyQUI+gnADGlMAglnBiYEnATgxTMEO8IVwCL+gn5Rvs8/E/5+/Zz9+D5G/zd/Y8AcQK4A08FswV8A/v+xfkd9J/vcO5H64rhjdUxzd/JTMgfxqK/trRHrd2sqbELtsu0WK8ksjvOAe417MDc+ufZBHUbpTTSRIcvAh7qOKdXHV4BXYNPNjVsMf5DgUbNOros/xNDBKQKGgqK+uXxSepj2/HZvt+718fSytoj3jDc0N9+4xzmoPIRAZsFQwoiEJsPjRSUJO4v6S6oKuInciXcKCIwXi9kJfgaChY+FkkWVxIuDCYF2/4w/Tn/xP9I/dn6yPpf/C3+eABeAy8E0wNJBawFHAPK/+v6pvMl74fuKeul4vfX4s57yrLJdcjMwim5mbFwsJq18bmqtwm0krzW2bbxnelt3jvw1QwBIlI5XUBkJ7cg/0EPWztdz1lcSB0xXTXgR/dFETm1KMMP4QWiDtwK//ow80DpG9v43MLhTdgo1ezcC93V2t7fSOMy5+n0pgBLAgIG8A0cEmsXliJ5K4As8inkKPAoNiq5LSwupCa9HD8XDRYfFpYTXw0nBYv+sfwh/zoBfv72+UP4svlg/R8BagLQAEb/kADmAk0DJQBs+R/xh+va6jDqF+R+2ETMxcUmxjDIRMQLuv6w5q0Osni3ubdotHa7tdd47KDiSdps7k4KVh7QM6s3UB+WHJU+zlazWHxSgD9lK1cyY0TSQvc1PSNxCnwD4g1rCoX6O/H+5bHYsNsI4b3YRNWz2nLa1Nju3Q7iGOZ/8k/8Of0JAHsGnA+YGSceayCHJGgmriV4KFkqjyZ0JdUkMx5JGPkVBhRQEfYMagYPAbX/tf+VAG7/i/qG+Hr6Xf17AEsBcf/j/cf+gAFrA5YBlfoq8tjrE+oD6/3n/t7M0EfF/MQcyv7JesBXtKWuwLDOuNO8Y7e+uF/P0elv6unceOYJAwsa3i+8Oxso2hd4MeRSrFsUWDJIVy/YLJhB/0kHQLouDBT8AyQOnROwBXz5+u143kzd6eXb4TbapNxY3fPa0N+B5E3m9e8t+7H94/+UBMoJ0xffI28htR9EJSMoBSrmL+EunyV/I40kiiBbHaEYUBK1DzQNGwlOBqIDWgCSAN8Bs/+x/Xj9Mf9OAhkDJwJIAQwBXAKuAxoB1/n78Vzsgupi60/oGN2jz+3IBsrEzJPKo8HVtlayQ7fTvsK/ILpMviHYj+9f6rDeBe26CKsd6zMKOz8i2RiCONhUlFlSVV9CUirFLoJEbUiCPS0q7A2VA2IRvBM3BG34JeuH3NrfqOeD4M/ZAtzl27TbquAE41vlDvB0+XL88v9rASMFdhaaJPcfSRsqIEUjOSYILqctPCLfHLYerB5YHacYjRG2DRwKyAYhB4wF3P/X/a3+3/x7+xT8Df2l/X/9zv3N/g3/xv4J/yT9Ffdm8Hzr7Ohd5y/kg9yR0ArJS8n6y7HJUMB0t0O1D7nLvKO7Ibj/vtfY8+xv48HXJulUBqkbNy8YMPgWNxRVNpZQ8FTdTv84LiTCLq5EpEXhOZElRgrJBNwTPBN4A8r4d+uV3jTj8+i+4BXcPd++3QDcV9/74P/kM/Gr+Rr6ifoR+1oC6xfSJYod4RXvGkIhUCi9MQsvdCB8GokehiEbIUwbtBJbDTEKbgnkCt8H8QC//g4Az/8b/xD+jf2G/lr/awDMALj+f/3I/1cA0Pq98+Hthuig5r/nGuTj17TLV8gvy1HM5sc4vwu3MbX9uR2/CL+rw5/YGeq74hPazOxtCU4bWStVLugZCRecNmJQAlSUTcM6nCiEMfZE5UY+PTkqtQ/2CKsWIheICQ8AJPI14//loewv59/i4uPz34vcXuDL49XooPPO+A/3bPgG/PMCoxUTJpEf2RLGFQYhsio3MnswSyF/FuQbyiOxJOAekBPbCokJzAu8DQoMEgU6/in+yAHBAssAeP+R/2L/zQBJAmQAB/8cALEAnv249yby3+wh6bDm0uO03lbVmMyTyYLKtcilwge9DbiQtrO6v7wyvfnK4+IY56TY/d0S+S8OSR9xLcki6REOJKVEL1ALUN5GdjFwK/A8k0eIQv82IB+bCtEQIBrpEAsGZ/v46CLit+qR6hXjAOLk3tLYGNs/4M3iSeqM8S7xuvL79+/7ygXLFu4ejhekEOYVziG6KwYv2iibG54UGBtTI3IicxliDtcH8gfiCvYL9gdcAB38af3d/uj9cP2j/T/9Qf2A/cP8Bfwk/SD/zP4H+kjzm+8M7lvq7uNq3JvX5tSI0GTK5MLJveW83b0Ivrm597TnszG9VNhd7D3ia9SE4cz91BRQKXstihe0ESMv3UrgUixPPz3uKY4w2kOlRx4/xSw1FLoNnBmoGboLnwEF9e/nwuqU7sTlc+CX4ejenNzC3jPfrOGh6xTyfvKx9NT2tftdCfwX0BxGGAYT+hVYIkstVC7PJwUd3RYaHKQi7yDwGJ4P3AiZB+4KyQy4CUEDxP14/X8ADwOJA5MBIP/2/v4AZwKhAnoCjgH3/239Dvrp9nDzvu5a6Onhb90i2crTGc4vyPDCTr+AvcG88bqGuLS2fbxY02zo9+LB1t/ivPzbELYk/iwZG9wTRC8MShpRfk9fQaUvSjWSRgJJv0HdMtsbbRQHHnsb/A1fBkf6d+sb7MbuNub24c3iMt602+ndHt7/4Yfryu8R8MbzaPYn+yYI6hPOGF0ZvxWBFZIg2yziLqEqbSLcGawbISPBJKcfRBXECoMIfwwrDuQLLgZv/gL8I//pAP4A5f9w/Rz9gf5f/ir+1f6O/uz9+/wN+ePyQu9J7rfqZuKI2WHUutHeziLKMMPIvFG66bumvF26y7dwvDvSuOY04BXWY+X+/M8N0yGFKTIXkhM7MM1Gg0wpTGY96CynNLpEA0aTP2MvQxeYEg8e4Bs4DyMFzPXi6MzsVvC85ybhCt5j2S3aWN6f3qLgjuam6a3sZ/L09Fz4hgJBC44PsxRPFnEUBhq5I+8mtSUGIsgbsBlqHOocXBo6FU4MYAbtBl8HpQaDBUkAsPpT+jL8S/6mAO//Sf0z/DL8Df4MAbwB1P82/Wr6NPfx9N7yyO7n6FrgANdu0urR/M/oydDB0bqrtx66Sb1GvKi6vMN62Ffivdo/3LPw/QT9FIskfCJDFZwgdjxeSjNN4keFN1sxuD7hR6FE3zviKI8YoRuqH9QW0QxyAV7x++vN7/bqheOM4HPbRNml3MvcUNyC4bLmO+ru78TyQfPm+ssFnwysE54Y4xWdFlAggyc5KdQo4yNJHeEc6x86Hzwb/RPnC5EJWgoHCrUILwRa/sr8lP4pAFMBfgD+/Y/9bf5w/9QAiwBA/7r+df0r+jn22fIT8Prt2Ojb3LXR9tCj1JTSv8qUwPe4wrj4vnzEoMWKzEjagd0p2XHjyvrwC1gXpyAYHMgWMCi6PzlJeUreQlQ0ujNpQG1F0UIOOtYlERhcHEseUxVQDSwCAvID7Q3vPOoA5nHkZt6a2ljcjNyc3gHmCOp66hPu0vBp8+T8jgc+DH0OvBH7FKQZHyBhJCklSyMeIb4gSB/JHAIbHxjmE5oPMgwoCRcG0gP9AZQA2/6y/PP77/wt/lD+O/6t/Yz8b/3X/p7+YP1S+w35qfbU80jwyuwZ6bfif9kY0ZfOv9Caz83Hyr38toG2+r33xlvOL9lV26LRg9iY9PcJSBTFHIoX3A3vHrQ860j7SC9BQDHILkY+sEYGREE8eyeGFfAYRB7QF80PvAPZ8Inowut26hvn1uMs2+DV99ei2d3ctOPn5Rnl++gX7Xvxd/tVBEoIOQsbDuYS5hkeH/IhRCRoIysgSCAVIJscpRodGMYSLQ5iCnYHgQZJBC0ACv6c/E76Yvqu+1T7l/rX+WX5qfn0+VH6LPqN+Wr43Pae9SfzKfAq7jLrXeYX4PrYUNGHzKHO0s+ayGi+mrghug3DCNQ75GHitNSC1rvukQkEG+4hhxjRDXUbbzdZSS9MGEHLMI4vuzwXRelENjsIJyIaHBwnHRwXhQ+TA9f1kfAX7tLoe+bG4yDfzt0s3PTYjtux4iXn6Oqq7rnuVPGq+jEEDguqD/kP3w+3FpEfDCMNJUwlJCFEH8Ih+iGBHooarRXhEDQOeguFCCIGwgLx/6f+Svzj+bn6p/wG/W/8Hvoc+DD5APuD/Ob8SvqY9qn0dPTm8yHyDe/A6TXjGt5N2+HXeNLmzqvNKMpKxHDCT8b/zlfevOho4ovcSelE/6YSsiBAINgUPxgFLdI+GEjLRWA2US1tNYY+bkBXPDws0xo5GCIaJBbjD+cER/ZD7zbuE+pe5lLjgd2k22LdPdyg3FLhZOXa6ZrvtvE983/5XQHxCIwPeBHbEPoUzBy/IakjeCODIDAeCR8YIMEdIRmHFIgQdA21ChUIdAUxAlT/Of3e+s/4evhs+cH56vgg94j1U/Zt+IL5dPkX9wLzFvGn8dPxme9w68DmxuFi3vXc3Nr81lTRQczWyZXJZMonzFHTHd975Hnh7+Mw8iYCDhDiGk0ZlxNDHNQtCzoQP6I6Jy+kLFM00TjSOEEyGCKAFmcWcBX8D3QJwP0A8rbu5Ozi6BHmduFm3Ffclt0B3UrfWuOM5dDpVO/98af1CPxYAs8Isg3/Ds4Q4BQWGSceFSHSHS0aMxubHPIbYRoNFg4QnwwMCxAKjAg2BEb/hvxx+1r7u/vV+of4ivcp+Cv59vmL+Wb5A/q7+ev4/vff9u315vTa8rDvIuzK6Ofl0eKv39rc3tkr1w7UnNBAz1rQM9Kl1n3hDOv96aToLPLsAPUOthp9HlcaKhvNJl40PDyZO4czgywTLfswBjO2MO4lJBifEbEPcwxpBxr/yvTS7fvqwug/5injGOBS4E/iyeKJ49/lpem/72T2aPqK/AP/TAPYCp8S3RXuFeIVahbYGREgLSJrHQ4YBxaNFnsYLhiIEnQLsQeWBrgG1AW7AWr9lvvl+vb6qPsS+9P5+PmX+v36Avts+sD6r/un+5D6lfgi9j70RPMO8r7vW+yE6LflGeSR4png690o22vZ9tnz20zdL+AE5pzr2O5F8u351wPKC0YSjhfEGoYekSV5LJ0uli1dLEUrxSpfKtsnsSKFHGcWyxFzDvAItAE8+1T1uvDP7djqQudj5CDjkuNM5ZbmZeeR6Q7tb/GR9u/6xv2iACUFvgq8D0cS2xLpE0MVrxahGWsbdRi5FLcUKRUgFOUSYg9mCtYHLAcNBtoDVACS/ET7ZfvE+lv6gPnh98/30PjY+Gb4BfhW91/3h/c49lr0PfLx71PuXO0P7CnpneUZ48Lht+AN36TdDN1W3bDe1uAk5bXqnO4W8oX4nwBdBtcLxhKEF5QbCSGmJOolGicHKBso3yehJX8hPx55GnwVbhHuDMIGBwEE/K/2q/II8ArtY+rz55DlZOUb59DozurY7GDuSfEg9vn6bf/3AhoFsweZCzUPvRGAE9ITBxPvEkMTohLLEGsOFwwICucHUAVRA6EBSf8r/ln+d/0M/N37jfyZ/Sf/EgD5/w4AugAXAp8D+gOTA6oDegOgAi4CqwGjACr/5/yj+pv4cPaa9J/yyO/87FLrber56aXp6ehW6H3ozekQ7Cvu3u9z8aDzsPYm+vn9uwHvBOIH9ArUDR0QaxJeFLUVShf0Fw8XQRYEFs0VrhWOFDYRmQ1EC5YJzwiWB0gEswCI/tT9Xf7m/hX+hfz6+wP9Kf+PAe8CHANiA98EZweXCXUKNwphCfQILgnCCPYGbATPAUL/2fw3+p72n/Ix72bs9+md5v3hQt793CfdGd143Enb9tqn3Y3iX+dS7D3zvfmg/EcAOgjkDyIWMR32H6kc7huSH6Ui2yR2I0ccRBUwEb0OEg/gDZQGx/4r+kr3Y/c4+O71y/J+8DbvnPF39Zb20/c2+nH7Of7JAtYFgAheC+MMYQ7ED1kPUg9EEMQPeg6bDBgJ1gUPBHICWwCX/QP6Gvez9dr0WvTD847yOfKW82z15fbr97v4aPpj/WMAVgJcA+MDAQVYB64JoAr6CZAIkAedBycIsweABXwCOQAV/y7+C/0++7T4oPa09V71wPTJ807zlfM09OH0dfXe9Yj2RfjC+vL8gv4l/9L/MAK9BNEFAgfOB+sGoQZAB9UGXgaZBhwGLQVHBE8DcwM2BPkDWANzAusAdQCNAW4CSgIRAUv/q/5s/1UAswDm/zf+L/0W/dn8//vp+gD6x/gb9/b1dPX69Bb1k/UQ9Wv0BvVu9nP4b/pR+9v7G/1q/5ICTwWVBugGYAfbCGULSw2dDSENNgzqCw0NFw4PDj8N2gvtCjkLUQtKCuYILwebBRYFlgQEA8wA3f7Z/bD9oP3e/LP75/oF+9D7YvxW/KX7Evt1+yP8LPxZ+wH66/hj+Pb3SPc09kz0EfKa8Kbvxe4O7kLtKuxp6/zrp+2x74bxBvNK9o/81QGPA84FGQr0DekSJBjEGDQXuxfZGE8aXBtrGPMTjBEKD8kMiguoB04Cbf+O/c37ifq695f01/NI9Hf18/ZV9kf1l/Z2+Tr9jQBwAZYBzQK+BNMHqQqmCmIJMAlfCdYJQwrtCOAG1AUUBS4ExgJCAO39Nv0q/Wz8zfrh+Kr3svfG+MD5bvmu+Iz4/fg0+o37Fvwq/KT8iv2b/rb/GwAeAHwAuQCfAAAA7P5C/iP+2/1J/cL82fsp+9D7oPzR/MH8sPxb/a7+3P9mALEASgEyAo4D7wSXBaIFuAVBBp0GpgaPBtAFsQTBAywD4wJAAusASv/w/fn8Jfyh++/61fk6+TH5gPnS+fD5dfpL++r7vvwe/kf/HwBOAV8CMgMsBNkEZgUxBqAG3AZABxEHbgb0BVoFmwQrBIMDPgItAYEAAQDE/0H/S/6L/V/9Z/1W/T795vyi/OX8LP0n/QL9nP3A/gD/f/5d/mH/gAB6AXsCfwG4/wsAngH8ATsBAAAH/nH9Df6z/Rn9XPxs+7/7AP22/M/7SfzB/C39uP1N/ab81/yW/U7+o/5P/lT+Mv8KAOEAhgGJAWIBwgFmAsgClwJ8AbMAxwDdAIYAVf+1/Zr8Rvxc/Hr8S/wC/Mb8cP5TAFUCGwTkBe8H/glsCxcMUwxvDM0MAQ12DP8K8QhZB6kGUgY/BUEDVQEEAGj/Pf++/lT9vPu6+k76Gvoh+Yz3Tfaq9TX1mvTR85TyvvH48Y7yEvN28x70IfVm9nP4YfsQ/ir/Sv8cADMCRwQFBacEtQPxAgcDjAODA9ACMwI0AucCfgOrA0UELAUlBqsHCAkrCSsJ2QmECicLMgs6CmUJGAlbCA8HpQXaAzMCKwG8/6j9p/sm+lr5Lvnr+Bn4Wvcv9+f3Yfm++pT7HfzM/C/+LQDjAQ4DAQS2BKAF6Qa/B+4H/AcTCBkIFAiWB3cGbwV4BGQDswInAt4AJv+m/Vb8c/v6+m36gflh+Fn3xfYV98z3O/hD+Pr37ved+C/61fun/NT82fyL/Qn/jwCAAZABPAE+AZsB+AEuAvgBbQEvASAB3gC1ANIA7QAxAYYBNAG+AOQAQwGSAbwBfQEQASABNQHRAIIABAA8/+D+4f7W/sn+t/5S/hH+bf7B/sv+u/6F/rD+Sv+7/9n/kv9M/7L/bQCjAIAAagBJAGAAyQApAVkBQwEwAXYB/AGSAv0C8wKzAvkChAPeAx0E9QNVA8YCkgLUAjADmQIcAcv//f6t/nX+mf09/BH7T/rm+eT50vlV+fD4uPio+CL55/lZ+pP6AfuT+3n8uP3G/pH/TgDzAHUBQAIyA6cDzwMbBFIEPwQ2BFcEhASsBI4ECgReA+MCrwJ9AisCrgE6ARYB8wDLANoA/gAQARMB3QCBAJ8AFwFFAT4BGQHHALIA3QCxACcAhf/y/p/+af7X/Rr94PwZ/Wr9jv1Q/Tf9mv0q/rv+Tf+g/8D/cgCGAUwCAQOAA4sDtgNIBJ8EhAQpBD0DOALdAacBDgExADn/Wf7j/an9L/2J/Or7aPsn+xL7BPsN+0D7kvv6+2T8yfxa/Qv+lf74/kL/kv/x/1YAswDtABcBNgFMAWcBfQGZAawBlwFvAVYBPwEHAdQA1wD+ACABKwE7AXgBuwH3AUMCggKVApQCuQLYAsoCugKXAkgC6wGnAVsB0QAnAKD/Of+y/gT+d/0h/ej8svx9/HH8g/yb/Mb8DP2R/Wn+C/8W/w3/nP+4ANIBSALtAd8BxALxA8AEvAT9A38D3wN+BJQE/APWAs4BjwGGASwBcgCE/7j+If7C/Wz96PxT/PL7uftt+yT7AvsD+yH7Q/uO+w38Pvww/Gn83Pxd/fn9Wf5l/sT+gv8VAI8A4QDvACUBggGmAasB6QElAjACLQL4AbsByQEHAjgCNwL0AYABQwFtAcwBKgJBAgkCzgHXARgCbwKkAmkC6gGDAScBzgCkAIYAHQBf/5P+G/4a/iX+vv0b/bT8kfy7/DX9if2M/bX9Nf63/mD/GgCAAOIAkgEcAlkCjgKeArUCDQNHAxADwwJyAhcCDQIYAt4BZwHaACQAiv9n/0T/9P5d/nj90fzI/Pz8xPxU/OH7k/uZ+9/7Hfw1/EP8OPx9/BH9tP1G/qf+7P4h/6X/WwAGAWMBewF+AZUBGwK0Ah4DSQM/AxED5ALQAjYDdQT2BDUEfQOcAzUEwgQXBfwEDgWrBLIDOQMXA6wC0gH8AOb/Bv86/iP9YvzT+y77ifqA+l764Pl7+XH5LPr/+qH7//t1/BH9+/05/9j/QgDkANABwAJaA2EDWgNcBGsFoAVFBf0E+AQgBQcFOQRuA8ECSQImAvEBJQEPAID/N/8W/5P+ov3Y/GD88ftg+yP7x/p1+mT6Y/pw+pb6JPus+9X7kvu/+3/87vwM/Qj9Y/2B/sb/lP/3/gUAiQGbAnUDoQNbA/4D3gQyBeIFEgaWBbAF8QVnBdUElQRIBDsEsgOCAukB6AGUAS0B1wAdAI7/Tv/5/o3+9/0c/VH81ftn+wL7k/o7+iX6OPp++uT6Uvv1+9/8vP2j/pz/KADBAOUBBgOzAyYEegTLBFwFrQWbBXwFSQXyBK4EUgSBA80CfwIhAqcBLwGlABoA2/+f/x//qf47/p/9Iv3q/ID82/ti+xD71voH+2r7dvto+3j7rvtZ/FL93f3r/Sb+t/50/1IA3gDkAPwAbgHpAVICggJbAk4CpQL+AhMDNwN1A7YD6gP7A+sDzAOPAxUDyAJ+ArcBngC7/yv/wP5h/rb94fxh/FD8aPxV/Bv8Dvxq/MT85/wh/Xv98v13/tj+8f4l/6P/EwCLAA4BbwGyASwCygJVA+wDTgRnBHYEmQRSBLgDQwOqAt0B/gAQACr/yv6L/tf9G/2a/IL83vxK/R/9xvy9/OD8Zv0V/nP+lf7I/tn+D/+s/y4AkwDVAOEA8QA8AW8BbgGtAc4BigEVAasAbwB2AIAAGgCL/zb/UP+9/zQAogAaAZ8B9QEsAnYC3AIUA+ACcgL4AYIBMQESAeUAowB3AD0A6f/C/87/yf+l/0f/wv5x/lr+M/4I/gb+6P25/cv9If6B/tP+If9H/3X/5f9LAIsA4wAyATABIQEGAdAA6gA4AScBxACVAJYAuADSAKMAbABGANv/JP+F/gX+n/1p/T/9Jf0//Yz96f1W/s/+Pf+Y/+L//v/L/5j/av8P/7z+l/56/nH+iv50/lP+eP62/vX+Ov8w/+/+9P4u/5r/NAC0ABkBqAFaAg4DzwNDBGUEqQQHBSIF4wSJBDAE2QNjA8ECMALNAXsBCwGCAOz/aP8b/9/+f/4D/pn9MP3O/I78kfz0/Hv93P0S/mP+0f5c/xIArwARAToBLwELAf4A4wCmAIgAagA/ADUAUgBZAGEAigCEAD4A+P/F/5n/fP9G/+z+4P5J/9X/RwCHAHYASQBlAL8AGwFSASQBfgC9/yH/s/6W/n/+F/6Y/VP9Mf0u/U/9Xf1d/UD98Pyx/Mj8Iv2g/TL+oP7+/p3/hQByAR4CdgKyAjMD5QNSBEoEAgS3A38DRQPXAmoCWAJ4AlkCyQEKAX8AXABFAMz///4k/qj9v/0t/pv+1/72/h7/Vf+K/8T/DQBXAIkAaADu/57/s//T/9b/rf9g/1H/rP/n/77/hP9c/1v/TP/o/of+nP7m/i7/mP8LAI8AOQGqAacBmgG8AesBJgIlArUBKgG0ACcAt/+i/4b/Nv/h/p3+iv6v/r3+qP6s/qD+Zf4y/k3+vv5b/+H/LACAAN4ADAEMARgBWQG/AfgBrwErAeQA2QC9AHcAGwD1/zcAfABkABEA1//T/wUAJgDg/2z/NP9Q/9L/pABJAXABXQFEAT8BdwG0AbEBcAH/AEQAUv+S/iv+9f20/Uv91fy8/Cj9rf3z/Rn+Q/5k/oL+of7o/ob/RADSAD0BsQEkAoQCwQK+ArIC1wLzArcCEwI1AWIA2/90/+X+Qf6y/Uf9AP3V/Iv8Hvzs+/37GPwP/BX8hPx2/Z7+sv+QACIBeAG8AREChAIQA2cDPAOpAhMC0gHXAcMBbgEFAaUAUQAWAA0AKgAkAND/Y/8c/zP/vv+CABgBgQHxAXgCFQOZA9wDxwN+Az4DMQMsA9kCGgItAXIA1P8r/6j+Qv7S/W79Hv3C/Ib8g/yN/Iz8ifyb/Af9yv2N/j//4/9eAMMAMwGyAUkC0gIKA/4C2AKLAiECqwEQAWwA5/9r/9T+OP6z/VD9J/0G/aT8G/zW+wP8iPw7/cb9A/4j/lT+uP5r/z8AtACmAGYARwBiAJkAnQAqAJ3/Wf9n/6X/3f/A/2D/Pv86/x//Mf9x/4L/q/8nALUAaAEqApgCxQIEA0UDoQMzBGwEHwSrA0cDEwMjAywD4AJ4AhQCqgFEAdwAbgD//3P/tP4W/t79Ff6E/s3+3/70/jj/e/+p/9T/HAB4AJQAWAD3/8//5f8QAA4AzP+E/0b/Gv/0/s7+mv5P/u/9l/2P/eL9c/4Z/6H/8v8WAEsAvABXAc8B4wGXATUBBwH2AMYAVwDC/zb/1P6F/jL+9f3E/YP9Mv34/N/87vwv/Zn9IP7F/nX/7/8zAIkABQGEAeABCAIIAg8CCwLIAWoBLgHyALQAjABRAA4A9//u/+X//P8AAOX/9v9SAOsAtQFVAmsCTwJoAq8C+wIaA90CewI0AuoBgAEIAX0A6/9c/77+If6q/Vr9Bf2t/EX8x/ts+4P7A/y9/IL9+v06/sf+rf9wAOwAJgE9AYAB6wEnAicCIwIJArwBYgEIAb0AewAOAGf/xP5K/sz9Wf0c/TD9jf0I/mr+rf4m/+X/nAAAARYBIQFgAdIBMgJgAloCLgLwAagBYQEhAd8AdQDL//H+I/6V/V79av2F/ZT9r/0J/rT+ev8iAJkA8wBDAboBawIYA50D3QPYA7kDrgOWA1UD3gIdAjABWwC5/x3/cP66/R/92fzr/B79RP1b/Xv9pv3p/TX+e/7O/jb/kv/o/0MApgAUAV4BWgEsAQ8BDAH6AKwALQCn/1j/WP91/3b/Uv8s/yT/Uf+z/wMAGQAUABQATADIAC0BJQHjAK0AkgChAKIAXQD4/53/Q//w/qz+dv5X/lT+WP50/rD+3f7e/tD+2v7p/vv+KP9z/9b/LAA4AAUA/v9dANkAFAH6ANQABwGIAfIBCwIAAvEB+gEyAoYC3gIQA+oCcwIaAg8CEQLgAXwBIAH3APsA2gB8ABkAvv9m/wr/yP6g/nn+NP7a/bH9wf3N/a39kf2w/Rn+mP7m/vn+A/8q/2D/p/8CAFIAZAA/ABcAHgBjAIUALAC9/67/4f8bACoA8f/F/9H/1/+7/7X/vf+x/5j/eP9o/3D/a/88/x7/Pv9x/4z/hv91/3//hv97/2j/a/+H/5b/jP+N/8D/AAAkACgANABlAKQAvAC3AL8A2QD6ABABGwE/AX4BlAGIAZkB1QELAgoCywGKAXkBfwFxAT8B+ACwAHEALwD4/9r/zP+x/3D/Gf/W/sX+zv7b/tD+mf5z/oj+zP4Z/z3/IP8F/x7/YP+v/+L/6f/l//r/BAAHABgALwBJAF4AXwBbAGwAbQBhAGQAYABBABEA4//G/8r/wf99/yj/9v7l/tr+wP6k/q/+5P4M/wr/5/7Q/vD+Mf9e/2b/Y/90/6T/4v8EAPb/1P/D/9X/BwA0ADUAFwASADUAZwCVAK0AwgD8AGEBwQH3Af0B2QG6AcEBwwGmAX0BWgE/ATMBGgHdAJsAbABMAC0ADADl/8H/sv+g/4H/Y/9U/2D/j/+//9P/1v/T/8//xP+s/4H/av+B/6f/xf/U/9b/4P8GAC0APAAsABEABAAMABcACwDq/8X/rP+6/+//FwAdAAoABgAfADIAEgDJ/5H/kP+g/47/Sv///uv+Df8o/wv/z/6x/sn+B/8m/wz/5f7Y/vv+Nv9b/1H/O/8z/0b/bP+J/47/mP/R/ysAkADQAOcABgFSAaUB0QHZAbsBmQGWAaEBmgF6AUIBCgH4ABYBPwFUAUgBIQEKAQIB4ACdAGYATwBGADMAAgDX/+b/JgBbAFcAKQATADMAWgBXADMADgD///f/4P+3/5L/ev90/4T/kf+A/0n/Dv8I/0f/kP+a/2j/Sv94/9X/DAACANH/rv+s/6P/ff9J/y//O/9b/2L/SP87/0f/bv+q/8z/rP9u/1P/cP+j/6n/bf8r/x//Qv9n/2//ZP92/5n/qv+U/3r/iv+2/87/w/+u/6j/w//s/wsAIAAxADAAOABoAKwA7gAZASABKgFlAaMBvQG9AaoBmgGlAacBgwFKARIB3gC0AHsAJADW/6n/mP+M/3T/Uv9G/2D/hv+Z/5D/dv95/6b/3P/t/9j/vf++/+b/DQARAPj/4f/e/+n/7P/P/5T/Z/9Y/1P/SP87/yn/L/9l/6D/xv/T/8v/z//3/yUAOQA1AC0AMABNAG8AfgCQAKYArwCnAJgAkACTAKAAoAB8AEkAHAAMABUAFQDp/6n/iv+K/5f/j/9p/0b/Wf+e/+T/+P/l/9//GwB9AKcAdAATAN//7P8HAO//tf+V/6D/uv+//7L/wv/7/y8APwAiAAYAEwA/AFUAPgARAO3/5//1/wAA6P+0/4f/h/+i/6j/hP9N/0T/df+7/+f/8v/t//P/EQAyAEsAWgA+AAIA1//V//P/EwAYAAMADQAyAFAAXgBlAHQAgABrADYAGgAtADcADQDC/5r/xv8dAEEAJADx/97//f8kAC0ABADH/5z/pP/Z/xcAOQBDAE8AbgCbALsAvAC0AMMA0QDBAIkASQAzAEkAXABJACQAFAAdADIAOwAsACIAIQAuAE4AbwB+AIcAnAC5AMwAsgBoABsA9P/w/97/m/89//f+5f7y/vD+0P60/rv+3v73/v3+7f7o/gD/Kf9X/3//l/+k/7n/1//6/w4ADAAFAA8ALABTAH0AmwCnAKYAngCMAHQAYQBOADcACwDL/5j/lf+x/9n//P8LABMALwBXAHYAdABHAAgA2f/B/6r/iv9r/1n/XP9p/23/bv92/5H/rf+3/7P/sf/C/+b/CwAgAC0ASQBxAKAAwQDSAOAA9wAQARgBEgEHAQEBAwEJAfcA2gC/ALkAwQC7AKIAdwBAABMA+P/o/9r/wv+g/33/bv9v/3H/dP97/4f/k/+T/4n/fv9+/33/d/9w/3D/fP+X/7n/5v8SADIARgBDADkAMQAuACAABwDo/8z/tP+k/53/n/+x/73/wv/D/7//rf+O/27/Wf9g/2H/TP8v/yv/T/96/5X/j/+C/4r/nf+h/5L/g/+L/6//0f/e/+n/CABPAJ8A2QDoAN4A1wDZAOoA+AD7AO8A3QDRANIA5AD8AAUB/wDtANgAxgCsAI0AdABeAEsALwASAAAADAAoADYANAAfAAgA8v/d/8//0v/U/8T/qf+U/6H/xP/n//7////4//T/8//3/wAA7//C/4r/aP9r/4H/jP94/2b/cf+F/4z/i/+L/4z/jP92/2H/a/+Q/67/pP+K/4b/sP/s/w8AFgARABQALABIAFoAXwBXAEgAOgA7AFIAbgB3AGkAUgBOAGIAgACPAIYAdQBwAHsAiACEAHIAaQBsAHcAdwBlAFkAZgB+AIoAeQBWAEsAUwBhAGAAUgBDADwANAAgABQAEwAPAAAA4P/A/7j/vf+2/57/f/9r/2b/Z/9l/2v/dP9y/2b/W/9l/4H/nf+g/5P/j/+U/6z/wv/R/9//5//o/+n/9P8IAB0AGwADAOn/3f/l/+z/5//Z/9X/1//X/9v/2v/d/+//AAAFAP7/7P/c/9j/3//e/9L/uf+R/3H/bv+A/5v/pv+Z/5D/n//M/wwAPQBKAEIAQQBTAGwAdgBmAEcAKwAZAAkACAARAB8AMQA3ADQAQABoAJUAtAC3AKIAkQCNAJEAjAB3AFIAMgAkABgAEAAEAAIABAAHAAQA+f/y//r/CQARAA4A+v/k/9z/5/8DABsAIwAVAAoAGAA0AEQAPQAcAAUAAAD7/+H/tv+X/4v/iv90/1T/Tv9v/5v/s/+s/6L/uv/v/yIAPAA2ACUAIAArADsAPAAfAOX/tP+i/6v/tf+l/4z/fP+Q/6z/v//B/wAA\" type=\"audio/wav\" />\n",
              "                    Your browser does not support the audio element.\n",
              "                </audio>\n",
              "              "
            ]
          },
          "metadata": {}
        },
        {
          "output_type": "stream",
          "name": "stdout",
          "text": [
            "\n",
            "Label: 7\n",
            "Shape: (12811,), sampling rate: 16000\n"
          ]
        },
        {
          "output_type": "display_data",
          "data": {
            "text/plain": [
              "<IPython.lib.display.Audio object>"
            ],
            "text/html": [
              "\n",
              "                <audio controls=\"controls\" >\n",
              "                    <source src=\"data:audio/wav;base64,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\" type=\"audio/wav\" />\n",
              "                    Your browser does not support the audio element.\n",
              "                </audio>\n",
              "              "
            ]
          },
          "metadata": {}
        },
        {
          "output_type": "stream",
          "name": "stdout",
          "text": [
            "\n"
          ]
        }
      ]
    },
    {
      "cell_type": "markdown",
      "source": [
        "# Step 2: Pre processing"
      ],
      "metadata": {
        "id": "q62W2NeJ06rL"
      }
    },
    {
      "cell_type": "code",
      "source": [
        "max_duration = 1.0  # seconds"
      ],
      "metadata": {
        "id": "3fLGyHRXzaTb"
      },
      "execution_count": 174,
      "outputs": []
    },
    {
      "cell_type": "code",
      "source": [
        "from transformers import AutoFeatureExtractor\n",
        "\n",
        "feature_extractor = AutoFeatureExtractor.from_pretrained(model_checkpoint)\n",
        "feature_extractor"
      ],
      "metadata": {
        "colab": {
          "base_uri": "https://localhost:8080/"
        },
        "id": "IFUFm4fl31NO",
        "outputId": "b5bbe953-f663-4b22-c3c6-331b174acdbc"
      },
      "execution_count": 175,
      "outputs": [
        {
          "output_type": "stream",
          "name": "stderr",
          "text": [
            "loading configuration file https://huggingface.co/facebook/wav2vec2-base/resolve/main/config.json from cache at /root/.cache/huggingface/transformers/c7746642f045322fd01afa31271dd490e677ea11999e68660a92619ec7c892b4.ce1f96bfaf3d7475cb8187b9668c7f19437ade45fb9ceb78d2b06a2cec198015\n",
            "/usr/local/lib/python3.7/dist-packages/transformers/configuration_utils.py:337: UserWarning: Passing `gradient_checkpointing` to a config initialization is deprecated and will be removed in v5 Transformers. Using `model.gradient_checkpointing_enable()` instead, or if you are using the `Trainer` API, pass `gradient_checkpointing=True` in your `TrainingArguments`.\n",
            "  \"Passing `gradient_checkpointing` to a config initialization is deprecated and will be removed in v5 \"\n",
            "Model config Wav2Vec2Config {\n",
            "  \"activation_dropout\": 0.0,\n",
            "  \"apply_spec_augment\": true,\n",
            "  \"architectures\": [\n",
            "    \"Wav2Vec2ForPreTraining\"\n",
            "  ],\n",
            "  \"attention_dropout\": 0.1,\n",
            "  \"bos_token_id\": 1,\n",
            "  \"classifier_proj_size\": 256,\n",
            "  \"codevector_dim\": 256,\n",
            "  \"contrastive_logits_temperature\": 0.1,\n",
            "  \"conv_bias\": false,\n",
            "  \"conv_dim\": [\n",
            "    512,\n",
            "    512,\n",
            "    512,\n",
            "    512,\n",
            "    512,\n",
            "    512,\n",
            "    512\n",
            "  ],\n",
            "  \"conv_kernel\": [\n",
            "    10,\n",
            "    3,\n",
            "    3,\n",
            "    3,\n",
            "    3,\n",
            "    2,\n",
            "    2\n",
            "  ],\n",
            "  \"conv_stride\": [\n",
            "    5,\n",
            "    2,\n",
            "    2,\n",
            "    2,\n",
            "    2,\n",
            "    2,\n",
            "    2\n",
            "  ],\n",
            "  \"ctc_loss_reduction\": \"sum\",\n",
            "  \"ctc_zero_infinity\": false,\n",
            "  \"diversity_loss_weight\": 0.1,\n",
            "  \"do_stable_layer_norm\": false,\n",
            "  \"eos_token_id\": 2,\n",
            "  \"feat_extract_activation\": \"gelu\",\n",
            "  \"feat_extract_norm\": \"group\",\n",
            "  \"feat_proj_dropout\": 0.1,\n",
            "  \"feat_quantizer_dropout\": 0.0,\n",
            "  \"final_dropout\": 0.0,\n",
            "  \"freeze_feat_extract_train\": true,\n",
            "  \"gradient_checkpointing\": true,\n",
            "  \"hidden_act\": \"gelu\",\n",
            "  \"hidden_dropout\": 0.1,\n",
            "  \"hidden_size\": 768,\n",
            "  \"initializer_range\": 0.02,\n",
            "  \"intermediate_size\": 3072,\n",
            "  \"layer_norm_eps\": 1e-05,\n",
            "  \"layerdrop\": 0.0,\n",
            "  \"mask_channel_length\": 10,\n",
            "  \"mask_channel_min_space\": 1,\n",
            "  \"mask_channel_other\": 0.0,\n",
            "  \"mask_channel_prob\": 0.0,\n",
            "  \"mask_channel_selection\": \"static\",\n",
            "  \"mask_feature_length\": 10,\n",
            "  \"mask_feature_prob\": 0.0,\n",
            "  \"mask_time_length\": 10,\n",
            "  \"mask_time_min_space\": 1,\n",
            "  \"mask_time_other\": 0.0,\n",
            "  \"mask_time_prob\": 0.05,\n",
            "  \"mask_time_selection\": \"static\",\n",
            "  \"model_type\": \"wav2vec2\",\n",
            "  \"no_mask_channel_overlap\": false,\n",
            "  \"no_mask_time_overlap\": false,\n",
            "  \"num_attention_heads\": 12,\n",
            "  \"num_codevector_groups\": 2,\n",
            "  \"num_codevectors_per_group\": 320,\n",
            "  \"num_conv_pos_embedding_groups\": 16,\n",
            "  \"num_conv_pos_embeddings\": 128,\n",
            "  \"num_feat_extract_layers\": 7,\n",
            "  \"num_hidden_layers\": 12,\n",
            "  \"num_negatives\": 100,\n",
            "  \"pad_token_id\": 0,\n",
            "  \"proj_codevector_dim\": 256,\n",
            "  \"transformers_version\": \"4.11.3\",\n",
            "  \"use_weighted_layer_sum\": false,\n",
            "  \"vocab_size\": 32\n",
            "}\n",
            "\n",
            "loading feature extractor configuration file https://huggingface.co/facebook/wav2vec2-base/resolve/main/preprocessor_config.json from cache at /root/.cache/huggingface/transformers/d4583dd9e59eb6295f8fe8b18833ae54d963a122d69aa1df7ecce6caafe18c8f.bc3155ca0bae3a39fc37fc6d64829c6a765f46480894658bb21c08db6155358d\n",
            "Feature extractor Wav2Vec2FeatureExtractor {\n",
            "  \"do_normalize\": true,\n",
            "  \"feature_extractor_type\": \"Wav2Vec2FeatureExtractor\",\n",
            "  \"feature_size\": 1,\n",
            "  \"padding_side\": \"right\",\n",
            "  \"padding_value\": 0.0,\n",
            "  \"return_attention_mask\": false,\n",
            "  \"sampling_rate\": 16000\n",
            "}\n",
            "\n"
          ]
        },
        {
          "output_type": "execute_result",
          "data": {
            "text/plain": [
              "Wav2Vec2FeatureExtractor {\n",
              "  \"do_normalize\": true,\n",
              "  \"feature_extractor_type\": \"Wav2Vec2FeatureExtractor\",\n",
              "  \"feature_size\": 1,\n",
              "  \"padding_side\": \"right\",\n",
              "  \"padding_value\": 0.0,\n",
              "  \"return_attention_mask\": false,\n",
              "  \"sampling_rate\": 16000\n",
              "}"
            ]
          },
          "metadata": {},
          "execution_count": 175
        }
      ]
    },
    {
      "cell_type": "code",
      "source": [
        "def preprocess_function(examples):\n",
        "    audio_arrays = [x[\"array\"] for x in examples[\"audio\"]]\n",
        "    inputs = feature_extractor(\n",
        "        audio_arrays, \n",
        "        sampling_rate=feature_extractor.sampling_rate, \n",
        "        max_length=int(feature_extractor.sampling_rate * max_duration), \n",
        "        truncation=True, \n",
        "    )\n",
        "    return inputs"
      ],
      "metadata": {
        "id": "GusHscy334HP"
      },
      "execution_count": 176,
      "outputs": []
    },
    {
      "cell_type": "code",
      "source": [
        "preprocess_function(dataset['train'][:5])"
      ],
      "metadata": {
        "colab": {
          "base_uri": "https://localhost:8080/"
        },
        "id": "7NN5RZGS34DI",
        "outputId": "b1ed4c19-dbe9-42fb-c548-f4b8caf26ab7"
      },
      "execution_count": 179,
      "outputs": [
        {
          "output_type": "stream",
          "name": "stderr",
          "text": [
            "/usr/local/lib/python3.7/dist-packages/transformers/feature_extraction_utils.py:158: VisibleDeprecationWarning: Creating an ndarray from ragged nested sequences (which is a list-or-tuple of lists-or-tuples-or ndarrays with different lengths or shapes) is deprecated. If you meant to do this, you must specify 'dtype=object' when creating the ndarray.\n",
            "  tensor = as_tensor(value)\n"
          ]
        },
        {
          "output_type": "execute_result",
          "data": {
            "text/plain": [
              "{'input_values': [array([ 0.00129049, -0.00974802, -0.0088512 , ..., -0.02515105,\n",
              "       -0.01479916,  0.00070186], dtype=float32), array([ 0.00026717, -0.00900791, -0.0188656 , ...,  0.01414172,\n",
              "        0.00430038, -0.00017345], dtype=float32), array([-6.1017275e-03, -4.5385023e-04,  7.0025874e-03, ...,\n",
              "        1.6004423e-02,  8.2106097e-03,  2.9551686e-05], dtype=float32), array([ 0.05729007,  0.08500836,  0.05893154, ..., -0.02786119,\n",
              "       -0.02472607,  0.00191057], dtype=float32), array([-2.9205489e-03, -3.5297568e-03, -2.5042519e-03, ...,\n",
              "        1.7325737e-03, -7.7132587e-03, -9.6490672e-05], dtype=float32)]}"
            ]
          },
          "metadata": {},
          "execution_count": 179
        }
      ]
    },
    {
      "cell_type": "code",
      "source": [
        "dataset=DatasetDict(dataset)"
      ],
      "metadata": {
        "id": "DYFUkqGCAjvk"
      },
      "execution_count": 178,
      "outputs": []
    },
    {
      "cell_type": "code",
      "source": [
        "encoded_dataset = dataset.map(preprocess_function, remove_columns=[\"audio\", \"file\"], batched=True)\n",
        "encoded_dataset"
      ],
      "metadata": {
        "colab": {
          "base_uri": "https://localhost:8080/",
          "height": 309,
          "referenced_widgets": [
            "03022686a9774ed4b0258e6a6c2e27f9",
            "3b8f35273d494f0994dfc69c92824b70",
            "5aec0e446b4f4494a74b9880c5e3e055",
            "1de62dc0ef8e4e2e9e05d299b0f9f412",
            "329266f03aa8429483545c00161aa542",
            "24208a9972a7417284bc8b1a0257b0e1",
            "681810c27fb04e2ba07a62f28e0751ee",
            "7daf9b251bbb44cea171766ae59eea78",
            "7d5492e1a5814a6db373edab94fa28b5",
            "d3132486d16d40fabe08dcabcb44dcef",
            "5710794dd0b544e89d03101a67c7b054",
            "4a015465e50c46cd9142f46df8d15f4a",
            "69545380220a48e7b25d8e74abb54023",
            "e62ddc220e5549ab91bfeb1f7542bb4f",
            "5a03e2ddcb3f4a339134f28bb82e92a6",
            "eefc0b35abae4a46a6dc5d2d504b2771",
            "48fd16b8e2214c539f2ed78bd657cbfd",
            "d002bab8bab34449a84f46b0665deb7e",
            "c0c61008a0d44766888b48d5bcfb779b",
            "3cc0a1e3a0294408bc1489a75bcceb00",
            "b07ef12967744c0b924716f13a2a1604",
            "bd5f3a0b8dd34e7f8aec453900d8ef30"
          ]
        },
        "id": "hbDrJR6O33_u",
        "outputId": "1b46bd66-ab10-4133-f203-e5e136a0d01f"
      },
      "execution_count": 180,
      "outputs": [
        {
          "output_type": "display_data",
          "data": {
            "text/plain": [
              "  0%|          | 0/2 [00:00<?, ?ba/s]"
            ],
            "application/vnd.jupyter.widget-view+json": {
              "version_major": 2,
              "version_minor": 0,
              "model_id": "03022686a9774ed4b0258e6a6c2e27f9"
            }
          },
          "metadata": {}
        },
        {
          "output_type": "stream",
          "name": "stderr",
          "text": [
            "/usr/local/lib/python3.7/dist-packages/transformers/feature_extraction_utils.py:158: VisibleDeprecationWarning: Creating an ndarray from ragged nested sequences (which is a list-or-tuple of lists-or-tuples-or ndarrays with different lengths or shapes) is deprecated. If you meant to do this, you must specify 'dtype=object' when creating the ndarray.\n",
            "  tensor = as_tensor(value)\n"
          ]
        },
        {
          "output_type": "display_data",
          "data": {
            "text/plain": [
              "  0%|          | 0/1 [00:00<?, ?ba/s]"
            ],
            "application/vnd.jupyter.widget-view+json": {
              "version_major": 2,
              "version_minor": 0,
              "model_id": "4a015465e50c46cd9142f46df8d15f4a"
            }
          },
          "metadata": {}
        },
        {
          "output_type": "execute_result",
          "data": {
            "text/plain": [
              "DatasetDict({\n",
              "    train: Dataset({\n",
              "        features: ['input_values', 'label'],\n",
              "        num_rows: 1552\n",
              "    })\n",
              "    test: Dataset({\n",
              "        features: ['input_values', 'label'],\n",
              "        num_rows: 388\n",
              "    })\n",
              "})"
            ]
          },
          "metadata": {},
          "execution_count": 180
        }
      ]
    },
    {
      "cell_type": "code",
      "source": [
        ""
      ],
      "metadata": {
        "id": "EXqdbeo4338S"
      },
      "execution_count": 21,
      "outputs": []
    },
    {
      "cell_type": "markdown",
      "source": [
        "# Gujarati Dataset"
      ],
      "metadata": {
        "id": "50e0ork4WzEt"
      }
    },
    {
      "cell_type": "code",
      "source": [
        ""
      ],
      "metadata": {
        "id": "IbSBnzW53339"
      },
      "execution_count": 21,
      "outputs": []
    },
    {
      "cell_type": "code",
      "source": [
        ""
      ],
      "metadata": {
        "id": "E1h9Ps97330s"
      },
      "execution_count": 21,
      "outputs": []
    },
    {
      "cell_type": "code",
      "source": [
        ""
      ],
      "metadata": {
        "id": "okphOmB933xT"
      },
      "execution_count": 21,
      "outputs": []
    },
    {
      "cell_type": "code",
      "source": [
        ""
      ],
      "metadata": {
        "id": "E4xtfe6s33ts"
      },
      "execution_count": 21,
      "outputs": []
    },
    {
      "cell_type": "code",
      "source": [
        ""
      ],
      "metadata": {
        "id": "BIR4BOXI33qA"
      },
      "execution_count": 21,
      "outputs": []
    },
    {
      "cell_type": "code",
      "source": [
        ""
      ],
      "metadata": {
        "id": "RbpSwvcH33mc"
      },
      "execution_count": 21,
      "outputs": []
    },
    {
      "cell_type": "code",
      "source": [
        ""
      ],
      "metadata": {
        "id": "X4RPR-Xf33cX"
      },
      "execution_count": 21,
      "outputs": []
    },
    {
      "cell_type": "code",
      "source": [
        ""
      ],
      "metadata": {
        "id": "KRMuOt6w33Nu"
      },
      "execution_count": 21,
      "outputs": []
    },
    {
      "cell_type": "markdown",
      "source": [
        "# Training/Finetuning"
      ],
      "metadata": {
        "id": "BeM7NWOX1ExP"
      }
    },
    {
      "cell_type": "code",
      "source": [
        "from transformers import AutoModelForAudioClassification, TrainingArguments, Trainer\n",
        "\n",
        "num_labels = len(id2label)\n",
        "model = AutoModelForAudioClassification.from_pretrained(\n",
        "    model_checkpoint, \n",
        "    num_labels=num_labels,\n",
        "    label2id=label2id,\n",
        "    id2label=id2label,\n",
        ")"
      ],
      "metadata": {
        "colab": {
          "base_uri": "https://localhost:8080/"
        },
        "id": "fHKU8Z-w1GkK",
        "outputId": "8b1dc175-731d-4240-c4f5-a50a91de688a"
      },
      "execution_count": 182,
      "outputs": [
        {
          "output_type": "stream",
          "name": "stderr",
          "text": [
            "loading configuration file https://huggingface.co/facebook/wav2vec2-base/resolve/main/config.json from cache at /root/.cache/huggingface/transformers/c7746642f045322fd01afa31271dd490e677ea11999e68660a92619ec7c892b4.ce1f96bfaf3d7475cb8187b9668c7f19437ade45fb9ceb78d2b06a2cec198015\n",
            "/usr/local/lib/python3.7/dist-packages/transformers/configuration_utils.py:337: UserWarning: Passing `gradient_checkpointing` to a config initialization is deprecated and will be removed in v5 Transformers. Using `model.gradient_checkpointing_enable()` instead, or if you are using the `Trainer` API, pass `gradient_checkpointing=True` in your `TrainingArguments`.\n",
            "  \"Passing `gradient_checkpointing` to a config initialization is deprecated and will be removed in v5 \"\n",
            "Model config Wav2Vec2Config {\n",
            "  \"activation_dropout\": 0.0,\n",
            "  \"apply_spec_augment\": true,\n",
            "  \"architectures\": [\n",
            "    \"Wav2Vec2ForPreTraining\"\n",
            "  ],\n",
            "  \"attention_dropout\": 0.1,\n",
            "  \"bos_token_id\": 1,\n",
            "  \"classifier_proj_size\": 256,\n",
            "  \"codevector_dim\": 256,\n",
            "  \"contrastive_logits_temperature\": 0.1,\n",
            "  \"conv_bias\": false,\n",
            "  \"conv_dim\": [\n",
            "    512,\n",
            "    512,\n",
            "    512,\n",
            "    512,\n",
            "    512,\n",
            "    512,\n",
            "    512\n",
            "  ],\n",
            "  \"conv_kernel\": [\n",
            "    10,\n",
            "    3,\n",
            "    3,\n",
            "    3,\n",
            "    3,\n",
            "    2,\n",
            "    2\n",
            "  ],\n",
            "  \"conv_stride\": [\n",
            "    5,\n",
            "    2,\n",
            "    2,\n",
            "    2,\n",
            "    2,\n",
            "    2,\n",
            "    2\n",
            "  ],\n",
            "  \"ctc_loss_reduction\": \"sum\",\n",
            "  \"ctc_zero_infinity\": false,\n",
            "  \"diversity_loss_weight\": 0.1,\n",
            "  \"do_stable_layer_norm\": false,\n",
            "  \"eos_token_id\": 2,\n",
            "  \"feat_extract_activation\": \"gelu\",\n",
            "  \"feat_extract_norm\": \"group\",\n",
            "  \"feat_proj_dropout\": 0.1,\n",
            "  \"feat_quantizer_dropout\": 0.0,\n",
            "  \"final_dropout\": 0.0,\n",
            "  \"freeze_feat_extract_train\": true,\n",
            "  \"gradient_checkpointing\": true,\n",
            "  \"hidden_act\": \"gelu\",\n",
            "  \"hidden_dropout\": 0.1,\n",
            "  \"hidden_size\": 768,\n",
            "  \"id2label\": {\n",
            "    \"0\": \"0\",\n",
            "    \"1\": \"1\",\n",
            "    \"2\": \"2\",\n",
            "    \"3\": \"3\",\n",
            "    \"4\": \"4\",\n",
            "    \"5\": \"5\",\n",
            "    \"6\": \"6\",\n",
            "    \"7\": \"7\",\n",
            "    \"8\": \"8\",\n",
            "    \"9\": \"9\"\n",
            "  },\n",
            "  \"initializer_range\": 0.02,\n",
            "  \"intermediate_size\": 3072,\n",
            "  \"label2id\": {\n",
            "    \"0\": \"0\",\n",
            "    \"1\": \"1\",\n",
            "    \"2\": \"2\",\n",
            "    \"3\": \"3\",\n",
            "    \"4\": \"4\",\n",
            "    \"5\": \"5\",\n",
            "    \"6\": \"6\",\n",
            "    \"7\": \"7\",\n",
            "    \"8\": \"8\",\n",
            "    \"9\": \"9\"\n",
            "  },\n",
            "  \"layer_norm_eps\": 1e-05,\n",
            "  \"layerdrop\": 0.0,\n",
            "  \"mask_channel_length\": 10,\n",
            "  \"mask_channel_min_space\": 1,\n",
            "  \"mask_channel_other\": 0.0,\n",
            "  \"mask_channel_prob\": 0.0,\n",
            "  \"mask_channel_selection\": \"static\",\n",
            "  \"mask_feature_length\": 10,\n",
            "  \"mask_feature_prob\": 0.0,\n",
            "  \"mask_time_length\": 10,\n",
            "  \"mask_time_min_space\": 1,\n",
            "  \"mask_time_other\": 0.0,\n",
            "  \"mask_time_prob\": 0.05,\n",
            "  \"mask_time_selection\": \"static\",\n",
            "  \"model_type\": \"wav2vec2\",\n",
            "  \"no_mask_channel_overlap\": false,\n",
            "  \"no_mask_time_overlap\": false,\n",
            "  \"num_attention_heads\": 12,\n",
            "  \"num_codevector_groups\": 2,\n",
            "  \"num_codevectors_per_group\": 320,\n",
            "  \"num_conv_pos_embedding_groups\": 16,\n",
            "  \"num_conv_pos_embeddings\": 128,\n",
            "  \"num_feat_extract_layers\": 7,\n",
            "  \"num_hidden_layers\": 12,\n",
            "  \"num_negatives\": 100,\n",
            "  \"pad_token_id\": 0,\n",
            "  \"proj_codevector_dim\": 256,\n",
            "  \"transformers_version\": \"4.11.3\",\n",
            "  \"use_weighted_layer_sum\": false,\n",
            "  \"vocab_size\": 32\n",
            "}\n",
            "\n",
            "loading weights file https://huggingface.co/facebook/wav2vec2-base/resolve/main/pytorch_model.bin from cache at /root/.cache/huggingface/transformers/ef45231897ce572a660ebc5a63d3702f1a6041c4c5fb78cbec330708531939b3.fcae05302a685f7904c551c8ea571e8bc2a2c4a1777ea81ad66e47f7883a650a\n",
            "Some weights of the model checkpoint at facebook/wav2vec2-base were not used when initializing Wav2Vec2ForSequenceClassification: ['project_hid.bias', 'quantizer.weight_proj.weight', 'project_q.bias', 'quantizer.codevectors', 'project_hid.weight', 'quantizer.weight_proj.bias', 'project_q.weight']\n",
            "- This IS expected if you are initializing Wav2Vec2ForSequenceClassification from the checkpoint of a model trained on another task or with another architecture (e.g. initializing a BertForSequenceClassification model from a BertForPreTraining model).\n",
            "- This IS NOT expected if you are initializing Wav2Vec2ForSequenceClassification from the checkpoint of a model that you expect to be exactly identical (initializing a BertForSequenceClassification model from a BertForSequenceClassification model).\n",
            "Some weights of Wav2Vec2ForSequenceClassification were not initialized from the model checkpoint at facebook/wav2vec2-base and are newly initialized: ['projector.weight', 'classifier.weight', 'classifier.bias', 'projector.bias']\n",
            "You should probably TRAIN this model on a down-stream task to be able to use it for predictions and inference.\n"
          ]
        }
      ]
    },
    {
      "cell_type": "code",
      "source": [
        "model_name = model_checkpoint.split(\"/\")[-1]\n",
        "\n",
        "args = TrainingArguments(\n",
        "    f\"{model_name}-finetuned-ks\",\n",
        "    evaluation_strategy = \"epoch\",\n",
        "    save_strategy = \"epoch\",\n",
        "    learning_rate=3e-5,\n",
        "    per_device_train_batch_size=batch_size,\n",
        "    gradient_accumulation_steps=4,\n",
        "    per_device_eval_batch_size=batch_size,\n",
        "    num_train_epochs=1,\n",
        "    warmup_ratio=0.1,\n",
        "    logging_steps=1,\n",
        "    load_best_model_at_end=True,\n",
        "    metric_for_best_model=\"accuracy\",\n",
        "    push_to_hub=True,\n",
        ")"
      ],
      "metadata": {
        "colab": {
          "base_uri": "https://localhost:8080/"
        },
        "id": "CLWca8vL4YqH",
        "outputId": "0fefe357-f297-4a96-c11a-d9dc4db92742"
      },
      "execution_count": 183,
      "outputs": [
        {
          "output_type": "stream",
          "name": "stderr",
          "text": [
            "PyTorch: setting up devices\n",
            "The default value for the training argument `--report_to` will change in v5 (from all installed integrations to none). In v5, you will need to use `--report_to all` to get the same behavior as now. You should start updating your code and make this info disappear :-).\n"
          ]
        }
      ]
    },
    {
      "cell_type": "code",
      "source": [
        "import numpy as np\n",
        "\n",
        "def compute_metrics(eval_pred):\n",
        "    \"\"\"Computes accuracy on a batch of predictions\"\"\"\n",
        "    predictions = np.argmax(eval_pred.predictions, axis=1)\n",
        "    return metric.compute(predictions=predictions, references=eval_pred.label_ids)"
      ],
      "metadata": {
        "id": "j-CMzZ8J4avn"
      },
      "execution_count": 184,
      "outputs": []
    },
    {
      "cell_type": "code",
      "source": [
        "trainer = Trainer(\n",
        "    model,\n",
        "    args,\n",
        "    train_dataset=encoded_dataset[\"train\"],\n",
        "    eval_dataset=encoded_dataset[\"test\"],\n",
        "    tokenizer=feature_extractor,\n",
        "    compute_metrics=compute_metrics\n",
        ")"
      ],
      "metadata": {
        "colab": {
          "base_uri": "https://localhost:8080/"
        },
        "id": "TilZAqiD4cvG",
        "outputId": "cb1f1296-1a55-4352-ee0a-2251527a7a22"
      },
      "execution_count": 185,
      "outputs": [
        {
          "output_type": "stream",
          "name": "stderr",
          "text": [
            "/content/wav2vec2-base-finetuned-ks is already a clone of https://huggingface.co/manthan40/wav2vec2-base-finetuned-ks. Make sure you pull the latest changes with `repo.git_pull()`.\n"
          ]
        }
      ]
    },
    {
      "cell_type": "code",
      "source": [
        "trainer.train()"
      ],
      "metadata": {
        "colab": {
          "base_uri": "https://localhost:8080/",
          "height": 508
        },
        "id": "45WR-aA64fm8",
        "outputId": "2c536737-f0d2-423c-b0f4-87f2757bd030"
      },
      "execution_count": 186,
      "outputs": [
        {
          "output_type": "stream",
          "name": "stderr",
          "text": [
            "***** Running training *****\n",
            "  Num examples = 1552\n",
            "  Num Epochs = 1\n",
            "  Instantaneous batch size per device = 32\n",
            "  Total train batch size (w. parallel, distributed & accumulation) = 128\n",
            "  Gradient Accumulation steps = 4\n",
            "  Total optimization steps = 12\n"
          ]
        },
        {
          "output_type": "display_data",
          "data": {
            "text/plain": [
              "<IPython.core.display.HTML object>"
            ],
            "text/html": [
              "\n",
              "    <div>\n",
              "      \n",
              "      <progress value='5' max='12' style='width:300px; height:20px; vertical-align: middle;'></progress>\n",
              "      [ 5/12 05:46 < 13:29, 0.01 it/s, Epoch 0.33/1]\n",
              "    </div>\n",
              "    <table border=\"1\" class=\"dataframe\">\n",
              "  <thead>\n",
              "    <tr style=\"text-align: left;\">\n",
              "      <th>Epoch</th>\n",
              "      <th>Training Loss</th>\n",
              "      <th>Validation Loss</th>\n",
              "    </tr>\n",
              "  </thead>\n",
              "  <tbody>\n",
              "  </tbody>\n",
              "</table><p>"
            ]
          },
          "metadata": {}
        },
        {
          "output_type": "error",
          "ename": "KeyboardInterrupt",
          "evalue": "ignored",
          "traceback": [
            "\u001b[0;31m---------------------------------------------------------------------------\u001b[0m",
            "\u001b[0;31mKeyboardInterrupt\u001b[0m                         Traceback (most recent call last)",
            "\u001b[0;32m<ipython-input-186-3435b262f1ae>\u001b[0m in \u001b[0;36m<module>\u001b[0;34m()\u001b[0m\n\u001b[0;32m----> 1\u001b[0;31m \u001b[0mtrainer\u001b[0m\u001b[0;34m.\u001b[0m\u001b[0mtrain\u001b[0m\u001b[0;34m(\u001b[0m\u001b[0;34m)\u001b[0m\u001b[0;34m\u001b[0m\u001b[0;34m\u001b[0m\u001b[0m\n\u001b[0m",
            "\u001b[0;32m/usr/local/lib/python3.7/dist-packages/transformers/trainer.py\u001b[0m in \u001b[0;36mtrain\u001b[0;34m(self, resume_from_checkpoint, trial, ignore_keys_for_eval, **kwargs)\u001b[0m\n\u001b[1;32m   1314\u001b[0m                         \u001b[0mtr_loss_step\u001b[0m \u001b[0;34m=\u001b[0m \u001b[0mself\u001b[0m\u001b[0;34m.\u001b[0m\u001b[0mtraining_step\u001b[0m\u001b[0;34m(\u001b[0m\u001b[0mmodel\u001b[0m\u001b[0;34m,\u001b[0m \u001b[0minputs\u001b[0m\u001b[0;34m)\u001b[0m\u001b[0;34m\u001b[0m\u001b[0;34m\u001b[0m\u001b[0m\n\u001b[1;32m   1315\u001b[0m                 \u001b[0;32melse\u001b[0m\u001b[0;34m:\u001b[0m\u001b[0;34m\u001b[0m\u001b[0;34m\u001b[0m\u001b[0m\n\u001b[0;32m-> 1316\u001b[0;31m                     \u001b[0mtr_loss_step\u001b[0m \u001b[0;34m=\u001b[0m \u001b[0mself\u001b[0m\u001b[0;34m.\u001b[0m\u001b[0mtraining_step\u001b[0m\u001b[0;34m(\u001b[0m\u001b[0mmodel\u001b[0m\u001b[0;34m,\u001b[0m \u001b[0minputs\u001b[0m\u001b[0;34m)\u001b[0m\u001b[0;34m\u001b[0m\u001b[0;34m\u001b[0m\u001b[0m\n\u001b[0m\u001b[1;32m   1317\u001b[0m \u001b[0;34m\u001b[0m\u001b[0m\n\u001b[1;32m   1318\u001b[0m                 if (\n",
            "\u001b[0;32m/usr/local/lib/python3.7/dist-packages/transformers/trainer.py\u001b[0m in \u001b[0;36mtraining_step\u001b[0;34m(self, model, inputs)\u001b[0m\n\u001b[1;32m   1865\u001b[0m             \u001b[0mloss\u001b[0m \u001b[0;34m=\u001b[0m \u001b[0mself\u001b[0m\u001b[0;34m.\u001b[0m\u001b[0mdeepspeed\u001b[0m\u001b[0;34m.\u001b[0m\u001b[0mbackward\u001b[0m\u001b[0;34m(\u001b[0m\u001b[0mloss\u001b[0m\u001b[0;34m)\u001b[0m\u001b[0;34m\u001b[0m\u001b[0;34m\u001b[0m\u001b[0m\n\u001b[1;32m   1866\u001b[0m         \u001b[0;32melse\u001b[0m\u001b[0;34m:\u001b[0m\u001b[0;34m\u001b[0m\u001b[0;34m\u001b[0m\u001b[0m\n\u001b[0;32m-> 1867\u001b[0;31m             \u001b[0mloss\u001b[0m\u001b[0;34m.\u001b[0m\u001b[0mbackward\u001b[0m\u001b[0;34m(\u001b[0m\u001b[0;34m)\u001b[0m\u001b[0;34m\u001b[0m\u001b[0;34m\u001b[0m\u001b[0m\n\u001b[0m\u001b[1;32m   1868\u001b[0m \u001b[0;34m\u001b[0m\u001b[0m\n\u001b[1;32m   1869\u001b[0m         \u001b[0;32mreturn\u001b[0m \u001b[0mloss\u001b[0m\u001b[0;34m.\u001b[0m\u001b[0mdetach\u001b[0m\u001b[0;34m(\u001b[0m\u001b[0;34m)\u001b[0m\u001b[0;34m\u001b[0m\u001b[0;34m\u001b[0m\u001b[0m\n",
            "\u001b[0;32m/usr/local/lib/python3.7/dist-packages/torch/_tensor.py\u001b[0m in \u001b[0;36mbackward\u001b[0;34m(self, gradient, retain_graph, create_graph, inputs)\u001b[0m\n\u001b[1;32m    361\u001b[0m                 \u001b[0mcreate_graph\u001b[0m\u001b[0;34m=\u001b[0m\u001b[0mcreate_graph\u001b[0m\u001b[0;34m,\u001b[0m\u001b[0;34m\u001b[0m\u001b[0;34m\u001b[0m\u001b[0m\n\u001b[1;32m    362\u001b[0m                 inputs=inputs)\n\u001b[0;32m--> 363\u001b[0;31m         \u001b[0mtorch\u001b[0m\u001b[0;34m.\u001b[0m\u001b[0mautograd\u001b[0m\u001b[0;34m.\u001b[0m\u001b[0mbackward\u001b[0m\u001b[0;34m(\u001b[0m\u001b[0mself\u001b[0m\u001b[0;34m,\u001b[0m \u001b[0mgradient\u001b[0m\u001b[0;34m,\u001b[0m \u001b[0mretain_graph\u001b[0m\u001b[0;34m,\u001b[0m \u001b[0mcreate_graph\u001b[0m\u001b[0;34m,\u001b[0m \u001b[0minputs\u001b[0m\u001b[0;34m=\u001b[0m\u001b[0minputs\u001b[0m\u001b[0;34m)\u001b[0m\u001b[0;34m\u001b[0m\u001b[0;34m\u001b[0m\u001b[0m\n\u001b[0m\u001b[1;32m    364\u001b[0m \u001b[0;34m\u001b[0m\u001b[0m\n\u001b[1;32m    365\u001b[0m     \u001b[0;32mdef\u001b[0m \u001b[0mregister_hook\u001b[0m\u001b[0;34m(\u001b[0m\u001b[0mself\u001b[0m\u001b[0;34m,\u001b[0m \u001b[0mhook\u001b[0m\u001b[0;34m)\u001b[0m\u001b[0;34m:\u001b[0m\u001b[0;34m\u001b[0m\u001b[0;34m\u001b[0m\u001b[0m\n",
            "\u001b[0;32m/usr/local/lib/python3.7/dist-packages/torch/autograd/__init__.py\u001b[0m in \u001b[0;36mbackward\u001b[0;34m(tensors, grad_tensors, retain_graph, create_graph, grad_variables, inputs)\u001b[0m\n\u001b[1;32m    173\u001b[0m     Variable._execution_engine.run_backward(  # Calls into the C++ engine to run the backward pass\n\u001b[1;32m    174\u001b[0m         \u001b[0mtensors\u001b[0m\u001b[0;34m,\u001b[0m \u001b[0mgrad_tensors_\u001b[0m\u001b[0;34m,\u001b[0m \u001b[0mretain_graph\u001b[0m\u001b[0;34m,\u001b[0m \u001b[0mcreate_graph\u001b[0m\u001b[0;34m,\u001b[0m \u001b[0minputs\u001b[0m\u001b[0;34m,\u001b[0m\u001b[0;34m\u001b[0m\u001b[0;34m\u001b[0m\u001b[0m\n\u001b[0;32m--> 175\u001b[0;31m         allow_unreachable=True, accumulate_grad=True)  # Calls into the C++ engine to run the backward pass\n\u001b[0m\u001b[1;32m    176\u001b[0m \u001b[0;34m\u001b[0m\u001b[0m\n\u001b[1;32m    177\u001b[0m def grad(\n",
            "\u001b[0;31mKeyboardInterrupt\u001b[0m: "
          ]
        }
      ]
    },
    {
      "cell_type": "code",
      "source": [
        "trainer.push_to_hub()"
      ],
      "metadata": {
        "colab": {
          "base_uri": "https://localhost:8080/",
          "height": 617,
          "referenced_widgets": [
            "6e0f0c60f7bc4f339d50c161a29d1fc7",
            "9ecfc14ff54842fe875d20eacfa2e573",
            "611af84d32d5447e9ac1685b1e711449",
            "fb1a84d0b82c411ea9cb4d2b1340ab65",
            "d595e9c2f6774e67b19fb40ac64db1a2",
            "2e2dff1ea4f94754a816649a7501b596",
            "4511fc706b0b443494a5176132a045db",
            "88b884e949864d0ab7d8daf07f5e0d44",
            "79d3db4e07774e01b2c71994e2b97d2e",
            "38252a6056e04c749dccf2af6904bb25",
            "c9085122611240a494b1716be8f28e9e",
            "8bf03a0a1f1f4eae945eeb888e3c0986",
            "cadd2708299642218d509822313d5584",
            "8c3f93e21157476b8976773e8577c607",
            "631a283f9a5147f485dcda64a20f6cbc",
            "6dd5005c04a04fd69d9472a51e5fc9d7",
            "d82a8d4a07d5449693fe43c28670f852",
            "0319f7dfa6c44838ab511499fa63ab4a",
            "7a5c4a24ed77420dafd387521de5ee68",
            "0cf77d2e7b774d4c8e05336f6ec10144",
            "3afeb9aa79b441018da35aa72ebbddbd",
            "184067e4147f4b42aa27050f61a1d242",
            "0c67cb2d10874eb4baec22dd3776d63d",
            "d4d41c2e458b428899981e5cc0db3541",
            "9ff9a455c6e44b1cbe4fb129b056fced",
            "97fbc18eb0c44f5c845d11e5e817162b",
            "2407d041a265437e825872572ebed8a9",
            "ea64054dcb304c33abb1ae6cda622b19",
            "6c564fa779fe4da58ccfdf3e15ecfa2d",
            "573de4fc6bcd4d55a310936f19feb629",
            "4205e9d72e2347e48a297d24d2a9923b",
            "c665fcbf85f04e62856a3fe5634ebf2e",
            "4ab1932f199f406892e918f317b5d0ba",
            "c00aafac873d48b1bfb4072fc62a5e84",
            "96caad30c6604585a1a01c99d8459891",
            "3acce758937040ecb4dc287252747b78",
            "57500262fd0f4e36847574ab3dd04222",
            "e93bf26b6a574937a003e4e14832ada1",
            "c9b13f9c485840acabfef7494c592bec",
            "ba23700b8b944edca27caf9ccecd666a",
            "789d949d02df4ea6b2394f41b7d9b7c3",
            "c3b894e989694f8e89daf95437845c90",
            "4ec52ddd0e8b440ea1fc3fcfc4ef8749",
            "0746deb361e549dda738d4d006a1bb6f",
            "5c4d9f74b42c4a11a65e222fd401aef8",
            "b74c457634174935a585ca7cfc6724fe",
            "57d8c265c20f4e349d440505fc0c004a",
            "63b93d00d02a41dcaedc41d2d0dbef07",
            "665ccec6c2634d92896323214adf6376",
            "61145640cd084d59a1191bf83b7410e3",
            "1cfda438337846918b8c0daf54bb5eda",
            "5279c3745d0a4bc5be15efc2cd7da640",
            "a7c3fdeb1f634eb79b12bbfdacff4a3d",
            "3051a5bab1154a4a90177c419f4ea49b",
            "244d1d36e269476cb71c73d4b32cc391",
            "5aa647e835c848699e6bba866e89fe4c",
            "15ae3d454db044daa8512b2fe47ee98a",
            "275eb4c0c741453c8a7c9babb70b032e",
            "eca7fc89e8d04192a1b332d91d1a0ae1",
            "b78e6ba56e3744cd8af301f1307fbafb",
            "77d828a0dbe04e0ab01fbbd1d6fc6c1e",
            "9820aa8b64834c02bc3723334a4574d8",
            "3d9604cd45fa44fe913a5b43341b62d3",
            "63023e1ca2244bcc9d3fecbe371cc2ec",
            "06a9d536857845539c9f0c2707d2f451",
            "2599899234b847eb9f65513574436b1f"
          ]
        },
        "id": "ncR9lD2P4lP9",
        "outputId": "6e698cd8-c070-4ec8-acbd-401d0ff06db1"
      },
      "execution_count": 188,
      "outputs": [
        {
          "output_type": "stream",
          "name": "stderr",
          "text": [
            "Saving model checkpoint to wav2vec2-base-finetuned-ks\n",
            "Configuration saved in wav2vec2-base-finetuned-ks/config.json\n",
            "Model weights saved in wav2vec2-base-finetuned-ks/pytorch_model.bin\n",
            "Configuration saved in wav2vec2-base-finetuned-ks/preprocessor_config.json\n"
          ]
        },
        {
          "output_type": "display_data",
          "data": {
            "text/plain": [
              "Upload file pytorch_model.bin:   0%|          | 3.34k/361M [00:00<?, ?B/s]"
            ],
            "application/vnd.jupyter.widget-view+json": {
              "version_major": 2,
              "version_minor": 0,
              "model_id": "6e0f0c60f7bc4f339d50c161a29d1fc7"
            }
          },
          "metadata": {}
        },
        {
          "output_type": "display_data",
          "data": {
            "text/plain": [
              "Upload file runs/May12_02-15-52_f6718c83993a/events.out.tfevents.1652321761.f6718c83993a.63.4:  63%|######3   …"
            ],
            "application/vnd.jupyter.widget-view+json": {
              "version_major": 2,
              "version_minor": 0,
              "model_id": "8bf03a0a1f1f4eae945eeb888e3c0986"
            }
          },
          "metadata": {}
        },
        {
          "output_type": "display_data",
          "data": {
            "text/plain": [
              "Upload file training_args.bin: 100%|##########| 2.80k/2.80k [00:00<?, ?B/s]"
            ],
            "application/vnd.jupyter.widget-view+json": {
              "version_major": 2,
              "version_minor": 0,
              "model_id": "0c67cb2d10874eb4baec22dd3776d63d"
            }
          },
          "metadata": {}
        },
        {
          "output_type": "display_data",
          "data": {
            "text/plain": [
              "Upload file runs/May12_02-15-52_f6718c83993a/1652321761.5831435/events.out.tfevents.1652321761.f6718c83993a.63…"
            ],
            "application/vnd.jupyter.widget-view+json": {
              "version_major": 2,
              "version_minor": 0,
              "model_id": "c00aafac873d48b1bfb4072fc62a5e84"
            }
          },
          "metadata": {}
        },
        {
          "output_type": "display_data",
          "data": {
            "text/plain": [
              "Upload file runs/May12_02-07-11_f6718c83993a/1652321255.5379248/events.out.tfevents.1652321255.f6718c83993a.63…"
            ],
            "application/vnd.jupyter.widget-view+json": {
              "version_major": 2,
              "version_minor": 0,
              "model_id": "5c4d9f74b42c4a11a65e222fd401aef8"
            }
          },
          "metadata": {}
        },
        {
          "output_type": "display_data",
          "data": {
            "text/plain": [
              "Upload file runs/May12_02-07-11_f6718c83993a/events.out.tfevents.1652321255.f6718c83993a.63.2:  72%|#######1  …"
            ],
            "application/vnd.jupyter.widget-view+json": {
              "version_major": 2,
              "version_minor": 0,
              "model_id": "5aa647e835c848699e6bba866e89fe4c"
            }
          },
          "metadata": {}
        },
        {
          "output_type": "stream",
          "name": "stderr",
          "text": [
            "remote: Enforcing permissions...        \n",
            "remote: Allowed refs: all        \n",
            "To https://huggingface.co/manthan40/wav2vec2-base-finetuned-ks\n",
            "   e21180a..03263af  main -> main\n",
            "\n",
            "Dropping the following result as it does not have all the necessary field:\n",
            "{'dataset': {'name': 'new_dataset', 'type': 'new_dataset', 'args': 'train'}}\n",
            "remote: Enforcing permissions...        \n",
            "remote: Allowed refs: all        \n",
            "To https://huggingface.co/manthan40/wav2vec2-base-finetuned-ks\n",
            "   03263af..ddd9315  main -> main\n",
            "\n"
          ]
        },
        {
          "output_type": "execute_result",
          "data": {
            "text/plain": [
              "'https://huggingface.co/manthan40/wav2vec2-base-finetuned-ks/commit/03263af18870eda731ea369900c896c72c826da5'"
            ],
            "application/vnd.google.colaboratory.intrinsic+json": {
              "type": "string"
            }
          },
          "metadata": {},
          "execution_count": 188
        }
      ]
    },
    {
      "cell_type": "code",
      "source": [
        "trainer.evaluate()"
      ],
      "metadata": {
        "colab": {
          "base_uri": "https://localhost:8080/",
          "height": 458
        },
        "id": "E0SP5WH5OVgx",
        "outputId": "967513c0-b112-4afb-e428-3a4a2968cad7"
      },
      "execution_count": 187,
      "outputs": [
        {
          "output_type": "stream",
          "name": "stderr",
          "text": [
            "***** Running Evaluation *****\n",
            "  Num examples = 388\n",
            "  Batch size = 32\n"
          ]
        },
        {
          "output_type": "display_data",
          "data": {
            "text/plain": [
              "<IPython.core.display.HTML object>"
            ],
            "text/html": [
              "\n",
              "    <div>\n",
              "      \n",
              "      <progress value='5' max='12' style='width:300px; height:20px; vertical-align: middle;'></progress>\n",
              "      [ 5/12 05:46 < 13:29, 0.01 it/s, Epoch 0.33/1]\n",
              "    </div>\n",
              "    <table border=\"1\" class=\"dataframe\">\n",
              "  <thead>\n",
              "    <tr style=\"text-align: left;\">\n",
              "      <th>Epoch</th>\n",
              "      <th>Training Loss</th>\n",
              "      <th>Validation Loss</th>\n",
              "    </tr>\n",
              "  </thead>\n",
              "  <tbody>\n",
              "  </tbody>\n",
              "</table><p>\n",
              "    <div>\n",
              "      \n",
              "      <progress value='10' max='13' style='width:300px; height:20px; vertical-align: middle;'></progress>\n",
              "      [10/13 01:15 < 00:25, 0.12 it/s]\n",
              "    </div>\n",
              "    "
            ]
          },
          "metadata": {}
        },
        {
          "output_type": "error",
          "ename": "IndexError",
          "evalue": "ignored",
          "traceback": [
            "\u001b[0;31m---------------------------------------------------------------------------\u001b[0m",
            "\u001b[0;31mIndexError\u001b[0m                                Traceback (most recent call last)",
            "\u001b[0;32m<ipython-input-187-f245b31d31e3>\u001b[0m in \u001b[0;36m<module>\u001b[0;34m()\u001b[0m\n\u001b[0;32m----> 1\u001b[0;31m \u001b[0mtrainer\u001b[0m\u001b[0;34m.\u001b[0m\u001b[0mevaluate\u001b[0m\u001b[0;34m(\u001b[0m\u001b[0;34m)\u001b[0m\u001b[0;34m\u001b[0m\u001b[0;34m\u001b[0m\u001b[0m\n\u001b[0m",
            "\u001b[0;32m/usr/local/lib/python3.7/dist-packages/transformers/trainer.py\u001b[0m in \u001b[0;36mevaluate\u001b[0;34m(self, eval_dataset, ignore_keys, metric_key_prefix)\u001b[0m\n\u001b[1;32m   2118\u001b[0m             \u001b[0mprediction_loss_only\u001b[0m\u001b[0;34m=\u001b[0m\u001b[0;32mTrue\u001b[0m \u001b[0;32mif\u001b[0m \u001b[0mself\u001b[0m\u001b[0;34m.\u001b[0m\u001b[0mcompute_metrics\u001b[0m \u001b[0;32mis\u001b[0m \u001b[0;32mNone\u001b[0m \u001b[0;32melse\u001b[0m \u001b[0;32mNone\u001b[0m\u001b[0;34m,\u001b[0m\u001b[0;34m\u001b[0m\u001b[0;34m\u001b[0m\u001b[0m\n\u001b[1;32m   2119\u001b[0m             \u001b[0mignore_keys\u001b[0m\u001b[0;34m=\u001b[0m\u001b[0mignore_keys\u001b[0m\u001b[0;34m,\u001b[0m\u001b[0;34m\u001b[0m\u001b[0;34m\u001b[0m\u001b[0m\n\u001b[0;32m-> 2120\u001b[0;31m             \u001b[0mmetric_key_prefix\u001b[0m\u001b[0;34m=\u001b[0m\u001b[0mmetric_key_prefix\u001b[0m\u001b[0;34m,\u001b[0m\u001b[0;34m\u001b[0m\u001b[0;34m\u001b[0m\u001b[0m\n\u001b[0m\u001b[1;32m   2121\u001b[0m         )\n\u001b[1;32m   2122\u001b[0m \u001b[0;34m\u001b[0m\u001b[0m\n",
            "\u001b[0;32m/usr/local/lib/python3.7/dist-packages/transformers/trainer.py\u001b[0m in \u001b[0;36mevaluation_loop\u001b[0;34m(self, dataloader, description, prediction_loss_only, ignore_keys, metric_key_prefix)\u001b[0m\n\u001b[1;32m   2283\u001b[0m \u001b[0;34m\u001b[0m\u001b[0m\n\u001b[1;32m   2284\u001b[0m             \u001b[0;31m# Prediction step\u001b[0m\u001b[0;34m\u001b[0m\u001b[0;34m\u001b[0m\u001b[0;34m\u001b[0m\u001b[0m\n\u001b[0;32m-> 2285\u001b[0;31m             \u001b[0mloss\u001b[0m\u001b[0;34m,\u001b[0m \u001b[0mlogits\u001b[0m\u001b[0;34m,\u001b[0m \u001b[0mlabels\u001b[0m \u001b[0;34m=\u001b[0m \u001b[0mself\u001b[0m\u001b[0;34m.\u001b[0m\u001b[0mprediction_step\u001b[0m\u001b[0;34m(\u001b[0m\u001b[0mmodel\u001b[0m\u001b[0;34m,\u001b[0m \u001b[0minputs\u001b[0m\u001b[0;34m,\u001b[0m \u001b[0mprediction_loss_only\u001b[0m\u001b[0;34m,\u001b[0m \u001b[0mignore_keys\u001b[0m\u001b[0;34m=\u001b[0m\u001b[0mignore_keys\u001b[0m\u001b[0;34m)\u001b[0m\u001b[0;34m\u001b[0m\u001b[0;34m\u001b[0m\u001b[0m\n\u001b[0m\u001b[1;32m   2286\u001b[0m \u001b[0;34m\u001b[0m\u001b[0m\n\u001b[1;32m   2287\u001b[0m             \u001b[0;31m# Update containers on host\u001b[0m\u001b[0;34m\u001b[0m\u001b[0;34m\u001b[0m\u001b[0;34m\u001b[0m\u001b[0m\n",
            "\u001b[0;32m/usr/local/lib/python3.7/dist-packages/transformers/trainer.py\u001b[0m in \u001b[0;36mprediction_step\u001b[0;34m(self, model, inputs, prediction_loss_only, ignore_keys)\u001b[0m\n\u001b[1;32m   2487\u001b[0m             \u001b[0;32melse\u001b[0m\u001b[0;34m:\u001b[0m\u001b[0;34m\u001b[0m\u001b[0;34m\u001b[0m\u001b[0m\n\u001b[1;32m   2488\u001b[0m                 \u001b[0;32mif\u001b[0m \u001b[0mhas_labels\u001b[0m\u001b[0;34m:\u001b[0m\u001b[0;34m\u001b[0m\u001b[0;34m\u001b[0m\u001b[0m\n\u001b[0;32m-> 2489\u001b[0;31m                     \u001b[0mloss\u001b[0m\u001b[0;34m,\u001b[0m \u001b[0moutputs\u001b[0m \u001b[0;34m=\u001b[0m \u001b[0mself\u001b[0m\u001b[0;34m.\u001b[0m\u001b[0mcompute_loss\u001b[0m\u001b[0;34m(\u001b[0m\u001b[0mmodel\u001b[0m\u001b[0;34m,\u001b[0m \u001b[0minputs\u001b[0m\u001b[0;34m,\u001b[0m \u001b[0mreturn_outputs\u001b[0m\u001b[0;34m=\u001b[0m\u001b[0;32mTrue\u001b[0m\u001b[0;34m)\u001b[0m\u001b[0;34m\u001b[0m\u001b[0;34m\u001b[0m\u001b[0m\n\u001b[0m\u001b[1;32m   2490\u001b[0m                     \u001b[0mloss\u001b[0m \u001b[0;34m=\u001b[0m \u001b[0mloss\u001b[0m\u001b[0;34m.\u001b[0m\u001b[0mmean\u001b[0m\u001b[0;34m(\u001b[0m\u001b[0;34m)\u001b[0m\u001b[0;34m.\u001b[0m\u001b[0mdetach\u001b[0m\u001b[0;34m(\u001b[0m\u001b[0;34m)\u001b[0m\u001b[0;34m\u001b[0m\u001b[0;34m\u001b[0m\u001b[0m\n\u001b[1;32m   2491\u001b[0m                     \u001b[0;32mif\u001b[0m \u001b[0misinstance\u001b[0m\u001b[0;34m(\u001b[0m\u001b[0moutputs\u001b[0m\u001b[0;34m,\u001b[0m \u001b[0mdict\u001b[0m\u001b[0;34m)\u001b[0m\u001b[0;34m:\u001b[0m\u001b[0;34m\u001b[0m\u001b[0;34m\u001b[0m\u001b[0m\n",
            "\u001b[0;32m/usr/local/lib/python3.7/dist-packages/transformers/trainer.py\u001b[0m in \u001b[0;36mcompute_loss\u001b[0;34m(self, model, inputs, return_outputs)\u001b[0m\n\u001b[1;32m   1879\u001b[0m         \u001b[0;32melse\u001b[0m\u001b[0;34m:\u001b[0m\u001b[0;34m\u001b[0m\u001b[0;34m\u001b[0m\u001b[0m\n\u001b[1;32m   1880\u001b[0m             \u001b[0mlabels\u001b[0m \u001b[0;34m=\u001b[0m \u001b[0;32mNone\u001b[0m\u001b[0;34m\u001b[0m\u001b[0;34m\u001b[0m\u001b[0m\n\u001b[0;32m-> 1881\u001b[0;31m         \u001b[0moutputs\u001b[0m \u001b[0;34m=\u001b[0m \u001b[0mmodel\u001b[0m\u001b[0;34m(\u001b[0m\u001b[0;34m**\u001b[0m\u001b[0minputs\u001b[0m\u001b[0;34m)\u001b[0m\u001b[0;34m\u001b[0m\u001b[0;34m\u001b[0m\u001b[0m\n\u001b[0m\u001b[1;32m   1882\u001b[0m         \u001b[0;31m# Save past state if it exists\u001b[0m\u001b[0;34m\u001b[0m\u001b[0;34m\u001b[0m\u001b[0;34m\u001b[0m\u001b[0m\n\u001b[1;32m   1883\u001b[0m         \u001b[0;31m# TODO: this needs to be fixed and made cleaner later.\u001b[0m\u001b[0;34m\u001b[0m\u001b[0;34m\u001b[0m\u001b[0;34m\u001b[0m\u001b[0m\n",
            "\u001b[0;32m/usr/local/lib/python3.7/dist-packages/torch/nn/modules/module.py\u001b[0m in \u001b[0;36m_call_impl\u001b[0;34m(self, *input, **kwargs)\u001b[0m\n\u001b[1;32m   1108\u001b[0m         if not (self._backward_hooks or self._forward_hooks or self._forward_pre_hooks or _global_backward_hooks\n\u001b[1;32m   1109\u001b[0m                 or _global_forward_hooks or _global_forward_pre_hooks):\n\u001b[0;32m-> 1110\u001b[0;31m             \u001b[0;32mreturn\u001b[0m \u001b[0mforward_call\u001b[0m\u001b[0;34m(\u001b[0m\u001b[0;34m*\u001b[0m\u001b[0minput\u001b[0m\u001b[0;34m,\u001b[0m \u001b[0;34m**\u001b[0m\u001b[0mkwargs\u001b[0m\u001b[0;34m)\u001b[0m\u001b[0;34m\u001b[0m\u001b[0;34m\u001b[0m\u001b[0m\n\u001b[0m\u001b[1;32m   1111\u001b[0m         \u001b[0;31m# Do not call functions when jit is used\u001b[0m\u001b[0;34m\u001b[0m\u001b[0;34m\u001b[0m\u001b[0;34m\u001b[0m\u001b[0m\n\u001b[1;32m   1112\u001b[0m         \u001b[0mfull_backward_hooks\u001b[0m\u001b[0;34m,\u001b[0m \u001b[0mnon_full_backward_hooks\u001b[0m \u001b[0;34m=\u001b[0m \u001b[0;34m[\u001b[0m\u001b[0;34m]\u001b[0m\u001b[0;34m,\u001b[0m \u001b[0;34m[\u001b[0m\u001b[0;34m]\u001b[0m\u001b[0;34m\u001b[0m\u001b[0;34m\u001b[0m\u001b[0m\n",
            "\u001b[0;32m/usr/local/lib/python3.7/dist-packages/transformers/models/wav2vec2/modeling_wav2vec2.py\u001b[0m in \u001b[0;36mforward\u001b[0;34m(self, input_values, attention_mask, output_attentions, output_hidden_states, return_dict, labels)\u001b[0m\n\u001b[1;32m   1654\u001b[0m         \u001b[0;32mif\u001b[0m \u001b[0mlabels\u001b[0m \u001b[0;32mis\u001b[0m \u001b[0;32mnot\u001b[0m \u001b[0;32mNone\u001b[0m\u001b[0;34m:\u001b[0m\u001b[0;34m\u001b[0m\u001b[0;34m\u001b[0m\u001b[0m\n\u001b[1;32m   1655\u001b[0m             \u001b[0mloss_fct\u001b[0m \u001b[0;34m=\u001b[0m \u001b[0mCrossEntropyLoss\u001b[0m\u001b[0;34m(\u001b[0m\u001b[0;34m)\u001b[0m\u001b[0;34m\u001b[0m\u001b[0;34m\u001b[0m\u001b[0m\n\u001b[0;32m-> 1656\u001b[0;31m             \u001b[0mloss\u001b[0m \u001b[0;34m=\u001b[0m \u001b[0mloss_fct\u001b[0m\u001b[0;34m(\u001b[0m\u001b[0mlogits\u001b[0m\u001b[0;34m.\u001b[0m\u001b[0mview\u001b[0m\u001b[0;34m(\u001b[0m\u001b[0;34m-\u001b[0m\u001b[0;36m1\u001b[0m\u001b[0;34m,\u001b[0m \u001b[0mself\u001b[0m\u001b[0;34m.\u001b[0m\u001b[0mconfig\u001b[0m\u001b[0;34m.\u001b[0m\u001b[0mnum_labels\u001b[0m\u001b[0;34m)\u001b[0m\u001b[0;34m,\u001b[0m \u001b[0mlabels\u001b[0m\u001b[0;34m.\u001b[0m\u001b[0mview\u001b[0m\u001b[0;34m(\u001b[0m\u001b[0;34m-\u001b[0m\u001b[0;36m1\u001b[0m\u001b[0;34m)\u001b[0m\u001b[0;34m)\u001b[0m\u001b[0;34m\u001b[0m\u001b[0;34m\u001b[0m\u001b[0m\n\u001b[0m\u001b[1;32m   1657\u001b[0m \u001b[0;34m\u001b[0m\u001b[0m\n\u001b[1;32m   1658\u001b[0m         \u001b[0;32mif\u001b[0m \u001b[0;32mnot\u001b[0m \u001b[0mreturn_dict\u001b[0m\u001b[0;34m:\u001b[0m\u001b[0;34m\u001b[0m\u001b[0;34m\u001b[0m\u001b[0m\n",
            "\u001b[0;32m/usr/local/lib/python3.7/dist-packages/torch/nn/modules/module.py\u001b[0m in \u001b[0;36m_call_impl\u001b[0;34m(self, *input, **kwargs)\u001b[0m\n\u001b[1;32m   1108\u001b[0m         if not (self._backward_hooks or self._forward_hooks or self._forward_pre_hooks or _global_backward_hooks\n\u001b[1;32m   1109\u001b[0m                 or _global_forward_hooks or _global_forward_pre_hooks):\n\u001b[0;32m-> 1110\u001b[0;31m             \u001b[0;32mreturn\u001b[0m \u001b[0mforward_call\u001b[0m\u001b[0;34m(\u001b[0m\u001b[0;34m*\u001b[0m\u001b[0minput\u001b[0m\u001b[0;34m,\u001b[0m \u001b[0;34m**\u001b[0m\u001b[0mkwargs\u001b[0m\u001b[0;34m)\u001b[0m\u001b[0;34m\u001b[0m\u001b[0;34m\u001b[0m\u001b[0m\n\u001b[0m\u001b[1;32m   1111\u001b[0m         \u001b[0;31m# Do not call functions when jit is used\u001b[0m\u001b[0;34m\u001b[0m\u001b[0;34m\u001b[0m\u001b[0;34m\u001b[0m\u001b[0m\n\u001b[1;32m   1112\u001b[0m         \u001b[0mfull_backward_hooks\u001b[0m\u001b[0;34m,\u001b[0m \u001b[0mnon_full_backward_hooks\u001b[0m \u001b[0;34m=\u001b[0m \u001b[0;34m[\u001b[0m\u001b[0;34m]\u001b[0m\u001b[0;34m,\u001b[0m \u001b[0;34m[\u001b[0m\u001b[0;34m]\u001b[0m\u001b[0;34m\u001b[0m\u001b[0;34m\u001b[0m\u001b[0m\n",
            "\u001b[0;32m/usr/local/lib/python3.7/dist-packages/torch/nn/modules/loss.py\u001b[0m in \u001b[0;36mforward\u001b[0;34m(self, input, target)\u001b[0m\n\u001b[1;32m   1163\u001b[0m         return F.cross_entropy(input, target, weight=self.weight,\n\u001b[1;32m   1164\u001b[0m                                \u001b[0mignore_index\u001b[0m\u001b[0;34m=\u001b[0m\u001b[0mself\u001b[0m\u001b[0;34m.\u001b[0m\u001b[0mignore_index\u001b[0m\u001b[0;34m,\u001b[0m \u001b[0mreduction\u001b[0m\u001b[0;34m=\u001b[0m\u001b[0mself\u001b[0m\u001b[0;34m.\u001b[0m\u001b[0mreduction\u001b[0m\u001b[0;34m,\u001b[0m\u001b[0;34m\u001b[0m\u001b[0;34m\u001b[0m\u001b[0m\n\u001b[0;32m-> 1165\u001b[0;31m                                label_smoothing=self.label_smoothing)\n\u001b[0m\u001b[1;32m   1166\u001b[0m \u001b[0;34m\u001b[0m\u001b[0m\n\u001b[1;32m   1167\u001b[0m \u001b[0;34m\u001b[0m\u001b[0m\n",
            "\u001b[0;32m/usr/local/lib/python3.7/dist-packages/torch/nn/functional.py\u001b[0m in \u001b[0;36mcross_entropy\u001b[0;34m(input, target, weight, size_average, ignore_index, reduce, reduction, label_smoothing)\u001b[0m\n\u001b[1;32m   2994\u001b[0m     \u001b[0;32mif\u001b[0m \u001b[0msize_average\u001b[0m \u001b[0;32mis\u001b[0m \u001b[0;32mnot\u001b[0m \u001b[0;32mNone\u001b[0m \u001b[0;32mor\u001b[0m \u001b[0mreduce\u001b[0m \u001b[0;32mis\u001b[0m \u001b[0;32mnot\u001b[0m \u001b[0;32mNone\u001b[0m\u001b[0;34m:\u001b[0m\u001b[0;34m\u001b[0m\u001b[0;34m\u001b[0m\u001b[0m\n\u001b[1;32m   2995\u001b[0m         \u001b[0mreduction\u001b[0m \u001b[0;34m=\u001b[0m \u001b[0m_Reduction\u001b[0m\u001b[0;34m.\u001b[0m\u001b[0mlegacy_get_string\u001b[0m\u001b[0;34m(\u001b[0m\u001b[0msize_average\u001b[0m\u001b[0;34m,\u001b[0m \u001b[0mreduce\u001b[0m\u001b[0;34m)\u001b[0m\u001b[0;34m\u001b[0m\u001b[0;34m\u001b[0m\u001b[0m\n\u001b[0;32m-> 2996\u001b[0;31m     \u001b[0;32mreturn\u001b[0m \u001b[0mtorch\u001b[0m\u001b[0;34m.\u001b[0m\u001b[0m_C\u001b[0m\u001b[0;34m.\u001b[0m\u001b[0m_nn\u001b[0m\u001b[0;34m.\u001b[0m\u001b[0mcross_entropy_loss\u001b[0m\u001b[0;34m(\u001b[0m\u001b[0minput\u001b[0m\u001b[0;34m,\u001b[0m \u001b[0mtarget\u001b[0m\u001b[0;34m,\u001b[0m \u001b[0mweight\u001b[0m\u001b[0;34m,\u001b[0m \u001b[0m_Reduction\u001b[0m\u001b[0;34m.\u001b[0m\u001b[0mget_enum\u001b[0m\u001b[0;34m(\u001b[0m\u001b[0mreduction\u001b[0m\u001b[0;34m)\u001b[0m\u001b[0;34m,\u001b[0m \u001b[0mignore_index\u001b[0m\u001b[0;34m,\u001b[0m \u001b[0mlabel_smoothing\u001b[0m\u001b[0;34m)\u001b[0m\u001b[0;34m\u001b[0m\u001b[0;34m\u001b[0m\u001b[0m\n\u001b[0m\u001b[1;32m   2997\u001b[0m \u001b[0;34m\u001b[0m\u001b[0m\n\u001b[1;32m   2998\u001b[0m \u001b[0;34m\u001b[0m\u001b[0m\n",
            "\u001b[0;31mIndexError\u001b[0m: Target 11 is out of bounds."
          ]
        }
      ]
    },
    {
      "cell_type": "code",
      "source": [
        ""
      ],
      "metadata": {
        "id": "MEoMHe-JFTgM"
      },
      "execution_count": null,
      "outputs": []
    }
  ]
}